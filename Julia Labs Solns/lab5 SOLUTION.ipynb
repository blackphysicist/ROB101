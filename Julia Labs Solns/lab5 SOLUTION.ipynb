{
 "cells": [
  {
   "cell_type": "markdown",
   "id": "53e82026-c090-452a-a276-1331a5f5c30c",
   "metadata": {},
   "source": [
    "University of Michigan - ROB 101 Computational Linear Algebra"
   ]
  },
  {
   "cell_type": "markdown",
   "id": "c88e02eb-a018-4dde-95a2-66496fe39e0a",
   "metadata": {},
   "source": [
    "# Lab 5: Linear independence, Linear Combinations, and Existence and Uniqueness of Solutions to Ax=b\n",
    "\n",
    "#### Purpose:  Learn to use Julia to better undersand linear independence and linear combinations\n",
    "- Skills: \n",
    "    - More practice writing functions\n",
    "    - LU vs LDLT\n",
    "- Knowledge:\n",
    "    - Working with Matrix Factorizations\n",
    "    - Building confidence with complex functions"
   ]
  },
  {
   "cell_type": "markdown",
   "id": "1d0c60dd-fd4b-44b2-8b75-ccfa41cc07e7",
   "metadata": {},
   "source": [
    "## Example 1: Finding the Number of Linearly Independent Vectors with LU and LDLT Methods"
   ]
  },
  {
   "cell_type": "markdown",
   "id": "26660a4f-3198-41f3-9f8d-367412686042",
   "metadata": {},
   "source": [
    "<img src = \"https://i.postimg.cc/g2tJSmPY/ldlt.png\" width = 700>"
   ]
  },
  {
   "cell_type": "markdown",
   "id": "70650f44",
   "metadata": {},
   "source": [
    "# # of linear independent columns of A is = to # of non-zeros on D (not true in general)"
   ]
  },
  {
   "cell_type": "markdown",
   "id": "de34aa61-0559-4491-9fb1-f2d5df3c105d",
   "metadata": {},
   "source": [
    "### LDLT Factorization vs LU Factorization\n",
    "\n",
    "Why do we need to use \"enhanced\" LU factorization above? Let's explore a (not so uncommon) example of where LU breaks down for the purposes of counting the number of linearly independent vectors."
   ]
  },
  {
   "cell_type": "code",
   "execution_count": 3,
   "id": "ebd6f543-4070-4bea-bc63-e60689a3414d",
   "metadata": {},
   "outputs": [
    {
     "name": "stdout",
     "output_type": "stream",
     "text": [
      "A = [0.0 1.0 0.0 0.0; 0.0 0.0 1.0 0.0; 0.0 0.0 0.0 1.0; 0.0 0.0 0.0 0.0]\n"
     ]
    },
    {
     "data": {
      "text/plain": [
       "4×4 Matrix{Float64}:\n",
       " 0.0  1.0  0.0  0.0\n",
       " 0.0  0.0  1.0  0.0\n",
       " 0.0  0.0  0.0  1.0\n",
       " 0.0  0.0  0.0  0.0"
      ]
     },
     "execution_count": 3,
     "metadata": {},
     "output_type": "execute_result"
    }
   ],
   "source": [
    "# Run me, don't change me\n",
    "using LinearAlgebra\n",
    "n=4\n",
    "A=zeros(n,n)\n",
    "for i=1:n\n",
    "    if i<n\n",
    "        A[i,i+1]=1.0\n",
    "    end\n",
    "end\n",
    "@show A"
   ]
  },
  {
   "cell_type": "markdown",
   "id": "8958f209-34dd-40a9-8d01-b7b91279c42f",
   "metadata": {},
   "source": [
    "We see above that A has 3 independent columns, right? Well, let's try and factorize A using LU, and run our \"foolproof\" method to find how many linearly independent columns there are."
   ]
  },
  {
   "cell_type": "code",
   "execution_count": 4,
   "id": "b3f83904-8ed1-4c36-a39e-6bd18beffd90",
   "metadata": {},
   "outputs": [
    {
     "name": "stdout",
     "output_type": "stream",
     "text": [
      "diag(F.U) = [0.0, 0.0, 0.0, 0.0]\n"
     ]
    },
    {
     "data": {
      "text/plain": [
       "4×4 Matrix{Float64}:\n",
       " 0.0  1.0  0.0  0.0\n",
       " 0.0  0.0  1.0  0.0\n",
       " 0.0  0.0  0.0  1.0\n",
       " 0.0  0.0  0.0  0.0"
      ]
     },
     "execution_count": 4,
     "metadata": {},
     "output_type": "execute_result"
    }
   ],
   "source": [
    "# Run me, don't change me\n",
    "# A is already upper triangular, but we run LU nevertheless\n",
    "F=lu(A,check=false)\n",
    "@show diag(F.U)\n",
    "U=F.U"
   ]
  },
  {
   "cell_type": "markdown",
   "id": "ac901b76-5dd1-40eb-bd48-4b84756c82a1",
   "metadata": {},
   "source": [
    "Oh no! The diagonal of U is all zeros, (*the super diagonal is all ones*), so we would be misled into thinking that A has no linearly independent columns, which we know is wrong. How can we fix this?\n"
   ]
  },
  {
   "cell_type": "markdown",
   "id": "857b82b7-181c-4ba0-9e8d-66eb8048aac9",
   "metadata": {},
   "source": [
    "### The LDLT method \n",
    "Let's try to consider $A^\\top \\cdot A$ instead of just A."
   ]
  },
  {
   "cell_type": "code",
   "execution_count": 5,
   "id": "afdadb03-e36c-4a76-be06-936a1873724f",
   "metadata": {},
   "outputs": [
    {
     "name": "stdout",
     "output_type": "stream",
     "text": [
      "diag(F.U) = [0.0, 1.0, 1.0, 1.0]\n"
     ]
    },
    {
     "data": {
      "text/plain": [
       "4×4 Matrix{Float64}:\n",
       " 0.0  0.0  0.0  0.0\n",
       " 0.0  1.0  0.0  0.0\n",
       " 0.0  0.0  1.0  0.0\n",
       " 0.0  0.0  0.0  1.0"
      ]
     },
     "execution_count": 5,
     "metadata": {},
     "output_type": "execute_result"
    }
   ],
   "source": [
    "# Run me, don't change me\n",
    "# A is already upper triangular, but we run LU nevertheless\n",
    "F=lu(A'*A,check=false)\n",
    "@show diag(F.U)\n",
    "U=F.U"
   ]
  },
  {
   "cell_type": "markdown",
   "id": "8c496e54-dd8f-4b4c-8acf-c5a0d8d3d806",
   "metadata": {},
   "source": [
    "We now see that the diagonal of U is what we would expect it to be - three nonzero elements, indicating three independent columns. But wait, that was still run only using LU factorization! So what's the point of LDLT factorization?"
   ]
  },
  {
   "cell_type": "markdown",
   "id": "6dfa0a38-c6e1-46f9-ac23-37be0427445b",
   "metadata": {},
   "source": [
    "### Let's hunt for a counter example\n",
    "\n",
    "Below is our implementation of the LDLT algorithm:"
   ]
  },
  {
   "cell_type": "code",
   "execution_count": 6,
   "id": "dd1d79fc-aef1-4427-a1c7-7184f039efb2",
   "metadata": {},
   "outputs": [
    {
     "data": {
      "text/plain": [
       "ldltROB101 (generic function with 1 method)"
      ]
     },
     "execution_count": 6,
     "metadata": {},
     "output_type": "execute_result"
    }
   ],
   "source": [
    "# Run me, don't change me!\n",
    "function ldltROB101(A)\n",
    "    epsilon = 1e-12\n",
    "    M = A'*A\n",
    "    n,m = size(A)\n",
    "    Areduced = M\n",
    "    L = Array{Float64,2}(undef,m,0)\n",
    "    Id = zeros(m,m) + I\n",
    "    P = Id    \n",
    "    D=zeros(m,m)\n",
    "    for i=1:m\n",
    "        ii=argmax(diag(Areduced[i:m,i:m]))\n",
    "        mrow=ii[1]+(i-1)\n",
    "        if !(i==mrow)\n",
    "            P[[i,mrow],:]=P[[mrow,i],:]\n",
    "            Areduced[[i,mrow],:]=Areduced[[mrow,i],:]\n",
    "            Areduced[:,[i,mrow]]=Areduced[:,[mrow,i]]\n",
    "        end\n",
    "        if (i>1)\n",
    "            L[[i,mrow],:] = L[[mrow,i],:]\n",
    "        end\n",
    "        pivot=Areduced[i,i]\n",
    "        if !isapprox(pivot,0,atol=epsilon)\n",
    "            D[i,i]=pivot\n",
    "            C=Areduced[:,i]/pivot\n",
    "            L=[L C]\n",
    "            Areduced=Areduced-(C*pivot*C')\n",
    "        else\n",
    "            L=[L Id[:,i:m]]\n",
    "            break\n",
    "        end\n",
    "    end\n",
    "    diagD=diag(D)\n",
    "    return L,P,D,diagD\n",
    "end"
   ]
  },
  {
   "cell_type": "markdown",
   "id": "e19d94b3-96f7-4c40-b77d-ac053951079b",
   "metadata": {},
   "source": [
    "We'll run a loop until we find an example where LU--> diag(U) and LDLT --> diag(D) give different \"predictions\" for the number of linearly independent columns of A.\n",
    "\n",
    "*For the record, LDLT is always correct. We are doing this to show that if you try (incorrectly) to use LU for determining the number of linearly independent columns of a matrix, it will sometimes mess up. Hence, we really did need to learn LDLT*"
   ]
  },
  {
   "cell_type": "code",
   "execution_count": 7,
   "id": "40ac0c23-2b71-4bcf-9c14-ce55dbbcfbdd",
   "metadata": {},
   "outputs": [
    {
     "data": {
      "text/plain": [
       "cleanUp (generic function with 2 methods)"
      ]
     },
     "execution_count": 7,
     "metadata": {},
     "output_type": "execute_result"
    }
   ],
   "source": [
    "# Run me don't change me\n",
    "using Random\n",
    "function CounterExample()\n",
    "    Random.seed!(4356)\n",
    "    flag = 1\n",
    "    N=5\n",
    "    n=floor(Int,N/2)\n",
    "    k=0\n",
    "    while flag > 0\n",
    "        k=k+1\n",
    "        # Build a matrix A\n",
    "        B=randn(N,N-1)\n",
    "        C=randn(n,n)\n",
    "        A=[B[:,1:n] B[:,1:n]*C B[:,n+n:end]]\n",
    "        # Apply LU to A'A\n",
    "        F=lu(A'*A, check=false)\n",
    "        diagU=diag(F.U)\n",
    "        indicesLU=findall(x->x<1e-10, abs.(diagU))\n",
    "        NumLinIndepLU=N-length(indicesLU)\n",
    "        # Apply LDLT to A'A\n",
    "        L,P,D,diagD = ldltROB101(A)\n",
    "        indicesLDLT=findall(x->x<1e-10, diagD)\n",
    "        NumLinIndepLDLT=N-length(indicesLDLT)\n",
    "        # Check for a discrepancy in their reported number of linearly indep columns\n",
    "        if (NumLinIndepLDLT > NumLinIndepLU)||(k>1e5)\n",
    "            return k, A, F, L, P, D, diagD\n",
    "            flag=0\n",
    "        end        \n",
    "    end\n",
    "end\n",
    "\n",
    "function cleanUp(A,tol=1e-10) #works on matrices or vectors\n",
    "    # Zero out small entries of a matrix or vector\n",
    "    B=copy(A)\n",
    "    indicesSmall=findall(x->x<tol, abs.(B))\n",
    "    B[indicesSmall]=0.0*B[indicesSmall]\n",
    "return B\n",
    "end"
   ]
  },
  {
   "cell_type": "code",
   "execution_count": 8,
   "id": "d76459c0-265c-445e-9a7e-f62a938779b9",
   "metadata": {},
   "outputs": [
    {
     "data": {
      "text/plain": [
       "(2, [-1.4535554381481652 -1.0891609802197075 … -2.9814312875497957 1.0645554186689046; 0.9347383417790806 0.5916984480401738 … 1.7092386991712099 -0.6611730059486222; … ; 0.07233432867604413 -0.24806366683725414 … -0.430063735466462 0.7094070636855613; 0.41741684238691484 -1.8478257995519578 … -3.2784741524030956 -0.1413815919499753], LU{Float64, Matrix{Float64}}([7.720117926658887 11.83280360428096 … 27.40888147889123 -4.19498288755786; 0.6923592949053579 -5.882279707321192 … -11.256675928210768 0.6975535510184323; … ; -0.2514608558918805 0.06036761746066256 … -1.7763568394002505e-15 -0.7470590621520714; 0.29925344079454885 -0.3225287408598121 … -0.0 -2.220446049250313e-16], [4, 4, 5, 5, 5], 0), [1.0 -2.801285879557301e-16 … 1.0 0.0; 0.2816648294314558 1.0 … 0.0 0.0; … ; 0.43171420962194007 -0.3225287408598123 … 0.0 0.0; -0.27625350227682033 0.060367617460662736 … 0.0 0.0], [0.0 0.0 … 1.0 0.0; 1.0 0.0 … 0.0 0.0; … ; 0.0 1.0 … 0.0 0.0; 0.0 0.0 … 0.0 0.0], [27.40888147889123 0.0 … 0.0 0.0; 0.0 3.1706097052846594 … 0.0 0.0; … ; 0.0 0.0 … 0.0 0.0; 0.0 0.0 … 0.0 0.0], [27.40888147889123, 3.1706097052846594, 1.120588593228107, 0.0, 0.0])"
      ]
     },
     "execution_count": 8,
     "metadata": {},
     "output_type": "execute_result"
    }
   ],
   "source": [
    "k, A, F, L, P, D, diagD = CounterExample()"
   ]
  },
  {
   "cell_type": "code",
   "execution_count": 9,
   "id": "da5dee78-14c3-4863-8778-3fe33264f339",
   "metadata": {},
   "outputs": [
    {
     "data": {
      "text/plain": [
       "5-element Vector{Float64}:\n",
       "  7.720117926658887\n",
       " -5.882279707321192\n",
       " -0.0\n",
       " -0.0\n",
       " -0.0"
      ]
     },
     "execution_count": 9,
     "metadata": {},
     "output_type": "execute_result"
    }
   ],
   "source": [
    "# The diagonoal of F.U, showing which elements are nonzero\n",
    "# run me don't change me\n",
    "cleanUp(diag(F.U))\n"
   ]
  },
  {
   "cell_type": "markdown",
   "id": "45d6c6b0",
   "metadata": {},
   "source": [
    "# Diagonal of LU lies! You cannot get # of independent columns by just applying LU to A'(transpose) A. \n",
    "\n",
    "# You must apply LDLT and observe the diagonal of D! "
   ]
  },
  {
   "cell_type": "code",
   "execution_count": 10,
   "id": "068134c4-5a61-4390-badb-264212849332",
   "metadata": {},
   "outputs": [
    {
     "data": {
      "text/plain": [
       "5-element Vector{Float64}:\n",
       " 27.40888147889123\n",
       "  3.1706097052846594\n",
       "  1.120588593228107\n",
       "  0.0\n",
       "  0.0"
      ]
     },
     "execution_count": 10,
     "metadata": {},
     "output_type": "execute_result"
    }
   ],
   "source": [
    "# The diagonoal of diagD, showing which elements are nonzero\n",
    "# run me don't change me\n",
    "cleanUp(diagD)"
   ]
  },
  {
   "cell_type": "markdown",
   "id": "f4120cac",
   "metadata": {},
   "source": [
    "# 3 non zero entries "
   ]
  },
  {
   "cell_type": "code",
   "execution_count": 11,
   "id": "354634fe-ed9c-4227-9a1c-94164145d5af",
   "metadata": {},
   "outputs": [
    {
     "data": {
      "text/plain": [
       "5×5 Matrix{Float64}:\n",
       " 27.4089  7.72012  -4.19498  11.8328   -7.5718\n",
       " -0.0     3.17061  -1.0253   -1.02261   0.191402\n",
       " -0.0     0.0       1.12059  -0.0      -0.0\n",
       "  0.0     0.0       0.0       0.0       0.0\n",
       "  0.0     0.0       0.0       0.0       0.0"
      ]
     },
     "execution_count": 11,
     "metadata": {},
     "output_type": "execute_result"
    }
   ],
   "source": [
    "# run me don't change me\n",
    "\n",
    "# Gives the LDLT factorized upper triangular matrix\n",
    "\n",
    "cleanUp(D*L')"
   ]
  },
  {
   "cell_type": "code",
   "execution_count": 12,
   "id": "137d8000-54fb-46ab-9b2e-64acfdf8df76",
   "metadata": {},
   "outputs": [
    {
     "data": {
      "text/plain": [
       "5×5 Matrix{Float64}:\n",
       " -2.98143   -1.45356     1.06456    -1.08916    0.786578\n",
       "  1.70924    0.934738   -0.661173    0.591698  -0.444818\n",
       " -2.15989   -1.47617     0.0228749  -0.652562   0.544289\n",
       " -0.430064   0.0723343   0.709407   -0.248064   0.130486\n",
       " -3.27847    0.417417   -0.141382   -1.84783    0.986634"
      ]
     },
     "execution_count": 12,
     "metadata": {},
     "output_type": "execute_result"
    }
   ],
   "source": [
    "# Run me don't change me\n",
    "\n",
    "# Multiplying by transpose(P) on the right of A puts\n",
    "#   the independent columns to the front of the matrix\n",
    "\n",
    "# This is very convenient\n",
    "barA=A*P' \n",
    "# P = Permutation matrix from LDLT (ldlt) \n",
    "# L = Lower unit triangular matrix\n",
    "# D = Diagonal matrix\n",
    "# T or t = transpose"
   ]
  },
  {
   "cell_type": "markdown",
   "id": "1b84d9bf-aceb-4246-9f30-9a5f251f54c8",
   "metadata": {},
   "source": [
    "We see that the first two columns of A are linearly independent, but the first three columns are not:"
   ]
  },
  {
   "cell_type": "code",
   "execution_count": 13,
   "id": "84c98d54-63e6-4948-92d9-e2f3de1263b3",
   "metadata": {},
   "outputs": [
    {
     "data": {
      "text/plain": [
       "3-element Vector{Float64}:\n",
       " 5.438211460214744\n",
       " 4.363641102020541\n",
       " 0.0"
      ]
     },
     "execution_count": 13,
     "metadata": {},
     "output_type": "execute_result"
    }
   ],
   "source": [
    "# Run me don't change me\n",
    "\n",
    "newA01=A[:,1:3] # Original matrix A\n",
    "L,P,D,diagD=ldltROB101(newA01)\n",
    "diagD"
   ]
  },
  {
   "cell_type": "markdown",
   "id": "e7a9a51d-2437-4b3d-b1c8-a3ef203ad027",
   "metadata": {},
   "source": [
    "We see now that the first three columns of A\\*P' are linearly independent"
   ]
  },
  {
   "cell_type": "code",
   "execution_count": 14,
   "id": "3bf77d02-1bf2-4712-9121-946900a505f1",
   "metadata": {},
   "outputs": [
    {
     "data": {
      "text/plain": [
       "3-element Vector{Float64}:\n",
       " 27.40888147889123\n",
       "  3.1706097052846594\n",
       "  1.120588593228107"
      ]
     },
     "execution_count": 14,
     "metadata": {},
     "output_type": "execute_result"
    }
   ],
   "source": [
    "# Run me don't change me\n",
    "\n",
    "newA02=barA[:,1:3] # All rows, 1-3 (first three) columns of A\n",
    "L,P,D,diagD=ldltROB101(newA02)\n",
    "diagD"
   ]
  },
  {
   "cell_type": "markdown",
   "id": "3caedfa5-c845-4863-a76a-4eb1bd2549de",
   "metadata": {},
   "source": [
    "### Bottom line, we can use the LDLT factorization applied to $A^\\top \\cdot A$ to determine the number of linearly independent columns in A and we form $\\bar{A} = A \\cdot P^\\top$ to move the independent columns to the front of the matrix."
   ]
  },
  {
   "cell_type": "markdown",
   "id": "c9afa18e-1b85-4b73-b953-41c311fe4011",
   "metadata": {},
   "source": [
    "## Problem 1. Number of Linearly Independent Vectors"
   ]
  },
  {
   "cell_type": "markdown",
   "id": "7dd91319-bdf8-407f-b421-fb4d82a606a2",
   "metadata": {},
   "source": [
    "Using the provided ```ldltROB101``` function, and the above method of determing the number of linearly independent vectors in a matrix, complete the function ```num_independent_vectors``` which takes in a matrix and returns the number of linearly independent vectors."
   ]
  },
  {
   "cell_type": "code",
   "execution_count": 15,
   "id": "de02bc79",
   "metadata": {},
   "outputs": [
    {
     "data": {
      "text/plain": [
       "num_independent_vectors (generic function with 1 method)"
      ]
     },
     "execution_count": 15,
     "metadata": {},
     "output_type": "execute_result"
    }
   ],
   "source": [
    "function num_independent_vectors(A)\n",
    "    # Your code here!\n",
    "    L,P,D,diagD = ldltROB101(A) # gives us our matrices\n",
    "    sum = 0 # set sum to zero\n",
    "    for i = 1:size(D,1) # D,1. Although diagD is a vector (1 dimension), Julia needs you to clarify because it recognizes it as a tuple\n",
    "        #  for i = 1:size\tfor i(any#) =(in range) 1:size(1 to size)\n",
    "        #  size(A,n)\tthe size of A along dimension n\n",
    "        if diagD[i] != 0  # check if we have a value not equal to zero.\n",
    "            sum += 1  # set sum = to itself + 1 (incriments of 1)\n",
    "        end\n",
    "    end\n",
    "    \n",
    "    return sum\n",
    "    \n",
    "end"
   ]
  },
  {
   "cell_type": "markdown",
   "id": "845946b6",
   "metadata": {},
   "source": [
    "# Building up to you being able to determine if any matrix has a set of \"unique\" answers.\n",
    "# Take any \"Ax = B\" rectangular, with any number of rows and columns (rows != columns), and check in a microsecond:\n",
    "* whether it has a solution AND\n",
    "* whether that solution is unique."
   ]
  },
  {
   "cell_type": "code",
   "execution_count": 16,
   "id": "466d7f55-f8df-48da-b501-fd29c7c8c190",
   "metadata": {},
   "outputs": [
    {
     "name": "stdout",
     "output_type": "stream",
     "text": [
      "a = 3\n",
      "b = 2\n",
      "[T1 T2] = [nothing nothing]\n"
     ]
    },
    {
     "data": {
      "text/plain": [
       "1×2 Matrix{Nothing}:\n",
       " nothing  nothing"
      ]
     },
     "execution_count": 16,
     "metadata": {},
     "output_type": "execute_result"
    }
   ],
   "source": [
    "# public autograder cell, yay!\n",
    "\n",
    "A = [1 2 3; 4 5 6; 7 8 10]\n",
    "a = num_independent_vectors(A)\n",
    "@show a\n",
    "T1 = @assert a == 3\n",
    "\n",
    "B = [1 2 3; 4 5 6; 2 4 6]\n",
    "b = num_independent_vectors(B)\n",
    "@show b\n",
    "T2 = @assert b == 2\n",
    "\n",
    "@show [T1 T2]"
   ]
  },
  {
   "cell_type": "markdown",
   "id": "d32e1879",
   "metadata": {},
   "source": [
    "# We know we wrote our func correctly it right because 2, 4, 6 is a multiple of 1, 2, 3 "
   ]
  },
  {
   "cell_type": "markdown",
   "id": "884345e4-512a-444c-b7ab-53e07a48712d",
   "metadata": {},
   "source": [
    "## Problem 2. Testing for linear combinations"
   ]
  },
  {
   "cell_type": "markdown",
   "id": "2207f00b-da0c-4a0e-ad19-303e61a7515d",
   "metadata": {},
   "source": [
    "<img src = \"https://i.postimg.cc/2j9KStm1/lin-com-testing.png\" width = 700>"
   ]
  },
  {
   "cell_type": "markdown",
   "id": "1500869d-c05d-4826-82d4-86b9cb87e290",
   "metadata": {},
   "source": [
    "You will now use the function you just wrote in order to determine whether a vector is a linear combination of a matrix. Complete the function ```is_linear_combo``` with takes in a vector v and a matrix A and returns true if v is a linear combination of A and false otherwise"
   ]
  },
  {
   "cell_type": "code",
   "execution_count": 17,
   "id": "1e6ecf75-9c9b-4b62-8fc4-7c83d58df059",
   "metadata": {},
   "outputs": [
    {
     "data": {
      "text/plain": [
       "is_linear_combo (generic function with 1 method)"
      ]
     },
     "execution_count": 17,
     "metadata": {},
     "output_type": "execute_result"
    }
   ],
   "source": [
    "function is_linear_combo(A, v)\n",
    "    \n",
    "    # return true if v is a linear combination of A, if not then return false\n",
    "    \n",
    "end"
   ]
  },
  {
   "cell_type": "code",
   "execution_count": 18,
   "id": "1426babb-4e19-497f-bd90-ed37697a9506",
   "metadata": {},
   "outputs": [
    {
     "ename": "LoadError",
     "evalue": "TypeError: non-boolean (Nothing) used in boolean context",
     "output_type": "error",
     "traceback": [
      "TypeError: non-boolean (Nothing) used in boolean context",
      "",
      "Stacktrace:",
      " [1] top-level scope",
      "   @ In[18]:5",
      " [2] eval",
      "   @ ./boot.jl:360 [inlined]",
      " [3] include_string(mapexpr::typeof(REPL.softscope), mod::Module, code::String, filename::String)",
      "   @ Base ./loading.jl:1094"
     ]
    }
   ],
   "source": [
    "# public autograder cell, yay!\n",
    "\n",
    "A = [3.5 1.0 5.0; 5.0 2.0 6.0; 6.5 3.0 7.0; 8.0 4.0 8.0]\n",
    "v = [4; 4; 4; 4]\n",
    "T1 = @assert is_linear_combo(A, v)\n",
    "\n",
    "A = [3.5 1.0 5.0; 5.0 2.0 6.0; 6.5 3.0 7.0; 8.0 4.0 8.0]\n",
    "v = [20; 11; 12; 14]\n",
    "T2 = @assert !is_linear_combo(A, v)\n",
    "\n",
    "@show [T1 T2]"
   ]
  },
  {
   "cell_type": "markdown",
   "id": "abf09de0-a29c-4f2a-b4b6-60c9cd6a010d",
   "metadata": {},
   "source": [
    "## Problem 3. Putting it all Together"
   ]
  },
  {
   "cell_type": "markdown",
   "id": "4f0d9518-1f7a-432a-ac02-b5272ef9ee27",
   "metadata": {},
   "source": [
    "<img src = \"https://i.postimg.cc/MKPM4y72/existence-and-uniqueness.png\" width = 700>"
   ]
  },
  {
   "cell_type": "markdown",
   "id": "02572e59-1c3c-480f-9d6d-1916a7692fe2",
   "metadata": {},
   "source": [
    "You have written a function to find out how many linearly independent vectors are in a matrix. You have written a second function to determine is a vector is a linear combination of a matrix, or set of vectors. Now, finally, you will utilize these two functions to complete the ```exists_and_unique``` function below, which takes in a matrix A and vector b, and returns whether the system Ax = b has a unique solution."
   ]
  },
  {
   "cell_type": "code",
   "execution_count": 19,
   "id": "dfb12019-7aa6-4151-b837-d14a6fe9c94e",
   "metadata": {},
   "outputs": [
    {
     "data": {
      "text/plain": [
       "exists_and_unique (generic function with 1 method)"
      ]
     },
     "execution_count": 19,
     "metadata": {},
     "output_type": "execute_result"
    }
   ],
   "source": [
    "function exists_and_unique(A,b)\n",
    "    \n",
    "end"
   ]
  },
  {
   "cell_type": "code",
   "execution_count": 20,
   "id": "f6109316-1bd0-4606-94ba-a00eccd1f61b",
   "metadata": {},
   "outputs": [
    {
     "ename": "LoadError",
     "evalue": "TypeError: non-boolean (Nothing) used in boolean context",
     "output_type": "error",
     "traceback": [
      "TypeError: non-boolean (Nothing) used in boolean context",
      "",
      "Stacktrace:",
      " [1] top-level scope",
      "   @ In[20]:5",
      " [2] eval",
      "   @ ./boot.jl:360 [inlined]",
      " [3] include_string(mapexpr::typeof(REPL.softscope), mod::Module, code::String, filename::String)",
      "   @ Base ./loading.jl:1094"
     ]
    }
   ],
   "source": [
    "# public autograder cell, yay!\n",
    "\n",
    "A = [1 2 3; 4 5 6; 7 8 10]\n",
    "v = [12; 15; 19]\n",
    "T1 = @assert exists_and_unique(A,v)\n",
    "\n",
    "@show [T1]\n",
    "\n",
    "# Test some other matrices!\n",
    "\n"
   ]
  },
  {
   "cell_type": "code",
   "execution_count": null,
   "id": "0cb1cca1-ed59-453a-8c19-4e41f0e477c8",
   "metadata": {},
   "outputs": [],
   "source": []
  }
 ],
 "metadata": {
  "kernelspec": {
   "display_name": "Julia 1.6.1",
   "language": "julia",
   "name": "julia-1.6"
  },
  "language_info": {
   "file_extension": ".jl",
   "mimetype": "application/julia",
   "name": "julia",
   "version": "1.6.1"
  }
 },
 "nbformat": 4,
 "nbformat_minor": 5
}
