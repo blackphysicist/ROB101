{
 "cells": [
  {
   "cell_type": "markdown",
   "metadata": {
    "nbgrader": {
     "grade": false,
     "grade_id": "cell-c39f28fa9bdc794e",
     "locked": true,
     "schema_version": 3,
     "solution": false,
     "task": false
    }
   },
   "source": [
    "University of Michigan - ROB 101 Computational Linear Algebra"
   ]
  },
  {
   "cell_type": "markdown",
   "metadata": {
    "nbgrader": {
     "grade": false,
     "grade_id": "cell-447f7c0cf0e86c7",
     "locked": true,
     "schema_version": 3,
     "solution": false,
     "task": false
    }
   },
   "source": [
    "# Lab 3: Vector and Matrix Multiplication\n",
    "\n",
    "#### Purpose:  Learn ways to compute a matrix multiplication with programming\n",
    "- Skills: \n",
    "    - Indexing for multiplication\n",
    "    - Converting algorithm to code\n",
    "    - Intro to creating your own functions\n",
    "- Knowledge:\n",
    "    - Learn how to use built in functions\n",
    "    - Understand how those functions work behind the scenes\n",
    "\n",
    "#### Task:  Complete the cells below as directed.\n",
    "Welcome to the third lab! We will be exploring vector and matrix multiplication in Julia more in-depth here. "
   ]
  },
  {
   "cell_type": "markdown",
   "metadata": {
    "nbgrader": {
     "grade": false,
     "grade_id": "cell-447f7c0cf0e86c77",
     "locked": true,
     "schema_version": 3,
     "solution": false,
     "task": false
    }
   },
   "source": [
    "### Matrix Multiplication Reminder\n",
    "$$[n\\times k~~\\text{matrix}] \\cdot [k \\times m~~\\text{matrix}] = [n \\times m~~\\text{matrix}].$$\n",
    "\n",
    "In other words:  In order for the matrix multiplication A times B to be possible, the number of columns in A must equal the number of rows in B."
   ]
  },
  {
   "cell_type": "markdown",
   "metadata": {
    "nbgrader": {
     "grade": false,
     "grade_id": "cell-db80a8ed2f700a69",
     "locked": true,
     "schema_version": 3,
     "solution": false,
     "task": false
    }
   },
   "source": [
    "\\begin{equation}\n",
    "   A \\cdot B:= \n",
    "\\left[\\begin{array}{cccc}  a_1^{\\rm row} \\cdot b_1^{\\rm col} & a_1^{\\rm row} \\cdot b_2^{\\rm col} & \\cdots & a_1^{\\rm row} \\cdot b_m^{\\rm col} \\\\\n",
    "a_2^{\\rm row} \\cdot b_1^{\\rm col} & a_2^{\\rm row} \\cdot b_2^{\\rm col} & \\cdots & a_2^{\\rm row} \\cdot b_m^{\\rm col} \\\\\n",
    "\\vdots & \\vdots & \\ddots & \\vdots \\\\\n",
    "a_n^{\\rm row} \\cdot b_1^{\\rm col} & a_n^{\\rm row} \\cdot b_2^{\\rm col} & \\cdots & a_n^{\\rm row} \\cdot b_m^{\\rm col}\n",
    "\\end{array}\\right].\n",
    "\\end{equation}"
   ]
  },
  {
   "cell_type": "markdown",
   "metadata": {},
   "source": [
    "#### Example 1. Resultant Size\n",
    "There are two rules to consider when multiplying matrices.\n",
    "1. The number of columns in the first matrix, and rows in the second matrix, must be equal\n",
    "2. The resultant matrix will have the same number of rows as the first matrix, and the same number of columns as the second matrix.\n",
    "Take a look:"
   ]
  },
  {
   "cell_type": "code",
   "execution_count": 3,
   "metadata": {},
   "outputs": [
    {
     "data": {
      "text/plain": [
       "(3, 5)"
      ]
     },
     "execution_count": 3,
     "metadata": {},
     "output_type": "execute_result"
    }
   ],
   "source": [
    "ex1a = [1 2 3; 4 5 6; 7 8 9]\n",
    "ex1b = [1 2 3 4 5; 6 7 8 9 10; 11 12 13 14 15]\n",
    "size(ex1a*ex1b)"
   ]
  },
  {
   "cell_type": "code",
   "execution_count": 4,
   "metadata": {},
   "outputs": [
    {
     "ename": "LoadError",
     "evalue": "DimensionMismatch(\"matrix A has dimensions (2,2), matrix B has dimensions (3,2)\")",
     "output_type": "error",
     "traceback": [
      "DimensionMismatch(\"matrix A has dimensions (2,2), matrix B has dimensions (3,2)\")",
      "",
      "Stacktrace:",
      " [1] _generic_matmatmul!(C::Matrix{Int64}, tA::Char, tB::Char, A::Matrix{Int64}, B::Matrix{Int64}, _add::LinearAlgebra.MulAddMul{true, true, Bool, Bool})",
      "   @ LinearAlgebra /buildworker/worker/package_linux64/build/usr/share/julia/stdlib/v1.6/LinearAlgebra/src/matmul.jl:814",
      " [2] generic_matmatmul!(C::Matrix{Int64}, tA::Char, tB::Char, A::Matrix{Int64}, B::Matrix{Int64}, _add::LinearAlgebra.MulAddMul{true, true, Bool, Bool})",
      "   @ LinearAlgebra /buildworker/worker/package_linux64/build/usr/share/julia/stdlib/v1.6/LinearAlgebra/src/matmul.jl:802",
      " [3] mul!",
      "   @ /buildworker/worker/package_linux64/build/usr/share/julia/stdlib/v1.6/LinearAlgebra/src/matmul.jl:302 [inlined]",
      " [4] mul!",
      "   @ /buildworker/worker/package_linux64/build/usr/share/julia/stdlib/v1.6/LinearAlgebra/src/matmul.jl:275 [inlined]",
      " [5] *(A::Matrix{Int64}, B::Matrix{Int64})",
      "   @ LinearAlgebra /buildworker/worker/package_linux64/build/usr/share/julia/stdlib/v1.6/LinearAlgebra/src/matmul.jl:153",
      " [6] top-level scope",
      "   @ In[4]:3",
      " [7] eval",
      "   @ ./boot.jl:360 [inlined]",
      " [8] include_string(mapexpr::typeof(REPL.softscope), mod::Module, code::String, filename::String)",
      "   @ Base ./loading.jl:1094"
     ]
    }
   ],
   "source": [
    "ex2a = [1 2; 3 4]\n",
    "ex2b = [1 2; 3 4; 5 6]\n",
    "size(ex2a*ex2b)"
   ]
  },
  {
   "cell_type": "markdown",
   "metadata": {
    "nbgrader": {
     "grade": false,
     "grade_id": "cell-db80a8ed2f700a69",
     "locked": true,
     "schema_version": 3,
     "solution": false,
     "task": false
    }
   },
   "source": [
    "### Problem 1.  Resultant size\n",
    "Using your newly-acquired matrix-making skills, create two matrices that multiply together to form a matrix of the specified size.\n",
    "\n",
    "### a) Create matrix1 and matrix2 that multiply together to form matProduct1a, a 3x4 matrix (3 rows, 4 columns)"
   ]
  },
  {
   "cell_type": "code",
   "execution_count": null,
   "metadata": {
    "nbgrader": {
     "grade": false,
     "grade_id": "1a",
     "locked": false,
     "schema_version": 3,
     "solution": true,
     "task": false
    },
    "tags": [
     "problem_1a"
    ]
   },
   "outputs": [],
   "source": [
    "#Use julia matrix multiplication command to compute the resultant matrix from the component matrices\n",
    "#your answer should be a 3 x 4 matrix. Return that in a variable called matProduct1a\n",
    "\n",
    "matrix1 = \n",
    "matrix2 = \n",
    "matProduct1a = matrix1 * matrix2\n",
    "\n"
   ]
  },
  {
   "cell_type": "code",
   "execution_count": null,
   "metadata": {
    "nbgrader": {
     "grade": true,
     "grade_id": "1aTest",
     "locked": true,
     "points": 1,
     "schema_version": 3,
     "solution": false,
     "task": false
    },
    "tags": [
     "problem_1a_answer",
     "hide"
    ]
   },
   "outputs": [],
   "source": [
    "# Autograder cell\n",
    "using LinearAlgebra\n",
    "### BEGIN HIDDEN TESTS\n",
    "println(\"all nothings means likely correct\")\n",
    "TF2 = @assert size(matProduct1a,1) == 3\n",
    "TF3 = @assert size(matProduct1a,2) == 4\n",
    "[TF2 TF3]\n",
    "### END HIDDEN TESTS"
   ]
  },
  {
   "cell_type": "markdown",
   "metadata": {
    "nbgrader": {
     "grade": false,
     "grade_id": "cell-6befc60823bbbb04",
     "locked": true,
     "schema_version": 3,
     "solution": false,
     "task": false
    }
   },
   "source": [
    "### b) [On your own] Create matrix3 and matrix4 that multiply together to form matProduct1b, a 5x2 matrix (5 rows, 2 columns)"
   ]
  },
  {
   "cell_type": "code",
   "execution_count": null,
   "metadata": {
    "nbgrader": {
     "grade": false,
     "grade_id": "1b",
     "locked": false,
     "schema_version": 3,
     "solution": true,
     "task": false
    },
    "tags": [
     "problem_1b"
    ]
   },
   "outputs": [],
   "source": [
    "#implement code below that computes answer1b by multiplying together two matrices\n",
    "#your answer should be a 5 x 2 matrix. Return that in a variable called matProduct1b\n",
    "\n",
    "matrix3 = \n",
    "matrix4 = \n",
    "matProduct1b =\n"
   ]
  },
  {
   "cell_type": "code",
   "execution_count": null,
   "metadata": {
    "nbgrader": {
     "grade": true,
     "grade_id": "1bTest",
     "locked": true,
     "points": 1,
     "schema_version": 3,
     "solution": false,
     "task": false
    },
    "tags": [
     "problem_1b_answer",
     "hide"
    ]
   },
   "outputs": [],
   "source": [
    "# Autograder cell\n",
    "### BEGIN HIDDEN TESTS\n",
    "println(\"all nothings means likely correct\")\n",
    "TF2 = @assert size(matProduct1b,1) == 5\n",
    "TF3 = @assert size(matProduct1b,2) == 2\n",
    "[TF2 TF3]\n",
    "### END HIDDEN TESTS"
   ]
  },
  {
   "cell_type": "markdown",
   "metadata": {},
   "source": [
    "### c) Clever indexing + resultant size\n",
    "\n",
    "You have learned that the ':' operator will pull whole rows/columns from a matrix - a useful tool! If we multiply 2 matrices A and B to create\n",
    "$C=A*B$ where $A = \\begin{bmatrix} 1&2&3\\\\4&5&6\\end{bmatrix}$ and $B = \\begin{bmatrix}0&1&1&2\\\\3&5&8&13\\\\21&34&55&89\\end{bmatrix}$ Extract the first and last rows of C, and the first and last columns of C."
   ]
  },
  {
   "cell_type": "code",
   "execution_count": null,
   "metadata": {},
   "outputs": [],
   "source": [
    "#multiply A and B\n",
    "A = [1 2 3; 4 5 6]\n",
    "B = [0 1 1 2; 3 5 8 13; 21 34 55 89]\n",
    "C=A*B\n",
    "#put the indicated columns and rows of C below\n",
    "topRow = \n",
    "botRow = \n",
    "leftCol = \n",
    "rightCol = \n"
   ]
  },
  {
   "cell_type": "code",
   "execution_count": null,
   "metadata": {},
   "outputs": [],
   "source": [
    "# Autograder cell\n",
    "### BEGIN HIDDEN TESTS\n",
    "println(\"all nothings means likely correct\")\n",
    "TF1 = @assert sum(topRow == 659)\n",
    "TF2 = @assert sum(botRow == 1355)\n",
    "TF3 = @assert sum(leftCol == 210)\n",
    "TF4 = @assert sum(rightCol == 902)\n",
    "[TF1 TF2 TF3 TF4]\n",
    "### END HIDDEN TESTS"
   ]
  },
  {
   "cell_type": "markdown",
   "metadata": {},
   "source": [
    "### Problem 2. Rows x Columns Matrix Multiplication\n",
    "\\begin{equation}\n",
    "   A \\cdot B:=  \\left[\\begin{array}{c}\\boxed{a_{11}~~ a_{12}~~ \\cdots~~ a_{1k}}  \\\\\n",
    "\\boxed{a_{21}~~ a_{22}~~ \\cdots~~ a_{2k}} \\\\\n",
    "\\vdots \\\\\n",
    "\\boxed{a_{n1}~~ a_{n2}~~ \\cdots~~ a_{nk}}\\end{array}\\right] \\cdot \n",
    "\\left[ \\boxed{\\begin{array}{c} b_{11} \\\\ b_{21}\\\\ \\vdots \\\\ b_{k1}\\end{array} }~~~\n",
    "\\boxed{\\begin{array}{c} b_{12} \\\\ b_{22}\\\\ \\vdots \\\\ b_{k2}\\end{array} }~~~\\cdots~~~\n",
    "\\boxed{\\begin{array}{c} b_{1m} \\\\ b_{2m}\\\\ \\vdots \\\\ b_{km}\\end{array} }\\right] =\n",
    "%\n",
    "\\left[\\begin{array}{cccc}  \\sum\\limits_{i=1}^k a_{1i}b_{i1} & \\sum\\limits_{i=1}^k a_{1i}b_{i2} & \\cdots & \\sum\\limits_{i=1}^k a_{1i}b_{im} \\\\\n",
    " \\sum\\limits_{i=1}^k a_{2i}b_{i1} & \\sum\\limits_{i=1}^k a_{2i}b_{i2} & \\cdots & \\sum\\limits_{i=1}^k a_{2i}b_{im} \\\\\n",
    "\\vdots & \\vdots & \\ddots & \\vdots \\\\\n",
    " \\sum\\limits_{i=1}^k a_{ni}b_{i1} & \\sum\\limits_{i=1}^k a_{ni}b_{i2} & \\cdots & \\sum\\limits_{i=1}^k a_{ni}b_{im} \\\\\n",
    "\\end{array}\\right].\n",
    "\\end{equation}\n",
    "\n",
    "#### a) Manually calculate $F*G$ where $F = \\begin{bmatrix}4&3\\\\7&9\\end{bmatrix}$ and $G = \\begin{bmatrix}5\\\\6\\end{bmatrix}$"
   ]
  },
  {
   "cell_type": "code",
   "execution_count": null,
   "metadata": {},
   "outputs": [],
   "source": [
    "#partion F into rows\n",
    "\n",
    "\n",
    "#partition G into columns (Hint: it is already a column vector)\n",
    "\n",
    "# compute the product F*G using row x column matrix multiplication for each entry of the matrix and call the answer product2a\n",
    "product2a = \n"
   ]
  },
  {
   "cell_type": "code",
   "execution_count": null,
   "metadata": {},
   "outputs": [],
   "source": [
    "# Autograder cell\n",
    "### BEGIN HIDDEN TESTS\n",
    "test1 = sum(product2a)\n",
    "println(\"all nothings means likely correct\")\n",
    "TF1 = @assert test1 == 127\n",
    "TF2 = @assert size(product2a,1) == 2\n",
    "TF3 = @assert size(product2a,2) == 1\n",
    "[TF1 TF2 TF3]\n",
    "### END HIDDEN TESTS"
   ]
  },
  {
   "cell_type": "markdown",
   "metadata": {},
   "source": [
    "#### b) Calculate $C*D$ where $C = \\begin{bmatrix}2&4&6\\\\3&5&7\\end{bmatrix}$ and $D = \\begin{bmatrix}9&10\\\\13&14\\\\18&19\\end{bmatrix}$ using a nested for loop"
   ]
  },
  {
   "cell_type": "code",
   "execution_count": null,
   "metadata": {},
   "outputs": [],
   "source": [
    "C = [2 4 6; 3 5 7]\n",
    "D = [9 10; 13 14; 18 19]\n",
    "# Because C is 2 x 3 and D is 3 x 2, their product will be 2 x 2\n",
    "product2b = zeros(2,2)\n",
    "\n",
    "#fix the for loop indices\n",
    "for i in ??:??\n",
    "    for j in ??:??\n",
    "        #YOUR CODE HERE\n",
    "        ### BEGIN SOLUTION\n",
    "\n",
    "        ### END SOLUTION\n",
    "    end\n",
    "end\n",
    "@show product2b"
   ]
  },
  {
   "cell_type": "code",
   "execution_count": null,
   "metadata": {},
   "outputs": [],
   "source": [
    "# Autograder cell\n",
    "using LinearAlgebra\n",
    "### BEGIN HIDDEN TESTS\n",
    "test2 = sum(product2b)\n",
    "println(\"all nothings means likely correct\")\n",
    "TF1 = @assert test2 == 819\n",
    "TF2 = @assert size(product2b,1) == 2\n",
    "TF3 = @assert size(product2b,2) == 2\n",
    "[TF1 TF2 TF3]\n",
    "### END HIDDEN TESTS"
   ]
  },
  {
   "cell_type": "markdown",
   "metadata": {},
   "source": [
    "#### c) Your first function!\n",
    "You just made a nice script for matrix multiplication! But, can we can generalize the script to work for any input by turning it into a *function*. Slot your code from the previous part into the nested for loop below, and you will have made your very first function!"
   ]
  },
  {
   "cell_type": "code",
   "execution_count": null,
   "metadata": {},
   "outputs": [],
   "source": [
    "function matrix_multiply(A,B)\n",
    "    # We assume for now that the user (you) provides matrices of \n",
    "    # the appropriate sizes. We'll see latger how to check for that\n",
    "    # and throw errors when the user messes up\n",
    "    rows = size(A,1)\n",
    "    cols = size(B,2)\n",
    "    temp = zeros(rows,cols)\n",
    "    \n",
    "    #fix the for loop indices based on the last section\n",
    "    for i = ??:??\n",
    "        for j = ??:??\n",
    "            #YOUR CODE HERE\n",
    "            ### BEGIN SOLUTION\n",
    "\n",
    "            ### END SOLUTION\n",
    "        end\n",
    "    end\n",
    "    return temp\n",
    "end"
   ]
  },
  {
   "cell_type": "code",
   "execution_count": 5,
   "metadata": {},
   "outputs": [
    {
     "ename": "LoadError",
     "evalue": "UndefVarError: matrix_multiply not defined",
     "output_type": "error",
     "traceback": [
      "UndefVarError: matrix_multiply not defined",
      "",
      "Stacktrace:",
      " [1] top-level scope",
      "   @ In[5]:4",
      " [2] eval",
      "   @ ./boot.jl:360 [inlined]",
      " [3] include_string(mapexpr::typeof(REPL.softscope), mod::Module, code::String, filename::String)",
      "   @ Base ./loading.jl:1094"
     ]
    }
   ],
   "source": [
    "using Random\n",
    "C=rand(3,40)\n",
    "D=randn(40,5)\n",
    "func_ans = matrix_multiply(C,D)\n",
    "@assert func_ans == C*D"
   ]
  },
  {
   "cell_type": "markdown",
   "metadata": {},
   "source": [
    "### Problem 3.  Matrix Row Reversal\n",
    "To practice using FOR loops, we will create a function that reverses the order of the rows of a matrix. In other words, the last row becomes the top row, the next to last row becomes the second row, etc.\n",
    "\n",
    "\n",
    "A function in programming is the same in spirit, if not always in implementation, as its mathematical namesake. A function (generally) takes something in and then (generally) spits something out. \n",
    "\n",
    "### Complete the function matrix_reverse that takes in a matrix and then reverses its order, such that the bottom right (last) element becomes the top left (first) element, and the top right element becomes the bottom left element."
   ]
  },
  {
   "cell_type": "code",
   "execution_count": 11,
   "metadata": {},
   "outputs": [
    {
     "data": {
      "text/plain": [
       "matrix_rowReversal (generic function with 1 method)"
      ]
     },
     "execution_count": 11,
     "metadata": {},
     "output_type": "execute_result"
    }
   ],
   "source": [
    "#A function, named matrix_reverse, that takes in a matrix A\n",
    "function matrix_rowReversal(A)\n",
    "    n,m = size(A)\n",
    "    temp_mat = zeros(n,m)\n",
    "    # Fix the indices on the form loop\n",
    "    for i in ??:??\n",
    "        ### BEGIN SOLUTION\n",
    "        temp_mat[i,:] = A[n-i+1,:]\n",
    "        ### END SOLUTION\n",
    "    end\n",
    "    return temp_mat\n",
    "end"
   ]
  },
  {
   "cell_type": "code",
   "execution_count": 12,
   "metadata": {},
   "outputs": [
    {
     "name": "stdout",
     "output_type": "stream",
     "text": [
      "rA = [7.0 8.0 9.0; 4.0 5.0 6.0; 1.0 2.0 3.0]\n"
     ]
    },
    {
     "data": {
      "text/plain": [
       "1×3 Matrix{Nothing}:\n",
       " nothing  nothing  nothing"
      ]
     },
     "execution_count": 12,
     "metadata": {},
     "output_type": "execute_result"
    }
   ],
   "source": [
    "#autograder cell\n",
    "### BEGIN HIDDEN TESTS\n",
    "println(\"all nothings means likely correct\")\n",
    "A = [1 2 3; 4 5 6; 7 8 9]\n",
    "rA = matrix_rowReversal(A)\n",
    "@show rA\n",
    "TF1 = @assert rA[2,2] == 5\n",
    "TF2 = @assert rA[1,3] == 9\n",
    "TF3 = @assert rA[1,2] == 8\n",
    "[TF1 TF2 TF3]\n",
    "### END HIDDEN TESTS"
   ]
  },
  {
   "cell_type": "markdown",
   "metadata": {
    "nbgrader": {
     "grade": false,
     "grade_id": "cell-11b9a0e4128b893d",
     "locked": true,
     "schema_version": 3,
     "solution": false,
     "task": false
    }
   },
   "source": [
    "### Problem 4. [On Your Own]  Matrix Row and Column Reversal\n",
    "To practice using FOR loops, we will create a function that reverses the order of the rows and columns of a matrix. \n",
    "\n",
    "\n",
    "A function in programming is the same in spirit, if not always in implementation, as its mathematical namesake. A function (generally) takes something in and then (generally) spits something out. \n",
    "\n",
    "### Complete the function matrix_reverse that takes in a matrix and then reverses its order, such that the bottom right (last) element becomes the top left (first) element, and the top right element becomes the bottom left element."
   ]
  },
  {
   "cell_type": "code",
   "execution_count": 1,
   "metadata": {
    "nbgrader": {
     "grade": false,
     "grade_id": "2a",
     "locked": false,
     "schema_version": 3,
     "solution": true,
     "task": false
    },
    "tags": [
     "problem_2a"
    ]
   },
   "outputs": [
    {
     "data": {
      "text/plain": [
       "matrix_reverse (generic function with 1 method)"
      ]
     },
     "execution_count": 1,
     "metadata": {},
     "output_type": "execute_result"
    }
   ],
   "source": [
    "#A function, named matrix_reverse, that takes in a matrix A\n",
    "function matrix_reverse(A)\n",
    "    #Your code below: remember, a FOR loop can be inside another FOR loop\n",
    "    #In that case, for each iteration of the outer FOR loop, the inner\n",
    "    #   FOR loop will iterate fully\n",
    "    n,m = size(A)\n",
    "    temp_mat = zeros(n,m)\n",
    "    #fix the for loop indices\n",
    "    for i in ??:??\n",
    "        #some code?\n",
    "        for j in ??:??\n",
    "            #some code?\n",
    "            ### BEGIN SOLUTION\n",
    "            temp_mat[i,j] = A[n-i+1,m-j+1]\n",
    "            ### END SOLUTION\n",
    "        end\n",
    "    end\n",
    "    return temp_mat\n",
    "end"
   ]
  },
  {
   "cell_type": "code",
   "execution_count": 2,
   "metadata": {
    "nbgrader": {
     "grade": true,
     "grade_id": "2aTest",
     "locked": true,
     "points": 1,
     "schema_version": 3,
     "solution": false,
     "task": false
    },
    "scrolled": true,
    "tags": [
     "problem_2a_answer",
     "hide"
    ]
   },
   "outputs": [
    {
     "data": {
      "text/plain": [
       "1×4 Matrix{Nothing}:\n",
       " nothing  nothing  nothing  nothing"
      ]
     },
     "execution_count": 2,
     "metadata": {},
     "output_type": "execute_result"
    }
   ],
   "source": [
    "#autograder cell\n",
    "### BEGIN HIDDEN TESTS\n",
    "A = [1 2 3; 4 5 6; 7 8 9]\n",
    "rA = matrix_reverse(A)\n",
    "TF1 = @assert rA[1,1] == 9\n",
    "TF2 = @assert rA[3,3] == 1\n",
    "TF3 = @assert rA[1,3] == 7\n",
    "TF4 = @assert rA[3,1] == 3\n",
    "[TF1 TF2 TF3 TF4]\n",
    "### END HIDDEN TESTS"
   ]
  },
  {
   "cell_type": "markdown",
   "metadata": {},
   "source": [
    "<img align=\"left\" src=\"https://c.tenor.com/TSfv9OumbmsAAAAC/boueibu-yumoto-hakone.gif\"/>"
   ]
  },
  {
   "cell_type": "markdown",
   "metadata": {},
   "source": [
    "# Lorenz Attractor"
   ]
  },
  {
   "cell_type": "code",
   "execution_count": 7,
   "metadata": {},
   "outputs": [
    {
     "name": "stderr",
     "output_type": "stream",
     "text": [
      "┌ Info: Saved animation to \n",
      "│   fn = /home/jovyan/tmp.gif\n",
      "└ @ Plots /opt/julia/packages/Plots/Di0Qb/src/animation.jl:114\n"
     ]
    },
    {
     "data": {
      "text/html": [
       "<img src=\"data:image/gif;base64,R0lGODlhWAKQAfcIAAAAAABPgABViQBclABkogBusgB3wACb+QD/AAECAgITHgIZJwIeLwKD0wKP5QMlOQQiNQQ3VgRFbARKdgRtrQUrQgUvSQUzTwU7XQVAZQVQfQYGBgZVhQZmoAcgLwddkggJCQoYIQqe+QwpOw0NDQ4fKQ4kMQ5Mcg8vQw83UBFCYBGh+RIpOBMTExUlLxV2shWAwhWM1RWj+RaZ6RgYGBgsOBik+hkpMxpqnBtRchw7Th0dHR1ehh4qMh8vOR+n+iI1QSMjIyVJXyVVcSYzPCgoKChATih9sCiIwyij7imr+isrKys5QSuZ3S10oC88RDExMTFQYjFkhDGu+jJZcTRBSTRGUTc3Nzew+juHtjw8PDyh3zyr7j2y+j5KUj+UyUBCQ0Bfc0FBQUFYZkFsh0F4mkJSXEK1+kREREZRWUhISEi3+kpWXkxkck1NTU1aY065+1FRUVGw6lJziFKk1lNeZlOEolRUVFSdyVW8+1dlbViTt1lZWVu++11dXWCFnWFrcmJiYmPB+2Z8iGet2Ge46Wh0fGmWsWnE+2pqampwdGyiw26Lnm/G+3F5fnJycnJ9hHXI+3l5enygt3zL+32AgX601X+GioC/5YGLkYHN/IOTnYSEhIfP/IiKjIuSloy4042NjY3J7Y7S/I+SlZGsvpKTk5OYm5WjrJbV/JeXl5icnpm905vX+53H4Z6fn6HR7qHZ/KKnqqSlpaWyuqaqrKjd/Kmpqqqqqq2tra6wsq64va7f/LGxsbK0tbLS57Xi/be3t7fJ1Lu7u7vk/b29vsDm/sHd78LCwsLR28TFxcTHycTn/Mnd6crKysrP08zMzMzq/Mzr/s/Q0NLc4tPT09Pl79Xt/NbW1tbv/tjY2Nzc3N3x/N/m69/y/uHi4uXl5eX0/efn5+f1/+np6ezt7e34/+/v7+/09+/4//Dw8PD5//Ly8vL5/vPz8/T09PX19fX29vb29vb7/vf39/f4+Pj5+vn5+fn8/vr6+vv7+/v8/Pz9/f3+/v7//////yH/C05FVFNDQVBFMi4wAwEAAAAh+QQFBQAIACwAAAAAWAKQAYcAAAAAT4AAVYkAXJQAZKIAbrIAd8AAm/kA/wABAgICEx4CGScCHi8Cg9MCj+UDJTkEIjUEN1YERWwESnYEba0FK0IFL0kFM08FO10FQGUFUH0GBgYGVYUGZqAHIC8HXZIICQkKGCEKnvkMKTsNDQ0OHykOJDEOTHIPL0MPN1ARQmARofkSKTgTExMVJS8VdrIVgMIVjNUVo/kWmekYGBgYLDgYpPoZKTMaapwbUXIcO04dHR0dXoYeKjIfLzkfp/oiNUEjIyMlSV8lVXEmMzwoKCgoQE4ofbAoiMMoo+4pq/orKysrOUErmd0tdKAvPEQxMTExUGIxZIQxrvoyWXE0QUk0RlE3Nzc3sPo7h7Y8PDw8od88q+49svo+SlI/lMlAQkNAX3NBQUFBWGZBbIdBeJpCUlxCtfpERERGUVlISEhIt/pKVl5MZHJNTU1NWmNOuftRUVFRsOpSc4hSpNZTXmZThKJUVFRUnclVvPtXZW1Yk7dZWVlbvvtdXV1ghZ1ha3JiYmJjwftmfIhnrdhnuOlodHxplrFpxPtqampqcHRsosNui55vxvtxeX5ycnJyfYR1yPt5eXp8oLd8y/t9gIF+tNV/hoqAv+WBi5GBzfyDk52EhISHz/yIioyLkpaMuNONjY2Nye2O0vyPkpWRrL6Sk5OTmJuVo6yW1fyXl5eYnJ6ZvdOb1/udx+Gen5+h0e6h2fyip6qkpaWlsrqmqqyo3fypqaqqqqqtra2usLKuuL2u3/yxsbGytLWy0ue14v23t7e3ydS7u7u75P29vb7A5v7B3e/CwsLC0dvExcXEx8nE5/zJ3enKysrKz9PMzMzM6vzM6/7P0NDS3OLT09PT5e/V7fzW1tbW7/7Y2Njc3Nzd8fzf5uvf8v7h4uLl5eXl9P3n5+fn9f/p6ens7e3t+P/v7+/v9Pfv+P/w8PDw+f/y8vLy+f7z8/P09PT19fX19vb29vb2+/739/f3+Pj4+fr5+fn5/P76+vr7+/v7/Pz8/f39/v7+//////8I/wD/CRxIsKDBgwgTKlzIsKHDhxAjSpxIsaLFixgzatzIsaPHjyBDihxJsqTJkyhTqlzJsqXLlzBjypxJs6bNmzhz6tzJs6fPnw2LbKgGlCEUAEH2GcylKl/BYarKmZy1qqjVq1izar0ZBMC0rQShARhbzOBRdQXjeDVJAwTYt3Djyp3bsOtXuIkS8AHgxywAtATV3iXZlq7hw4gT87SrUNwsT6uIEqwHTdu/co+hDSx3K5SqwQLPQfv279uqUL6cDpwGrbVraKAP3mtB4lzbcwPlQSsCAJkz2PygiQEwyzW/0tDQOjMVSuk/cb2Y92KHUNsrT6+c9funDlqLDa6xEf90DFnyQMqWMXvSrLi9+/fwETI+2I/ThrFj41AXuA0AmlcgjFXJP/1UEiB+buAmUC8APGIffkuQMxANCeCHHwkL3QJAIP88AsAq2/0zjYVj0eAOiWPR808iANyCBn7u/OMGiS3gUlA5M1p4RT/BoAjFQA/iFwdg/2yTgBizHFhJiPE16eSTb81nkCcA7DDLNsho4d9A/bUlSTDIKNNhAkvcgg0ydwCgxkAMBkFCKM4Mc0UCfQmEzDB44sliEQupAUBZI14xkDvDdNULnsjsM4yWquR5HIs7LLGKMrPc848YlQyjDTSckDDUQO8skQAawWyzjClrljPMd3k6I1AoVV7/maV/IRrZ1iNgignlrrz2upOUBJ1DwloCwbMDAL7wN1YoBFWTQBBE/vNiWf8wmICul4Hg1kHOgECCeQeBk8AOIYoq3kBnpUXsQCy2oGBCswCQCJBqHndQYQSpQ0IC7P0jzw4JJFtkhZ74avDBCMME7EAarkkQrBwWCQAJKg4kCQCmFKRLgwsCoEVBWopj0Dc0bDDMQpwAsKRAVErCZLqBrSsQi5Iw5E4Cggq0BAD9GoTvQLioWVAoCURsJAnwJKz00kyDtLBAlQBQM0HIAJBzf0sU5CcfkkjySNd+AHBHxxEPlGZs6oiqykL9dGWZQOIkQINq/8A8kGAFsTgLkwKV/yMJFC1UOFYQAt2TwAaWIvQz1FIXVPXVZDYt+eSUR/T0mBkThA0AWUssRkFXTNzC6CSQzsd2DD5ir0Bp9pzPi1MrVHULnnDiSe3H9oLuX+rGxmIwN3YFhYO1j9s3ADQotDjmfGsDAJ8Df1759NRXf3nUsQtUjNXKolHQtAoxOC9BrRPE4h18I+SH4CjGsXu0/+BtPgDAE5Sy6ptVWXgCCSR+77b0yt4/HsefI1XvgAhk2uVyITSCUMloWyLIIxLAifQRJHWr+0f5BJIyLVRMIezwlC/ylCdPSegfoZMK+RLgqvnVz2wAwNY/hqE/nbEwITvYQEEY6L2HbaiA0kugEP+HCKXLhZBfgzrWySTWw4E4iwakIQg/klYteRVkg7h4lsgYsgoAuOEggQAAs+Insw4BIBd5o18abzGQfWhpBwOhEhr0gZDQbVEg7thXC//xDiVux0hBJKIgB5mYrvAhEYhMpC7+YQrkvaIawQjdF7tnkKjRIBTFqEYvKrGDYaCuQRksnzhAQEFcmNKUaDyIlthokO11LmVQ8IQqZiGQeAWBE6pYBR1/V5Cg0WAW2hiGGoJgPIHQI3Ra0EU1ihGKJrJIC55JZSNp8MhIetFegCSkNrcpl66giGP/CMWwxkInKjLxIKpoAYmgIBnxXZFn/3DeNzFkEG0kAGkH4cexXAX/Dz7cB3kC4ccjDgQAFfGSIP3IC36KUI0NwHEg59iLhcQQIhz980evGicA9GLObHLzoyC1yje0sQ2SmnQbJ/zHOXoxy20UJB/buGNB6FGMVazCF1Es1jZUOBBxbKMe/4DpNoZK1G18w4Ls2AY4EuLTaPk0iv3YTjmGKtVtmJMg2rjFKopxHKOObBaqwMW5pAgOpQaLpVcqiD5iGtK2uvWtcI2rXOdK17ra9a54zate98rXvvr1r4ANrGAHS9jCGvawiE2sYhfL2MY69rGQjaxkJ0vZylr2spjNrGZX0o930KMe99DHPiy42dKatif7gAc73PGNe+SjHvSAxztW6w53/7DjtrSFhzzo4dp9ZPC0wA2uSPJh23c4Rxy/VUg/9qGPe9CDHvKYLW5pa1t2vGO3od2Hc4TL3e4WpB/0uC090odckCyXuc6NLm5rO13r7pa3oiWtd+eL2NTe1n8GKW9Mlttc6L6jHO2lrjuuC1/f0vfAdyWudbfL1OTKhB/vSAh/7wFb9a63uupw72ezi+AOHxC8th3vQ/RrEwhrpB/8QK9/a8veC79DtwWWr4dnbBj7uoNuECFxTUzMWRX7t73nsG2GCZxdBtP4yDu5h23h4eARNxkmPL7Jfgik3f5amMXtJXCMkczlkvAjvOwQMUZ0TJMo22TKEpkwdGVb3Qvflv/Ion1yl+dMkH3M9sYdIfNMzFwTNIuEv/lIr3Spe9sh7xa0oqUzgpWsDnVclSN6fnCEceJnmaAYHvAQNJanW9sXYze+OskHCUdN6lKb+tSoTrWq84RfRWPky+xQh4jz8cE8y9klfKZJpWcCWodMuMKDvi17Dc3bfCQaJcVoARqWzexmO/vZ0I62tKdNbWi3gFqutoh930FHgtAaJJGOSa5nsmuZ9Noj57WydDctbC1nV8YOKUYgs4KGJWZbIkpmhzya/O2PhBvKk5ZyTs79EjXLQ7bkaG+L4azdVs4bK/W+90P4IY/bAnUh/fbIv18ybpmUOyYEPzNCAC3oC7vDFw//v0rEJa4QfcyW2w/JuK1x0vGYfBwmIe+zReT9lpWzHKH1cIc65AFvhMgc0rduSc1hcvOX5FzXO0+5VXzOcopb3CJH38jGcR1wkePk6eSO+kXO8eiVUN3VLl9wRrKuka0rves6/3qroV4Rnk/EGXcYZxAk8S6VoMEXRe5yP4Ie5qJHhO0ZcTtLlv6SprsE7B4Xu0Q8wT787CA2F+HHN3iqEFLV4+DVZXGb3aHbehh+sjbmPEcQP+akLx7udL8J5G0ueYjEa6MXCMAEFlCivltEEvsa30LOPnJ+6CPopVWwcQXieIqw/iKKXwnjXdJ8lsye6bV3iD6OBQIDHOD7B5jA/1gEWJFpfAORDSG+QqbPWPCKN33Vl8jzLRJ9lbCfJfFXyfUbn/2GbA8AAgB+4McASCERphAHIeIHFTQzwtd59tYQ93dY9sUOczcQ+QcR81cR9ZcSEagSF4gS+0d9/ScNtsALtlCCJ2iCJfgHY9EAAvh94pcAsaCCNJiCtmAO/pAvJEAawrJUDJh+D8gQHShYymdkB/GBDpGBFLGBKDGEKIGEJhGCLQGF2jNvqZAHWJiFWpgHUlAhLviCATAWcrCFZJgNBhEInBBO7sMuDZgQ6pcQTshXIFZ4D0GFGFdrSEdzsBd2cpcTdmh3D8FACVAAL3gAFzAxEzENO7APS/BCK//ShgjxhggRh3hlYzhWhyChhBPBhCdBiSVhhyMhhfjXfwxRDvcBAS9oABUyNhNxBZKwiOYDiQchifm0h4GVb0xmEaCYEJooEZxoEp5IErsYEqK4En8odQqhUAxAAA3QAAEQIDc0Ea9AQQOhDJ5wBVrACcswfEG4EMHoVrBGhxgxjAfRixHxi15mi7TXh5RGijYTOhtVeWM0Ed+wAXc0DF7TNdgWid24fupYiXd2ieOYiXioda4nff/If+wocHWHjAoBDwNlIUGwSBTRD4/ABxVBiwbxjdrEaORwkBJBjgZhjjkGkhyYkCK4kF5HEYAoEeegC56hDCZZEPBAAlBwVBT/oZEFwZFDFI6m9w8iaRBB6W0F2XYz2YkoOYUDV4GR15A9149wmJQftW3dZoEhMZQDQZJOpod+uJRd6ZRgoZNSJJWDNHi2tW8IgZVW+RFa6RDoSBI8CRJqqRHF6IHuOHVQOYlkKURWxw4XB0JXSZDgdpTAuJcpMZcZUZeHeZdFIZYDEZdKk3Yw5xCIOZdt2RBvORKQ6RGIiRGK+YSMCRSOGVCGOTlmOXSnVxCVKZj+Rpjp+JWyx5TryJJLcEq2eZu4mZu6uZu82Zu8uQR5WYuE1Jd/ORGryZZFmXiuCZeleRKdeRGf6ZwWIQ+ScAfWeZ3YmZ3auZ3ZGQfc+Z3gGZ53/8AHOQWBzXkwkmmExhmYyDmYXNmOKhl3N+EOqWl/57krZimOGnGcHnGZDJGZIrGZHfGcFhGdJkGgFUGf71k59lUOZbef7Nmfydl6C7qSNmGgn5gTCnoTAkoXRegvVTmgEdoR/rkQABoSHboRCEoRGCqMGlqfJ8k07qefICqXI7p6Ewp9y6mZ9+mi8Rl7NrGhJdajdDGBTCkPIcoR/EmiOToRVrcNGSZsCwcPGwZqSAmbFyqb2IcTQrpjRAoXCgYP6kkQSGqjZiqhGmGJz9Fk6VZytKVwnrZlFZGiEPqjfDifMNqEX5oVcyhmDFGmH7GkOHoRuJhBJyoQarZinLZwn//WcGOJpTXRoiOxohPRpWW2p0WhphEBqJx5oxvRluHop+OxoxVBcj8mpeogDrhFYIg2ptJpp02JpxWqGIVaEZwqomfKpBBhZ6slkAVxqB8RZQbHZm0mpQPWqKQqlF4Jn7LKoZiaE6Gapwdxq0rqqRqhhIyWi5iZrCBBib92qlJaaBrmWscGmLA6m0EqrYV5GLyKZxtBrSpqrWs3oT6Zp8DqEXT6XSmmbuHKaS9GDnJqblqqkM06pHPBaOXArQYBr3UaqKxZZ6o1mZuosPj6rByxXOfgXOBqrG/WqK5KlwObkgXrpW9Rr3TKsBkhqJ9aMfmJljo6q0CqXFXmpm86Xe7/ZqUPIakiQakSYal7ZrEqQZWP+hEoO5C5unq6dXUGCbN32hHD+g4tZqzHWmD8oLPyGhM+K2lW0bIOdrJJGq9HmxEuVw7l8LXKybSx6hLfGl1k26/E1qp2yaXq+po+QZzeCLS5YbYpe7URcZpEV6KNQbEdka9GG5v0sa+axm60FafvVrjpirYV0R0+GBrJURGSqbcbibcCUbQXobIRYbdZ2aQaKLgcQbidu6wXkagW5mbEFnjKKreQOxGVYJM78Aq11AJX0AKp5GtBh5qfq7k16rBhq30vp56A22CxS7BZqhJteqqbpqoaFrAskbXi9qy3EASk0Q8xUpPI8A++MDdC/1hx7lCcvwsSnKuLfGsQ+SmqIym6S0i6G2G66HuuW/q0xSpgDAe/1AtwG6EFppAPPJUL0NMPnZQQ6flqwHu+FeG5BmFjISsQx4sQ9zq4wLu39Ku8D2Gqq1uzb8thNjO3zLkRNBAIQbADV3BUoeAw/6AFVUEQy5AIV+AO7GsRXju8DVuOxfWx5ei+E5u8Iru8zBoSKKZi0aW4i6tb5UAPOKu1GrEBYjBegeA+nLCG0pI5AlEPS8AJ4KIRNSy8XjwQMzrDScjDvgi/XFzBjhupDzyKNcFfSbyxb9q6xqbDGQGZO6AK21EMybMKHyMQUMBKmwtAFGy+mHu6Z2qkGBHBB/8xwaWLxoZsuEFcE/sLxjPrvFG7Wjc7WhIBmXcwIP9wC3wyDRTDHRvgUrkhyI1MyDacsmFKxzFHxudoxnXsyPMLyQw5sidGxGymcNXFcEoBmcpAA7gQDEVQMJfCB8UQB5N0yt2awIVcyxsBYuIgxhehyPklywgMqTRhtasME5PsZej1efAgZEE5DNZJS6HxCGogCX4mD6gcv87czRGhppYJyyXpw0p5wT8sySDMoy3hzs2syl9MEbW6lmjamvjMxrZsofyc0ET7zmcs0J3qpGAmxvXsns6qzby2xsb4og7tEQAdrPE80AzRrr5KEBeN0BkdydvM0XGLyz/7zxA9yxL/jasMka0HmdIah82ZR8sLjLoMTRPf/HYyHdBE+8w/DYdg9pMQodMzt9K3DMRR3dBQrRIhXbE1Xa0NHLFInRBOnYdVLZ9SHdQzMdSvV9QindVgSyCE57LQPKgqbbAsvdEaLRNmjZBojdVHLZege8NwvdMfvZj6nM8wzcQrcdWDvNcd4XLiILFafdCAHdYx29J1jbX9HKA+jRCIncqKjRF+2w8MnMj2vJWS3bRqXNnefNkomtnTOtPZ3NkUYXXji9LpWxHW/Ks8TcOsHZJALdZULdeH7do9rdbEq3avS9LXOtpumdtzutsRwbMRwc3IbdeqbdTBbd0docBAF2LwFtrV/6zc2xrYoDnYCv24pW0Smw3PxL3V90WZte184P2fzB3bzt3UvT3ZZV3dac0S6R3RsD2SOfzc7z0Rtz2q4v2qC+3bQq3fen3d+w3SXxvGc+vdWBffJjrfTlrfmEjeHQ27510S/U3TnY3IjzzRkP3UwE3WAovaL3HX9pnXiQ3hrbzWJq6rcU2yc73iOW7ZB64RIf7aF0sP5HAO1PzWj23jkZ3iCk7XO57aPZ4RPz7caapaN6bd6ynPtm3hgfvkPprg+E3dXH4RUa7bGFHQwVvjNo3kKI7jU03ZTd7iDB7jVi3cZE7R77ewXX3l0y3a6FYPUNpp2JUPvhXnm6zh7s3hL/9t3kqOEmPe3PMckAph5byN5fAdv0utX2sbbHE8rnMs50uu422e32E+nXTu6A1h5pGe55O+59+NEUILN4TZvFd2yVMrvcL55o/n0oJd2NUL45w9iUsNo5Iu4JRO4ODNtddcEvbLy2/2X65r2m4e6mD+4STR6PR9EK8uEcNu38Uuf/bc14uM4RCxXPeQseCquKzqwTt739Au6tQ+Etae4WDcu25NEdu+4axe4cXt2Mj77pSsbkbMYgwnrdANEdKN5gs+6rZa6vQN7mKu6sSe71muXPQOo4ys3ugWzhuLZXKcaAWfs7o+3rzOv/zN8BKhD+zQ2BDvEPd+6BJf6RspvuT/S9qLzryVrF7icMmYDGONC4Ihj+CKzuZzHs30bmfrncZH/tf/cMD0J+7lm+OqC7XMPq6i5coLcfBp/ttCnxLxvn4y/5gjjfA0jqPrq98X79/S3rfMFWjnfr/pXq6T8fMH6tH+HhJdbxBMP7QQ3u2rzhH7oA4JJ/dbXvflfRL2W6xkC+hUu6Ujz3GG7i8mP+/cHZVHX+JZX83F9VwYXfNpe9qZvqjkTGSdLvbTzvkgbvIkfreVb+RjPxESDsFa3u+mz/hj7WuIa8lwyvNL7NV0P/sR8QrYmTjfcAdLwAcyBfkYF+ATF/aX3/oPkfqhu/lb/+UgJ/gZ7GMbTGgaVraO/5rwhN8QF5knzjE82pAIfczM6lvR6trFpG/BGLhkrlrgPeX0ECG/Se3lBVdlSby6Op/JANHv30CCBQ0eRJjQncCEDR0+hGiQ37uIFR9JMqisxb1/8EBUKygPRMF98Nix41gx4USVLf/J0+dSJTuZMyv2o+eOHT2GDvPRqxlRHL+gRVWyNJr0IU2lTRHWS+lU6kCmD/vt03ePnjx479zpPMnu69d38ujd07ePqMyFU6cibfpoCZpA0wauEkPwyqyQIJyp0glvn1O4bmG6JVgVsWKEJcXma/kT8cChk5sWtlyUceaaUDkn3az0atZ6W9+FFQtWHbuyZ/OlHdj2c1DMRv974Som6eM/TnEIojHVU96GIo96EqY4+fDk0E6b3wu81qXkyZVn16x9vWJz7Q89d3fJXXs/fli1yvPqThzqk+7ewTOLdt9x7dmV8nn0zxQava/6WrZPqeUWy0wxfug5iSejqEPMOvAqCvBBhMST0KDvKoSIQgxjo++f0bQyjb2v2FmtNfkGUyrCoh4J5B9fghCIHxqQEW6kyVQsakC3NNTsn31Ocweyphh0y8ENV0ruyIZ4xPBCJSd8siHZirrKvBBTAyus1s5Kq8N/cFRJGaKqaYGve2jI5Z9ZdjhOJACTNCwm5iy7Zz14pHOKyKmMjJIgMDFkskIn+0yM0IOmvI7/PH3yKQ29sVBzRx11pLoCBBpI4IShYWjYYQdkDHLzRjin0nGqQCM68KR6Jp1MT6n4JPTPCk99cFBDaQUPUUNljQiecg7ShxwU/xPVslKlwrUxk96R859kI3LVKVj75PXBZ6+zldBrZ9M11lHBCxWxalU61jkq64lUHjypsizapqaNctzutv0s2z7p5axbar/tLly35I2o3KZw5UceVR3CNyF3lYL3SYCvS9gye6OMeDJ94+VXO3/fyljAZndUSZ/TmI2oYoMWTqphJR+ezWS3Jn7S5akudrjj2TaWimWHBFaKwn7QVUceL5dsF6jq1vXWUINklgpmJZl2iuaVbf4M/2fkjP3Y1JUMdqeeoKBG2SiVj9SZM6ibcvrIs5WSmmyqObP6sreD4hk0g0Rmbdivi7Zs7A3LLlDpgtLecO2k2v57bmNtFFdxmeo2iqafdVJwYL6PFnwgwC0z3CjCAc2cw9A3rynuFB13CfKg9iHnpKiQvbxBpPcN3dnaP5+1dsQxJP1xxv9FvSXVI9PpnXMCb9Vo2UcPHrzOi8JdwueD2r3C3lP/nWOsRUNwJ4bOBlv5ImfHuPbpO3td6fPZGrrmDU1P6nqChk/IMZQOAj/28Zk3//b0b9Vd+6b2vuzlrHkVoV9B8hEYvS0NeYgJW1H8xrsDamd9LometQLIPwzBz/8o8hsI/XBCOQGyi3P62xP53Be6C7Ykg87bYOZAiMACXk05WTvIjx7Tkvwlr28qHCAL/de/0FVPQjMMWA3ltj2EQIcdd6pJDyEovhRyMHMtVMkL5xVDwSERIh4sygx1lCrvRe6BbolgUCZovQpCbIhCLGIJE0fAN21Ph0Ey1wl9iDkZtrFlb7wiF5XmxYeAkTZ+dIg6zvFEIEbxjFNJY03WeEREmg2QgsNiRYz4IELuTImne0v3zoHDPM5pj8vrIxEzp0ULCnJXlczRJ+MHS8eQ7CWktJwep/hDK2LykupzZdI6KMsPtnFyQVtXAsPzSKlEUibgoEeXBglLXQqOlW7/jGMvH2RI7DSvYAdLiDJ5yMw8UTEpPzvJN+BBj65gKUtfgY9r1DKbTvYodNf8YzZTOcw6VgRvttwZLntGziGZEzsGY4fX/jHBD9HDNFnC0klMlJYGooqaplzl/7QVTNrxs1gOOabQyCVQu1UTkgYN2cgaOEmVjCYf5zlNeyDKGrNwaT713Ns9NXovjpbPo43bmlh2WkiSmtGkzUQpSNFVRoSw1DIN5co71NG6sIzFPfFJSyMxas2hxqynK6wQN2WCmX9WVHhFtedWT6oSx7ijq5TRKgUR8qFGxVSmJylRfF5jVplkMiL4/IxfIbJJ8OAUIWJ1CUtwkiA5BgytOVUr/1IhssC8qcSp3SkbeazkqEdB6j1YnQ+UdKpKwREWsxf1Xbuo+tbHPdaRRy1nQhbL1JZctj6ovYmVrlRV9eTVpnwFD2Atqc8u4lZ4xJQJZUnERALBtqAGsR9rHWLb6xi2rx7ax2Zj2lkt1VQ+jcWgdEFH3GnSkXuM/ZJxQ+ja6zpXKdShrGDeFVc2kralm+3KTK060XlCRLgEjZJpb2ve1ZnkfgURI3uX6d6k3OMcJKziPgP5GZfCFFKqoSk91OEO2PiSvK8kMPGeyNcEM7ikUnHMInkpYQ8TSrP6IBFn9eueeH4Xm5kTcHXVS8OW5oS2SGIuyEysEidC0ZkuoS49d/+cy4xChK67vatv77FXyJYWvJRETDGGQZB++MITWwYVcu8oJIsGWWtDdggZKzeQI9eWvliGY5OnUqWsXGlEnvWuNG33YWFKxRkkgAJDHlEESRA6zA0p8pv9tGNx2gTNOQQSmU+W1JQpurBLHuhojwTV/LJjPXfN8IkqlGMlT+UeUJAEFAYCjg184x/aAMGv5pc9NV/5ICWOLOyIHCko+oTSYrP0ae1rqP8etcK75W6GodJhttn60lORBCdmoWo1XYEhRejFf8qBNzyC8oaPfm2au1cP8LbZssEecJy5OmyZQDU9M76qTclH6s+QbhpLuMe0B+IJNxBEDKoQDnGCQA//dDcE183N9UBqqWA2/1qCBS+1upVW7IRn5snoubBOxKEOE1EZrEnRxxU+pe9/8NvfqgjJBpwBcYMzmuGOVmtIIW7uiiS53pg+8bolbih38KM8dcZ4akT0WZs6G0LUREYL7nCHK5DgDvm29kCKoAtiAfXbFc/0NxP6XD4Wl919ojjCreyShj404xIFLXAlQs1zDMPtkgjCMPbBanC8OtZVB56ZdT2Zc4zs5b5esdd3TqiwCxnHRm/Jz+9RD66AxapVhQ9U0IUYkv8jEUsoNEbwrr2ri70pxyQH4ifrcDWynDPWXbCcJ3x4F/NjUfUwCWK+AWYPeZn2s+4nYhq9HcJw/02h4Qt8eQcPdvHmjs8dDStyD6n3UgalrA485f5YDExNr37s0weX8rvJfCa3ZHI/Lgjwuy5860+8+NL7ahCTn/s4gdtHBmat+FEp+PIT+/waPL5P1/9R3f+9ZNAqHrWDvl0aPxAbvigpvDNjPezrF+0bK5dzr9laM5hDI9KTJNPLDNQbp+prseujPwlBrMSDwMiKLqMiwPkjvw40v68LMNGLuP2zuv7TpfgSQN6Lvgj7QOpTPRXkORe8uRDjPBmcDHXwsQnMtBOUvhwEIA7UQQ9MwW1ywMQaQRQ7DXGQNAWswOAzwPojvPuDofz7OChkP1Lxv4NItD3DugWxQJmwuf/TwzkT1Dku7BN6c0MgNCDug5DumUApysIC7DMe7EIWfBI6zMA3bIgQPIopbIkxSwg+XCs/RD5AJD5BVBJCHMPsu0SnUKYzRBgASwqaEwoMzESeYsIlXEAlbMBR9BiIICOF+j/3i4w1RDJR5D9JREAv3CIwVD8QjEIRxMOFa680LApQhIg2LERKPJIE3Dsn3EJeVMWkKBWZSyvPkyxI1D9bfBJlbD6lscRaFENvlIrl0DpXhEPD60MUbMYmXMEDHEQfrMOfyjvloAe/w0JzfER0/EN1tD9k3JBujEFnBMdzQpf1cMdG9EQ11MJ8NMU4xMZKLMhnrJpeTMTeE6pbgsX/DURCHHzChVxHOWxBbcLEgGyJ55ufMlyKgxxGWXQzkNyoUmzJU9zIVBRJq9BDL9m9VxTGoCBGRHOHbViNx3sPeqiHvXpIKeTHJsHFVtJFt7FDG6qIEgyoi6TAezynmoQVOrMwocMzh7KxWTpKQUnKG2NGhZTJf2wIynqHGlwvqbTBjJQJqIQr0cAvrxARsOAvs9LAqdxHdnRIltQYiTy6hpBAZ7vJDEFJnVRJgqDBpqLF+1qUrIwodViP1lg2tcynHdRHQvHHeIRBziQIuGwttsTJc4yIEQI/gzDGOnK3ZMMS/irKAWTIzJzD1/TMb4zBxYRGk+xE0XyINGqrK2yI/9ScScE0j7o6OynzOMN0SVKEyXQMSXHZCQjTRN0kGt4EPJ5kpFn0S6nASjvTL6LbttDqyIY8ks0MQoCcih+ZKuBsisI8Ses8S3OqtdLbTgz5EHIwO96yy7TDlrC8zLGMRNtUikQ7OHusx2r0kUhjmMasTY6cK6x4KWSbKcqUj6DQxu7jRto8TwHFjppcNDzMOQMtJ06cr/p8GsTgtPSoy3iTj7W40CME0GvkULZS0FtTxANdRsKgh3IgB3LDxwB10Ae5uJgqh3IQC7wKteTEv+Yky790CSdSlzS70RzF0QJjjUVJzJpj0A0N0kksiBfLyjurKqLrShjNUBN1CX0oh//0UVMcMqRWDMzOE9FtbDegidKGS0ggfcnYbDfdCjr9RLvfqk4m1dOgeAQSoAEQCISU2JQdmJFDa4h/YrgCrVIMPQqEIkfFzNJQRNPC+SUKyy6gsysx9bQtKdPy1NA7dIptAIpyCAKUO5M0eYUg0Buckcbtk9NKNVOIkNTr/FEZ7dJbNJ8UJdX9Aq0tJQjzVFW3iINMeZEYaYFPwT3NwVRvE0JqpNK5stPG2snpQlanJM8NedEQdbLihLI7863KVAllBVelqAZVSIQrEAf9UAOC0AL/mDVO4AOxoM4PzdVspVME873p2NRi/NYl4stk9M/A4gwwfahkI4saG6VURVj/p1CGR0ADLai73viN4JifDUgEXzDLcOxX0co1kkyugn0I4RzZPR1P2bRPKymHd7CrKAs1iko3twiEFlGFvBiIvdi8ZW2/nISs7zPClM1TYHXZvfTIdgSpUA1TUs2wols+xOCEftMIyBAJkJjWlm3PksWfAgHNT1RZb+3U8cLMYHVa7pzLGQvUFvXXpuAEZdCGW6ABfIWCR9iGRNACSPXaVSTa6VCPtHRLaTlYaw1XpPxKCWFXCNmHl2I8eMiS1ZAKSdCCJVADXCCIb7iDJeCDeQ3adiVZ+OSympS/JIxJ5uTTpdVMiq1Y9GzQ6YRP0DxdjXRO1vXSpu1LBnTS4TQK//fczZrATdikStttUor5VNz9SN69DkSM02udU8EsQgGq3Vc5XK9MWHFd2OEiVKXt3b/NzUdjxNEsXus9W+NLW+VdW1T83tj9WhMj0bYkTeMtVORdTvvt3jB8TvcFXGydz3CbX/NlXq+6XwLO312cUdGV3a0a33JEUNS9XdV9WbXdXfZtXsAss381l/gl19iyRv1VXyUZVwdu3fPVPQxmxSlNEXpYDx+NXrJNWhCWYKZN3FFzXcRN4NclQxRbFhg7TOEt2+C83mJa3FrZ3h+2YRM2DBR+CEqt03SRDkd8YPr1Xvxd3Rku4QGOSIjMEf8bR5PFVq77VRm24gkOYVRVYv9SYWIpBVGE6NVBDeP3CuKEYFn+NeArLuMeTONwXOOWa+OBCKnGkmIPHmMEpmCFLeJcuWHs7UwuXeCgcqvUi2MY/mBDPmPtTeTuaFwc3l9Hfl9gUakqe2GErGSmzF7FPeUk1mK46WMg67zB7OCAFWMIPt47NmMsns091sRWRogEG1sSlmU5jmFLxmVhTWXGXWQihkdP/kRy6DvLxMhJJuVCNmXdReRjfpBNZmTYZeZ200N4AFvi1dVppuX6tWUahtn1Td0L5mKIgEvgheNRTslhruYalpARnsYzXeXMcN4MFl4GOgh4NkjSRYhuTQh92IYk7S9izuNAxGZF1uX25GX/GyW76T3EcA4/JCZYUwuMoSi7P7XZu/RdtUneYlbnCGbnkVa4GiUqggbj8h0rD10oS+vOoGNNU9WzJjZEUUbnQ+7HZA6jnT6siV67h+Dglg7cYAxgGt0h1BxiYq3LQNWwhfZpVLbmn45oASFqBOOX/00djC4Ul540mThqgqhjucTScgBpdFW2ChXLW27oXN7nxWG/BqYbsDahpI7FPASnlR3ioLYKxXvYGSPTnJZkuD7nLLbgm9nqDy3r0sFrNJTmeXYIYDy3rH5Q0oAyoUNOZhMs7zhisXYLbVbmRiYMeGhh6B1nYBbmg7hV7Zzrp4JaOxMHiIo3qr3n0NZriI7t/xOein+6BxW2VIBtbWrta/rs7SXlsraN6pvNLqfAZ55W7HVmbNGw07Vw4mDe1dh64wXFbO4NimP702SjUGY7iOgGYH1e7C2mjWotag0ebu2mEncoh6DR0LMW2nSejNWUWvqeWdACavlVb+pm75GkR1dWbeLe7jDimneYY8b8bo2ulXow17Uekc6GZqUecJSu7tLc1hT+Y+mWb38K5X8waDr+66q9aqsuzdm26e+sMcN+zwOu56QIhkRwg0Tg2n84h0dwA0lgDA/6pkieSPhe8PguTZnWVHqeo4fujhf9aLq8sLfVh3PIcN5e75ZAg1AIBkkggW0YCDHgg2GIg34L3f9/QFlfNPJYRvKG+OUlL+UmX3GwdDEI1QpyGNUJNQt11Q7SBmzEuAKUmwYSgId/UIcNAPOu9RAlx9UEH/F89okAHD0mlysn1w701nDXblt44y+I83MVb6YdyLZV6NuBgIJb6Atx6AX4U+BPnmxINwhYrogTh/Dk/sL0Nek+1WwL1wkML4hPb3SpeAQtIAqOHQjgCDgS4IMrB/E1Z+0Ff/NJj/NKn/PczmSncNgX37gxjXHxhDOpCIUgAF1TqNeBuNe+wOvsbvMQHV4gpvT6svT+vPbrQJQoX1Eqf+5WDwpTCAJXG4hcKAJA3oFhqJF2hmzRzmjTPFp3n3Z4r3Yjnnf/bnHBms5z9sBpb6dop3iFHUj0gXgHElCGfwgGGnidfm52R1/3otiH9ei2KRbgLPfUAj7RpeRO12MUdnq3s6sYEgCBFiCBFsgUNWmBK2iBNDlzTn5keX7SwGCVwi1RW89FXI/r5RUckZGKc8B6rJcHgjgHaNgMk9fpEE9v2pDp6jXcCEf4ptHtV8cQYH/AptTh0d1tkmDpsHZ674Z6pZT6xJZrmKdrlT74uYdSFTL7p/d79MVjvqd6Amdlgw/NwIVT5bz7SkP7ub/0tVf6tg/wYM9hpHd1ee5u8nX5s8/7t+7pS9b8yk8twH/8MH7taIZpw2f8mN/7madxOefm/JZ7/8/74mcnZyomY8XPRsxfbawufa12/K/Wo9D3fcqmZtzX72t+eCyf/b8H39/F634wUvvOfKRt+G+3Z4iPd4lXfexJ/rN6C66RNcuX9uen9vAPLuJX8AqufuVobM0R7jQt8UGeZeAHiH8CBxIsaPAgwoQC+b1T6PAhRIfsIlKs+LDePYsaNw6cyPEjRXf9QJJ0yLDkR3kgUB48ybKgPH0f+9Fjx47eSIIeX+rkSTAfPZ8DxfETytKl0ZI7k4LEyFTpU5Iio35EStWgyqRWecbUuA+ezYwIl/ok+xJoUqJXN25dG9Gs24ti41KESzfh1LsQ27rNapQvyq4R87lj927fQ/+7KBWTRGtUrd6HgCMXZExZoNPLCi1fzqu5ZcPIfoVOJik4IU2bOOsy5czRsVDInw2W1uw6cubZBm/r9ax7YO2no30G53i64Fd27vJt5K3ReUXYPmX/Xhi6ekfsBHNrhx7Xd/XiSYfzFK/x+D/C7OAh/uidtVHpPKmHv95d+0Du2N+vBf/bvFDkvQRgRV3xQ09hq0GVFH8PyfcSff/Ztx9+mM11X4X+6UYgVyv9NeFL7qijHHM8NZhYUg+yFOGGIP52YlT6VQfjUxrOxuFLAh7lIkj3FFbOhSa2lmJQjxWFH45r0ciUjC9W+I+NnyUZmIek8WjRgaqNhN5LS45FZFr/R2o3JVVeGtWkbmYKFaVmZJpWJXFXQrTPOyTCJJNRalYGplHg0CNmfU/qyROasw0aYk5jyhmVjijh6CM78gBKEJcsHSrQpSqCBA854ohTTqeeijpqOeWc4w489+BJlZtPXYpSoZ+9WhKbl7WaEpzlLUpQluzU81Cliw0ZX5Ek8aOOOOCUs6pJ9yB4zjmgjjqtOOSY6g499wRJ0a0MPhmrbU/WSlm3GzVaUnD61PkOsw4Fu2CefHKkTzmeqhMVP9o+Ky21oloLLbb3HFmuULOSBO5lBoM0bmQEW3SusTz2U4+Ikp7XbpfDCqWpQ/SEWix2+e4r7TfafAPOtP8GjLGS/99u62SGiYa8K1MQg7QVP/LY9GtKLAvrLbHcIqvspE8upLM7L4ssYrShUovyv+oEnHGFCFOm8EcM6+VwgbkOGJq6yvn88NgkvZopyAjR66k7Rh+Uz7rtOaqPs+403a+/pZ6abdHZVf1ymuLKHKhoXrO0TzkJDm5a2SCdLa9BHlcLeIWp3bT4XUtDyy+1JaucLeV0WR0Z1hxpnTnN4xl+s87qnDNe4+5p7JN8/Jzj6Tl9P5kcO6HjByk8dNd9N97Vmrq3wEmNrlfpG51OF9cU2UwR3IYhFv0/75o9O0+O3VMOym27XZB6h41PEE2Kc6R5qU73+7mqFC1/V/MaPR8X9v8QTa+Q5QpaBzvQ4hWfek3ufAPpH+Z2B5blQM9Z8LAb56YFNVNJTWqCElyF8ges1TmEd4DDnvYcxz103Q4c4JBaYWyiHHe44x3yoEc98qEPfiTQLclhoAEFAjzdhYxunPrGN9xHLWtdi29uqZ9F7ucWDbqLg28rjPkUAsLYceRxKPkeyuABkX7sg271oIc86qRCFtpkRC7MlgzlVpLqsSeH/+iV/85HJztJpm6ui+CoJngqeGRLhDHLYOoico9qbKMg08AFNrDiRIEgMCJTDGDBSAIPTwGJKf3gRxedFUYWklGFynkHPF6oqn0M7kDqy+EccZhDH6kDHjxEl74gKMT/lB0vYIBCYkWUuJZyhWIDJHBDojixAz/QwBQw4eANS1SRRwqwmRXRx+3EkTvtcJFu9ACjGKMpzRSecZRq/A0rXenGXtWjhuQaXvs89Y1tbIOWyPNdjcxpq0A+5BvnCAUwBVIOECTSGSSwj4DY+M1l0rNAVGzOCBVyj1Bp0Y07LAgXM4nNMaZQhWfMlj5IyRRyyhM7yWGXGydWsUmJ7IHEw1vUpoYoQPoEnzmZBRQGEgRfUGolM0TQ5dBVUOkd9DkJNYg7KKnM88GxoxGppibh8Y5O2oSTLRRlRl85kI/2dDYijZRUQ6YzXx3FmrIsnqfg90pdXsVhLhUIPgciBlVQ/2oDaAiCO6oqmZ1GJISyg2RBoIm7rFZnju8Yql6Q+sUwerKT6lAHqMhxDnpk1IA525kb/xE2kNrKjieVIDi2cS0+wnOJdFXIWf/BiTgMBA3GHIg8NoCLQTEzknj9x0I91dBVFsZiOXysOuQh0U1ysrAtDCVGNRqXycpVMyLNrVF/kxx1vAOdsxzVv5DH1/V9NiGhfYUWBrKEXNRUK9V1V3HforGgfiq85KoJV91I3I0g9ZqE9S07zAjVfQz0qBRD7jiRxrMcTra+dXzWZYdYRG0RtKX5/Mc2QPA6cWwAHN39EACd6RNo2Suy683hceWRXJRE1Jrv7a0nL+pN/Vo4bv8hRW8c8eXArxbvX5IIxSpU8Y2XTEMSYgiCJHAhED5oQRVXCMQxvRth1/JEckH0LQtBCUMZ0vAzGd7wjba6X6Mh1R2JHRF8DTPf6T7lqil2mwfHxw990EMdfoBCCzbQi5dUwxOc8IQngiGQfKjiEav45v7Y8l2F2LWKRxnashxSzXxoUowrrKiWYTjK8ki5xNYLKcVyyr8uEnqiFC1jojHS2JeE2Y3l8y9+5DGMROwgCIHoRWdL0g/M5VkjrS0LSdYmjnslpb28RfShu5lRzIUtrpA+pQE7LZRL7napTG3qb+eLuU+fWEs5JMcr4kCCK3AikbNpNZb2nJA+I3QjkhP/R9qcnMnBGhqxYZUvGjetnRum+jfMro5gLR3fUJED3fdIY4WEfb5qcOIKLYjDK15XHWwX2Cjc9qnQ9ppf5Vyow4VGtic/CdxRQnkj7zZgI1EJlt6hj74eFiOImyriXUdFPW00IDxGTYMgJGIYgP0NwbmlbYQc3CKukbX4cli9KJKkvdjEdSd1Td+jorjimtH3+UwO6orYWqlA5+Z8l44+nH75Sd9QhRpAQG1tjC/mjpz5QWpeEcZwqoAYLjplBv1wiIfYyqXiedILc3KMU93oL1G7vENuGLeXQ7eOhYYk0AxwWp/P63sBO1bMi6KC2E7hGg9LZAkzIoyA0elPf2pw/7l897q7MZUvdxsre1doveda2XSBRy8CsfKWm7ce2tBGw03GqEVWBfF3CiAWxZFzA178fOmTNEXi/V5kF8be+P5IMiP70Nuinenjlveh45voe6tbI9vAOgnEwAmug8SfSygCDYYxknJAoQg7uINwaE/dIZdlkmanO7DluMDPG4XYH2f7GEFp+uU7tvnBrpMqRYXDWdqxSdwL5cIq3EIwBEPgtQAf3ALhkQQoCYQpBIFAPMId9AM8FEH6CZnBKR5CNN42nNChQREfxRDJzUbyOZTcaV5gSRQ8RFO9EZ9NCJ3U2RAA0t+TQIptVQ4mERoniMEObAANPIIyuGBFBMMOCP/EDsiZaHUghH0gS+TebB3EAH4Y0I2ccJ1FncwdUfmfHOXgpBXbpYXYCwWX3SlUC44Tek3Z+GxDKIhB9oXCjG2UJCQCFNBUPiRAIf3DLEChlbDfRpRdJQ3bbjldxAVd1IUgGI6P5ynfGhqih1kekmHeKOkOOTkaZckRMjxCETjgal1FP3iCJBSBJ/yDOgCAg/3DmtWM+umZIEaEXkkTEloSpa3dCiELJZ2Rpt3gZYRTLT4FPcyCMzDizqRh/T3f8CmHOoTKOXTT8eFHhgWjXpTDLfABCRSBESIjSGjDBpDDP4BANQjEKwBinMSiQjEUJK6HmNiasV2e0HGjI7WhPDL/BSRMwA2sokBQ1a/l1pHY3+iRXrKhIas0Wg7BoRyKQSjoY2SUgyr+Q48JBJC5ogcGCBWRVznoIJI0okYIn6FFn/FV30Pwo9uEQgq4wDlM48KlF0j43DKukPTZ4DMBIAjShT50ovmdWrjFxSyowjDkghaogUDcAg0EwyuQgDnqCjoKxCxOEyqti0Z2mcetXQH+Fjwg1qn44mz4gz9AAzhAlnqtS03OxFQSYAG6kDwgVuJQ411YIzZCgSRAQz2ihDMkAhrcQShcxyyowR0gQ1J+TSzGFjlU4fnwIFtmTgyew038HJLV4CLqxYVh3H1p2DglJrbIAyJWotAdJkcgJAmo/4EqiMNHwANDYkppupHhzdWQYeRY4k8bamJV4d3wneUL9WLPTeZcLhHStJtu9Jfz6UOlLaNhZdqifQQ9jNoO7MCpuaFFfMMVgMAO0IAuDIQkkMAOXMFpFt4ruprtUQo9RFMEnk9k+h5uiuIhGlsiJtmWHY1yMKfb+ObZOZsAYtLHCeRA3sM0KKAzQEO0kQBcQgNLgEMvFMUsgEBDKEMLiGYgTGRkpaZJdOc/eMw6lQNMKkco9WJuclh53haJPYnw6eI2pVBIaqUocqTRIF3I7EOl9cJbkcAGgKZoJsU78OE/JEIiCAQ0gABn3oWDShHYHUuylIPuAOTP6V2STVwKMv8aWPKXiWFYpFXdPxApFiai/hGkT6Co2/Se24gaqSknqlHFKgRBUahBKAiEOwBAjKLmdmZbrBFQeHKYREEfTNpbRi1dr7WmW3hZhl4FlvZcnL4kiMlkQmip22Tc+UCbtFGbtV2FM7SAMghERL5RAnCfmlakRXzbTr4gGYIkAZUDH1lpvm0cb84GoUbGFRoaGTUjJX0qxZ3o/LkRv/kbwAmcW0wDDbTiP8QBJ+gTANBqDvVoQgAIkNLiwiUNI53n0zlm5q1FqXqoiSoQ5EUpsiKaU20ms3YhiX4G6qkey7mcXmjDDvzhQFQCaf2DEkaWQABrCNIMzkUeFGWrQcjmRw7/Jy8WZ/A9a6hGq87JHbxClDLOq4gSp0hKBucZ0NVl3dZdxjfQwB3ggsOC4zeQwCtAAxScIrqqK2goRNmRw6gaF75aEn0G5NNVaVqegzp0rGYo3YnF31pI6TtS60CWLDtEZXgAnuC9wpvqBTbcAc/yrLUhgxpQW79e25oWHK9Ek1MGm6ieWLQ8I6AW3/RF4138HpTmmxhimDxEi6c+bUw+5l1s6+oNA57+D7pSBcbSxnXk3u7F3aOdHcuiRlliIbVqYT0+IguyIxvK50OcKg2a4TW1KkhcnxrMYR1+hCloAQ1YrECoQguQgBZkZ9nmSNHKnPtx7MoCn/zRkVRO4lKl/6eyehNB8N8X6m0Yaq4tcm6yTh80+YIyEJLNOiAEssQs5AIacEJObAMJVAM/BAIfRC5FEsftaAMJNtWF3ts+7ChPrCBt4a003iI2qeqnRFy9DuzRXe3y9mCKElo9yIM2iEERkEACaOMRGsUdVMK4ot8/eCOE+m72TG5CUCFCNF3nauZ6xge25i3mOqL1+mt9VqV6gqpPGCb+uueTeKZCFm5S3MGuCoQfmG+UbgClsq/klgQhoizcAicuVii62aYUfey67W9hRiJLeGRjjqhJvGZYGsbYUsU+4CQori1TlO9AuIEn5AQJOMOeSrDhNSXytmTIFumxqWq9AXCFAOMA5/8we8UtyCHaOXQKOdwE4HroZPYwVbhlNm4jXSjwQASCJOwjjUpwh1hEbIkDYY4PMLrkR86p6g7dLtFj54HFJpLnSKFx6gpqWRmkARnwQlKGDKMVGgiEP1kwGNPcK2IkzYaHB8PtppIe3XoFHK8wVagkhy5pRzrvbOLa9A7tnfIXTnopAa+FNgyDFgTCMDgYOZDALHwDGjzCIGsExU7bOD6Y2iAtFbOwWE4tsnpu1F6lP67kJ1fIeLbstKanJebDVeav0VjxfyLxRpgCGjwzGtDUPxSDFhRBIpRxKyvEPgSBKeSDJyxBkBmEYGKz0Qiw7+3DPSCWYqEqvdamvUZGMBf/6oaODxelM6gwVwlHLfW6Bb/JIYxmM0AXxDDQQFHkww3LMpRQEiTjCx4bUDxb4Q/fWnpWaRS35DwT1W5GXpMKWkQvMZUi6RYaJ3J68ghLQuM+wkIHNEeowh8LxBXMQqKkFh5WWArHMT1ftCTeA7l5rgnzSkbX9NCmXSK35J+mcaBGnTNMwzeASn/+p1DgQhAoyxKsgkrPxmiVlikkij6ALxEWwRWoAR8kwiNUQii8Qi8gAyGBAzNbxJMV6y+nnRLbRBPjjsidYUVb1VAr19JS07hhpju4QRC4KAj8c1KogcWuwhVU9Wew9EC8NFacAzhUAzL0wiuEgiQ8QiLwQdCC/x/4ggANeLUaxEFYv5hZDwNag8Mhc0tDi+dG+x5Hym8de61Q9OmTNGuojXTLCTJFzJRAIKhia0YxEDRsHbRpRPZk30Jl36Fmi8EVgN8GEGEQgPZoc0JZn3U1+MlBVAM50OSvIbOr6quqWTI7I1omQ4RtS2NezwaiTlu1xUUL+OU/YEMC/LatBEEo1AMngDNdyENmSTZlW3Yi8O5m0wAIAIBne7UWkAAJxAFpnzU0XHdQs/Be72vbXoY7CiQ71Iti1UOSfncAjk+s/lvA6QVv/4My0AB9X8Y0+JsWRHCF8Ldk6wInqAKAa/YVlB8NJMCBQ8FXj3YoqIJZn/Zbo8R5U/9TeqvgAt3Dv+YzNO4zUwhUDoFtt6Z2UrjBAqtCdqW4lvOocQ/Dfyt3HAz4BoAACXx2j4t1g6P1CE6XoWYux3kavybxImchSNudKXl3hRys1m2fbvTCDphMEZTjlg96qEG2f1c2Jyj3ZgdBjh/4FYgBWCcCaT/CFWiBM3wDlZNqnDPf226uszAmRUFdcN0DCBsNP7zu4GmHJyRnJaw1ob/6WsD4cSd3Zi/BEjQ3DYz5ykm3pFN3kF+3r+Zpwf6f6XoopVkZOcxghVqUOzv5WrxD6oVtSsP6IH+DGkSnG3BfP0hCqSkutQdGf092cmO2jYNfgTs6WAeCpFc3Mjw4OID/oN0urzgxH+nG7zAjmbWihOAS7kuUgyQE7WzRg+oVgbh+uxuRQzB4SiLo9ysUwTZoQ1EavF7IOmXTuKLfOPjp+GfzeKS/GJBbNzjUAz8ogyQ88bz3X72DGVSerk5DXzunG2JMaEa97gPmLElswyOEQgJch42VQzGQgItLvAFVwwbIRKRetdA/CYxDg7jXeJjj+gYAgI4HwZk/QpqndS0jX6mDXm1lvZ8C5xcpFTtwOwkYuPh6PUF8AwCERj+EHwNLgqsnvU8UQy+oASv/Qwssg0D0AgdGxjR4wiOYwnW8Qyg8wi3IfYEYetMnemYveqObOaT7+CvcAsjrNkKYM8qz/+T56PE3xH3arz2vlgNauQHiW9UsnD7qz0If/oMbaAFv90MC/GwLREY+FGEoqMEShIYWuIEqFMECl75PyLqX0/pyQ71nR/eZS4Kvg3xKHgRkozCTqjAquTAf4AIMl4Q6pD7qg6NAqH1oaAMAlAhiA//R+YH5n78fFENBKAMIiH4L4PA/+ELfTy3P1L6cIQMNZESjygP5UwZAyAO3rRqyXq9CSXqUiI+aK0VokEgAgkaRK2ri0NiAJtSrXsOQVQOn719JkydRplS5kmXLkv3quVMnr59Lmzdx3ix3iw+JIo+U1cw59B84P0eR+tFm8huAdyXLAThXMpQbolexZtW6lf9rVn4gpv278qqkJzVdu94joewfpzsvSThDq7Xe1JP1oH0TOpdvX64CCx585EkSQ4dQIG7YUBHKRT6JJIVS5TEkOHp+V/KTx45dPcyfTW4LJYaEmFDgQBNt+vRfvxbISgZ6lJp2bdtXoVXTx64SjcuqlpwDFwTXbZePtNRMlMhkEV3GU2KDsiHBSWw7rtBgDp1795KAoRlEWDhQw4caAVC0qIZPIMgde4XcBm7fUH3v2Lkj6T2rPmSPitghkF484y+lfrZBBoBq9PrnETXqqYaEagys0EKtfCliAxLQCOuffRIhoQVJ9gItEOoSSDGBK05aZYdvSlpIqCB8MVCcYpb/AeAkNyT5p5wWlrlQSAPlES4whDgpzLwigqBhooquEIO99165JZQ4oNBGnRKHbGmnnqCQBBouhcwniDODWKIkdu4ggQZVuoxTzjldcnEbkzyx6p98SPDQQGyqK+mdBO78RzY6ERUSMGSGOSghhrDcockNQHBzvcck4QS+ys4h87ZqOCFNDVXESdTUU1FN9BUaljJJGxLI+aeXIOqrEFBXE6jVLQPVCaQINORKVViTBCJIvIQWWjKiJ9eLA1P4QBJpv6zoGSaRHQQkcC5wHoFiiUBQK2mWK5bgxNNh0U1XTnUS2KExKIr7J5Eg/KDhltq24UPfffko9J9bS5pmA5NC/zmLPz/i+EaVFlhT12GWFu3llvEMuwIxjRYL4tL3JosvN3VKqiYQNEgIExrMkJHEGWzuYPEfZ0goBpsiVjn34Ztxrk0faHjmOdaSlLnF39R2usXoo+36N9B/xAHAnZIkCcTm1M7ZoNCxcs76qnO+qUYZX25RJUmG3NACCicBAIC6HThJmrZtnDL0kZpegULru/HOOyeA/+Fnh2BKEsMU/mA2KZHZhNzmllxQ8qWSWabV27ZytrkMulmCqOmKWUIGYWrJQQ992HpUqSQBVTj/J5QifOGkBZC982UHkyTxQ8iFi7DbpEqC8OQKPkRXtxhfiC++1ZK+aaHGf2hEHgDYg/+PXvpT4ZHE+kc4eUkVNwI5vjtlWjB87gsvm0X3f9jp8x91SMBm+lQDcUP++ckqabjBS4IidWw24Of9/wEYQKKAIwE/QwP+hGQ+kxRjdiU5oIXK8Y17oIRyn/ufOIrgiZPcoRIl0UUQBBhCEY7QJGjoEcxKNSQFiut8fugRf76xBBIEoQX3ilELirAEGJHwH+RYwiPOEUT/zYoc9xCDuXiYRCWGbhtQaEELUqfC863wH3yohAU/I45g1CQXIGDHP5BBg1IlwnY8zEULRIRGvfTjESKKAzyWGEc53o0d/osTFYtBA5OIAU4XGtRSlhMwEERujveQxxwRmUhFEoWK8mj/AVvIAYKhGUgVRfCfGkJREngAIFzeCUbL0FCzkpwjEb9rUEm2d4U4AK4k2mjZI6C3SFnOkpZ9mQYaZGjCkpiCBo9YwnYsBL4g/UMLfeRHArzHHV/gAhq9oMEqShKHO0xDEpY0ySuCAQ1VxOUf+ghCJabhhjLWkpzlNOdNzjEMdQ7DT85QxTCEBA0asPIfd8iej6QipEdI7RsbiFU/aADPlBTzHx9Enj/PmVCFLtRU06BBL07CCT35InMVesc2ilEEiAYDhNHUoEkoh4sdLKUSwCsJDWDDUJWulKXQSR4fcBHTWImDBKpQxhIyWSGOkuAOcPREEZQRVDfwwU+eCMIG6a4oL2AuIV4tdepTobqVbbiHqq1aRhy0EAo7WkgecQjEP/wAAi2MtQVB+OpJMAinqJkkCPSM6lvhGtebzUJN0CDBBP+hPzLt8x+q0IKgNpBMuQ6WsIW1EDT8xw7utYZm/VAGCWC3j5MVJQhwKgcITmaK8xmWs531bGriMEMQxKEcQNtBEaBoknvQcAckSIQdX1HWIATrs7W17W2x8o5vWM4k+pBgSiJISHp8g5C4Ne5xkZtc5S6Xuc117nOhG13pTpe61bXudbGbXe1ul7vd9e53wRte8Y6XvOU173nRm171rpe97XWvnAICACH5BAUFAAgALEABGAFmADAAAAj/ABEIHEiwoMGDCBMqXMiw4UF+3xxKnEixokUERHQYusixo0eG0RgQ8PKxpEmO/DrJWFQJnL+TMGMqzIZlTTiZOHMSHCWj1UudQGF669KF28+gSDv6ayVDU72kUDl6O4OFW9SrFJfK6NQPq9eG4+Bgyfa1rEJbNiL1O2q2LYKwU6S5nSsQbSR8dNv2G5dHidy8Zt+Y+EAJL+Cy0jw0YML2cNRwiGTY8bLMMdZ5Khuts4xVHKwfcK7R43yV2BQsxNSRjpqtr62uq5Oaa7TVcOygmGVovh1UWzlbP/J4a8w75isUDLZII178JD9bPCaM0Ma8+Ud8sZRg4bWqmHWZ60aB/2b2Hae3SDL6kC0f81ifFYi4vWNvchqgUnBsaDLHTx/9kvPUYAADrdj2n0fSILJCDiiwceBH67QyxQ+ReINAOQ9aVM98Ca6QBzEZdvSNCybAMMUo5swXokXhjIJEBBMwsiJF9eyDgDmxwJEeL5dUguGMDkFzgwlbrCAIL+ewc48/1QGJgDsC1UNMJDhMgMEk56jo5EK13KADHCtMEckvgDjy45YG9fMJJNbYIkgGFDzgijXv0AMbmgRto0ct2SwC4wd5pCKMGZngedAbNxxiRAEMJCGHCywMgwA9/Bh6kAcMGKBCGSw8IdA551iKkCcCQVKFMgiII+pC//yzKkUBAQAh+QQFBQAIACxhAW4ApACtAAAI/wARCBxIsKDBgwgTKlzIsKFDhZWABHvIEJyXOvQoatzIsaNHjf2AMWhwYYXJkyhTqlT5YUAGZP0+ypxJs2bBbJFsYAnjQxa3dOaCCh1KtOjQZ0AsHMNns6nTpwjn2Tpjo5E0gf5iNgVmw5w/qGDDypSGaMUZW/zECoy0Rqvat3ANhuv0Q0mncXER8OvSKa9fsfiA5ZHRh9hfgeFsMDvMmCZOG11SzWssENgPr5QzO1zXasqPSN6+akbAVvTo0wP7EeuzIg+wfqZH7x0VGzVlbpp+TBllznZBb4p9N5Z6Roagq8INWu6dPC5Zs2ibI2wEp7b0puFGTbGL9zpCfFhGef9vGjjPisLWxxMEvlh9x21p9ESSMaXVvPTuCS7Pv7ENhQiEcMOfQ9QN6JA0a8BQQxUZGcgQPlOkgp+D1ggigybqOEgRNytIM2F+5swXSTsabhSLClaAU+I6lKwQCXMlalSMBAOE8mFz+LRiQx7exNiROjqwoM2A/djywxnX3OijQn3EMiAxU2DR3pIedcELO+4R04UStlA5kxLcKKnZNXn80IpbXnokwmTXZdOHDZrEk+ZM5qxwXTiIyNAJm3OONUVzIcoQyTp91gRMdb7N04kMiIRTqE2pIGJbjjtm82hTlHQiplr+2KLEGchdalOTo0GJhWGiOnWGMZtCJc0ZXLb/mupDP4TGWDZlpoLmrDateVg4gtiwJ69QmSODrB/V88ouIhJKrKt/xpWJBBXQ0d2zUPECR1y84GCBCypiC1akb2WzhhLAbFOOuGFF0ldY5jQiwyi7svsUqVDxoyMimNkrVhfGQAUlksj6y9EPAjbFTZm8FGzwRv74WtM8mqygCVMPvzWODDX5E4sNfVybsVrSRDsWFlKOnJe2MoXTxw+xOKxyR+R2pKigJM4clz/udmQZHLbqnBe+FEnTxRQBC/0XwBTFO2+9Sr9Vq0OU8itz1B5l8kAtSgKjxBqWYn2YCw4QsdDCXIrdmBQmyAI1Au1UrAmfavtl7DjWTVPOxyHX/90YJZIa9AoKDGxxTD1+MzaPDGEa9IkEKEyTVuKHpZJHevWYMszVlHvUzw8edu7bVJyL/hQWwJhuGzFKvK36YWvE/Ppo19iA8eyZ9fEu7pRZI0M4GfLeWCSRuC68Wuv8XvrxHXUiyPLMb4SPDWFH71criFqflz9KJK09t1h875eV0IvPkDQ/GG++TXCksn65NtD9PlSCaDK/WBv3e/9TlDRS/v4FWVzCAOiUUfThfwQUCD5Al0CnxGINCGzgFIgRQQJCSX0N1MgZnJTBmqDvdh38CDScIIoQzuQcLtAAICq4v3d4IAKXMKFMNMGFacjwI9KwgchuqJF5pI2HHRGEIP+A2BFe/OA+RNRIYkKXxIf04wy7a6JDOtEFDEpxILXr0RUbMo8pcHCLDEFEH8DYkP2QUSHmsIH3zngQf8CBEmxUSCqmMLk4GiQbMqieHQmCDiWkInh7JEgkLhfIghjjMiy83zp+gKpCDiQPkXAkQTojv0B6QwahciQ/sOA+SQqEEhD0JAKYoUNRtkMJvBAlAvoQOE/CQgmV3GM4MJnI+T1RE1a8IjLs0AVAFhIbI8hAJkSZDAakYBa+3GM2bOCKatRyfeEw0zPXZw4l0MaT65iC/Tw5jy40QpTzOMPzPIkPOPQhl1LsRx/gUMdC+kMQZwBhISOBhZxJkhJTgJEjR6GwhB0GMhZT8yRAg+ZIXlBPlMTApChJucZCXkMGqfPkMhvmSW/AbJrmi2YnJVnNKBZyHViAoyfLgYUhSrIezliDINDZRCZgQAWiNAcEPlAFiSqBEKQghyQTGguWJlFHDd0jPxAxBS060hxnWIM9C8kNJTTCp0TkqSiB6smhFtWTSF2DsxzZ1Kd6khg2kJ0kqSpJfjRCCUYtZFa3ylSnwmanYcWo+MgqSQvkgKCehGqhAgIAIfkEBQUACAAs8gCoAAABOgAACP8AEQgcSLCgwYMIEypcyLChw4LepEyogKDfw4sYM2rcyLGjx48gQwqcp2kFpU8iU6pcybKly5cF+8Wy0WcczJs4c+rcCdLYFCzMeAodSrQoTG55fsTyZ7Sp06dQE7YrqWle1KtYs+qUSdOm1q9gw3okNuWMNLFo06pFmC2PEltr48oNay6SjU5W5+rd25RfKxuIvPIdTDgnMSVnrjEtzLixymxwlABb7LiyZY3mGsnohO+y588Lv+EbJQOROcqgU6dWlKICnGyqY6s2ZoGACdm4Pbf9gcmRs9zAGXtDtLlz8ON868qI1A6587nzOpUW/Ly6WHx/83Czzj1sP1s/1pz/7U4+K1ksxsqrjyqty9v18JvuToU6vv2b6kjtQnQ37/3/N+nBAQSF+AdgZUwB849Y4TTCwQU90HPghCyNE8kKgWHzDoUchmShDI2E0+GIHw23QiPUkajiRSZGkuKKMC7kjSAyUPJijDgSVE413mgWiTk5BnkQOS5c8IEmQAqp5EDSbAHBBJAs6Vg7P/DSFDNw/DAKMrPUI6VjiNSnkzq2TDFFK/bwg4CYX46ITyxKYMHLPW3ieM4nu2giAxxB1ZmjHgIwUAhsflo2Ck/GwPGBBTfEU6hl4+GEjy1YKDHKPNvA8+iI5ORSzig/dMELm5tO2EMAFwiSDamlMrZOS/0Am3MGBBp40epnNvUpUjnBoJOKEmd2E8yGt1J4wwQY5KFrsZ9hERI/+8S6BgMamGERs6lxw+pD2/RgQgxYxPJNLsRia58z4lyThQQTbGIubgty9EkKDMwgCiCGePkuaMR0ZMgNZXAggQnf9LPtvoUlmdEqNVDhgQMmXDMLNAjjdvBBVTTgASNP+FJxbsZhVEwVKH2cm2ImT3gxQgEBACH5BAUFAAgALOIA2gD9AAkAAAioAJ15WYWgoMGDCBMqXMiwocOHECNKnEixosWLGC1WaRDim7+MIEOKHEmypMmTET8pqECkHMqXMGPKnEnTIREGF4hoq8mzp8+fQBHec1EBQwhA3/ohPLczqNOnUKMupFfFwoMII2pU0VPHS5USFjxIHUu2bE1fPhQQUFDgwYQLAhRoGPPErN27eCFyQ5DtX8Jphqr4cOGCyBNdp+TlXcy48UOljiNLvhsQACH5BAUFAAgALOEA1AArAAgAAAh2ABEIHFhvoMGDCBMqPHjPU48QJUowcVRuocWLA8/1qDCBwQMCDy54qEMOo0mEXi4wUEDEy5MSChq4OGlx1A8sscr5gkdPQQUF2gbuG5YmF4J+NBP2EejPn0BtHipUQdg0KU1xDCwwQWq1q8B+Lh4oQPDPa9eAAAAh+QQFBQAIACzrANYACQANAAAIWAARsKmGoKDBAQxK4DJYkEgEBRY4MeTnyYOCCqr8MXzlYUEIbQwRVKqwgE0/hvRCXAixj2G/NBcgOHN5pwIERzcYQlTAQOcCDApCLqCggBM8g+BW6dlmMCAAIfkEBQUACAAs4QDaAPwACgAACKgAvy1AQOQfgoMIEypcyLChw4cQI0qcSLGixYsYM2qs+OSCgo0gQ4ocSbKkyZMUfQxAAAGly5cwY8qc+RDaggIKKgChybOnz59AEwJSIEDBhaBIkypderEKBAsKBiK4wbSq1atAAUVQIAGBBQQDGHz9iLWs2bMbh7lYMEBBhAVRJVgY+A6t3bt4FcJ75WPBha0XGDzJS7hwVYMMv/W65EnVt36GI0v+GRAAIfkEBQUACAAs3wDTADEACgAACHwAEQgciEBev30EEypcyLDhwH7BqrgwUcKFl0/3HGp02K2TjTXABMrzAoGAggAYHlBYYAIQuY0wNbJhMEHBApsPFCgwEAJbzJ8Kp4WIYFNhhQVAkw4kBQECUo3+lMZUNGEBhIUIB576JxWqpwcPrnYdO7CaTrJoBfZISzYgACH5BAUFAAgALOkA1QALAA8AAAhkABEIRDBtoEEEBRSMmNXvIAIIECowqGJQn8AHCAYosMLO4QIEAiooangwhIIMFoIdJPdQAYQbJA8uqKAAm8OHFTA4uvlAgYQQNyEIxHBTQYUFPTxiWODiZgkNIbbdZHdLKoKAAAAh+QQFBQAIACzgANsAEwALAAAIagBXIRhIsKBBgi4MMECw8KDDNAwURHBIEUGPBggmVjRYzMeFCg03EkTGQsGFjCIH+iv3RIACCxAQnBxo4eVBcqtKBFgwQYECBD8D/HSozZQLDxcsDFCws8q3fhTrgbvkKA0gT+JSFiRnMCAAIfkEBQUACAAs3gDSAAoBCwAACMcAEQgcqK4aOGcDEypcyLChw4cQI0qcSLGixYsYM2rc+PAVkRAWQqRgceNWMX4cH8aagiAVvpQwY8qcSbOmRiW2/Ak8R0RBgwUSFkRgQEGBCkM2kypdyrSp04nqiFjAoMACAgwVFjxQIMFHtadgw4odS7bhKwwRuCJQsEBg2wkITCDQWbau3bt4L/qwoODCwhB5AwseTPjGVsKIEysu289FAQaLI0uePNOfFQYKIFDezLlzRD1wPYse7fldCAJtd9Ilzbr13YAAACH5BAUFAAgALOsA1AAOABEAAAh0ADPomXUPgcGDCDMokKDonD+EEBFcUMCiWESDDBgsqIChRqaLBzEgMGDiW0R+BxVShAbSYIULEOroa4lAQYYMvWhCqMmGZk0BJXxCyLBgAU0FSAdVQdDvooIIC9z1exgRqYClLRUMWKCLZg8diqiC1LctYkAAIfkEBQUACAAs3gDcAP0ACwAACLwAEbxSEIABgoPl/h1cyLChw4cQI0qcSLGixYsYM2rcyLFjxX4uDCjwSLKkyZMoU6pciZGNBwURWMqcSbOmzZsUDVGw8ACnz59Agwp1OA0IAwhDkypdyrSjFQIKDDadSrWq0m+QbjRQAGEkRAFWw4ody1HWDRMFGChQsMACArULBHhAoJCs3bt4/flD4OsGCwEXImSIEEGAAhav9uJdzHjouh/AJJbTA+hsiRtWTr1rzLlzWH78wHkeTdpmQAAh+QQFBQAIACzcANEAGAANAAAIkwARCBwoztGsNGyQVfo2sKFDgch8mBiwIMCEBQSAAGFD7+HAfoBKFGDAQIFJBQ8UEFCxDEE/j8hGEFCAwADNgQIQMBBY76E4FxBQeqzQEJC6fw2dLbjwoOGCmzc9Ckwzk6hUBBCuVnp6dd9VBP7eUMD41atADAgWmJiGoNbTBV+/vjNRIGtcqf28wL171V8Jvh4DAgAh+QQFBQAIACzpANMAEAATAAAIhAARIMAQhckygQgTIlwAwYCVU98USkSwQMEAIBMVRkAQgUGNVf4UllBoQYGDGu8U6pM4QcECFsUyJlRQIYAifjIXKsBQJydCBQGI5MvJQKCCDI5kPhAYQMEDBT6NCngZlSLUkDkVFGABL6pLJlhlKlAwQU8/nyEalBAXVc+NTFURnEUYEAAh+QQFBQAIACzdAN0AGAAMAAAIiAARnAuBoKDBgwgTIuiRQYHChwj73QhgYgDEiwi+oVrwQMEDjA/ruRjgQQKCBSAR+lMGCcUEhykVetGwQIECAhdDKDCA8F2vUwEE2LyAgGjBACcXCCCokl0aIywcKFhQ0yaEnQpQzLooq8aYCxIUSCWwgMUbchf9GbxFSlaVVYaK5YuZsF/CgAAAIfkEBQUACAAs2wDPAD8AEAAACMEAEQgc+A4BMk/kqgXjN7Chw4cQI0qciIDcKhZAPAjQMQIDIz1syFEcSfKhjTzS+g00xMIDgQchLJhYcGFEhgGh/JXcSdKfTgTyLpUwEKJECAQKEGRQMEBBiCr3eEoleWqCBRdHISyYylXquTQLSkBouCBD17MUTXHAcBStW5LDFrhI+rauxCoD2jaka7fuGwwl+gp2qGxBiAEMBg8mpSECX8V22empsBWy4EsCLNCtjODcT8tSi7EYC7pvPROl6wYEACH5BAUFAAgALOkA0QARABUAAAihABEgmOPIED2BCBMiVGBCggRU5fgpnHhhgYIMI4jkm8jRxAAGwoZJ5JjwQgkGGD71I4nggsAFCzCQKaYvYQiOBkosyOAo4T6SChRICOOOZUIJRCC42GYU4QMJF5A1RVjCQw1o0EhCQHghwoA0WicqqDBVoIICKTyVRcDwXNkQEibMKttjQQhtZW8UGFGubAkFVVY2vSNAgq+mLGSVe6PnYEAAIfkEBQUACAAs3QDfAP0ACwAACN4A9ZWYwAKBwYMIEypcyLChw4cQI0qcSLGixYsYM1qso6KEB40gQ4ocSbKkyZMT2XDwUAKly5cwY8qc+VDdLEIVSoygybOnz59AEfrrhy0FBRNBkypdyvQiP0BGXpgwkWEikapNs2rdarLWhAA1arREoIDBQhNPAiyoU4+r27dwIcrT88YJhgglnkBQWIKIiQcPetiLS7gwYX8Iqk39EAGDkRIhvHjwceECAwyh3BnezLmnN4P/GpYjp9gEFQEYGDRYMIKFKV38Osue7bLLxHK49ShSlqbWt2+0gws/GRAAIfkEBQUACAAs2ADNABQBFwAACP8AEQgcKLBfr2IIglUqh+AdwYcQI0qcSLGixYsYM2rcyLGjx48gN+67BGkTBgtZTAyIcshEFX0hQ7ZSgiBWzJs4c+rcyTOjknb/CIrTlWHCiREs/oRAIUUHBRbielqcN+rHGWBSs2rdynWrDIiZUDDw4KJSiRolBEK4AKRKV4r+3sqdS7euRXlmBpgAZPfiv6B9AwsevBObCwZj6hBezLix44/FMEzw87iy5cuVZ1nQ4wWz58+gu4IbQaBKAARpQ6tezZpjPR8QHLWeTbs2xH5tUBCxzbu36m8oDPTwTbz4Y35sHnwyzrx54HIpXExwTr36VlwaBLi1zr37zXNeLBg88k6+/EZ//sgwCGG+vfuJPhqYeE+/fjArFHYEmF+/v/e4UWSAAAP+FejdafwZqCB3ECzooHMuPCghawEBACH5BAUFAAgALOkAzwAVABgAAAizAB/IieJjVj8ECBMqXPjESAUDQrgVU7ewokIjJoRgkNDDoseEQDgw4FWs3MeKGDy4OJHBBb+TCksg9BKAAbd8MCs+IHPBxamcCiO08WDAij+gCRlUqPHCUDWkCl0U8AE1YQgLQg5WRbCqwo1lVRm4iDDA0VYEPRYoiKGp6oMFEhT5+wcVxYILn7RCPcWAzdknBlhQrMr3zdGqXgiUeFm1DgMmWz2huJBrqzIWKIKd1TYtYUAAIfkEBQUACAAs3QDiAPoACwAACPsAvyXCgwKBwYMIEypcyLChw4cQI0qcSLGixYsYM05kwoGIxo8gQ4ocSbKkyYhPNKBoc7Kly5cwY8pkyM4XLBgoqkjA+IiBQX8zgwodSvSiv35tClwwMybLBQwhJH6SUOEW0KJYs2otCo1JFBlCbpRAaMWDwQUIIliAEMFTGhMMXHzbSreuXZP+/HEz0SDFL0VRhxg0GxUBKTZsKhhgU+6u48eQK/aDxGQRjwkWJkFyweZWj0uXboTBIADIk2eRU6t+fKahP10jTGyB0OACCgoMIDjwUOPGstXAg68mRw9BnRub2qAwgsrHKX/6hEufDhloP3H9+lHfzv1lQAAh+QQFBQAIACzVAMoATQAfAAAI/wARCBxIcGC+gggTKlzIsKHDgeJIaUPghcUlc7KYyHrIsaNHhPQQPCHgQQYDAxZEMHDQw9/HlzAVpmHBA4MKIN4kWalG0UWmmEAX+gPWBUEqBK8ODvTnwQCQeIAcBZ36cR+/fwPLPUHhpE4xghVMUB3rMZcGAavIqo1JLYKVbwUhrJ27ENIIHRPp6m3IxICLvYAXPssQLLBhgvzaWEB2uDG2FBQANT58z8oDZZMP82swLbPhUBdcpPG815+jCRCwkd4rbxOMWqsB4zDy5ELsue5MGBjtYcFttWk82BH49zfZcTMGGTG+1oiGHsyBo0bAgUHx6DHl+ZKzBbtaFBq8qxGtIH6quvLo06uP+Q/reoQBAQAh+QQFBQAIACznAMwAGgAbAAAI5AAhdGL1xBGCgwgTKlw4p5EKAyN+ISiXb6HFhT56CJnyYsQNchdDKjQTwIIleyJTIjAEiAsOFmxULiyBIAMCH1YMQEDXT+ZFUESkKKHli5/Pi5YeYHh1VOEEBMJMWDjUNGGFNhFKGLJBxlPPowowkKGJYNMEDMOqIliA8I0LBr+++mSbsEcsHnrEqU2I7cIAR/v2HnTRA8KmG4IRErpgIfHBDAQg6HGcxgQKeo49CcPwSa7aN3UKjACZWJYHI4ETn9MB5Ju/xL4mDFD1WjA71t8cX7JgAnNiQAJcnEvc71woZQcDAgAh+QQFBQAIACzeAOUA9gALAAAI8QARCBxIsKDBgwL1cDCBsKHDhxAjSpxIsaLFixgzOuQ3TWPBakBQIPNIsqTJkyhTqkTARgURk4AKpNC2sqbNmzhzQnxCwAMvfx4/6fCQJp/Oo0iTKrUILpQrJV+eVMF4bkQBM0uzat2qFZ8QAw+O4aNYr4qJCi5kcV3Ltm1KXz2EKGliose2h8rY/LFAAFA/t4ADC67Ij5GGDEcK+ahR7J2iS/k+1fjDosGCOWnuDt7MubNAd4AMETuUQcCHDhMyvGDgAAIZF3U8y56d1FtEf/YA1cG2jIWLZKeArELAj7bx4yvHCfxXsd4+f0CRS5+eMiAAIfkEBQUACAAs0gDHAFMAIQAACP8AEQgcSLAgAn4GEypcyLChw4fl6jjix2/TjTT+HmrcyNHhvmLgzM0ZEMGAiAsGXOTryLIlR0gqGMz44oJINwTT0szq57JnS26CEFAquG6IBBPl+oHzybRpwUssNDTKpa1eRqdYmd5w4KLf1axgXfo7omPW17BoN+YyggRh2rca/d1oUAOu3YdtIFQ6e7cvwVGI/Aou6GvEHHWDEz9xUIJnYsG1ILT593hwHluVBfcrczhzX2QRJpzyfPebCwjIPJG2Ky+JsdV3R9EpBxuuoQs93NYO+0aAB9q7w5bLBCNb8LD+/KXq8u542H0oRpCyEsC5U3cmKESxnrVWmBjRenEnxxrrh6xv45v2izLBRfqmeiR4OPbe571grmTEelbfZzYMGPTHUEAAACH5BAUFAAgALOIAyAAjAB4AAAj/AF2Y+Ycgn69vCBIqXMiwoUMEDFZgGSLBxDl/DzNqRDBOWhgJHkTAscSEzb2NKBdK+mbO1pACEVilnKmwSiAgRn5gAQUoF02UDxCQQ8ArBYUS9n4yHMKIRcIoShCwcAGJhYU84ZTOLDeP0gwhVcRpfWhoIaoJAz6NbYgBQY8oCbtVQdHkGsa1DEsxWdhqxhhIeDfO+RABWmCFARZIrYAA2Y0HsA4nfEDmgouF0mywqhZ4QYQ2HhqWeoDC2WEGDZPpulCh2N2xChq2+gDo1pdGkhlqs5AwnQYfk3I7VNAghfCGFRgcOt4Q2BFkr4U7DXbBQjHmCoehqIAMu0JhMKIfKNe3DAKQct4RXBqAQVl6ckLInPQeT4gRceJzBzsxwFT6ck8QsQ0CAQEAIfkEBQUACAAs4QDkAPAAEAAACP8AEQgcSLCgwYMEJwg4hbChw4cQI0qcSLGixYsYM2qEiKLGxo8gQ4ocSbIkyFwoGJlcybKly5cvfThwAbOmzZs4c86BACmnz59Ag1L08mBQP6FIkyrFya9EAStLo0qdCnKYFQ51sPmjyrVrzXOGSIGs0cDFVq9o05a8xOGCMH0Y6+mJMsGEorNq8+rFOIyFiRlnYEE6dTTit22lMny4hA/v3seQIcLjh88WjgkRJo2rd6vYQH4Czw2j52zEgxc1fGiNzLo1QXMGkbkwIUeGBgkmRPGywoIRrxoTUhiwgOEWAn+OXSvX2w5LJIPu6m0dhKFEoTMeDKTIM4KDEXy9chUcXk7+MSKIyqoJXMWmmj9wt9SVn08fIfL6+FkHBAAh+QQFBQAIACzNAMQAZAArAAAI/wARCBxIkKA2XfUKKlzIsKHDhxAjSkTQzcQJQxMzatz4MFwjBB+1MVTnBYilMyIWqHDEsaXLieEQrYg07iEtCQPK8JoHrli/l0CDEuQmCEGkh/nyxZohpMo3oVCjStR2w0OTaFKzamWIS4IEWVvDih3Fw9E9sWij9msm41rat0KZVCDDD67dlvtKEPByt+/GRVK+/fRLGGKeWAj+FV7McNsLa4wjF5TnQgIgyZgR0HORAWNmydRezHP3mXG+dyLQ7SsdOcm1wawJ13pw41zswo4EVNhW7Lbfc3Nw+F6sRJq/4X39aUKE3K8wC3rqNoerqEAKbNPhOvMRIVx2u5H6fHeHO+8HsePj0fJSweZp+q39ck0I8Op9WHFERhCyH9afOSWj8BdWOD+Igp2AWSXDAAqrICjVNiNIQIaDUiGDChd5rEMhVP7MI0gSmTS4oVBzTGBBNbCN2JIuI3iwBTMqAgUOO7HYIAcCn8T40jxkCKDjS+j9KFBAAAAh+QQFBQAIACzbAMQALgAgAAAI/wARCBy4CtK5gQgTKlzIMKEEKoL6fLnAQYotafOGGdrWsKNHBB4wkGllC5aLEXv6TBGxgIKRcR9jKkS2z59NfQcF9nuCgseKNal2GZom8yM5PQj2MSQ6j1ceCAVqFP0oAIPMNChUYOE1tSGLqeD68ZoyZY6Val3TKvTnqkKBMWrjDsTlhcWLSOjkyvUXDo6SX7nK6Y1ri4GGNIPj9pigYl7itOV8CZoS7nHXfv06zdAjy3LXMANGiPNcdNaIB9H6kZapztaPcP5Wyxz1og5H2R7feaBgBvfHKhDmIKisZIrvhdYgCMxzvKMFH/eaMyQlIUMu6QuxuYCALTb2hPW42C/6vhBWjlXeyQt0NACFNvUDdZlgwQ7+wGPG7SPwty2CofTqGUJACmjZh0wNVdATEAAh+QQFBQAIACzoAOMA5wAVAAAI/wARCBxIsKDBgwIhGHmHsKHDhxAjSpxIsaLFixgzahzYaFS/jSBDihxJsqTJid9MmKh2sqXLlzBjiuyVYcIrmThz6tzZMh+PNgx5Ch1KtKhBZydo+TPKtKlTlz0M+HhKtapVi1Eq6Pl4tatXr8qcuOL6taxZo+JMBFB0tq3bneoYpPD0tq7dk5+EfMF2t69fjeRGFHjzt7BhiPSCYbLAotbhx5AHppkAIdy+yJj/QjsFK4KGHplDM5WnyFA9iPu+ISjnQYCKY7nELRVNO2ceBP1mTZBgJ9axZW90CSx3aRgCcz5Q8BDhIQWk2tCFauvBwlIeJRUMMDhzJocACDNEMDYgYKUdvGnR08Ns1IVgP36zIbEwQ4zYIAs3uPUrBkmc+v8wrYPQN+qcEw8C9ujzDT0ANqhTQAAAIfkEBQUACAAsyADCACIANQAACP8AEQgcKLDfMGUEEypcyBBBrhQoEDac2NDfngosoFHcmHBeHyzCsHEcGQxSkz7zRo5kZ2KAEJUq67GwcKkfTI7XZFC7OTJPJ5s8J9YrNQNdUIppJNSod3RiFQE+5DVt2K3Dt6kM/Umbog8rQ15wvDIUheie2ITFRpj4JvWsQE8aLiBzO9DdHCf06Ba89qOrXgT7RHRDYO8vFmJt9e4pQ+4vOBMaFP1l58JCJn9/39GJ9FcgtxXrOiPo0wnz32g2Uv6Vp8JErb/iWBgw0zmTji/9TNPF16WT6HA2mIkG9sOcaDsP0uzT6++NgRGN9U7zwkOQ7rP+/LU704df53lr8uBg64wPjooqV+n2K5aBAKS/7rygiNFKdLYpcMaRpyQjDKB3evWzyQQToOIdXdv4YEIMfWTDnHad2NCHIYaoo1c7e2QwwR+qufVNDyx8sUIesQDiVj/LmROLE6IJVEOL/AQEACH5BAUFAAgALNIAvwAhASEAAAj/ABEIHEhQIL9zBRMqXMiwocOHECNKnEixosWLGDNqhNjvEyR3As1d88FiUz+C7/ZtXMlSIDOBwPy1nEmzps2bCfP8I0grQgAeMg6smAFhgAQRSuA0WmTiBjmcUBfCQRDrZNSrWLNqFeitk5IZLljQGtdPpi5H4uZd4zVKCocLSEZl22pTEIJR+Ojq3ct34pmdFWAgkuZP3zuZDdU5+kQM0Q8lkQY98YW4r+XLmDNjHOGsMkR/lf1J08TAAYt1mlOrXs16JaAbTmRECte6tu3bt0+Ga7RCUDJP23ALH05crzlNDwj4KM68ufOZXjBcwPu8uvXrDftV47ZmCmHs4MNfzLdlo9CnYOLTqxduTkqAEd+srp9P//K9VSgYiKrPv/9ebc0oIYg6/hVoIFTtwNHFOOwc6OCDG/UTCQMs1ALhhRhG1M82KAgASFkZhihiQa+QMcNcI6Y4Yiw/eKPiixmm0gQk2sBo44H9oEBADzf26N8bGKDg45D0aacEJUQmqd4PB3TylJJQXoeJBWzAE+WVzoViVDFYdkncNkBcUI5nXpbZWh+amKlmbdys8MyacKaWjwkXXCJfnHjq5Y4LAuhxZ56AZrWMJwgFmmRAAAAh+QQFBQAIACz1AN4A1wAgAAAI/wARCBxIsKBBgXX+HVzIsKHDhxAjSpxIsaLFixgF8viVsaPHjyBDihzJsFMjfyRTqlzJsiVFYREuuZxJs6ZNjP7eGGBB7qbPn0Bv5vJgBGXQo0iTfqSkSanTp1AdWipTLqrVq0rrlRBQB6vXrzb3uYhgCKzZsyp5fTGKtq3bi/0mZcn3tq5diM4qYJjV767fvwOxeUDhiy3gw29nCOuLuDHafIAynHNM2WywDAJMVd6MtduDGtU4i35KbhEcfqNTIxWboQ1j1bBv2vMwoWvs2zP7KSO0pRY83MBZnorggVrw4yn7kcnAYhvy5x+LPcGxRtc06Ngx8tPRoAQ+w9mzm1YDX1CZlTlKnJjQgzq8e4bTlPEzJsQAhF/43usfWO3NqnXXgDKCBRRgsYcLbLy233teGMCACEp8McIFsvSj4IL6nXKDFQj0BQ0yGL7HjEH+6BPiiQYFBAAh+QQFBQAIACzBAMcACQE3AAAI/wARIHgF6ZzAgwgTKlzIsKHDhxAjSpxIsaLFixgzamyIDYUASBtDihxJsqTJkygtnjMxQlfKlzBjypxJs6IgUTVz6tzJs6fELsb8+RxKtKhRkjLGHV3KtKlTgeZWCH1KtarVmMywXN3KtStGcTp0lPNKtqzZg68EaMh1tq3bqmBTjH1Lt27Ra0rs6t2b0988Efj4Ch6cUsm1qYQTK8aYxxbixZAjO9RESbLlywlZOfmGubNkFwOeeB6tmAkGM/0ek15NN5+lNf1Yy7Y7z0a22bjfahKUu7fZqEp9C+eKqPLw41W5zaCGvHlTch5QzIrtvPpQbSgmQKJuvftOX2W4qP/2Tn7mGU3l09MMZ8OYPPXwXwL7EY57/PsjEcHBz39kPSRR1DJefwRGtI8RBpTAT4EMUpQJCxcY0+CEEeVjjAzEDEjhhgIxYwMwGnJIoTQ28BKiiA2SCMs0KLaIQDQMpACSixy640IAObRDI4fTnFLIDxLuyCEwNkQSmJAUmgPHFNlsgySFrUSQQhonPqmeDxRAEMuRVvaHTSWunKFELKl1SaA/xojZCinDmNkfmjxMMEIybvb3CgoezIBFKuH4o85cGf2AAAsI6LNgnUWlgkBwKG2jDj7A9LECEibcsE2VEb2H6FL/0IQPIxNgQAEWfaSySQ2OYLppbvVAkkk6zIgoIogFDiwgwgo2RLCqd0L14wsRl8xjTjibuOBFP//Yt2t3naq67FEBAQAh+QQFBQAIACzEALoAMQEdAAAI/wARCBxIsKBAaIaqGfymSJc/gxAjSpxIsaLFixgzatzIsaPHjyBDFuwnzUSBEWdSqlRBwIMoafhEypxZcVwjBJpo6tzJs6fPguB0yQvXqo8MJUJQjCHGtOkfFj4ETRExRVAqY5C8aPvJtWI7TSsamXvYtazZs13huZigQkaeWN4Q+CNHlmA/dWTxSUuFqEmFAlTCoT07CkGfuIMTK14ccQWCfxFjMZAwpi7HfF5cZLFxRlQ7xjpjIYBzzTLo06i5IoJssJ2gH7+C1QPpLy+wNSvyAPs2q1zq38CDC4fI7IcgdKZnjkuFBYIAK/2GS59OvSs5Jixi8NJX1oeECJHGVv8fT778Rl8SBHxK3tMdMm6IVmhaZ76+/fsImGUw4zuxN0EydDLPbPgVaGBq/Ewh2mK1ZZPHCyYQ8c6BFFZ4VipdpOYPIANYIAx7FoYookfjyJCNhuIAYkeA0Y3o4osaSVFIcP30E84ZWJwI44482udPKjKM0g89PRbZI4iocbMFBDcgg6SRUEZplj/KRBDAIFJmqSVa/XjShgy8bCnmmD31E40NqTxJ5ppsWmSNEo2w0+acdF60zhlDWIFNnXz2SVA1F1AAiJ+E1nmPFyN8wU+hjLaJzxk3NSrpmOtM0cmkmGoZzg+WFJPpp0aW8oAFRxAD6qkuavBABSgMg+qrI0IH44yasDIaEAAh+QQFBQAIACwIAdUAvgAsAAAI/wARCBRoYVe/gQgTKlzIsKHDhxAjSpxIsaLFi3j6XNzIsaPHjyBDMpynhJc/kShTqlzJ0qE0GeNaypxJs+ZDf/7sQEhjs6fPnyj9eTFgoh7Qo0iTQpxmBIfSp1Cf+lNCLKrVqzZtdTmJtatXkf04WKn2taxZi+BQFNBztq3bhvu8QKD1tq5dgXBscb3Lt2ysPH0Df6UWAdJBwYif9lNEIIW2xJCR+itmQoe8yJh/+huFKLPnnsDWfB49cxCES6RTq7zhoMde1bA7oqpQK7btjuZk3N59MRkOda95C2e4z0WAN8OTN+znIgOgw8qjD8SEh5/06wjwbQEGHXvyJxHYeH2XfoPAk/HRv8z5hn54v10z2rUfnimCh3LzhQ/KYEJc/t39dHEIWf/ZtgoKR3RXoGoutAbPgrExo0ENnwQHYWa1jBEDMRZeiBk/JRhghIIeYtaOIBewkEmJkUljA4eQuKABIvPcw2Jm/yDQQwM3kHijYDki4IsXunT4I2IBAQAh+QQFBQAIACy+AOAAAgElAAAI/wARgDuHoKDBgwgTKlzIsKHDhxAjSpxIsaLFixgzFhzG4oY2jSBDihxJsqTJkw5XZbiADKXLlzBjypzJMN+pI5po6tzJs6dPheNsMPtJtKjRoxiB/WiHtKnTp0gR9YFKtarVl/OU2PJ3tavXrxSl2fAGtqzZswVHdemHtq1bqP7O2Cn2tq7dn5kyoJh2t69fmLVQMHD1t7Dhkdp+2SDG9bDjxxSZ2QAGubLlhtJk8JJ3ubNnsbE8i7YczcbW0agPR/shSlnq136tMcBQqTHs22frsXMxIcc627iDf602C9EPYsKTe+Xaj9iPRvOUS79qLo+Sa8Cna0caS8YottvDH/r11kXFDV3i0/8sN8KAEHPZ1cuHeakKHhmRzM3f/9KffwThILJCJN3Yw9+BLnGDiAyUUDOLOwhGSJI3giygwRgSZhjSPi5kcIISlGTjkjEQFBSfhrCVg4w+2Wjyww+UXLPKLOBhpM0TVkyhxCEoqidNIzhkEMEk0oBjED8PgTOLOuG0IgUBGZQyz389buefP8qMYAIdSogwRR+WuOADNfAhoI8hb4DjDTO2sMDBBTLkAYoRacRzYpVVTeGTOOT040830bRSRgAZvLDCASLAgMEAHPyARR4snGDFlXiihQg7SKmjhyH5IODPPN0AcQM0BqkzTD2VonWGQQEBACH5BAUFAAgALLgAsgA9ATAAAAj/ABEIHEiwoMGD4F6RO8iwocOHECNKnEixosWLGDNq3MixI0NzxmoMAJKKl7Fs4/oNFGdqm8eXMDsCQ7Am27+YOHPq3NkRGiRt6Ji1arTGxgosKCToEJSnixIZB2Qo6YJiAItwPLPyvHZG4E2tYMOKzemCQgURWAR1AhbOHwJ6yO4V9GcuG7MoKlCsUNII2LqxgCsispEqsOHDiBtmg2MhRZ16/dxS3ActXz9pnc6I6KLJGD9/xeAlRtwo3dfRqFNnVAnRXCMZneZ9s1fP4zxikbCIyBHBh+rfwIMLj4hvlAxE5iTrNGfkA4M+0oZLn049MDZDpX6suaacZzlOz0b9/8CSCl/18+jTbyRSAAIxf93D9uN1xoamceoh9iGcv7/0IRakwRpi2SCyQh/MzFKMfwfFx+CDh9miRDf8qLbOKDhkMEI1DkLo4YdieSNDdMD1IwsKDGzBHYgstsgTPliMIh024KRynDku5qgjR5GscZ45kdjQiXk7FmnkQ8T8kBx6XClBzJFQRrmNFSc8mR8vP9AxBiRRdpmjIhRcgI1/81BBQAraeKnmh8pAYAU9DBZzwxNwrmmnf+PI0GF6A97pZ3q8+PjnoISGRQklhSaqKE5rALPnopBG+pA/Kywp6aWYNsTND5l26ulAseTx6aiXFjNCFI+SquqabxiAwkKrxpr6pzIohNGnrLh6qUkkufaqpi2i+irskdJMMeyxO64jArLMuigDfs1GCyEWzEhrrX99xHLttulpgii34ErXjxEQ5JJquOgCVg4LBrCR7rupZZICKPDWm5gtXdmrL2D42BCNOvsGDBYlgghsME/jVHrwwjipxfDDHfkjzQ8VQmxxRl3wcu7FHBtkyxbldCxyRME8YIJLI6eMQEAAACH5BAUFAAgALAMBwgAhADoAAAj/ABFg84egoMGDCBMqLIjizLiFECMaxEfJhjGJGBcSs6GpX8aPBsedORMOJMh+nWxMIuXOZMZfDzQ4cimx3zkXFcrgoynxHbUzeXbyjIgvz5p2QyP2E9TFXNKIkaZYU/d04SIIJpRVReivVgYMtQhuNbiPFBkcY7m24ZA2IQoGnTymbTUPgbUfvNoelJahhi+9CNiNaOAFMAJHKPDI1WvOBjPDCHgpqWs4TyTI404AWQaYHAoDbwD3q/OglFC9trqI1dtPyUXDsdasbgvuQY1qgINlEGAK8D1AGcrN3urPXxdgkEcJgsytAzLDpDKM0AZ4lgUT3wyDkrO47TUlkPE5XGBn+FUFF+cAOwowIrtedlIm9Ru+VVAqyIUwGXZmAoIzwL5EgEEvopVxiD6A+XMGMYZpk4Mwp6VFRAE3GDbGBYUBlgodkMkRi2FeWPAGfVW5QAET5Ok1jSPbGBQQACH5BAUFAAgALOkA+gDSABgAAAj/ABEIHEiwoMGDCBMmLEDkncKHECNKnEixosWLGDNixENGm8aPIEOKHEmypEBuK8yZXMmypcuXD2eZQHEPps2bOHNO9FeHAAtxOoMKHQqT0JBX/ogqXcrUojxaKZM2nUq1qkAmEoxY3cqVKIsBT7qKHfsyVZNT5MiqXQtylY8O3qSynUtXogsHLOrq3Ysw1Ycan/rxHVxX3BsqSrj1k0u4MdlBAzAgE+y4ckRgAhm/zDdPEwwWTNRZHq1wFAJpml3qYaGhz7jUpGPjE5T55rpUDBrciM0bIRyD5EhNSysyHxsgeFbAmfRGWe/nD9MMKAHrGmWL0LAhCBeLTgQKVMZBgh8PzAZCf4BSsDjzQ8SUPp14vQHi7DqCb4aKIcAXjtkkFA/EYEMeo7DBRDWwjVeZacwoVE09CPQzjzSxRLKFBQZIsMIPP0wxRQoEMGDDAT9gcUQKI+ySlD8JKugYPhrxUwcTy5gTDjfSSDMHCkyIJ1A/wyzj4pBwtGNSOfYNqWREAQEAIfkEBQUACAAsqgCoAFMBaAAACP8AEQgcSLCgQYLabtE7yLChw4cQI0qcSLGixYsYM2rcyLGjx4LqTJxQ5O+jyZMoUxpcF8kGAlIqY8qcSdNgP15cGGBwVLOnz5qtEAj6SbSoyi7/MOKLpWRKLHHK+hmdSrWq1atYD64b9QMOsaxgw4odS7ait0Yr+mQry7at27c/q3n6JWhFo3Bw8+rdy7eiiw4WRrXrSzijEgTXShZeXBPfiAh61DGeDBEOAl6UM8cUtMaZ5s+gQ8dMpSSd6NOoU1c0ZoOb6tewYyPwZuOr7Nu4M8+bMiq37998/eURpBi48eNjNWHBh7y586rqbP3A+7y6dZrKXDAQ1q+4RDjZkvr/7CTQ1ulraxC4Euj9Ol9mCNoXfCUBQzH5EP+Jd69xnlT+qtnzQSb4AWjggRGNI8N/CDbooEO8pPfghBQOFIkmFWb4YBe2aeghf/iIME+BH5YInDRTkGjiirf5MwoiLMZ4XB6xyGijbzZ4c+OOsdHG44+pkfNHFgwCaWRmlUwwAjYqHukkXK9UYAI4T1ZZmDuYFFKklVzCRUwXXYaZVzguiWkmW/6IsM6ZbI41hTRtxplVHrY0KeedMlGCIZ58EhVLH30G2hMzWAhqqEzmrGDnoYxaJMM4jUbqERbwSWppRngsws+lnFJUzWOvdCoqRNiwcIEsW46qKnvVIGHeqrAW/8RLobHWikA/P0izqK2MppLHrrwa2o4M3gAbbKCUNHLsqtfIEM6my3bajyCdGBvtndfYwNy1na4Ri7XctknMFKmGe6g/SnRobqSi5HALuOt22U8dBJhQTryNnsLCA+bg26g6iOThb6O7tQLvwFVmI0NiCBvK1IgNCyoIoBEHOo8SNVbcp8JracxnK1PM4zGffQw18p3tKFHnyXJKA4Me2hzMsowlFMDEzG16UUEO4ciM84rqdPJDsT+f2YoN2fhcdIm2yFDp0mESIwMxSkOtITM2vGo1l9kGtXWV/vjDzQ/kfW1lOEpQEo/ZVZqDwwhPLMT2kWxQwEAz9cxt5DZ6HJ+yQifQ6s1jP/1w0wUWHQsOZCsyaCKZ4j9ecwbikP/oTyoyjNJd5Tt6M3k22gTOOYuXR4CBF6PfSAQBD3QyWOor+rPNJcL0IQMlkMIe41lpcVO17s6NE4kMagHP4jqd2CCHFWY8bryH89jBQQB2JP28h+AwAUQhP/wQiTHlXv9gNp10Qbwt3YjvoTepnBGB+h/+o4cKJsD/IT3k2I9VQAAAIfkEBQUACAAsvgCnAD8BPQAACP8AEQgcSLBgQXFvDO0zyLChw4cQI0qcSLGixYsYM2rcyLHjRnPXiPFKpalRHh4DMHwZBYxbP38eY8qcSbOmzZs4cyKYMOTMFBsHVijBAgcRpU6wStUAIirSmh8ilOShFEvaOoLidGrdyrWr168ayRCTNg6fw34F8V2zpanPFBE2ziDSgcIQWrB48+rdy/fhvFQIsPAih4wfRn8wCYYjlsoDhQqCiJntS/liF2mVM2smmFjnMkfJUmGR0QfY5M2oU6terRMxgnCjuqzoA+s069u4c+uOCBvLbNO7gwsfvtpbbBmCxgBBRry58+dew2GqYCDKVejYs2vn6A8QkC8yIpn/206+vHmGMPt5aySj0bjz8OOT94aofTj5+PMTHxdpBSJvnekn4IComUMJadkgcBeBDDao1zqdyDAEC444aOGFXc1jQgMmrBMghiCG6JEvXuwhgy0fiqjiihP5008/zEyxBoAs1mhjRPhE2IltN/boozdrTMGMj0T66I8tNiByXZFMrrgOIja4cso2TVYZIjMWDNCDlVxOBEeKBfWhhED3yDQPL2cg0EdEiCAAmERpZFDBkFsBg0AXXTrXDgLeePTPbvw4w4sNo+Rp6EXA5NOcN1jkseehkMqHDyJKJBjppefFciKmnJInjRKN8NjpqMOtAwcOT+gCJqms3laCAz6s7NrqrKg5YsIHmNGq623A2GDMrsCqRowMxARrrGbM2MDLscz2JU2UzUabVysOMBCBtNhulaYoC2DgyILZhktTPeW4IEEb4IqrbkzTbLLCMe+sK69MvPwQjqzz5jtRJ1M8qu+/FwkCR7oAF/wQPmc0oo3BDEMUjgcpQAJPwxQX9I4JAowxccUcI7DMHEm40/HIcEQycsfhyJDryRS3ooSoLP8Ljxxl9BIzw/BAogEK1dxcMDy1jOABOT4b/E0SwOBbdLjAKEHw0vJ2EYvSUEvLzAzaUF01s+54YMEnW88rDgsaGBL2vMiQEu/ZOAUEACH5BAUFAAgALM0A4gDoADAAAAj/ABEIHEiwoMGDCBMqXMiwocEAihxKnEixosWLGDNq3IgRByyOIEOKHEmypEmBvM6cXMmypcuXFPHZyAazps2bODlS2gPOX86fQIMCrSPBBT+hSJMqHemvzgQT+ZZKnUrVIb1DdHxW3cp167gV+LqKHZu0CzCyaNPaLFNDl1a1cOOKdOGAiNy7eDM6grApr9+/DvvEegu4sGEEqQQRPswYrzAJvhpLvtvviYESkzPDrfTAymLNoKn681co1efQqJX6G4UotWuqjFIEe007qYsGQGrrBmoIwqfTu4OfHP3Dm/DjMLcAO4q8uUlfEExgc0595CkJF5BV386xXhk73MNr0hzVSLz5ivqioIB23mIqBJ3OVZQWCYESTSKZGCHoqx9MbSkUAEh7N/nDTH0k+YcAcCbpM0YF0xBo0z//GOYPMSpJqCFCc6DgDIMbmucOCwaYEeKJAo0BgS4onshMFyC2uB0/UZgQTIwyOicOCga8kaOGHUb4Y3v9uPLFkARqY4IFt+CIpETXaDIFAoLwIlA14piURylsrDTNCBms8iQC2fxAiVr9KLjSInb04+SYSZnxBEzVoBCFPXCSVeGbHDlCgQrs5bldNUykcY+g242GKAIBAQAh+QQFBQAIACwnAQ8BiAAdAAAI/wARCBxIkCCGaQUTKlzIsKHDhxAjSpyosIKZehQzatzIsaNEaCeEeRxJsqTJhT0KEDnJsqVLGQj+PTRjoY7LmzhzCux3yAk/nUCDjswVIUUwf0KTBoXTTqKyESagKZ1KlSFIYfuqatXazwWBKlvDbkyFgJlGIBYUIRXLVqcyHWX6tZ2L80mDEnTzFtRkYxIkcRsZMbCpt7DAtRpPedBhuHFHMwVMyHMcNhuWM95kdtwWRsUsuZRDQ2RC4Iboql26ILBHsp+QCF5+nhZKdpTJcj4YbJI9uzdBaBcEXALt+2YrBJ3waSa5SscJQOeKS3fRwIf0m7EQaGqZC5AEFpeu9zOmZ4JAFN7iKbtbZQkCiuHpRQPSwKAZuPgkBdn4gxNSihv34OeRJitEggBiLk2jjoCnBQQAIfkEBQUACAAszAAhAcsAEwAACP8AEWx7pQ6BwYMIEypcyLChw4cQI0qcSLGixYsN5d3g4MUfxo8gQ4ocSbIkQ29rEPTIkCGPMZMwY8qcSXOiO2X2YimZ0mqex5pAgwodWtEfsTU2KI0jyrSp06HcItnIw+yp1atYQa4b9QOLLXxZw4odm7AfLyw2MHEjy7atVWmCVtAx8oae24l67uqtaI4MgQx4ovHbu/BbKFYcDNYjzLghNiZWIk1Z0SeWuZ+EgRCA8LJxTVFT18rsNzhcqzwrsGiS1q/ttDeTzkRQUcUz0C5VieIjFkmJDUG2zC3Lpe9pPoPedBhYEAtftX22Y15LyQuz02uj1sR4kOHPNbBEg7HZqMFlhRQWaaxHJzlOkI1RYfXlq1fNhAUnSkQoyUMJljV07CDwjTYilVOHIsSMAocGA1jASmvHrQeTJghEwpY//nwzjUH4SBMLJXD8IMIUdHgwQinEWMNNgAZtU8ks5SQUDBOQSMNLKo1IMQAGSCBiSzN6eCKhTLHY0AcC/6w3jzSTXICBE1MoIcMBIvygRA4CPLDFGVhM8cMPFzTAgBJrCNJJKSwQsY07BrE55Js0YVjLLPYgtI431zCCggu/ECONNNx4g4oPefVjqKHqwakoUxgKWOeikCIQEAAh+QQFBQAIACyFAIgAfgGdAAAI/wARCBxIsKDBgwgTKhx4bqHDhxAjSpxIsaLFixgzatzIsaNHj/7MoNDT76PJkyhTqtwoaKXLlzAVzpNmS1OfKSIYGIAgAkufTryy4YtJtKjRo0iTVlzzD6k5Zq0iwfkh4gecSK2YrVMGaNo6mpry4LRxBtEoYNyUql3Ltq3btwy98eqEqIuIFVN+8rrWzx9Eft6IjRJ0xgbePJpsSRsKt7Hjx5AdT2PyhlmsSHmUVD3TqBWxcR/NSbuceXPnzwi2nRIXubXr17AvAioQ4Yugs9nUFcV3zVanPlhE2IAwAIjf2MiTKzdJrGnHWDFqvJnnr3rbcEBUYPjRSNry7zB5gf9Hys25xnmNlHh/XM/ZPm+dlPyIlG28/fv4N2bLOw95tkg2KKGJN/kVaOCBBcUiwyjf9cNMIzZ0MQpoCFZoIXLzCKLENceBhw8veawAhy3dXGjiiW/t1wd1BbYTyxor9AEMYyjWaONLCjJooTWxnCGDjH3dKOSQ56W33oUlhTNKFzY0wgyRUEb5kIos3piNJkoImIwhyHQo5ZdDKthKlNU9aAEFLvADpkpKrFHfmid54+VCGW44J5SGoFAFnCfBgQAwfJpkHkT75bFOoOQEqiiCvNig46KQRvrdNGaUoZ6kmGYKmxUGeJCOpqA+ZEtJocLEiAdplKoqQZogQAkCd67/KtGgCkXyqqy45uoSPza8qeuvwHIEDBbBFmusRX2kcuyyzCq0zgrmNCvttAi0kkes1Gab6xniaevtr97IQOO35KpKV7noqqrEk+m2i6k0SmDr7rxfItIqvfjCiY8MBObrr5S8nCHvvwRfmMeYBSdcYzcrHKrwwxeOkgfEFFeIBaAVZ4wfN+Jq7PF4miBC6sckx+bPD8eUrPJr+pTShDsrxwyZIxmUwJrMOL9liAQm3Jzzz2rdkwUoMANtdFKa3Hv00kWlggjTUMfEi59RV62SNFNYrfVJ4diw9dcd8SOCOgODbfZC/thgzT1nt03RFL+o6fbcD40oN914IySIKHn3/32QJpSM7LffrfQx+OF/riE44nRjvTjjbo/jNeR59yPCuJS3nXY4ZWde9RTRdO451Gt0O3rbgih7etuU3Lq62am09DrY/fCyxuy0H5M17l93Y4PovOP8jAS+AB/8ylUUUMLjxxsNyQg6MN880NbI0N/0UPsDB8LYM21MvN1DPQXG4R/9YvlL49Mr+keHbDz7FI8DLfxAC9LJ+/QrfI0NmOdPcnVniIX/cDYs/A3wX/1QgjEOGLNUXIuBKpsHvwwIQXpFohEVLFk4VtCODJIsD4/yYMaY8QMKijBdWIAF205YMVsIjIUV48cPjgTDh/2mhhR7FoVwqDBEuI6HBRPGA/+8YA8gEqwfhqAABqZhRIJp4wkZIEYTC2YMG4RjigTTRBfuhkV69WMNkeiiv8zxA9OJcV7MsEG/zjivUWDhemx0Vx6eFkd3rUMJAqxjuvwhDRn4So/laoUS4AhIcgnCcIUs1zymoLpEessf2ZABDR2ZLVv8wGGU1FYjqJbJbOEDC6MwYSdD5Q0bsGuU0wLGD3aIymZR4oWtbFY/zqAJUcZSUuN4gRGKd8tj+cMFDnBBL5flCBNwQIrDPFY0HCW9ZMoqGz9QmjOB1Y0pCCJI09SVO+axhjWUAx3Z/JU6BDEFVoYTV5r4wR/PKatYmJKduiKGDMwIT1VJwwapsGU9oeSzDSVEQp/7HJI5upAHQgZUU/PIwxkweVBN+SMSSlhjQzU1ihlONFS2kAErhsHFi0LKFRDAwCmMWJ8w0gpd22BBBJxwDY9iShvFGIUMKNE/lwYqHJlBpk0h5Q9V9sGcO+XTPCIhg1Y0M6hSugYWsCANgCLVQP5wZyM6+NRAjaMPPyBfVeH0PThIdKtfmgclFgQPsMIpG2eYgjBmcQ6nmhU8rWCAABBw0rfaFW/sQIZB7yqRgAAAIfkEBQUACAAsjACYAHQBTgAACP8AEQgcSLCgwYMIEypcyLChw4IlHkqcSLGixYsYM2rcyLGjx48gF6JQEgtfyJMoU6pcybKly5cOmcH5McokzJs4c+rcybMnQ2l5bHSa57Oo0aNIkyoteK2PDU3rlkqdSrWq1Yf+/CFoKgPq1a9gw4r1mU2QDErmtI5dy7atW4zeGsloFO6t3bt48Y6LtAKRt7yAAwumak6TjD7c1A5ezLjxy3KUVsCxZs+e48uYM2PMimCdJhtfgNSBp7k01Vhw/pluOY9KgQvJGmeDgwDY6qUsbsN0BkRIV6K6g+vsJ/wltzxKgCkuzrz5XX/AlMDxtty59etg8XU6Cxy79+9Tw/X/+WELvPnzR5lNOZOtOvr38Ff2S2WjUdT4+POfNCd3FHH9AAaYkTRdTMGMgAgmKBEwP/TRDTL5KCjhhAS1EwkEEtRB4YYS9uMCBylkw+GIAn4ziyhP8UPiivpx00UXibEo43vubNeKezPmaF02WKxRl45AXsfPZ7EEaaRz0kwBxzhHNhkcPpTYUJ6TVJomjRJ5mFPllo5lNU8kL7BQx39clhmYP1EYMEI5ZJrppl3LMMEDFn+9aadd/Yxig2139tkWMz9Q0p2fhH41zg8inFHool81YoMxjEZKFTBCSWqpUuFgAcd9l3baEz6N4HBDJp6WqpM/LhwQkamswvSKDzho/9LqrCtl1c84WAgyKK28gjQPHGdo2euwH/UTiRIxEqvsRq3YcOCy0GJEjJTkRGstRdmcYIEX13brEBEFmKCit+QipI0hSAhiU7nsEoTPGnns2m65+OSxhrzzetuPIF1wmm+5/iDSBCTV/NsuCgTcsI/B5daRggXhsMOwt/5sQ8kUaU1MbiRT+KuxtZFg4fHH0BaSwhPb4Egyr8hIMACpKy/rDzxppLDFujEr208ecLSZ87D4wNGHZT8rO48THljhc9Gt9mNGAR7Ew/Sw2rzhBCJTD+uPOVg0kvWw5hwBQRrjfs2qP2yoSY7KZks6jRU8xNv2rPj08YUhz8zNaj8jFA7Qg96sOpwG4KxqI2lAAAAh+QQFBQAIACxjAdgANwAUAAAI/wARCBxIsKDBgwgTHjzXT6HDhxANnqpBJF/EixgNRiHgolzGjxHxIWoCiFZDkCgRjusCZ93JlDAJSvuhyV/Mmwj61anxgpdNnDG7VTAw5iVQlLZsUGGy7GjKcGumSOv30ylGbXX+yNCEr+rBG1YRWikAIZpRhBFaebUKDAsOE1YiZpsyBEixtSmVnYKFZYqtfhYvooPQwMg8nN1MBMjB6+xFQD6y2CDzRFnGbcrm2YIzw0OKTDH9+Tv2wIAQYOBIaUP4TaC/ZCYidFgTa5271UB37uliYYCJWMTe+KB1TZqVFELOrIgxAsMnx1bfqGAhiMuDBhGUTIFQgAUwcwimBRPjF9Ygv2n2bDpiYhlBNUe4wwYEACH5BAUFAAgALIgBtAAjACkAAAj/ABEIHEiwIAJnlb4N3HdqlcGHEAeuI+aBQIo8eeCUyYChVr+ID30RmdNKkBIRZ1CkCMMrli1LJjzEOAML0KePEf0x09GAgaBU0vwh6LeNYL9y5ebZ4iEgxTSI3jT9ULLHhyOhIAkOM/HAGsFMTA51sdFIWlaQ9Tp1wTfQhYMRvPidPevPiQlFQh31QDW3LxEHJfoKHhisAqPBiNcQw4p4bp9YjfveoxJFHePIEH1J4KDqMmaD4kawwPYZJL4V40qDNIZFNchImjy7FlgNxzG5swnmcyGATe6C/ExEUPSboLcZwnAWR9BH0/KB0my0ey5wTSrZrqcZ4aC8OBsDLMpRVM9igk333LaUrKOeTcY17KrnKWkFv/S2PoLqf76EAsL05f5EMYAJ7zzHywyGFKNfZLbIcAwC7iwHjAzRUAeMDUE9x8IDzFAnkAkeClTLPx4uCFFAAAAh+QQFBQAIACxeAboALgAuAAAI/wARCBxIsKDBgwgLhvOQsKHDh94QrZCC4JW/hxgfZhMkg5I5BP4uZhxJkJ8eJl9saFpHsqXBZCkKUGnnsqZAfqlkCAGyzGZNY0rWZPPZUp8ybnl+8CLq0ouECprmMW3pDcUAH1NbxpKBadW3rBnN5VGSTSTYhuxWsbIRCd9ZjHo0MODF7+3DdTwu3KBn16E3JY2gsevbkJmNVIQTwrv0xwaxxAlJTbiwyy3kg3se3Ph62WAnJd3sme0s8PO40Z35AdLRxBvpgtVSUADU7zVBZhdqKLM9kNsPWO94C/x2hpJwgXUupDgu0EeBHszVNWkzjbmoLszJmZEQrbZwUwIkBEtjju0BkHLH/cVawxxBrRys0B1/Z4KCGXfMQzw41f4Bpn3MEcGAE+354ABDzH0CwSDt8QODNQT9Y5seGUDHXBocuOCdcOessk17AQEAIfkEBQUACAAsXgHmAC4ADgAACOwAEQhAsA+BwYMIEypcyHChHTwNI0qciKDfmApvKGqUuA9ZOYM+CtTYSHIhoAw99CGYFsaJLnwlS7YblUGDi3wGtT3AcCqmxnWabPQ5hmvbwW0sIvyB57NhJi+EVgjKxlAbrQwjADVNyA/WiAJCvPlr2E/dDQMjrBVjV7JcL3bGEMnAYoSFrrESkdVZFGGCj4riGuI0OK6GhgtTOonFS7IKhwc/UKTQM+4dIEX1/JmzYsJOnh8rRmiowtjnuVnispWgYEFGhwkSKBxYwaCAjljc/JXL5W6rQmWOjGKrUYOaQVl1sJX2LbEf84QBAQAh+QQFBQAIACy2AK4A/AA9AAAI/wARCBxIsKDBgwgTKlzIsKHDhxAjSpxIseKyXPoKisOlrqLHjyBDihxJsuRDbSwykIlEKRJLFhyq+DNJs6bNmzhzItzmIoKdTkCBsphwIY8xnUiTKl3KVOA2Z/0KnguGLpaSKXOY+CLYrilFboJWRDI3k+k1LGe8/buJb5RAc16Z+gPGwAGTuHjz6t3rUJEJO/j4Ch5MWO44GdnKFl7MuHHIVF0UO55MuTLCfjiA6JJsubPnxS4c+PhMurRgRxA+RTXNunVSf+1EcHZNuzbJeSJs694dEvds3sCDJ8QnW7jx4wZRVaiFvPnxGw56/HZOvfUcCJeqa6/tD06s7eBbr/9bsS68edKx4Jxf39k7+/eOx5eHT3+wODJZ6uvnW2eAiY77BejVIBb4kJGACCaFjxKw5JPggzqNsgaEFN50WDYVZmiSIJFo6KFI0tjQ1YckUtQPFt+VqCJEspigwnQrxkiQP1YYYIKDMuZ40DxI6PCJjkDOmIcgMAapYidYBGZkkMD8EM6SQWZjAzNQArmOEq1UmSM5eqhQiJY55jKBBq+AGaM/hDzgwzZmqliPIF3M12aJfZwx4pwf8pPHGfPgSSI+eayBjp8elpOLHHCggyOhFRIRQAr8MKphNg9oYIWkGdoigyi9vIMphPg08sM1RX4K3zhdwJGOqQ9uY4wNnZQ2yup6aaQQATGyzmreNQ9QIJ2uAc4TiQ2WVIINsPs12cc4yO5nTR4/ENNsgAxQouS0+92DVEAAACH5BAUFAAgALIkArwAmATQAAAj/ABEIHEiwoMGDCBMqXMiwocOHECNKnEixosWK/YQ9uMixo8ePIEOKHEkS4b5v/RCsI6bpzIomHiLyK0mz5kFNNhfK6PQvp8BGMkbh88mRSYohU0ScoQRsHMNUBIP5I0oVZL+eVRF2ycpVYj9ifRYQ0CFtZkN/UwXG7Mq2bceUbuMa5Ebpx5RUyyCBk8u3r9+/Hr+Baxeri41G19CmBcy4sePHyEZAgAGH19DHmDNrdsvsSIQLu+BuHk26tEhjZ360ktVrsenXsGMzNNZFSat+rmXr3v16Gz1itWNd5k28+OZMKDwksTXcuPPnf73l4GCiXG7o2LNXnadJBqZMyLSL/x/vk9ePPOHIq18vMtsaJcbYy59PUZehQkGb09/P/yA7EwQIEc51/RW43zyIPDDCJwY2WKA0SvTRzjkOVjgfP5rYwAuBFnaIHTdYrOGUhyRmV04aQsyQCocltqjbKhxMgIpoLta4mzdNoPCEODb2qJsxNozi45CxtWIDMUQmOdo++DSiBDcsKimlXNrcAMEW7UypZWOoSDDBLVuG6dc4SVBhyD1ipunWOEp0EqWacNJkTZtx1knVNJfMIKSdfNbEjwsDGPFmn4RWhM4DKehhVqGMetRHHtM0KmlHo0wxz6SYUlQOLD94k+mnEE3jAgSsLArqqQn1EgEGuaDqakKpOFKxiqmv1hrOCtnUqutAcsihyaC7NioLBAo8gVWwrl4ywUbuIPsqLzlUgUMkwDprZz9nxPLPOtae6s4mMFza7amABFDduKdeksIN8KB7ajXsqBcQACH5BAUFAAgALFQB4QAcABwAAAjlABEIvOBCoMGDCBMilBbDncKHEBGMQhSx4sFKD6JY3MjEQMGNFZ1l0OUPZERzK0qafNjPDARfKlciPMfCABuZDyFZgBYTp0B//RzY6+kTwacKPfIVPahngIlzRHGSI5Ol39KD4DAAwncVgT9PAzIU64pg2o0K3aySJSTkk9qregig+EZWF4sKvBx23RfNAotMZO+ZoKBjXV09dHCYqEO2H5AGC0YlIzVtqTIvjBBhGFCCFzdkdcYKXKWH7kZAEVjA+QHBAAQsU5pUIKBnY8lq8rwCGtEmmjRmRG7Iwlny3kF/9BAEBAAh+QQFBQAIACxtAbMATwBKAAAI/wARCBxIsKDBgwgTKlyosJqnbwwjSpxI0eANAlUqatzIUSCQCHU6ihypsBWdfiRTqkTQaNTKlyK7EINJU+OKcTVzRgxnQ6dPhcDO/BxqsFMkf0ST7vsSC2XSoWwyEEH69OeTAT2qDpVjR5tWn95WtPvqExElqmRpjpOBM21NSojc1lwnwxtauSo79cELc56Na3f5jkwFJ7BgjvzSQCjF7zBJcSgKhHQ8MpsGK9Moi8Q3pZXmkZHgfBZpzIY5w6MjrvsBLDXHPnFda7SlZJ7siuFkSLtNsd+ZTqh5HzyF4ohwif5cOCByPGK0CTdONV94zYYtde6mJwz3w7P2hOamAP//jnAelkjkEeJbIyj493594DRObxDRGdv0B+6DRCUJ/vwCDZOBBp+4Nx0+cphwAzQACrTOGnCkk0+DCHCjRCP9GNgcMza4RCECvMjAi1MNjmIDMxTuww4iSoRDYTk9QJCFOR+yYoEAlWgoHD6R/PCHI+o0eM0UcNDYYD+d2BDLh950cYY3DZJTTCsyjEIiffm4kMEJ2VBoTiMLTKBHg/iMIgMiyeAiT379xPIDHF3m9803xEzRBYoAOsMCBEjY0uA8qRwRQQS6AJgNIjLAQUwtuOg4Wi1WHHKGDZqE42hq5tjigQMe8DLfdOo48gkzlGCxAhxkuJDjdN4QkwoZAUQlgEQkxuCDAEqXHpbBD10gsoiC4uTHAgKN+eMPPPvk9488uQoXEAAh+QQFBQAIACyKAKYAcgEtAAAI/wARCBxIsKDBgwgTKlzIsKHDhxAjSpxIsaLFiwh9EbnkD6PHjyBDihxJsqTJkygR9ssWqxEKBwumrOkTaVQsYJtY1EnJs6fPn0CDChVZzde7etJiIcIiQkmeUYd6GJIGLFanSH3WXGjgIV2/oWDDih1LtmzDbyYy8GjaZ5SxdQg6xpVbUFkVJ0mk0TXLt6/fv4AfHhM0gwGGQejsSezXj5cMTfwCS55MufJPb52UKNHEbVuxcxfDncEirNc+ywS7/BtrTpMNBMx4juqCQBAxs4hstAoMBwGv1WXXtTojA1HskYseYCCFWiBwsoJ8/nuOQEb002Sx9F0XSUYnfGPVnf+aBqzPCji8wJfcZuLCq+Zk+8igNI6s9dth/cWqbQ2BvrD8pIIAIma9wQEDXKRiDk/bwBDOXvABRUCEFFaYkDeCaJDCDerx5E8esUD4l4hgsWPhiRRmI58m5kzzDlCx5IHijDTWGJI0edjQSTtgjbNChzYGKeSQBjGzxg+pzEPiT1gYQ+STUKJ4DwLEdKFEK/gsCRQhZETp5ZeVecECD0rYAqRY/bgA5pps8hUNAwYYEVmbdNZpJ0Hh9PHDIXVUo+WdgAZK4zyazAeXoIgmWqM/tvyQhzeKRiophdJ0MYWTk2aqKWD8jCOIbl9tKuqoYZFDhAkwRHIoqay22lMpGAjUkMmZrtZqq0fzRGJDG3qU8+etwAarEDNOmfOrsMgmi0CuNvByrLLQ3kpsH8ZGay208zTS7LXcIqsICzhQ2+24t/bjgQNAPEvuuoiacwYPTASjLrv01snMD5SEWu++ko5iAzDz8itwlOXkMQWkAyd8Zz7X/IAIrQpH7GUdI2jQir4SZxylPyU04IM6GocMJT+CHMHGMiKnLOQ8cKzRTsAqxxyYOV300Q/MMufMlzdKRKLzzxH6MsgMowBttGXisCBAGEc3PZk8PaCwitNUA1bONlUXFBAAIfkEBQUACAAsRwHRABQAMAAACP8AEQgcSLAgAmsQEJwyyFCgtR+iGjY0p2SURIbhsFDyd5FguTINBHHsODCNAAYImCD4RxIBFQwuWg68JmPXOZkI5imJhVOgIJE4axmBMa+niwY+RsocYuKSUpLXbKzr6e9Mqp7nJiXB15PIBCM9EdQIYCWsnEM3cYZb0a5nvUWCwjLJYKbf0443BlQJa6kMubBwbIVV9oEbP5zlTGhQdPfiOxcXPDW+KIpOWH+RLPbUBcEKV5x1CqAQ1xNbijlhEcABFvabijaTJToikGJaT2UmdLALG6tP6k0WalG94aBH7IaVIAz63NKfv1GFmMs0VGEvznhVCpQIiy0MEniXcxgSmXbcIDgLBur07JfGx7DyAgMCACH5BAUFAAgALKgA/wAUAQ4AAAj/ABEIHEiwoMGDCBMqXMiwocOHECNKnEhx4Scv0ypq3Mixo8ePIClC2PMvJMdmEAx4cWeypcuXMGNSNNeBSTF/MhtKyyNDiAtZOYMKHUpUY4kGTHAWHdiPV5cfo9r1W0q1qlWigFh0uKZu6bxUP7rYmnq1rNmzIV0xYFFM6KcbZFbkYYa2rt27EPshizBhDlmY41JBcGCCm1K8iBMrRnBqEJccNU4d/uhtVJcVfQ4RWTVZMd1UVhEhQOStJGJvnev6M+FgBDN+2P5OlJeGiaUpMgQBw9dPtuIfCFQtHl73FJNDP1JgMEOW3UJy4gSaI9bpSwYCUozhI17Qhi3uZU0gd2CX+q7SGwQe2MgDZASjcPj4GaojDt+4bKxMmPiiRMSZSLB48cQ25YFnIFXhmGagNp5s400rHlBwgQ0iGIDBAByIIIMSR0SAwSHckOXPiAeWaOJZJAqkCyAEIlCODzUgsx0C/czyim8n5qhjWSmSyM9hKe6YUEAAACH5BAUFAAgALJEAmABuAWkAAAj/ABEIHEiwoMGDCBMqXMiwocOHECNKnEixosWLE7U5goaxo8ePIEOKHEmypMmTBedlA5YKBQUT3PyhLNmn3cybHo2dQdAKp8+fCNZFktGpn8yfyqoNHMcsliZBXWyIULIGERUUOmwoiWQMH9CKtmT0/Eo2IjM4P0aVXeuxX09BZXOlGPFFiQgbWPpQamUsnNGB4Pz5k6YJy4o8scwdZcu48UVpcBCMsum48kJmAqWtxTUX1LV1Ese1yrMCSxkXeiyrXm3w3z/WsGH3Kwbtb0V8xFg0cLE4tu/fwIMLF4jMyAt9w5MrX84cpeB+cDo1n069unWH3mR4u869u/flmvL0//5Ovrz5sviUABt/vr379yCJ/ZgHv779+xLzUMLPv79/gePAMAg5/90XGQKvdfeWYgUKtE8JA6TBnk+aIDBhgyEliKF7PlxgyIYghjgdMU30I+KJKAIHzIEptuiiY7H08eKMNH6VCiI15qijSZ1QcuGOQAYJUSOaqCPkkUg+JEgrPybpJJJ52PLklFQisAYwVWaJJBaYaenljkpk0+SXZG74zQfJlKlmi0wQ4MOacIpoBQZVxGknhnlYks+dfPZnzgrm9CnofaMIMuagiFrnjxJdJuooecZMceijlCaXRyqTVqqpb3+CtumnzBWaKaikNrZoo6WmGluko6rq6k99qP/16qyVdUrrrYyNIiOuvH5VThKo9irsSdWYAMEywyZ7UjARZICLstCONIoTp/AT7bUeZZcNttxitIZ03YY7USxTWCvuuQ6NY4Nm6La7UB6RuCsvQrwoQd+8+Aq0zg/G5OsvIoi06m+yxvzg6cDuzqMELwjPG0keDcsrjQ3jRNwuP1PEYjG6mZjAw8bo3uDADSaC3G02L/ggS8kmX8vND6nQ0zK382BBicwzX9tPHn0InHOqkXTh1c/RpqJEoERDC4wN2yWtrDQySOOz05p6YwPDVA+7jhKyZt0rPmc04rWw/vQBx9RjI9qPM4V0MQ/aaQv6SQoMWMNy3K+SIYEJ4ODVPas/lCiByjR+v8qPIFggXbiq88CxxtuLq2pOF33YFjmp4WwF9+VrZpMW56kyY4PGoJMKjAxYlg5qLOturnqW/YDTyQ/bvq5pFRacULHtlXLjAQVP8F5pWIs4so3wjs6DyA/BIi9oNkr0EY7zjqYiQyyuU4+kOXlMUbv2ghbcyNDg89mPJjakXv6dspiBxBq7r28nPh4YoEP28utIzBQqsPBJ/nHyBloYZi4AlqkdlCAK+QxIJn+wThDhwB8DXcQMLGBBGneboJfwMDrBaFBNOpgekgICACH5BAUFAAgALAoBmwDBAE4AAAj/ABEIHEiwoMGDCBMqXMiwocOHECMSrHVBosWLGDNq3MgR4jxeeShU7EiypMmTKBviA9ZnxZlY5pClnEmzpk2G/YwJktEl1bibQIMKPRktkg0lmrj58ze0qdOnDLNpUvIjUjaoWLM+VZfGCiYsPxoZ08otkow+COrd0zp0lIxG6/7V9DdpgoAy0vpp/dePX792CGSwHXyyn60pTXQ8+Ua4seOS81L9OAPsseXLGNuN+gGHGebPoBmOo3T2GtPQqFMj8IZoBSJvqmODvtZHBqWfsnM/BrbGhqZz9ezpHp5VXRUfTZK0modgH/HnUEtJGDAHuvWn2eD8iOIF3PXvQMch/5IxCh/48zXndXprDr17lP1i/cjD7b39ksSmdPF8v7/GbGsoYYt/BF40jiA2lFfggg3xo0w3msgQyToMVriQISowkAdsFnZ40DUnTOACPB6WONA8RokiizYmmgjMD33g1qKH4eTxAzEzlthPKraZl2OH0uh31Y8WttOIDbGcRiSDvPwgiDlKLulfLi6koMRYUi7oTxQFjEBOlFneNw4cTViRSZgFAmMDJT6i2V87gvzAn5v9MeMkc3Teh49RwICZ53nZTAEHlH+6t80rmNjQSqH2uSBAChwyip4xEEhQh6TujWIDL8jwgyl48/QxBTd6ffodN0oIgqep1wEjQyqsftPXDyVyxmpdFipk0YWMtg7njw8NMEBhr89Jw4EJQxD7HDGbeqrscLHIcMyzxKVigzRLUZubJj9Eqm1q5NQhxRS8fovaJQNEgEyp5qaGhwdEnNOuappM0d68qaWiRLn4YmaLDd72e5k2rNiQjZ8CN4YMCg+UkjBotFyQwjAIP8xWP2vsEYzFmHXShbMcP2aMDeGE/Ng5ssyAo8mOPREACiw/BoQGT8TcmDkzoIKOzYQJ0kjFPDdlzA+ABZ2VPGxc4IrRWg1zwgChAM30TcYxweLUAgUEACH5BAUFAAgALLUA5wD6ACwAAAj/ABEIHEiwoMGDCBMqXMiwocOHCSVAnEixosWLGDNq3MhxYrkLQLb560iypMmTKFOq9Nepz0iVMGPKnEmTYzsb2Wrq3MmzZ0xnUuj080m0qNGjC0tQAIK0qdOnOhVYAAS1qtWrGzv8wsq1q1eFU/59HUv2qq4ccoaWXcuWqDoTHSC0nUuX5j4WDCbU3cvXJD8bhvoKHoyRFxbCiBM3zDTij1rFkCMjcOHAx0vJmAnbMbEqs2fB/bAQ+0y6Lj9aMfpdLs16bCYMJr61nj32EmxttHNzJXZEpO7fVfOkWg28ONF6RCCgMs68KLgRBAA9bk69Jo42sqtrnxntx/bvMS95jqACvjxKHw1cmF9Pco+QWsTZy5/YbQW3+fgrfhox4l7+/w/VMQAL5QBo4EKESJFLfAceWE4mDZjT4IQFsSFACftQqCECYUTQw3QbAsiNDMKIE+KB+lQBgR0gnoifOCNQUEeLLso3Cg5sbFPjf58A8YI3DO6IQB/4fEeZD0IalM0PlJRnSA+dTRSkeTYIFBAAIfkEBQUACAAsuQAPAfQAEAAACP8AEQgcSLCgQYGrntQ6yLChw4cQI0qcSLGixYsYM2ps6MIBC3P+NoocSbKkyZMoS0K64URGI28pY0IsgQBIP5k4c+rU2I/fuEgy+lwLuVPmKA03iipdypRhu1E/uvBqOvKcFx1JwlHdyvXgUJP4WinBwutm14qoAnBYhVHf2bcX8SGagoAoyn68sChpNW/aPbgM4dVrNQPIE3F2K/4DzFjiup3G1mBQwaQxQWcuPDS5Ztay588TmQyAMEWTtMbcykzA4Au069cN/YEjtc1YJCU/EBHDtzWfHi9yZFCC9Ikf7OPIC/rzl60TlhV9bK0rVwzcTnOTMgwg0y659+8Fx7W5giPCQ4Yx42IaIrJozQo5OnxUA0+/PjoXGlSssHGmUStpj6mTSzkTYfOJOO0YM0ofDDSgAy/z1CfhSV1cs9M2t3yzTzjEjCLIFCL8gAIHNaQSCy/ESHMNN2b4IAwzxNiSiiYlDHCBCFgg0kobPgST2IT10YXAYhf1kwoCkUS41HII9MONERqggEgfeZyhVwwXFHDCFGf0gQglNagwxo9AAtlJmQW5E8w5BvGjxxPYFGRPNZ2haadEAQEAIfkEBQUACAAsmgCbAGYBdgAACP8AEQgcSLCgwYMIBRZj4iihQ377HEqcSLGixYsYM2rcyLGjx48gQ4ZcZ0tHAwYyfkyZcuZMnj6CEEXS1ClVK1u8iP1ycaOayJ9AgwodSrSo0aMUuY06s2LNoRp6xnmTJo0YMVu2Uo3qRCkSIkR58pw5kiEAjka8zPlDyrat27dw47rtZyySEhuCeM3zt1ZjPkeAjo1as2IK2nVyEytezLix0Xm8ENlQEolZP6H9pI3Ks0IJIlvmHIseTbq0XHHaEHhrBUfEmlHh+h7N3AlO4Ua2EJvezbu3b4rbXFR48SPvPMX4jGnqIqILJWC+9ASTF3JcJASCvP37XVSQjVYIZBv/VYIgkrR7ceFsH81No7AHGTbhI42OVyQuDAz4uMy9f2Jm6/lnWjQ2TCKLPaXpw89lbEAVoIAQRighSNLIYMtvfLFDzoQcdujhRMeswMuHJJZo4m/AyGCMeCe26OKLbfFiwzEswmjjjTh2FIsN0riT449ABilRKz9kU6OQSCYJ4yg/tKfkk1C2qIkS3kRp5ZUcRjLFOFh26WVv9HgxAhKhfWnmmY1NkwIFhqDp5ptw8ZODEdvAaeedRM2zQpl49umnR8Cc8eeghGIkyCiFJqroQf3YUOWikCrKzBRHRmqpnZFQcummfiohDaegwsmNDRGFaqqZmghC3amsYtkFMK3G/xqlOSscJ+utSMaSR6W49uoiHLbw6uuwH+qpFrHItggKF8k2W2IlEbgQj7PUTugPIAGYoE613AroDztlWKJPt+Ry5w8lmparbm+tCLLuu6YBswa89Ip2DXn15qsYrfr2K5cI7fgrcFtKZDPwwUadQQzCDAslCHgNRwzSuZpIbLFHqSAi7MUcIyRvxyBbJM0UIZcsEb8mp3yQCLaq7DICBb/ssj9dLCxzytiYwAI4N5v8igYS9NJzyezoMQE6Gw89MF95IKp0yMwo0U/ST/vrzxSwVt1xLPNqzTE+Nhjs9cWUIDL2xeGsoNvZEffhNNsNRz013Az7gwUwVNO9Ltd56/9dLtjR+I2wV/wJ7m/aaxver9uKCyzND3033ixfWIDCj+T6ApFBGpjn68MAQETe+bDbMBKDk6Ove1kqU6gjeuq9woFI4bCXa84PeNe+7jEyhKN7uWt10sXrv7fazxkVF0/uODYYozy5wPzA5/PURgIH8dSDig8Wb2ffrDcyfOq9s7YoEfD4zQrSB/rNzqNEK/Wwj2wyDLgwDfbyF+qPLxlMsEn+vuLHJcgwA/EBsFcyct4Be0UMG+RugbeShg1iAUFcZeMHqcBfBf3kDSVoQoMbxNM4DAPCENppHV3oA+1MCKp5wAEOLWOh9vpwhsTJcFP9QAQWUHdDTkUiBopARglde/glIBSgBETclD8MgYILNGIvSbQUOcwhiB+sKIqR4kv0EHE+LEJqHVUkxhC9aCViFAcd9RgjGZXUDsnwYoVrHJQZ+zC9OA4KHY2wwYjsmKioOYGPicKHCQDZn4AAACH5BAUFAAgALOwAogBgAEwAAAj/ABHUmIegoMGDCBMqXMiwocOHEAuOyGEjkreIGDNq3OhQnbhskWTAAdaPo8mTKBvis9XlRydz/lLKnGlSmqAVfaTFpMmz50J//syN+oGlFUGfSJMi8EcMjoxG2ZRK7emNko0zvD6tKjm1q8mVOCREGLbTq9mMylh4iGGr7Nm3Dsu5Y4YFizG3cPMq9GdLyZprePUKXoovlQxB4QYrLgh0HSUZlNYtnhxOkI1U+CYvvrbmB6/Amt8aq/vr1Teuod/yjSDgRmrBbCRAaAX6tVR9yKxNWROutm2kQPl1khHL9++k16bAGWf8eE98mmzEcv5WmvJx1M3is2oru1lpSvJ0/4Pmfeq8QgxSZCovVZyJCVJQs/fpbBUXOJLn+wSKr5GSqPolFYsMwDQXIEfS2KDJgT0BNU4XebTD4HOCTAHghDP5Y9gcnvCD4UybSJBBLx+m5M80LjCwRYkyFSLCD42wmJI540wRiYEyNmQOFojIl6NG7XQhSD84/pjQPGvkkZmRG+EDRxaOfFMkkwXN4wEBXlCp0RMVxKclRvp0gwUlX2bEzQ+pqFPmQ/30w40NwKwZETM2SCMnRLz8IIw7dzpkRwUusNPnQv08EgAE4gy60DukIDGKogx5I4OdkCrUV36VHuQPInlkemQSZASDjacG1TGACSOQWtApFXhggaoxgWljQxZkqYrAFDJcZCsCnayxKwL4JPFHNbt6IYALHpLqDyAYmLBrP8uscI2tQI0Cx5Rf4qNEnLuC8kAa9ajajyIURDCqqtg8IYGEsPrTx4K7SordrmWgcAkLtvrggAsFZfKPp6v4sJ5BAQEAIfkEBQUACAAsRgHtACsAGQAACP8AWUjRhKAfgoMIEypcyLDhwXk2zjicSJHiIQZG9lXcyNELAwa5OIqc+KoChlkGR6pUeKTDqJUwE4aRwS1lzJEdEAgZoecmzB4GWPhcuWwMDHNDVfqLREeZzaQVsUGI8AoqR20jIjCyynHapB/X+HHdaAlCj29Pxy6cNUECKrUTyQGa+asa3Ib+/MHykOLT3YbiTAQYMs7f34XIPkWKAYQJucMJDW4SEMDOOH5oISM4l8ZMoRUoUgBKWY7iNkPDlPbr529eCQIXbMChgsKKNG/jUPWAJI1XKkopKLgQG9NZJXDebLEw4GHKDxsPHDDAAgeRJjI1qnCtBggZQllEMkUELo0gIAAh+QQFBQAIACxtAaYAWwBgAAAI/wARCBxIsKDBgwgTKlzI8GC5OorsNZxIsaJFhqQEZBh2saPHjwmrsWBBDqTJkx1bCULJsuVCYGtcypwp8JoSmjhZmluRs6dJEed8Cr34g9vQoxO7GEPKVGEfW/6aSi1oxw69qViXXZCgKirWpts8jAj2VWq/Gc36lW0q7eZapv4oRXrbdMpSukfDyejnFa/PVn36+u0JB+pgn/NWmDvsE1gXxj4RdYLc80c2wZRZ0tNzwh7mzCdvTZhwC7TMZBBubDPtElEjtaxZXpOxODbLNaNsswSmBJ/uk/yUAPv822KqM8VNrrMhLTnISCude/QmI5x0j300Xe/I7Mc84tsTkv/DEit8xVojPJQzT3GQBhTY2DfEx4WMLPkNBeUBj59gKyXt9LeQNDJkI6BC5vzAy4EJ8XMGJQwmFMkasEVYECxFsWNhQdnIIE2FGyKwjhLlhTiQP3AgYuJAuZTRhW8rOoOCBJuAuKErDLDgy4oI8GLDMeDw6GNzPNpiwzX8CWjkNTZaGIsNl/H4pIFSQskjAq1YdmUqRa3IjyFGzGDUitNE0IEh/Ky4zhoo1IDMitf80EiaK8Yig2Em8tPID0iuOE4Xa4TTJIPdaXLViqnIMJyJ5GAjiBLeJCnfNy5UkEWAJuJDyAMZkLKiNFOsQcss+YS4DiI22CLkD4jUFmI4cCiOwYyJ+vQzigyawLjhJyakcAY3krInTQoGmLCPidLAYYMlZtQSIjNr/JDKPIP2Z0y0rejKID1eAPHFD7Foy2A4i2BAABnVyldOKl3IIIgZVWgTbHHufBIMMH2sUFg89tQTz4HetBHAA1uk4qqA16SSxw82OIGCC0FFuIASgsRC5TbyWMgCAuke+A8C8+IXEAAh+QQFBQAIACyPAJ0ANwE8AAAI/wARCBxIsKDBgwgTKlzIsKHDhxAjSpxIsaLFiw2VvbKHsaPHjyBDihxJsmTFcK5GSJhDbJxJiuts9ZExhZI0fyP5Iei0RgSWSMDWmUS0IpLLl0hF2kKQB8G/pAj8MUOEYMoobwbxSYvV6IwMGVtMWCiDRcYKLII68co2L5Ojdwe54RzJbdSZFQhSOTXpby4+ZprOIPhJrN3IcI0QJIbK2KLgxtci/VBCSS45RavMERvVZ4oIJX06tRRYrtpcc8ZaRYKjxEAEDacay55Nu7ZtjPjCDKgQo0ujVtLwSfx2AwKe28iTK19eci6CqTaOmPARzzlFfeFqMt/Ovbt3hN46Kf/50Qmru34fzWn/zr69e6jtYnlFxMykOSWarL/fz7+/w35TrXBGLPMkdZ8m/iWoYIK6OBOZDVikYo5+L42ThBAI5LPghhwy588nGDwQAyXZ2JZJhyimWFs7o3RwgQvbqCjjjDQWFI4mMvRxjTPf1OjjjxuGE0mO1sQD5JFIvoeYDIhgleSTUDLnDVFGURjllVgilY0gK1AyYZZghjnSM8VEk4cMmggl5ppsXiSOCRh8MEqBbdZp50PjyOEBBp5Yeeeff87TiQyUVDPMPoAmmqg/tvyQhzd9+anopFlKgwUWxlCqaZ3h9GFDLJJuKiqS81CCpmGjpholNrHY0Ec4qsb/imQ3eoTBBRY3yaqrj/6cEoAEh+wqLI3+xBLDCESAM+yyKHpzxhTSMCvthv2MIkMn6E2rbX/XTHEGN9uG+16pMrQSqrjo3saMEnmMc2668DKmCDWN2MBLvPgmR0oKDMiBar4Az4YPGRKwEGPACDOWzRRryLJMwhAjFUu56rwb8cUTrdNZNhZj7PFD0vyACJ0fl2yRP53Ya/LKFCFDyxpdhNMxyzQjUAwKF+yhU808M7RIBSMM0/PQCPHTiBLCVEP00gSts8YaajLNtDdKNJKt1EsbY4NeWBPdjzgTE9P10lVYcEKJYxO9AAVEpD20O314EIEL+rhdMz+CdPGG3Tz3KiPIGSTzvXI/fQAuOMvlfIJHF4Ef/jEbAjCAjuMsG5KCDztTbjI29IQbEAAh+QQFBQAIACwzAdcAGQA1AAAI/wARCBxIsKBBKRd69DPIkCGvH8ngNZw4UJqMaBQzjvvBy1/GhvWGcaH0caKXCSNKTjQiwMdClQXHzdgkziNMgnki3TQISsm8nQOtWFjADKjAfz4GKDhnVCCjBxAQvNzZDw4mBGv+GWX2A19TBO/OtPqqzISHbzaBkgoQAdlXaxo+TQVKKVJaoPhsZPu6jAWKd18hEUgB7Su1CIb2feW15i7QPqm+IqjyANLXfi4KeJl709+eIdgk57Hl+Ga1Dta+unOhAdBXei4iWG7qr9Ci0jfh8JKsCIIhr01vNLihuGmpFL7iNe3HC47kbzqE2PuqaIAEt03rjDDCTrKSa5JXVSyoxflmCQc+JNeA8EnypDOStwCBELrpggwCTH0t4ONNOcmSaQXgQLUICFRAAAAh+QQFBQAIACzHAAgB1wAfAAAI/wARCBxIsKDBgwgTKlzIsKFDgyyEPJxIsaLFixgzatxYsQymfhxDihxJsqTJhzkwlGB3sqXLlzBjElyQwYQ6mThz6ty5EMOJZDyDCh3qUgiETUSTKl1aUYEDH0yjSp0qsAKEWlSzag1aI0e5rWDDusRwQcAlsWjTcqSgwEQxf2rjyn1YAcUhkHPz6jWoI8CIb3sD733wwMVNwYjjlsDwDG/ix2FLFHgCuTLYEBYUwbXMWWpEdJ1DLxXCQYIv0aiHhhgBhFzq1ztdPDAEuzZOFwaY2N79MoqOabwdEkOQJ1xwhmgEjHB93GC/UQhG3dvcfGGmCjfkVd+OkYkLD9i4izevOEtChl7j0zd0ZOYBJH3qG7ZLJTAWgn+8X2nQMKu6cQTXUBefQUD0Aw4TTAA24IICmcAgQgEBACH5BAUFAAgALNQAJAGnABQAAAj/ABEIHEiwoMGDCBMqXMiw4cAADiNKnEixosWLGBGcM8SASMaPILM1WtFHmj+QKFMeVCSgwjR5KmPKnElzobY3D258q8mzp8+PLgQYyfezqNGjB8+9gpChDtKnUH16EWBCWb+oWLOC1PYphQQfWsOKpehiQApk7MaqXWvwm55DD1S8YUuXrhkCEJpN41e3r1ZDNZzgGMHkqt/DR8kpm2eLgQMg694hnly0XAkMGtbMAeKLsueZ99L4WARnBoMJeurB+8xa4r5zBb95eXOsFaImFwoMsWUO2614rSvOS/WjS99zPVgc0tSozxkeAyQgETSKmJ4q2IJfNKfJRp7D2lAIIpASaVQsYsKAVFGnHeRIQZRnQYIt0F+/k+3zV/SHX//PgAAAIfkEBQUACAAsggCqAJIAjgAACP8AEZSbJQ6BwYMIEypcyLChw4cQI0qcSHFhFQ5EKmrcyLGjx48HvUzICLKkyZMoIcorgC6ly5cwO/o7ELOmzZsK8Ynwh7Onz5Tzdv4cSpTjuhU8iypd6tCcjKRMo0odZ0Oq1ajhbOy7ypWotx9dw/rMpkSsWZtkz6p9KW3K2rcnpWGBCrfuRmZY7OrdaKzL3r8TiZ0BTPih4MKIFwKDQzcxYl5w+DmeHAvOu8mObfVpjPlvrD6dE7cSFBpxKkSlC59OTXhUI9aAR0XiDFutOCAoCtaueysAh1m7656zEqFccLtTjB2v2wn18rfeZEh+vhYLMQS2qJ8dRVr72XEr8Hn/P3uGl8Fd/cZzbZXHivqw5la8Fwun1fyusdakv2+13Qpz/F1VX4BWwTIYgVGps8I4CC7FkyCjNMgUMHlJqBQ/NnhDm4U3IdIJh0UZ4xaIQ/XzQzYbkghTJJSo+JM0SqToYkr+KCGNjDOa5A8ls+V4UzY/7OdjTckNaRMVLLyCo5EdueAAE0y+5E8mNWTBTpQvzTNFLFi65I80NjDYZUqUwDFmSvhseSZKYIq5ZkmamPlmSWmCMmdJ0sgQzp0gxbkknw6lySWgHV2jJ6Eb+eOPn4huxM+WfzaakKHhRCrpQZ2sYemlCPCDhX2cTpSNnptemmmpknoKaqgRjerNP6xG/9TJgbE+1M+nqDY6Kje1QmQHBF4I2atCaRTgQTzDMoQNG04IImyyB/mzThfOQrvQPGf08ay1CMyzRh7TcXuQt3mImxA+cMAhnrkG4ZPHGuuyy08fa8zDrkH99HEGOuvcmy8W5bTE7jt9dNHvvQgggsXB7PrTCBYAIhzJFObkiiglU7hp7qJKaGxuJ0pUivAoPzRj3L2LQOACNvfOksEFi2ybrD6roDLFGnua208//GhiQ3YIw5jHMwjPE4kNwFhMKDM/CMKwufMg8sN1CBPzAyL23rtOH0owgzACvNgQSbzmmgPHFNJ8HYsNmsgMbThrYJGML/k0LAoDEhhyLzsuZP+gQSfo1GPuN8FcI8gKkXSjzMb+cIOIDI14g/A4kcggCDdK82mOJjL0cU3md7Yzig1wSOP2sPik8sMZvyAMTipKYMGLL8WIu7M/vDgRgQXFnB5rP76g8EADZ4ySs7X1TKONPcAcjsUoGoqLrDq8CCLDFJRYozMC/RiDiA3Ymy4QPdz2w0wkPyiBAguf+B7rMSYQgMEUgrQiDdnD5gLINtKkIsgUIsACIuwnmW84o1aKGhcz/KcEETTBBBf4wzGsITCEfCNciErgPFxhggxIAQs2EIEMlLAGQUSCDCiogS1sQYwWEuMXNxgBoO7hjFzMIynjuAYwYtEJIQzAA3J41xkgzrCGLVQAAVQwiC2AESpyXKJ2CNmZQdShKNDlKIESCQgAIfkEBQUACAAshACGAIABSQAACP8AEQgcSLCgwYMIEypcKHAbPIYQI0qcSLGixYsYM2rcyLGjx48LnYVSJ3GeOXPevGWTJo0ZMWK8/qBwwQ6kzZs4c+q0KO2MElv+dgr9GHSnOxMccuRZc+YMFixTlPz4sWKFiAMHRFT9keTHlKdM4QwJAMHBGk3G5g1dy7atW4R5fqRCUPSt3bsE/QGb4uFCm1i8XjJjmS3lyXl1E/pjRwqZOV6NsIjoEgnYOryYM2vezLkzXV5RYZ1zltjmPGKazoiYgsjWOM+wY8ueTbugrai27PaTNiqPDBt5WmUrXbu48ePIL8KCCnSzt1iIftiA04kZvuTYs2s3rg70FFAI2ET/gz2OVZkmK85oIqZ2u/v38Ifms6UECzCDnRBwo6v5gcBxkEnWBSWweFHHQ/ElqOCCEPUTixJdEEMcAv/841kGKtgQCV3tEEMJDwNIMEk/EzJo4onZ8fNghAMJgsA1/pSY2T0I6JMNJQgogSMC2xChAxc2UBIOikQO1Ao/RcrWD31d8HKQjLD5c01B/SCQTSQydGFLlUl26SVe+DyIhTFQJjjPcjZo8tqXbLZp0z6+KJPKD2sY4yYC0giyQh923unnnxOtgsEDXzADKALrjKKEEqmYc+ijkAokiwUmaHNQK12m0gUCiNhpTB8rCCJNpG5dcwYCxlhKalv+IILHN1ze/4mkQeaM8gMWqSC26q5EZiODo7wO1MYXKyAyarDIxndGKmUCeoFA3lDyg5btJWstcqBdd+1A8/ByhobeTDPNtuTCNs8PxJRbEDeRwFABCsWoKy9mneTRbLLBWGBBFn3O6+9a4cggzL8EFYNMKz/AASPBDN/Ux44ND4TPKDb0sV/EGGfEzA/tZExQO5rIgMiQHpfcIBZbmjyQOVhGAqzKMBPUShexxjwOIjJoomvMKq9jw7E8D8RNHzaMom3QGUfiItIFRbPGD60czfS/1siw5tQEjdGFErC4g/W8/qwxyr0xEwOVhF+XS8wPUqdNEDFf2Tmr27zi81PNdA/k4A8q3P9wSd67jrIG4AnhU0IDKHRM+KPjyJDN4gjJYgYeNuQG+Z+CREI23f0wM8UaF1/O5iYzXCZ64aPk3PbpKApQA+sLeQOHEmTCbvuhwPzQx9W3987mPFjO5fvwX9LyFDN4E688g63IEIniy0e/IDeC/OCk9NjDN0o/xigBxyakzJ39+MZhIRA+e2CQAS7kt1+b+NO4AMEX3Gzu/v12WVNOJzbEgv//tLmGEvLwMgAacDP4iIQN0HbABmbGGD9ARLUcSEG3rKMPSpCG/SrIwY3YIk3i66AIcRKONWDhcSNM4U38kQoZWOIS31ChDD2SDQ8QAAU2mKEONQKECGTAcjsMIkWVuiAMXthAeEJMokS4MYU+TFCJUETIPAShhPpF8Yq08kfzrofFLg5EGj+IRAi9GEVzrKELvCNjFPuhiROY4BIbVGMF/WGCBtQgjnKkYC2sAANKJC+PQTRHF/LwREAGER+CwEIaDblDf3TiBwtjZBJtIYP7SDKJzIiBDjIwiks2UgoEUIEyPLnDLwDBCu8wFCllWEAZBgQAIfkEBQUACAAsTwHMADEAHQAACP8AEWBAQLCgwYMIEypcSLBGij7GGEqcONHfNyUHgFHcyPEgnDPtOoqcCAQBIizm/I1cuZASDiulPLCcWdCdiQYPaOpEAAjCB24qd7KMFMtGtqBCV9qyIS3pTF4xxoRwujIKgQURqHbsR2oEA0b9tHac0coGMaRiKTKz4epRWo6/GFxYwAQB2rcH+21jgQGHOrwTPaWI0Sgs4Ilccnj5dpjhLgwEIN1tTJCfuCosYhAzTBlhP2MxUDwp1znhJwETJpU+6E+clyhJtlRxxHk1AnxUClhghQ8auIm9ctXWWayGkS4fUphIhi9XJXX+4FX6hO/apAsYcqW9JOFBkwYVBOQqWINjQgQDSr6wYIFMrD97uJz5K3djxCFmpUzc+KYSGS7K95BjmDb3IBQQACH5BAUFAAgALH0BugApAC8AAAj/ABEIHEiwoMGDB5H5SHMPocOHDwEVSLENosWLCKoZOdEOo8eHcuxs8/exJME2GlzIM8nSEAYX+Via5IfkGD+ZJqdEw1lyWgpG+nh6TGPAxDuhGFExMIP0or9RgppixEJMqkVhMfBZfXjLAgRtWx2ewoBiWliElLIguybjbEFvMsKRdFswTye6BavNgaEV70AiFFzM9YsghwUvhAV2mvItMQJiNrg59majKmFyTB5YcqxLggBVidtxEWIGFmF0WPo4NocF0UBpdKExORHJ8RsDKC6NIGwLBos3A8+5xdfox7V5fpHRwgJnHWFlKCLYSeztywMUXlgI/HcWXycZmrDtTxo4uCk/PUCQrPFW/qwrCwbGtJfabxs/Xl2URPGBGMHdrV6kgAEWvPRDVziprPEAAT7MZ1UEFPTBSzWAVILXbsUgUJ4tDobFgGMItJJYQAAAIfkEBQUACAAsaAG3ADoAHwAACP8AEQgcSLCgwYMIEwqEt6qXQHoKI0qc2MNLOQTjjIUJ4EFUrF8+fGibSLKkuRICVKyQ0UVKCg+F+hyRIOAPv5I4C7LCN67VmhUeVLQxJ9DfNHUC1ekxwwUJi5w5S6TIsaKPrXbwoPVLWM9fvzBQS2ZDtGBAFHxh00Y0BscGpWWZLqqdS5CICSRKWs3z54+uXwREGF0Y0OavYQTSziiZU0fc4bmuwgmy0arvY7WUeljgQKndZbrMypr5PPcUIRulLpGzTDqnNCV5xvFtnbOQ3Ri2aKfVlUFAJt1hj8mgUucc8JyibBBjfVyipTpZpnBrjrOKgRLpqJccx+OBF+0kmylDoSQPvMRku5R0Ym7+IDUTF+y0l/jsQQZS8xXig4MH1778CCETyRloAXgQJCaowA07Bh7EhAEubNWgQdC8oQt7EyIQEAAh+QQFBQAIACxiAdQAFAAbAAAI2gARCBwIZKDBgwgRfBHiK6FDBK2m9PP38OAwHw9+9ato0N+tCRpmcTzYTUIddyMNYhJEMaVAIhUGbXSZrwQBMy4HLqLyLScCFR4mzUwZbEGBEP98loBwAUHLlO868EJQIyeTCUwyDZDgUgEHH+R8XvgwB97TkdcWBCgxLGlKfT0uZBB4tqK6JwpG+PTniECEUnpdfvOSA0UJFy4pFpMwYE6xhinp1bFyxEKETcguFXupKiHFaSwqHJEgwEMhQiZSyHq4rZq/SxZujCI0AsMrjhS/3UPQz1kwfgEBACH5BAUFAAgALHQBvQA5ADIAAAj/ABEIHEiwoMGDCBMi3IYLnsKHECMebOXihJ5+EjNqRGgiA6CNIEEGILMoX8iTGZsww4iyZUJuIva5nHkQ2BmaOAcS0kEmZ04rBlio80kTCIQ0LIm2zMFL6UxLU5I6PakE2NSWsbBcRWkHBzCpWyWqiJDhVViQHhiwUObvrEYVosi51YgIDti5Cjv9MIdXYicbxvpGzPJFU1vBChVkgADuMGKECyK4kPsYoRQYu75VRohJhrXNCDvJWAna4CgZxur9Kz2QQY0OgVkTVODAhWPZVCTcuIRPtkBESrLdLh0Jzhm+vhGMmiKo3/DNARZUGHUXNAMCJsolbzVlix5ZvjVpeJLRKvmCUlPWeEseYrGl5AhSfbjgQtzzx7aUnJEGTRzrBSY0MQUxvoWzCAYEzKEPP6BVYEg0gqwAhxlMaAOaP4ZgAEEMo4zTT3VnQdNDDZbAsQIOF5ig2WMXlHFGDBEQIEUs4fizzDag/WHMNXVUYeFAIM4VJGgBAQAh+QQFBQAIACxoAbIARAAgAAAI/wARCBxIsKDBgwgTEuxXcF8xcQojSpwosY4LRsyAxYoVJoOLeBRDikToT1oqOAsaQOhyJk8fHRIYzBDES5YhcCNzIvzGxIgoODKU5BEU4sGIgg82hUvFBcIAPTqjDvRW5kMGFV3WRDQh0BUCFw/KSM2Jj9caGU0WXFhA8B3BegmLKRk1ViIyX9ci2fihZOCNnCwgIAjXocYnhnUNOkMRYcELGTIE+qvb74aDG5MTD/THC8mDBwQ0F/TygBFizcCmrLARI0oN0QXz8BINDIuIFSsQjINtMFKnum9MoKjQIHI63gdBZXEblZsHA2yjMBmYCjnBEhOi4uu0ogMGHUCsW5E3puS2eOuZwn0RIQIBq/O8n4yAkGFgCg3wNTunwLZHftjA2PCCBIus8p9m8zQigg1TEGQOPgdGZQ0OMLRXUGYRimSFCRcEIBAtGY4lzggGPBCBQDaEGNU6Z/AQAR0qjuWNElhEFqNUx3CAw41SKVLDCTxKdQ4LDaAg2ED0BBmSIizA8IySOWEI5ZRK6kPlRAEBACH5BAUFAAgALFsBzQASACcAAAj/ABEIHEiQoImCCAvaOjHiSLKEBXnZ6IOgmQuIA4GdSIGR4KkaGi4I5NcRwQ0HB0sKRIeDxQdbjlT2oYNAk7+S9USpiCDwJgJd/xAWY/GgBoUbA/0FRXhJQIojCIKpFJVjDhaVCNbNsDKyJIwcQ7AiUOfhwwIEQBAw6ajPBIQHCNip7PfDkFgEX5rcBRRBwcBdfkv0Q+jvTYCzCPap7Mahx11WTYgMBPQE4zAUEB4hMISiZK8LFpDd3bOojlh+ZIZ44WCCZMdiGDhwEkuuBgRnd/u92IXAwA11JYOBViW2GIoHyu5Oy0LGFwKRJf1ZIVACm1hAKR5wIyd2myUGLmZhIu13S4KEQ+y4l7wHyVATDyxwqfSnzpmFCaZ8qpz1SR7CgAAAIfkEBQUACAAsZAHQAEYAJwAACP8AEQgcSLCgwYMIEypciGBECUgMI0qcGPGGgxsUM2qceO0FEFkbQ4oseO1Hq5EoRRo7EymlS42C8vTz97ImQ0pT0MWzyRPhnx/hegoteCPGNZpDhTZxAaEUvqRDS13I8AopVJvMbDBa9fSqTV42gM30ajOWDGNkebayEa1f2po6flyr9zblDDJhkgStm1KPgAfU+KaUhqNCD3iCR5ptBe5e4pC8BCk5+jjkDSWC2lXWOOPQnBixrG6eeOMCD8qjKYryIKBOaorGsHRhZerc64gl+vyIhcDtbYVfSv2JEWme6N8Hd6G4kCUb8oXZUiGpYMHXc4V7bKwx5kzZdYOAfOyBESHI+XeD3kQ9aKBj3PmBqAwJ25PEhqA2QIYd9/qh0BMrwQg0zTMD+ZILAm+wIgoEBGDQiDEz7eeVLKRYU8YHExwBhxAq1NCJJntcEMELK2AhSA0snCJhXTSJU4UVx9iiwwAmRKIJISaMQItv/ahzHjmqaCNQP99s815B/qyIXEAAACH5BAUFAAgALHQBrABBACUAAAj/ABEIHEiwoMGDCA/2M2SlWsF9vpwlnEixYsJrsQhZKHBiCpYzefqUwTBCm8WTKMkZeuWNV6QzK2BkEWWlBi1pzH4dgmXnAoQt0VAKTYivzYAKMeBoAubKBIIyCCJRiopAA4J/zralstGHmzh5Q4dKQxTjiAkfvApesDhPE4URLsqFreitkxIlKAQmWdFFoLmwkDRUMDm34DdPz2KdkYFIU8F+hQW6u0ShXWSCTAgwgDMqEsFK3y4P9Nenk2hpWzCk0GGwH2TRA6/ZwFfY2BkYAikI5Ad74ppJ8fwJBdZFiSCBKWj9600xigQiFsH544VFCSKCuphXrCLAR0U2KVRM7GmE4EesYgiyaZ/IAEG3DqEnSmNQwKnA1+snzrsazsbEcX18MMICSMSCX34WSTMFQvh0IkMfCEZmm3AF8aLEGRBGWJgteQwkDjjZrGGdhpctgodkPVTQQSNnkBhZCSiggAwC4JjAwRAuRuZBIBdUMCMCIUSggjkH5ohSNjAoU5AnBbli5EmReEaRBRw8SVE/NqjHnpUV8dIXl6KtEQtF41AI5kHhrLDfRMudidAix7k5lwIYmGGmnCiZMEAVeA4VTgyZkHNnnxQpNSihE9miBG2IWtQfM42ehMh1kVZkzA/rVFqREmlpShEPFAUEACH5BAUFAAgALFABvgAvADYAAAj/ABEIHEiwoMGDCBHcSMiwocOBvxg8nEgRwTxEMxBgqMgRITMlefJUYGGQVceJ+CjZiMQwhYaTDPlJmwIHEcMFMBPGY2LiBaWcOZ9dIGDCoTl8QA1K+yHkgQSH/pIWjCVjlEAmUinya6QkVVaO5rqsGSXj68RPN05Esml2Yg0HCjy0ncjrBYsLT+c2bGUD2EB1I/QiTGXDmOCG6kb9OPbjcMI0I1QMcszQhAEFlBPagvHGQwRA+TITjCYjmuiD4WzwOl1wBiAkmFgT7GeFgIISsgf6I/NAYm6B3GRM/i1QhFXi3xaJII7gm4sIephrG5HBi8AF8mR7gyHLlkAniKKegkb0U6A/c6zz0YrBLRMCpLINZZDL3JAEF5WYEzvyjTmCRpr4dwoGwkACwW/smFAAG8z1YwQEsvg3SiPi/VZPFqBUmBsg94nDnCL30UOcP/Zk4co/zPHzBSsayrbKBSZsw9yAI2iT4iRftCgbNRLI0g9zdRDAQjnMrVIDE/r49w5zAQEAIfkEBQUACAAsUgHyADYADwAACP8AEYxAgaCgwYMIEypcyFBhuRm7GkqcSPGgv3ceMFTyV7Gjx4PnXExo87FkQ1mKchmsxmiGL3kmYx48lSEFsoMsJniRGVOaoBcVXGg76ENDink8O/Kz1eVHJ3PfyCEkV0tODibIOCZNWK4SLU0/uvDCJ1HdiAZW+mndWnBdGAEP5FxbK1FPjSNNmLy5F1NcQW+j1ohwMqIHvJL+yHTAsIgbtFf1OkJCoUOJDUG85vkTly/mNCZWBM3wIIEMMW6rrBQzmKnHoFaN1tiwUKAEM7pJ4yFQ983FBSlnfjBoUGGFiAMMHEAQ1AmYN22AhuFmi8AfuZsF9dzYZK5dvldMTukIpp7U3/SYAQEAIfkEBQUACAAshwCjAHkBVQAACP8AEQgcSLCgwYMIEypcyLChw4cQI0qcSLGixYsLaxHJlLASk2L+MIocSbKkyZMoU6pcyfIgEQcMDhxYQbPmCgYNdPQL2bIlMCXzUgKTAaznyXmxpiAYhbITPl5KujAz2nNdJBmj8LFc18lGQWJ9EMDhpVXhKx+X+CFYZ66tWz01jiiJxfNhOASQENSlWnCFXr6AAwseTJhlv4XGsEzhFdFD4ceQKf77F7my5cE/u0wCtO2y58+gQ4sm3K+VBwppDo9ezbq169cJnzxgpA+27du4cw/GhEi379/Ag0/0503GvL3CkytfnhtOKnnMo0ufHhqYUurYs2vn2++HtO3gw4v/F4mpTDXk49OrXy/QjAAXatnLnw8eUIQe9PPrl76uAfT9AAbo2zVKCGjgga/xAgeCDDb42SiNoOfghBQa1QhTFWaoIUtjbejhhyRN8R2IJJYY0QrmSGjiiiw+Q8F/LMYYozsuTACIjDiuKE8JGDiS448g4jPDLmUBaWSFrcCh4pFMCjgFMU1GyaAxBUpppYBwtHLllvpxY0NQXIbJXiOULCnmmdOtI0M4ZqLppnKjhPXmnNR1J02bdOZ52zI1pPCOnoAK5wgBKUwT6KG+EaIDIKoh6uhr2cgwDp6PVhrZM1PEYummq1GyIKegfiaNDeOEampl8yhhy6msPhZJHq3G/yrYqKXKamtPqfJC6a28VhRJH7v2KuxD2AwSQ4rDJiuSDxTUoOyzFuGTwgVsQGutRHn00dm13DaESBfoqNPtuAl1MkU65KZrUCw/1Kruu8TYkM279I46Fb3qemMDY/ima44SqfRLLjrLYEGJwOQSkYEQOyHM7TIQDFCFw9xyMwUdqpBDsbXZ/NDJxtcaY4OmIEPLiwxQlvzsKN6prGw8jSjhjcvJ4pNHF+bQLKweaTgBBzo69yqJEQZ48GfQvI7SgQts2IO0reOs0YU3jT7dKi82aBKf1a3Og4h3wXIdqDRKCLJO2GLTWcc7XdmCdtpzhuICBF948zbcbrZjhwQZ5DJyN95ilmZDH5d8sg/gnBIzRRd3Nox4pdnA8QO/j1sqCyJYFVl5pRbgYU7Vmz9qgokBAQAh+QQFBQAIACxFAaQAYgBCAAAI/wARCBxIsKDBgwgTKlzIsOFAftI6jXBIsaLFiwr7RYSzQkkjRhhDihyJgB6ye/2YdVqzYkojXub8kZxJs+ETCSk6IoIps6bPnwT9Ecvz4EMNWuziAV36c1wnJVNSffPEtGpNXnlW9Dl2sBw+q2AdmhulREmqdQg0CaQ0UF3Ytwe9KZNnrI9WZnDzUkwjYUQSO8sQ5BGst/DBeaMsfLiBIIDhxwbxpfoB59gmQggiINgH+TG+VpSlXUOwgm3nx/Ni/ViD9/RpfLGUnDHm+nQ/W0q6EKsNuV4VFkewWJnI+7EwCxTCSFtQ3LA5RDbIeKFjY+C/5mH7tbLRaNzAdtjhSv+b0kUar/B6xwmyYQu9Xn6pZETK5v5tOWjGpmzxUf8tPBcRcHBef2/BwsAEgBAYljl9KMHKJkkoaBUwPzRijkC2XCfhT+0g8gNtG1ZlzA+CeBfiUvhEYkMbJwJ1DiRmNJGHiS36pEwKBLQxzho1+rSOHBXUUEqPPmWjhCDzEOmTLTLEomRN/ETyQzRP0jTOGWu8USVJpwxigyb9eGAAEFtiNAwGEjDSj0BjOFPmRZYwwIIyAs2j4ZsO+ROJEtd0gydG/QiChTnhCNTTnw3hA8cauiCK0Rl5gEOcow0pQwQGHQjEAKUOtVFACswN5A6nCzWAgh6kOtRPHkoMZFqqCSF0cgasDnUyBVq0KkQKFU2Ec2iuBn2DAgF6/ApsQeE8wEIuxyYERyT3NItQKlN8Ja1B2chA37UEnePFBaLwwy1BumggwCoCyTAuAtZY8AQ46w4kCCXGciuNDeDFi4AzSLSiLwLIoGBBMP8GjMIw/yIAjZv/BgQAIfkEBQUACAAsQQHkAAoAKgAACN4AEQgUWEGgv4ECucFYdhAhgkaRGiK8ACObQwQ+GHjQ5vDfqwwXkF2094GCuYvSplxEYG9Pox4X2Ui4sdKLAJgXreH4thLYGokDyVGRwu/iJQEYlF1UZqLGuYv+1gBbqQ/Jr5V6Mtzod/GNBhf7Lrpz4mqlvy3AuDrM9cCFOKMTUFS7SI6MHXQrYWWxtxLIBC8rfQioshKcE1grEdgR4mylCQOEY0JgpG+lqCzloNaZWdRhnQkmKjuUhyqGsM4I+5nAAOiiPhcCoqhFWI0RjEzgHBN4svKJCjYr803jFxAAIfkEBQUACAAsswADAfoAEwAACP8AEQgcSLCgwYMIEypcyLChw4cQI0qcSNGgMyJp8lXcyLGjx48gQ4qkiC9MgRTaRqpcybKly5cM+cX68cWIHn4wc+rcybMnwX62lHRh5rOo0aNIJwKbgoVY0qdQox4lhmUKL6lYs2oN+Q0ZszNKbOHbSrasWYbgTET4EAufv7Nw45Y1N6oJhAyZ5OrdiwCDinb9jBrrs6KPsWq+9PFdfBYaoQc1Uu6kq0TJqHSMM8P1l0tCAEYw5Xmp8UVGH6KaU5+tByjMDB0+lq00ZwtPBAJh1qneHfdZBApUvG3bxhFauX7SNGFZAWeUHi/EeUsvuw+QFUIwHoxAFphcxHaDIpSWmKEkErGx09Nv7qcrwoUCWKigMBJu7CdA5QYG82GkVSQ4P4iQwwQmWPMWXNQg0E8jU4i0Tic2wGGMejv5408vwfTDjA4UMGCDCDFYIAAHSqxwwAQUXEBHJ7xw0088r0wDVyoIEGUCAgdSyFEAr+T4lDaGKONPP93UcAMt2azDzzRWKLIPY0og8I+OVBpk4YuB8daOQAEBACH5BAUFAAgALJUAkQBDAXQAAAj/ABEIHEiwoMGDCBMqXMiwocOHECNKnEixosWLGAd+0zPLH8RWP84g+FcwlseMKCESEyQDQStzAkVN+dEppc2bOHMaXEFJJ0JleqANnDcumzRivGKl0hQJUR4VHUaQO+mzqtWrWLNq3VowmwkDD37IOCDChpIpZ+D0aUSpUypbjFig+AGsH9e7ePPq3VtVGiUlP4SgaMPNHD8E/qgehIeA2JQu0hTznUy5suWt/YxF+qEkkrR+/tRN9NevlY0+3i6rXs269cN+zBqZ1RQ5ccZ5nWQ0Wue6t+/fe+cB67NiiqZsPs01ktEJnzvg0KNLx2guVh4Ra1KNy5ptzYkRdaaL/x9PXuC0OqharREBJxbMuzUM3ChPv35vKwUY9LE1by+0HJNIZt+ABOKVCQteVGZdgQw2yBU7lo0jA2gOVmjhhQJNERmGHHZYXySaeCjiiNER0wWJKKa42jwr8KbiizDmtQYvMdZo41WjIHLjjjymdM0PPQYp5EQ2pDbkkUgihMcc6CTpZJLnmCCAHs89aWWP9bhwwSVXdsljH5bY5eWYMPYzRTRkpqniOiKIqeabHpoI55wdakKJgHTmOeCMevZZIDwrcAOhn4SWlw2QhSY6Xit9KOqodIKk8uikvykhDaWYsmbOChRm6illwIj06ah8UdITqajidQYwqbaqVTkNtP+Dp6u0olSOlp/UqitO4EAwASS7BotSODCsUs+swibbECKRIKvsswl5I8N70FbbkCCaOGvtttnY4OK24B7UR03hlkvQNTbMo625yeYxCrvsSpMuvObCkcq69OrKzA/45BvuGa34C64xP7gpMLRdxHKwtcQoYfDCyWJhC8TQAjMFvhR/2k8mJ8CScbLLpCCAJxh/jGkzELCATMkmPzrPFKnU0/KuTs28qy0/tGNzrdzYcOnOruKDxbtAu9oIHEW7yssP3yY9qrQbOj2q0ERLPerRLFudJ87dvKO1p9Iy87WnVGc99puRwGH22WkC8wO1bCt6jzA2iB33o0REQMXdj+L/48EACfKdaD99fPGJOIIX2o8gZ6ibOKH+INJFf4/7GXkXOlfuZyRYNK05nZRMAffnc2oi+tqkC9mJEtulTucorKPuOo+p/BDO7HOCZCTuasbyAzey816jLTYgJzyZr8wxg/HHezmNBRoM0vyY/RTiAQvBBD89ie3AcUY45Wx/JTdKINKv+FYSY4Ok6Fs5ig3GtP8kPoJMsbv8R47TRR6Z43+kND/Ilv+QZAsZ0GiAR9oM8xDIo3OU4wxnGB0DbbQMFjCADjKbII/6YYcMYMAXGuRRNrBwhkycIoQ3wocmZNAKfmgPhQOSxhTWcDsY1ggflLCBwmxYI2YoIQ+t4+GLHNAhm1gMSogqIlgfJIjEEemALi9sYnki8IwBBQQAIfkEBQUACAAsKAGaAHgAUwAACP8AEQgcSLCgwYMIEypcyLChQ4X9jDycSLGixYsL8bVSgsMEAn8YQ4ociXFdJxtwjNEjybKlS4PhGskQdA3ky5s4MV7rIyNSOJs5gwpdaGyNjVHmhipdSrCfLSxKYs0DyrQqznmpfnQBRtWq15bmNMnIw+yrWZbfcl1DJANRtrNwRdZzIUECpXFx814M14dBBkB6A09cF0kGpW7D8glerBDfqJnh+vVjTNlgv1g/4LytzJkgrylTjqnrTFraGSW8JJPm7K2PjVT8VnM2J1NTO9mV53Vqixf34m/5Wv3Iw62r77iOUjw4I834cbjcUhAose+54HmUZGCCtMx6YF4/+vz/9K6X2xolxMjrxS6jUz/n6quCFw8//lJucNDbh8veff39QoGXRzgAelUPKaicl16BXn0igQWL4MOgV9Ic8YAL2Pw3oUvzRGJDLOCMtuFSzCiRR28jKjVPIzbwkiJTxPwgSFIvDrUOIj8AU6NSwPyAyDo7CmVOHz8YE2RQbJjwQiPzHJkTOhAYYIWGTl4kzQ9kWAFNlS/1s1tqXL4UzhldjBdmS1PYoMlkZ7LUDSI22NBmSxIgoAONc4YEjiGHPICAB1TmuVAdA0Cwi6AjeYPDCEQ0iShGxrymDpuPWpSKDcYEWulB9ggyRXGbWhROF2ugI2KoD1VzzA9raoqqQJekr8AALK9WFEYAJpxT60SjJLFJd7s6pIkS3FAarELciKAEisdChGOzDImjhxRn3AatQoYQYEE1ru66BwNEwNPtq50ogc64r2LG7LUHEWPDZuweFIwZMBgZL0IuNMDCvQmdYIIj6KJKBRz2BIxqEuvyiwA/zcjQhcIF3ePDA3ZAXFA5Jgygh8UESfOCIeJwLBA+SthirMWUwCGyQMPUYEGxKytCQArVrIxANV4YcjLEAQEAIfkEBQUACAAsAQHrACwAJQAACP8AEQgcSLCgwYMID/pLyLBhQkspHEqcKDCcjGwUMyaE1ydSP40gCRZj4YFayJMILnG4gAxlSFE5PrlzqXHcxY80Kfoig6gfzpwOsaGYAAkoRXIMUMz6aZThKC7fmkpMJoObVIdGIghhevXgAgJEujKkAGHQNLEIs2iwxBWtQEMWRuBze1ABgRL76BZ8M2CBL70DyZ1CgmDVP8ACnwxggHjgvAUYFrQV26/dGQgSECzU+80HhAYDN9NFJWFCBquIW61YIMHFZKnbfIxo0khgpsNu+/0JIEGHwH+4u27rBUwJFx8WIizj5/acCQknbAkcgeBccKD8lJXjRmmGh8h0+xlGwuBhRiRmmEIg6CE6JyAfkzStEXFiwgIfCGQgmPRGKjsWDaRACDDSwCKFBQX8dp1RbbgAwQgwCJTKGEwgsGBXFRAEnFsBAQAh+QQFBQAIACysAMQAXABOAAAI/wARNFOHoKDBgwgTKlzIsKHDhw5fsHCxDaLFixgzQhwi4YIyjSBDinRIxk6/kShTgiwhqo/KlzAfAlsTs6ZNg9Km3NwJc5wNnkBTisAXtChIG+OMKr04RdrSpw7XEPMHtWpCQbGoWt2KIFInrlxHNQJrdUUYFNO0klXaBIWBOmuh6nhAq5/auEXtIML7dJONeXyV8loTK7DgLoaNMrORLXHRSJHuOo4JmJgMopN5nolFMPPNVIg939TEWPRNyJJNp6REoZfqmEciXCj2WiU/GCwgCDtZG6UrFWXy9IaZpPDwkFRHjCBmI1zq4xk7nXkO/SLoUdVH8pLROHvIUVgwe//XuEbTeJCdbDg9n1GTEsDsMcqRIiv+RSkBUFSz/3DdixEMwMIfRC+EEQMvAzakFRA2IJigQ7w0+CCEDVI3IQK22GDLhQyloiGHC43yIYgJkWaLhRNG8gELhpCIEAsOeCCeiy+g4AQW18jjIgLrIGACECukwhuJbxQEyxRwmINigppEYsNUOxrUyg+NwBdlJHAoEU2UBlEyAxBWnOMib2UIoMEk/ES5RQo6IIEFlCQOaYQSXRDDZUGp0GnMkgNGMoqe9YDDpSZJMIDCKnzaR8cIAWjQCDNDgvgCD0YIkQSVzIBI1R8G8eLeD5H8okh9D36TUCqUnDDACJgw080+LpZqMQILZDQhghJ5dEJMJlZ8hFA14pzHxUG2xNJIFww0YAEWa+QhSCR2WGACIX3AgUUSEPTmj4VR/IhAKba0MkoZGYwQxSLAGGOnCd6ledAFCCnhRAUULHBQFheggECk0PHLUD/ugkjOPwwFBAAh+QQFBQAIACytAKgAdgAqAAAI/wARCBxIsKDBgwgLikrIsKHDhxAjSkTABYmMhj7IQFAxsaPHjyAJzmGRQUgjRH3gnMEy5YcMEQdWXDCwQAmcPH0EhdzJc6e4SWsYCNChSVQqWMSYSfNmbp4/BNPYyJJmK9KaHyK6IKKkqdNAOj3DihWYLZKNM7GeqQLXr989hv6eEjRnLJUgLCJg8NARIcWKsYA7Uj1jo5E1dAjk9vTHjVcNCgywnJkSuDLCGJGINZJxBhZixYD9bbv0rNWZFWvgULZsWYiKETYiWfvHmqC/fnLDjZpiA2dtwD4IuOD3+2EzSkqUCCokUMi84h5HNcmkDTR0g3L9SWtk44QJCCeuS/+M9YNbP/ES+xnT0QACFvQOednIBn+iv2FAwsjocrq+QWA2XGOdf3DF5c88nZy1BoECGSMDMwyChOBZefgnjQzERLjThGv0YYN40tgAzIAadjQhHAOZQ1tlL9SQgS0lioUgBQpA8AIC5wVmRQMjlBPjWNhUIEAOSliWSQWKkPgjSK8YIscPKAaWSh9KLglSXPLB0UWRYsEBo5WVmSPIDzohYA5P86ywDpisEQNlhTwBcwabtc1jFiI8CTIKnb9JMwUKDDDwUTs2cFMlnz3hw94CH0nDJaK1reJCBn2sJhElkUAKnTlnnAFnRFMYoyl0/ETyg1kQ/TIDPqNeZ4sMlJxk6tAIHrQK4g942gompwsaoOuS/OzxwAIaRPNrjLpEcMEhFx1bYi6TyLCnsxpiacOeI1IboXypaFsiMDJk6m2EShwgBwMRILDiuOjxgoECFrDrnzwlNFCDvP6d4oUy+NYX10ABAQAh+QQFBQAIACweAc8AHAA4AAAI/wARIGAhsKDBgwgRGoERK6HDh//+RVrzsGLCfmciWdxY0JySVhw3+ssmAxiDkBZdQVAwAeXDXhICWEHAziXCeoBOwFpDqZ9NhNJkRPvpkBKchkQP4lOCNKlBZjHSSECAzZ9TeR40LEAgzimCey4wtPEqsJ+4RX3IFpxnI5tagZ3yvEUwTwYtCG+BYAih1t+NAUTeaiNDZ4VaezUKXiOLd8xcKk7SvDUTgK/aOhluvN23qNDcaz/mIrDh7a07FDVKqIWmgsATtfr0RADXt5+IWgL/keWCV208IQq2ki0mwbVad0YqaJuLw+rbB7rVLljw5q0RAyYQnIxOdFmETfzedkgx9habk1K71GaSMIKT2lMXTHx7+8XVXC7E8ql99cDHNLV6DMACOFGgUJBzLolzAir8kEfWCuO8VQcEkLzlQgOBqaULG8skFBAAIfkEBQUACAAsHAEGARcAIAAACNwAEQgcSLBgwUkqlBlcuFBUoX4MIwrsNcIDOIkRQ02wAA3jQn/1PqDyyBDVB3kkDTpDMeETxJQDwXkY4QsmQX4zmr20Sa4HBGQ2ByqLwMGTv6AI+n3Qow7pNiM58iFF4IgAhmk7YbIyYQVl0FdCLPU7avPcCApjpuKzYOIVWZhgv9RDyq6EgSpZU3LDYOLUW5LimIzAhO8vyVoBArwKCm5ZEiFeytkUZ+JCGX1IMUHI4MnmMB85puzSJTXlPCENTKDLG3HYm0U/svgwxDrijdTSDJPUc8PQVIEXfwcEACH5BAUFAAgALKYA+AB4ADIAAAj/ABEg6CewoMGDCBMqXMiwocOHECECugHpXcSLGDNq3NjwRoMaHEOKHElSoC4rMGCVXMmy5UF//vpJs8HLpc2bJI/RxMmzZ0R3M2v6HEoUYdCiSIvOBOYvqVOeS5s+ndpSmgxgVLOutIpVq9eQXL+K1Rh2rFmHMMueXZsQJjMbXdnKPXjsKsG5eP29JXYX71xmGVx8kuqXbYkGQPAVljvLC5Iz3hafhYnAXycZsSTLlaakjznNa+c1+mGMMGixwGxEUnx6rDk4U7K1NttKRqq+s7Vyw7JmXO6v/Cjt/O2VmRJB7Yhn9bdOUAwrjuoppxqGgoVkuKcXDVZDxwpEkbU//w1HaYWg8OKTmqMk43x6p+vbc3uvnr0gbqbp91ynSUaf+foRxZ9/m0BSToA+rUOIBQK0gU9+CLbkTg8jHLFCH7ywFqFL+6iDwDipnHEhMBpuaBOIXbRHook4hTNKioL8Ysgl4mgVjgmnedMJDwFEsAgxySH1iRWTrLHCEDhqBg47ytxgQiFYiNBZKszMUxA/JW3jDALg/IIJBA2kAMs34MzmDz37CNTPNa0gEuUUgtjhghfZFSQdQvxAc09B8yRjQgUWTtFIFDfI8qB++EiTig4GMHCADUqc0UcjncQSBgttEKMpL7bwIoQKKPSBhQ0ixFCBBH8EWRmE7/kzDRuv4DIzzjXA2DJKJIJ4YMADZ/Sax68ofMBCLMyE05Qvr+zJ4ktNwUQZTMjUoUx+4pyyTUYBAQAh+QQFBQAIACyPAJEAQgFqAAAI/wARCBxIsKDBgwgTKvzkBZo/hRAjSpxIsaLFixgzatzIsaPHjwXncTNmq1MjOAwMpNBkK1q8hyBjypxJs6bNmzgV0uNnsF02YrE0IYIzRYaIH136RBrFywwLRpryKBGhJI8mXtz6wczJtavXr2DDIhzG4oYoSoLOKFlB9YwgSqmASRtn0J9WfzDRXbMVCc4PEVP6dALmbavYw4gTK16MAB8ZARfwaGpFLNs6jngHzpMWK9Kav1gEjSIW7uE5ZPkYq17NGrEgBNcMQySmRA6gT7JvrmPWqtEZGyu6mMigJ7dBb52m/Ig0t5PAVq2jf0RkI1VOfMReT4EtUxOCSAOvJf9s929iuDw/gPXTmtgcMRcaMKyx1W4ipR8GG2UzLr1/wlQyNIJAeTbxIlAXo3Bj0ziC2DBKPx3xM4oMkeCzmj/bzIJOLHCs0AcwFipEIEEK2iBQiP6liNAZA6p4mDFTrKFgdJkhYE4qWMiACDMu9ujjjwWN08cPBv6InBI/UHIMkEw2uVo/AEYyj5MISBOJDVOMUhqVXHZ5kzRTnJGNlwJlt8IZrVxG5ppsWmQOdbbwR+U8vOSxAhy8oNjmnnwi4E8rNjSiZp8IrNPKGSsI8oser8hJ6KP9yePIIFhgERukBIXTyQkEjPANhJiG6t8rE2RwiJ+iDtTPLCyMIIMmg6b/KutizzBwwzazEkQOAtbkIQMl4dzDU67EeuUPJX2kVqxAmV0jyAqRhAPPstTaZI4M3lR7HCLQmuOotuBSFAki4W5LIV3lplvROCuEo25B4TSyQiPuvmsvQohE8i2440SyAiJb3iuwNzKgKzBB/eqY7cHvvsXwQeZQkqg32JTzsLbcyGDOxRBT0oEFLojD8bJ9eDfyQZdI8AAh+57cZjYy1OdyQfe8sotUxMwsah6jtMwxMD/0EbDOfEpjw5REIzQPJTKMMmzSbMKRis8uc7PGFMZAvSYzPyCtNUL+8BK0t19TiWbZEM1zZSrsoe2jMUro6fZB2ZwxhTRUz30YOVzE/6J3RLbYgMjGf0dXzAgM4Fq4Qus0IkMUXnyzuGqrSHABMpNDRIsEA3iSd+Y03VPGH5+j7Y86VhChDeiK9YPI1KzHnuLrstcuHe22564a7rr3jhjvvgf/lSDQCW98V32kQs/xzN9EfPPQ0/R89NR/NH312GskSCylZ+/99t17X70/ffgt/vkTlY/++hCpz/77BrkP//wI9BEn/fPbHz7+vuvP//t5sMX/ACjAAaLPFxCoATsMeD5HDMAC2GCg+MjRBhw8TYLj2we2MCg+RDiHg9mD0f5AmLl+/GBMJKxeI0yWwuhJQwkjbOHf/PEDacgwepQAzw2bd40fxHCHblMCj96AeDxNCIiIxuOGDUCFxOBhIWdNDN4oXhNF34VjBXKrYu26AIwfanFmqejDF3XHLq+NUXbzOaPtOKTG2q1jBbFqY+ayQAaRyTFz7DDBAN5wx8ypwwcVmEMfM8ePX/zAYIMsXCTykMjJzUMJRWrk35hhA8JJUm+NEOMl9TaP9GxSb8b4QRw/qTVEIMKLpATXOn4AxVR+DWhmdGXSBNEIVMpyWeawwRBvmTReKCGWvHSZUmwZzFnlEm/F1Jkt4pZMncGBEs2c2ThsYMNoniwWU8iiNQ+WAxNsc2Qu+GaqAgIAIfkEBQUACAAsIAG0AEAAPgAACP8AEVzCh6CgwYMIEypcyLBhQhQxbDmcSLHixGhK+rSzyLEjxXmIfkjz57GkyYO8bGgieLJlx3BnulhzSbOiv1EybJGsyZMhs4wbewo96A7kD2b1hiotCKwDCyb5lg6tQ+BBt35Se37TU0ZJtqxDW9kgthNsTWM2RpntyerAgU5rXQZggAlOF3Nl43q8Aa8fpR/X8uotaUsGrGFRB5tkxiADIMGKK+pzMUFIZJPfZE1BdNlkuy6C+kHu7HDemjwsSVvEBwfOPNUc+fU5ExQ2xX6CkBjCZrsiiwJERvdGmMaCiuEUv/0Qke0fcoennzf0N69LI+kN103RhJ3hGwkYIHXWV8iAAopp4xHecGHBTHqE/WxpiICA33uDIr6Yw3ofgTQ4gvRnUDtNROGEgAjoUdU3BwkHmz+oQFABNwhiMgoWCL7SDxwrIIjAGiKAss17/CGwyQUmaDPeOgetgkEFzzg4nBf69IJHHv2Vg0A/7UyRiofcaAABKggqgEAICJrAgAUIdlIIHDgiuI4KC0jiXH8LZFCBMgK+wQADrpSYnj8G/CIDMwjeAAwGN8gi5njkmNCAEQiGYgQMmrzZ3WvjNOGBD1ze148qGkjgS3oPWOMcO4AYkk9AAAAh+QQFBQAIACxcAdoASAAdAAAI/wARCBxIsKDBgwgTKlwocMECR/8YSpxIUWKMCgX0VNzIseIKETmqVOtIsqRBEQfyzPNnsmXJAwca9XNJkyPMTjNr6pQIs9XOnwwdAANK1OAFh8dYFl0qAoKBG0ujwvxSB1nOqD8PiIiFwJ9SrDobHMDC7StYnQEOUMJ3dueiEBgyEDPb1mUEAwu68atbEyYOD1749hWhaZ4+wS4LHBAUji7iiqNSLKhwRJrjxxRlFJAwIAzmlzCTGCGiDeghXD8XMUAQ4UAfaVd/tsGyBQgQBCVGtGzwwMKCPeO8ElXa70+ADIMuIOCBgMlESx4EwmwAIYWs2Ev7VfNRYwsFFiN0CGAIgOALQUplUggU8cGCAgg4BBHDV82qYHcIwpkw0DtFCgwLIMDACgv49oABImigAQTCsPUZQcXoUY03wLBAAAtl0FGIBwJEwUo2/cBDSjGXPTjQNqFs049XznxyjokCBQQAIfkEBQUACAAsfwGqADcAMQAACP8AEQgcSLCgwYMHt8FDyLChw4cCN6Ew8euYNW7nEFRjkwmiR4P+CIbj1QnOCQYBHmyZ8kPGAQoRKIz49rHmtB4+MMH5seKHjRgIKFQ4YtCDiRQ/gPWr6ZAfLBQCMrz48ePhH4LElKzJRi4f04LSGsmYIGCBhDUHKUUiaGUpwWyYOozooe5ruE5KDhxo8JVhCAEjtnmEZAbUGb0HIPL7GGBEmxeLH9KqQGHCgRV9H0J6YQ4LMIfZ+lSAoCBLp4KQwGVGGAtOyIPS8uxFgAEIyNerDZqT4c0gszV6c68ug6IXAjYIiB1OPPCCL9zCHypwQAQQihR6pxQ0Hv1jCQinShTgUIClu3BXaBdg8GA+949WggQqaC9cEyUEAugLF9QKuv6+a3z2X25HMOPWgF+ZxYR/CEJkgQICENFgX1n8UQ6DEzYkyArmZMiUIIJg6CFDP0gz4kd9YCHiiQadEcuKLA50hgzzxOiQBQzssY+NDS3QgAs8NpSCB4bsGKRBWPxQ45EG+WQMkwdNgQiMNirxwzpQFrSCDAJmOdAPfXhJEAc2dCimCxUoUAo+YiLwgQUEQNKmlTmY8Q2VI3Zhww/jtInAltn4KYIIxAh6gC1eidnAAaPgeeIDBiDip0BDHPhRQAAAIfkEBQUACAAsTwG4ADEAOAAACP8AEQgcSLCgwYMIEwq8tkChw4cPzSE6ALGiRYH8Rq2geLGjQmJKDojwSNIgNzgHDqwpydJMDR0pWcpE0IYCAg2IZpJsh8iAggo6SRr7QXFBhKAX5zWKieDBQVdIDzILKUOgoHUHLXCIKtCZI0JMFTLgOtAEAQUGNJGtaOvBgwsQx/nj2i9SSh0V/3E1d0bkwCdrFUojGvghPGWtRFDsZKNwQiYZFExw7LDcCAFAKSds18WBhBuaEZrDMpLYwHOhB4ZTsmKgJr2pEXwTlqRq7ILTWDAYe7vgLgsXAvQmWE7JEQ5thgvEtwZLY+VWp0BHwO/PBA3TEbyKICGDQN69DTGmWDBWAQZcw2P0mZE91chO0PUJm4EnO5ELCi7Ugd6vxFkEaUDHDxJzvIAALNC1coYgCPiz0nDl/DBJdqGMoEB2CNQhAAQYZMeFBptgqEQfAs2lnDZHCLTJJcqV44J3BhBkYmrlmIBBCAigsAx0hCyiVnZw2GIHJtNlwsATE5SAAI7D3eBAQwjUA90qFbxyxC/98HeAiVkqV8sFgGDopJLZQXIDJBgGBAAh+QQFBQAIACxPAe8AKwAXAAAI/wAReBiEoKDBgwgTKlyIMI8thhAjQrwnhIUXiRgzVktR4CKCfBlDKtynx4IwkSgXFrLzLaXLgv6ACCDy8mWVCUBqunxHa4YwfTpF9uuHIkOaoCh9DMiJNOS2T03srCrXFGM/WhEyzKqKEZsLCEisTeMa8du2TgxSGKpaypA2hvzcuQiQgRItSG9d6pnkgUIViP6qrWomiMGAKMzEkXoFsuAlbvX2FQREhJGoPj9WnNHBwpE6qz5QSJnSoIIEMp1GHRrhAlOjPl0eOFggqFW2fuwQ1BKpD1xBai4s2KHUSEoAC4RGxTK2qYYjf1y/5UUAL9MsfgilIehjg6z3oCgQ/Aj7zrCfeIgBAQAh+QQFBQAIACx2AaIATQBfAAAI/wARCBxIsKDBgwgTKlyIYJ8yeAwjSpxIkSAbFUQqatzI0YsAE/44ihyZ0F+5VU00kVzJcuC4H7FayhyZTIaxmTgpEjBjTEa2nEAlxoqRaVvQowlrEMiItClBLxi8hHTqlF4MbvmoUlUSjZ1Wp11ufm0Kh9fYpoJanUUaqdPao50ivQ2aCtHUuTL3WXlQDO/MbygK6PErs58UHdUIt8Qnw5vilsaw3H08slGnyZQ5/viZeWQbJZg7V5RCqZ9okVOYneboTYbp1RpHCYKtkR8XYLQppurx4FVuiTK+jRgA6LdEbx0MHTMesU9p5gyZ/WgHnSGWWKZ5/at+ENYU7gojxP9gRh38QSp9zCNkJiOc+oN9NIVWL33e+4LhsNi6T3CSkCMIsMAAfwj40IALBAoUDg8mAJIEArfMB10jcPCDQHr8xaLEOgkiQIxPHbLwg1kdqkBJhwgQssZrBKbyQzcxdQPRez1xhsB2713zw34JHrOGXAmOgYIKKLJgAIIJaoKEHpMgMEIw91GixDgDiXNfJFOY06EOWXZYRhMcJohIF+3sdw1/gpDZYR9n2MefDcLksYab/PlwwRB03hcNAwPUIEQM4UhoHC82LKKIBQKxCB4lNoglkDKC0maCClhwkyAwSiAST4KxyIAdgcw0shmBeNDSBRxh3jcJChfskaA0X1SNYMEqAnGDI3iH2BCJLiUIVE+ksA2CAxbRWHgfM5TIkIqx9xHzQx7u3WeHIXL8gBt/yQxHRXn3ETLDCCzIcl823gpio3rhRCIDIt7cVUI/wGZmiBF42NCIY/e5UoEBQlCpXjvMFLJCF0bU4It6wlDygxKd4HvfBZFIQ1AG742AgFcFPXEjd6TggpA85gUEACH5BAUFAAgALEcBoAB3AEAAAAj/ABEIHEiwoMGDCBMqXMiwIcN+q0I5nEixosWLDvFl43UIQ4ZD1zCKHElyYogS7Pp5I5YK0ZofIpSsoePCxJcfK9ZQAjaupM+fGHelyIBDxI8jI+YAy4bPn8Bz5QQCmaRpzYofKoBq3WqQW6ouMSCMKGVsopF5//xxMzLAwz+ucEmGS3VmhSBezDBtQTDl4ttTCDo5jUvYodcsK/JQ0mTwbeHHXGEgkBYLzooKkDNrDpFCxQo4gtYgGDCwnubTQKUtgkCBBaUfqGNvJRZJBpxFPGLI3u3TGCIZeRDxRWCOWyeBjHkrb8jry4wuZ5ZLv2hrTQQED6Zrn9gKy4++pLeL/z94goWRH1jW2BD4Sc4JgfzGjzdCAAOe9QiyIZCRXL54Vkc0oUMG0flnIALAvAQHbMwc6J8tv3mHQFkOjpcKJRZA8EIXFcpHSSo2NEEQAx1uF8sUSkwhw0CwlbhcDiwcoUSBBK3j4nIeOIDCjePVMIMUI7wQC4/TEdPHD3Ag0AiR04kCQxdKcMGkdMBw4cGU06XSiQxSGnQDlqfxMgUWHIK5Gww1DGFDH2YqN4YBFcjRJm+EwMCCBHPKhgoSXbCJQA0DDZYnYbBokBVxg2omDSIxXNBBoqdJowQcXKDwJaSFzcBKKjJEgmlmXLhgAQ7HfQpZMg9oQIVAkgpiKlylyLiwCA5yvkqYJR/MIQMl+JiAgA/u2AqUOY0cMVB8wm5lzhprEJIsXKJwo8SSz3L1BwsPjCJQOtUClYcKBJhQa7dAAeNADsaSC1QJaKqr1QUXhOFuuTH4OS9Jr/wxgzRJ3jvSMhdIwIi/JSXDAAt7YEGwSOb8MEcUC4sUzhnOItCGYxFThCQ3FbigSzsZT1TMIQ4MZE/IEymDQgRGoGzRNCygYIjLLz+BACidlEkzRYOZszNFNP6MUEAAACH5BAUFAAgALDwB3AAUAC8AAAj/ABEIHEgQwTMIBRMqbIRHIKZRWBQWZGaj1sB+AtdJRIBPCa+CazYiWCXki8iE8EwYMBPtZMEUJiS5JHjNRrGZBPOMwinQHowZ83gieJNBgVAEXgQsOIpJyo2jU4wd/ZUEI89MKEzkE6pHgAlyQptxQHY0Vp+j6rKIOspEwxO2AZ6Ui4LA6slfR9QhGBDB2cxUiI5W00HmaB0DI8Dy9AXBir+jNsYd/UZA3WOeNzh4OdpDApuj1mDQO9oMxlEEPTLoseuynwsBaS7jrNahnFB/7iiAkz0zTYAevF2mmfBUqLwsro7qkxLFNk9kGASECi6ynA8IfoXOa3Du6CoLLhTjDaw0gcU31iflrbqJMyAAIfkEBQUACAAsPwEJASAAFQAACNMAEYzY9g+BwYMIEypcyAhJv4UQIyb0xeCJPYkYFwIiYGFbxo8Hv0Xh4Q+kyW8Qamgz+VGXBA2vWGakB0hCKX0yM0bB8CQnxicDWDz0CVFcpg9GgpUkutCFgx5LmSY0ZIIDpGJRpR4MI8AEOa0JP6FggAcQMrAhw7EoYAIfP35oERhCkSIGix4e0apDsGnCBCeRrBCZVlKcM7gGv+mi97GeIkDA8GAgoOGMHBMR5nTaXGKCno/+lu7TUyUZM1cQJEihFClSiROfiYaeluveQXHB8gUEACH5BAUFAAgALF0BqwCCAHMAAAj/ABEIHEiwoMGDCBMqXMiwocOHBqv1ygexosWLGDM+FOciwyWNIEOKHGmQnAkMnvyRXMmy5cJzMWipc0mzJkt/ts6otMmzJ0Z/Z2z5HEq0YTYb+IoqXUowUiSmUIvis8FtZ9SrNXNi3VozKNevK63JSAq2LMhGT82qvYhPRtW1cB/y6hK3bsM1rfrZ3XvQm4xzVvkKptRIsGGB/GxkO2x4LmPDa2I95ut33uS9hC/X7VcFwia9mte+M1EgTeDQYMN1GKMN9Vo4nU675hprCtnZYM3ZkIbbbJ+0vb8CUzJPdnCm62wYO/4VESLmXI39WAcd67wfwKpjjdRH+1VpNswZ//feE98UW+PJ89QEJ736mtlkhHuvtB+WVvSVjtKZn6hfbv0NBdQo7gU4kj6pYMGPgTxh4wIDtKDDoE2+YDDBKhPW1E8eUkDyToY0NXLGbSCyNIoS1JXYEi8/eKNiS8zs9iJL3NhATIEzQmTOD7HgmKND82ChiY8/MtQPHIKAVuRZIy4Z0ihTmOMkSLzYEA6RUx4UI29ZYnQUMV1iNA6PYV4UpCZlWnSkIFimiQAbJhyxoJsOqQOBAWbQ6RA+ffBgxTR6MrTOGXmQGChC40yBSJtpZvNDJ4cyBJ5kkSoEjAzZVZpQKzJqilAnP7zlaUH9IDLFOKMaNE8eZ7STakHmdP/Rh6GphqNEJIyW6egorxK0ShszCNWrQNugMEAbwwq0jhwPsKBLrlky80Mj87gzbD2a2AAMtFle08Ua43A7pS0yQJpsOX38cEyyCEjzAyKWDdtPJzbwIq6T4ZzRxZW99qNPlZoomSo5PpgAgzT3FunPJBgIkEmy0nQxxSCAAPbqOILY0Ao//SQ8Iz6dyBBJir3yogQciw2bzRlK3DisOYjYkAqtlULjxRwyICJlr/gIYQAE1nT8qjn0OsECGwJr6k0jKwiSjcczSpOHyKimKk8/wHTxwyiuWk2ECS9gYcuco+LDCx0VENBG0pHyQ4wgK5yRyiaAgFNpOa9sYwwiMmBNMcp8o45jhAAMTNGJi4fuU4w4CHATiyBKrKBCBj5Uus4xbWTggQw/5JEKb/wo86GeOUwhgwhK5DBBCdewHagEY0hTNT25bNOrPVAvGRAAIfkEBQUACAAslgCKAG0BSQAACP8AEQgcSLCgwYMIEypcyLChw4cQI0qcSLGixYsXTwEqh7Gjx4FTePVLGI5YqkZnBCrJQymWNIOtKMFRguAHnEipiJkjiI8ZAjgrfgiKheDfx6NIkypdyjSiN1AWBlAZxSsbvqZY2SFQgkUkwXLSbGnqMwWBjTOCRgHzptCfP4L9uPHqhADLChldBHUClm0kgmyp+gjMM0raW6yIEytWmkogt8NNs7Xq88OGnBosDiGaKeLHGUSdeF1rR1AevcUFNRlFSBTLQJON1vzYmieSy51IjbVCIJu2bWnrngoUAaeTsauokytfvtzftVR5bPzo0+oxgn7v3rrt581kJM5nBRH/cuECG/OObs+rX8++/cV+0kbBkaFkKFuJ3HXbkZChlvv/EKXwQyNFAWjggcz11AlQSiBiyzge+ZPPJVIgAhmCGArET4YcdnjUKj4MoskZK0zRCC/mXPiRP+b8wAtz/MTimTGQ1dfOah4iIA2BWIwSzkCI8AZMjkQuJcMoR2VjwgEeRALMOopJI4M1Ki7mU0Gt4Fjkllxy2Q8vZ9hghw+ZKJeKEvN0qeaabCZnTic/dGELPlUulocgbeap554XXSPICoIYxl45SsRSJ5+IJqonP7x08YMmELb3VjYyXHOoophm2mE4msQ5J4KxKAGlpqSWiqA0fwbaISJ5mOrqqzDa/+JoJz96OM8Ui0AD6668KvXmWbwgRyQqF4yga6/IJisRqoC+xKU/uBQ7jbLUVmvQN0QAscUPneC25hegbGjtuMr28wcHExyyZx62kOsur/7wogQXVrzxzp5wAHPpu/zuSQwWUwyZ6Bk09mtwosycoQQv+66JhTR+HSzxmtfA8UMs/TS8phKWTuzxltxEl0qapP7gjcYfp6xeOILY0Ek7KLdpQ6Qq1/yfOY3IQIm3pq4wqs1An7cOJTI0QvOrIpAc9NKLzdOJDYLctys+BzBtNWL4pGJDHtkku84KMV8ttkPa1CMjHM4mO44NY7eNkSEpQNCFMfpU681sbuct0TUqDP9QglbWZkOT3oQzZA4iMohyybHWSoNF2IVfzc8oNjTC87isHFF35JwLRIwSa2QD+asmCBRx53lzY7G+B3uAeuHtRCJDJyPZ8/rt1vYTC9RH4+47ssxg8fDvxCMbDmVEFa/8q07rTNry0JPKyw95SB399XxCcgMPUxCD/fd8tmOCAyacDv75XU6fxRP+oe/+lt7MxIw679efIz6dzC6s/fwjyMwUa7Be/wboHnO0jGEETKCkdteInynwgcvJxhmmkDYIWrBpREvF/i7IwaXA4xzEmE44RtfBEj5kGy6AAAy8Z8IWJmUSEZDAKVxIQ4+MYyabyMRpashDisRCBpqYh/mMekhEhoQDDhQsohIf8kNNbHCJUCwIC5BYwShacSA6MMAUnnjFKK5hCsboYhfz4QUTGEAEYRTjFalhAQq0QY1dJIYNpOAFbcAxivyghA1YeMcoYmENvesjEW1xABgIhISCJOA8BKEEaZQukUQES30cCMkaegEFEmiFOypZxBsUgAicVOIyFIENRIoxIAAAIfkEBQUACAAsCQHRADIAMQAACP8AEQgcSLCgwYMIEyKY5wEBEIUQI0YEhuWLxIsYCXY6QOicv4wgIcaSUcYCAnUhUxbsF0nJNUMaEIBTqVJbsTNnzNHcieCbiQhl+PHcKewBBlJDaTKzASpYv6Qpickg9hFqSFA2mFkNqWDBjGhbQUKIwEDUv7AZhUgwkQQtxpEUhJ1pddatQmMyoo3qYzeiNBnAhPZVGMzHCV6DI3ppYOJdYoXzkLAw9PQxQkF5qlo+2GnKvM0HF9z4EA70QQ8OXJg2KI0Ai0+aVyPgqy62aXCicMgmWGwEgzq7B57KcCFYcAT9upTJdRxBpDW2Ta9ioSFdcyAOSjQ39wII7OD4ulBkir6ZXxoTWchvJjfCwJvmmnhYmRZclSUl4dQ/dpSBgbXjNVAhgQvi2CPbBDfgAEct2+zWgQkeFKLPcR5McIEyspWTRQUQ8ADJKvrZBWEAEMRS2W4haODDibvV4ks5zf1TV3MBAQAh+QQFBQAIACy/AOIATwAkAAAI/wARQDCFoKDBgwgTKlzIsKHDhmwkjNj2sKLFixgRrkqx4FfGjyBDFqxWCME6kShTNsSHRaXLlwa9yYBJMyWwFTVzgqSks+fFfgWH+RxKtChIBTWmGV2aCwOBOUCXEs1XR0cDYlKXxhJhi17Wory4Rv3qkxhOskSZ2UArdSzbmhEWWNn3NueTAg9+ua2b8p82NmVE8KXpr2C2loNr9ht1NjHMbI51DljwBF5klS4IRMBz8rLIb2narBHsWWW0PI1Li+RWcMINQ/lUf+SH4IGADHt8liNmAoGCgv+GvrpRQ05qBF5Vsqjw4IUOVMGM0kaAjxiighA8jBH38VQmgwwIeF5oN1iBAQYISxA5NdZLmk0GM1iQ0IEOECuKiiUeVmdYM2KpFKSAAxAc9MB5K0wxAgYKsIBMP4Vd5o8/5CDQzzkIWNHDJeOEYw0CJZjghUHFkFOObAtNiICKCEyXUUAAACH5BAUFAAgALLgAsgBPADMAAAj/ABEIHEiwoMGC20g5O8iwocOHECMS7CeNBQEFH1AgSMWLFzFp2SDVMCSxpMmG8AaG40Wpy4oDFjAsEIgIDsEDEBwoEMjtpM+SmVjsNOht3zR3CPIZHIcKCJAMCGTY6JPqWj9/CPb93Cpwno4CCi4giIdVor+z/A6ugGOHhZVh8riaJPYjBpVaSenJPaiiwMy9EdcJEoFgHGCH2szUGIAADrF+hw/aWBM5IrlLA390Mny4VgkCleWKcAzt1r2t30YMYODlX2ifZR14kMBmqzsIDz6Vff2zmwkLFRBMc21y1IFjvPeKw4ygiTHiEb0RTh56bTaJcNZApx5ZBCLODXnZxECwnXv3MlWCmV9/0EODEgbrCGBPHRCDDGKJQxvxwEc9+rwNM5A5kDlTwQW57AZgaFoR9EUWkC3I3hQS0ucPYeVV+No4B2i4njEertdKiCSWKFcBJvLGBgQlZJgiV08U4MGLlW0zxBc0VtZJjpUBw2NkHP542HhC7mWTgkWeRAkCSCbpJIAUPPlTGgy4kJaUJdUxAATsYFmSOHOg6GVJ7Jwx5lzTnRkRFmpG9I+P+LT5kD9T2OKinHjmqSd9aezpEAN6BgQAIfkEBQUACAAsBAHCACAAQAAACP8AqyEYSLCgwYMICU659i+hw4cEV7SCSNFhHnP+Kmok+GPQpXcZN0Lcg2ECm3ciIX5zoSADgpApEf4jN9DJPJgxE67BgjEnRCXecPo8aOMYtqEJCTFAsUroUHjQHmQIgfTgv0oVEKBqWBUhLQQyuhYMgEBOULEDLXjIsw9twRcm3rgdaKWBAl393BZTMOHl3IFf8P0dmGowAhHcBtO58KaeW3+QCERYNVeZggpm5oZcxG+wjXmGOw22BKGKO7f9HA2IMGvuLAYVSDlFqgdBM65iuWoyjETb30wXPIB7nCbCgmF/IShggWCcWH8ZGRg2jAdCDXFzMXCIkGvumwoLtg1g3oMPN9o+f/WhMKFrts9hDAp4+fuAgarBWQZ/KfSX1AMPyLnlAgYQFDOXGQ8wMdgMz6zg1jcoLDBQZ2L18EEGfeUlVgnKGfLMaXMJNtcD7k03FFV/5fBKcgiYJ1YITgUEACH5BAUFAAgALOwA/AA1ABYAAAj/ABEIHEiwoMGDCBMSTLMAAj+FECNKFPgKgQEF+iZq3CjwH4IHCgBxHKlRwip/JFMmrKAAlMqXBhVYKKAIJcybCBgsgIbzpQcCDRgh8NgzpQIMUfoVfakggJmlKREh8MBHnU2oEy8sYICp31WsExlMuLAMrMZJhRBAKPFJqdmICiQwSPX17cFGAy9McPHQbsISEDKs2GOGE7i6CENECdMKwRmSiyYdG8igQYl1XjeGEJChAJaCjBiNKniI0S9jAkFqeCACTpQeXnyRhHYDiCtNfbrEQFBgQQAJSggqEFDhwAEKCJoCmdczM0EgJTC0GdWpE5kRISYYkdbuX7Fiucr5Cj3nrK67YvTMBgQAIfkEBQUACAAsqgCpAEIAZgAACP8AEQgcSLCgwXJs9IgzyLChw4cQIW4SIOHIgoESImrcyBHBukYNHoxwRa6jyZMG+6WScUAgN4b8UMqEaGyKiIFdZurkmAdBo51ATWJAEbSowW9ewjxAUAdFB6NQBzoiEOHLMoL/ohqdVMECulYIvPnTatScjBUIbJHV2qflWq3A3Np4a3TdD7paEeHdyxeoAaJ9ixrqFxjltkETGIHNWvgkEQIPGDdG6QVDisky/TFrgIAXZpSx3H4+qUn06I6CTp/8d0b1ybuuOeIzHRviy9occ+DezTuwuixyiPVuWAeDCYFjhxP0IoCBcobfyjQw99xg6OoGudHG7k8GdoNwvhf/1CSeoPDyAtdt/24BfXII6Jeiny8wKwy15beJdFX+VYAJk5R3zhsZyEFJI5JVVxoCNswj3jpozUfJTei14918o9A3z1wv5JIcdqm8cAF6+CAwAgJXiYeJEMh9l6B4/6yCwAPGXCheE05gUp4/NQgABBblMSHBiOXBs4sS8/mTTYToxUVfJxTu2NN87UxBnzczotePMRTM9yJ96JVzRAVtoGdFAxCAxcuHygXjwwn0tbNGlOLxIwiFsXw5XCdu3eDiP7zQKR4zA1n5nT8vwSfDKHru5g8bAwFZXhkZsIDHD8A0Wps/4FhggAroAQIEEoJiV44mpSpXj0DewJFqdbzMWQCYeP20EwmYPghkxxxJYMfYHxFMUEZ537gAAQyv9iZPOfO0MsV6yvnjjzFwFCAFev9wM6wGZESxyHfgCMSAAfJx588bLFDxbHnxCDROLH3MgO0//bQRQUAAACH5BAUFAAgALMEApgBxAD4AAAj/ABEIHEiwoL6CCBMqXMiwocOHECPWY3KjFrmIGDNq3Jhx3jVbmvpgiVGBgAQOBFsRyzav4Dd4HGPK1NiMIIwDCMtEAYWAhcAHAg8cWDFlDaIyKFywm8m0qUIKAsncUKgEwQqHWCYEeDADiNOvTSsgEFfqzMJr3CAWKrNnFMFY48DK1SijC4JppxD68zfzgggsnbLxnUuYIbt6TPcWREEAwsADPwoBw6dMWeHL9y7/W3jghQULxS6LLvyvdMIsFirAoEIEweDRsC/DwEMwbuzbcjcXnCDo2mvcwMFyObCGmO7gyJliQSBiSix8yaMzFfFjkZlP/aRr1xjBgAl028ND/3RiIsIJ8egjevCWvv1CCppaup8vcAiCH7yO00fPpaqINdnsJ54/pg0kQiToVPObgNv1gQADKTiyIIPSreGBACqoQiF6MJQxAgJTbdheKyKmJ0Mf65SInhLSqLidXSK45eJ2IsgBCTLZzZhcBgOY8I6OyUlhwQJe6QdkbFuE0ECIR+KGBwMITEBik7H1k4tAe4jQCZXA2cBcIzlyqdlxK/QBnZi3xQCBAmKhOZodAUgAlJuX/eCAEAoINCGdX2UgEBV78skUTAKJIAp4gl52gC1GJgqWCMYE6ihTHxjhS5iTOuWBAz1gmilTbSgw56dyRfEjqV85cI2nqMo0xZmtMlG1QiSSxhpRKxeYUIutMrnygAFP8CqTDww8wIoMxgirbHRyLBuTAy06qxEXPJBSq7QIMTJBCshgG1EmCigASQ7eOlRDBgpogMAa+5S7UKMIBAQAIfkEBQUACAAsLgHgAAsAMQAACP8ALyhDQLCgwYMIc8DJh5DgDHMNEcg44C0iAhhDkEVkYcDFv4Y9GITYF1GCB30WHdjz19DcgVgWc3jQEwYhtxANFBRAyCLEBYtVEBCI+A3BD4sIKhhiedCDhQIVvvUzqCKEggUKGBZElqEDQR1IlXxsuEhpRB8NPMBrWALCAoQNSgCCYEffWATKUiDAh4AOQizM9jm91LCWggFpXDSMwKCXxQ78Ih6qAKghPg9pI45gUCPimAqsLP/KYKWhPyMDKhhAyK4EAwUMLGbp0vCXhQUmqiH0MQBBBlIINytAQK5hhQGgmBbsxwhrxBABKpSI+MBCRDtuG2JbQAFCj4YSsMoH2ojgHIKAAAAh+QQFBQAIACwqARABDwAfAAAIuQARCBxIcMQCBOUIKhS4YMJBfwsJQpigIKLCBwv+QLSIgJGCCgw4ItB1oWEIkQgeKICwDJ/ICxiZoIyQYYGefyJVoqiHUoEACL16WijRU8FBlB4MQCCCMoQCDyhRMFgAVWSJCAiIcrzgVIE2kXomBKiA0osCBYD2cayS4UEGBBsX+oAEQYEPjixuRGDwAAE9i+RYDKjIMQ0LBReAqLVYZ8ACDCirWDiKEgGRfhxvINBRrPLbygIxowwIACH5BAUFAAgALOwAKQFEAA8AAAj/ABEIHEiwoMGDCBMqRKhtzMKHECNKhDRigcSLGCUi26aDggIEPv5lHElSIDYXEBRYGFGy5cV6qp7ZuZBhAYY6LnM+vJSBQQQJFqEVnFVCZ05xbwYhsnBhwQcWCPYV1JNixKZ1/oxerFMJAbcwAy7EWECgBj6EFSxUMHDgBxxNvLj105pQ1wgPMWYs2MsFARMEWRGyWoQIwYHDh0VgkbNoTAlFCOpddAGI38BnN3xggvMDAoYLMDD2m3vwgAMGFhgYiCBDSRc4iCiNEmXFxBxjxHLbsmUkhZBGcLDEgCAggwEZMRBI0EGXYIoUoREfFlBBgYEK0mcwUEDgwQERIj4IPICgYiBOwHTpCdX3z1/ggguEbBl4RuAEHYQQxCIG0gpB98095I84XflDWkHn/KMgYCIFmNGCBkHoIAIBAQAh+QQFBQAIACyCAIYAcACuAAAI/wARCBxIsKDBgwgTKky4b6HDhxAjSpzoEJUJJsAoatzIsaPAAyAPODiQgcKDLR5TqjzYb9s/g6k6NRIEB4sSGSBlKFnTJ9IoW1EQtNn25tPKo0etpFBxQAYXJDZE2JgCRxClVLykecOHsMCDFUjDqvRAYUSnWMCYhet3ENEahMsQVDMntu7GFZYqbbPLt+/BA1/8Ch58wEbGwYjrgkTULrHjoz9WKGH2uHLKPDI0zbPMWWOrLl2y+etMOqImGanYll6tUJoSOOFGs55dkBoiG7Zo6ybo6ocgurt1i1jzg1hw2vu8QCgQafPx2eBQFBjzfDcHK9iq61bST7b21SIsff+nvaLKeNYHIiGAcL70gXDt3feJ714a/c4rsNzvrCT3/sp5/MDPfwCO4h2Bg42yQmMIJhZJIw0mJo0M3ESIWCpvWTiYEseopiFfwEzxoWBrxDJiX8z8wNWJdgnSyYEsHtWUOTDGmNIyEuDhoY0q+VODATfwGFYdFdRRo5AdOQAfkjJew6SMc2BgwpMpHdAGlSodYCKWHh3QCpdddgJmRwdQMiZHByCCgH5nTnTAfG1SdAAccVIkQhcv1RnRD1O4o2dEU/zwZ0RrgDUoRAccCpEIDCqqkA1LOpqQEtlIqhAWlFmK0BqHaWqQHLbs6KlAZaQyqkGFGHgqQWtQcqSmIqj/uepAb84qkD4peJCLreKMUEAdtiJwCQau2OoPW3lAEywCIiyLwAFkOPtDMzYEe0Cns4pA57LvcauJszY4Z+sBvHB7xrI4VWitesGKIIO4s/6wpa1KdLHsDz84CUeenr60hqwI8OspZvCuCseXwVIi4rI42BcsCoIse8QK4/CCZ7ajiKrpSwdM8aqlmFhQwzMyIPDxn/7sIsEARs1KzxgXYBKsP5RYKVA1tsaw7DUi5OGsl86KUKm1U0R6KscAj1tuuysYPao/mhzQBXDjftvuAcYY++wPVM+6AhyNrrqCDaYG+4MM0iw96xlKOHfyoWdEvOwF/tkKwQze2PoGDiJg/7Hi0/9sdsAew9grsKZHXGDBLrYOU8ED4jVQg8aH+uPPM1scEAYLs/azTx4HWL2qbGn+nIc1+vFzuKVSjxOsIB138/oBP+Q9qzrP2pANwrMesEKm44qA7aogzXv0syKMsqwIK7Br6wozyOGsB18UfKoBXazDrQU9bPIAAqtQPug+hFxAQBhTntoPP3pg0MAWjAtkvaJc+Z6K7eOGpjbxImjS9ak2OMBkuHWARmjPVjj5wfBOBZI8uO55votF2E4lggZkwUnLmsAoviEzDphsVAFogAdY4AJbfcECGMBBKf4nqX70AxVlEAHtUjFBSemjHgJZge8i8cDg9UEaNfQUSGnOAIwBjUuAooiHtQ7wgj2Y44EYmFUBWGCCHtiKAhUYwAkaQYy/SQoa26gHI4YwA5D0LBYsPBQOz0ErkGBBE81QoqOOVZAfhOQHjfgFOsb1OAlYoAICWZ2iPDCQ79mKGrSwBJxGhwAPBQQAIfkEBQUACAAsxACIAJ4AVgAACP8AHRw4MAGBwYMIEypcyLChw4cQI0qcSLEigmuxGnH5AOPMFCU2LIocSbKkyZMKudmKtEaGiIEDUcqcSbOmxXDANMH5AfOAzZ9Ag9JkRqxTHyUwFeYTyrSpU4WpRnUS1GSAgxVOTACZ97Sr16AQDKYSUuCBg69o09IkNGYTJZ4C1MqdS5IYnQcWzh7sR7dvX38IpyDIlqpLUr+IEyNkRslGTMWQ/caCleeliDyRM8uNNQrLY82gv6aKJOOAiNConzbSVNln6tdCGxE6YcDgMWd8YeuW6aGRjAUY2nDdTdxkqhIBJMgozpxkjD+8zhyo3by6RWBHDB6RBti694Y/OpX/QvL5u/mDgDEj4OXZ9fn3CWN5Pg2/vsFW8+3bTzXlwAoE7fyj33mj9LfcgO9p0h+C8KGggmvgMPidJUpgUEEbEn5nggEPZOgdDG0Q8pKH3hmTBwMkendICtSl2JwmI7q4mzEGAZOHaTIyZwtSORaXCozu9QibLXD4J+RuopB35GuUoCjES2UU092Sik2JADE8TACBK7lRqZkdKDDgwBpehvbFMX1QUKZm6CBgQyqgMIDimqAdw4WRdGZmSywrBJmnYtJIhwAwAv6pWCoxGqoYM54pGlkUphUij6OIHXPEAwwkQ6lfmUxgQYubyrXCIIfYMGeodGVjwQWo+kUHjq2q//UDArb0Getc2fQ3RTaF3upVOILg6Stac4jgwB7qWDksUyZcU8EEKSz7FREBWCABC9I+JUcuhcxJZrZCqXcIq0p0CW5QZyBg67lOZcMju001sy68P11zQgUpCDLBA5PQW9MfFSBgAjsQNMCqQeb6KxIBCSlSQwYK04RPQkhUwCoxEde0jjECZfwTChP46bFMNhCAghMIdIPtyCZR4MEEGLCMkgVRLMCAAjKfJIhBbORwas4n2fDfNUCbtA4WH0hQtEmrQPDAAkuPRIAiClCgwAILRJBL1BOh4AAdJ5wQFtcjceOADQeSXVEkZ+AQAQJRDKC2RFU8Y4EAF/w890Pk+AuggN57P9TPDAcFBAAh+QQFBQAIACxeAd0AMQAPAAAI/wARDLmAoKDBgwgTKlzIEEESBAQYVEABAYG/hhgzHkwmpSICDxYKaBw5ckEALwUt1amxgKTLhQcgZAiD8BgBFRdYvHRZYEKkY1+UHDTE5IKEABh2ZkwhcYSVhINGFJywgIUFFS+OPOWn9OCBBQWsCKHQkEcZdt5wRCgxgODORTkYIHggaFOUJhijIdBQcBVTBlcjuO1X8BxCvQYhGGBABdLBVg353TDYTtk2aVLaEtQQwaOTHAUHMBj9AIkQFG/2dj2I7EaNMkcsEFDwIIOEB6M/SMgwB5U9BHJElFiN8NspBPKe3Cj16xAKE7TC3bsEiPjLGgV/GbHOHYGJ7sT9OQOzHhAAIfkEBQUACAAsjgG2AB4ALAAACP8AEQgcSFDgmEOwCiKApUehQjlGxnCzxuhQiQkS+VVbVc6hQzScBmQwIAEBAwYZMjx44IGDF4EmHngcmOKBBS4DCWUZuECCinAzB0IY6M8fUYJbeNg0UmnmPIH/ZtrrN5CBARbkgmoteMGEEH1bwwosE0Os2AAK2qgzq9XChQCe2AY9AsEEKbkejSppVTAq3oEfjBHk93cgBQXJCjtUMOCJYoUVMlR5XPDAJMoEG/zAhwADZoGEPgt8sEAYAkpTEBgtbCclqhWfGzAw8UX0gUWdBc6iWtgAFpifGWT7LA8FAx0D16z+ewiDhE2wMTeoi0QTZhkiXMkR3WAOggWi7QhKDPG4W4oFyMtSPjJBwB8bkTA7SGFEPeUDhQrSU2yBDAvMf1TAQBSiWWWEbSqwgEMemBHQCDOiVWBEDQTh4xdeKdAi2oYKxcJhQAAAIfkEBQUACAAsYgG4AD0ALwAACP8AEQgcSLCgwYMIEw6sIuWDhAITJiicSLGiQBgp5oxaswCBBYIRSiD4YrFkSVBCDDxwIMLgv2oI+vE7Z7ImQhYLLkSAoIIXAnkT7/mzWfODkEJTDhBdapJQBQoZZDCdShEFhKuHqGo9iAIHAgIxt4qdgUJHEqUCwYkVS0bAhBep+q0V28hEBQY6us0VyyLJ3rUXokhx8FdskxEDJBTmq+DBn8VUWx1RfEkuZKIXXMhAW+4yURYjAkj1zFRBgRQIhpKuyStFgAXVVK8uWQqLgBGpZ5dcEAKJUqC6S3ooUEHTv+AlfylgIIQfcovXmkDA8NzimzVoq1NUYCGDdoshKCxw6Bbvu0JuEDKUOG4eYT8sBqLkbm+whIkBWPrJpk+whAMF/CU0BAMRBHjQNYQJtF+AdZjwQR/sGSgQES78J6FBfyig2IIBIrIFEhcWpAAEHVkW4gIEVBBChBeasFyIMMYo44xaeYBACMXA6M4+PcwYEAAh+QQFBQAIACxgAeEAJgAPAAAI5QARoAujYgCCgwgTKlzIcCEODAEYIBAQoaHFiwgdmZCYQQHGjxhHMDgxB91BDCBTIiRSQEGAEsNUqZwJqILHmTgP7qpQIudMd5AIRAjgU6W2JxdMoCiakFmWFwiiPEnoD1IACxWZIuCAAYWzfwuDsfCAYkGOCikXZYlBAAGEDhVuVGuozl4NBwtEqsjgFqEFBF8OUqgggcEKPK70KaqC8VWNME4iTNCBQAEEHhUuLLCAQ4IFFRJcvOvH79cDkP78bbthYhGeCgRyfHHyIMMfbv7EVcJWFFy9eAdP6fmmr9+wWftSBgQAIfkEBQUACAAsgAGxAC4AQQAACP8AEQgcSLCgwYMI+yFcyLChwU833vxzSLHiwCcNFmSzyLEhHiNUThTiBm3fxI4ovQ0kIKSCijQoYxKEgKDGACb+ZOpEYMmOHH47dd74oDKoTBNlpik02hFIABfwmHKEMyeCi3xSO8awlrXjDHNdOWbAF9aihLIVUUDIdBLtwhAGqrRzyzBLlGp0F2JZMS7vwg95cvo9CAHWYIQRyB4mqCJFFn2LCVZoUGLpYk1KeECoE3ngChtFOyM4MEr0QByCRUMo1Tayg0Km8TBgQM30hwARipl2ICWU6QNwBGfjELnJOoEbIzNoxk1GZwMGfs2NTKhCBlF1hMjRtFgDAQy+ETCpOiBisIgGKLwggOAi8gFKphEwKG0aApnUh/E0OGBLdBYLD0yii2gFWGBBD6Id0MUutKhWiGWLOSABIxD6tcgDGEwR2mITFHDBMKI1EAMTN4jGACYV0uXKCQYc8EVtkUVAAAPAABVZAB+M0ENtSgBjiQJ0HYBBBaAgwNlAU1ggkDUpBlUBEsTg195gLBREix3xIaDkYLCMQNAFWYaJABc6xMdMlv+0dlhAAAAh+QQFBQAIACxdAbEASgAvAAAI/wARCBxIsKDBgwgTKkS4DZCqfgsjSpw4MRo/BPy48TJCwEOjQ6J4/XFRxx/FkygN7nJh4lAfFRAGrOBRYcQJBAzWoDDgIaXPk/N40alAQMIBgQ8E0slTUMjPpwrnuUJhwcGBASfoIFhQQSCcPE4KbkkKtayFHj7krBgwQOAZhaVG9BQIqATZsj5RhdEQgMCKiddM4h28a48MBxgwJFEYYCELCINPcsPTlWKKnlkiP30xhlGeAw0gQJbobxoCf//UafY5hsADBwOF1PBpD+LqiV86QKggQqAlgQxuC0fgTchuBAYISvgrzNNwzbx+LGigILnBfv+el51BZQyXA70jIP9gQcHCQMHay6KaoIEAAtgDp6RfPagJAwgNBH6Yf3sciqQSIBAJf8IZo0RwBAr3xSaNgJegcJiwMMEEAiVhwoOawcKABRRiqBkTOmyYAQKwCNQYeh6iZM4WFRSAgHgplvWLND8chQAKAv0Vo09toBDBAVPYIBAFF3iT3Y4osVDAAkgORgUED2Bg0JFNTlTIXUxWmZI/iNiopU+YWIFCAzIUZASKXyY0jAQDVJZmSmUoAIF5b6JkCwMHlFAnSr+sQIAJOJS4Z0TKAIGBjpF4g0CAgyYESAEXpHBBoxPZoQCTLlK60DUcaDpROVgs5ulCHIxA56gKVUCBAkMIgGpCD1ga8ACTQLyK0AJZ2qqrT02wsOtBUiJw3K8DBQQAIfkEBQUACAAsWAHcACIAHAAACP8AEQhE0A3CwIMIEypMyONEFhsLI0oU+I+IAQ8ITFCYyBFhGwgLBHqw0LHkKCElUwr85gSTBpUle3BgArOkDwkLRtTkeIzHTo7+JjlBsEfPz4XOUGQwQgWBABf7jh78ZuJBBQFSFzaL0SPrwlMQAHlVyKRBibEJi+loigAZWoEsMkV4czDCWAMsCGCgiUDb2E8IcECwYPQtPn8CFyggsgjCjbcIKhC44GlshW79BL6pkeNFicdo/yHw569EAwWQKepZsMAABAUG30bdJEBCAAQMcmZAMEHBDAYDCyDgMEHnxHJsqozJcqFASAYMJAwxIdAVAn7vBGYG6i9fGh+oBrEQ8pDi0zJS5bZnJU0O2sSAAAAh+QQFBQAIACxuAboASAA+AAAI/wARCBxIsKDBgwgTKlw40A6LTAwjSpwosQsLBy4oaty40ckIiBxDikxIaaTJkwKB/EPJsqXLlwbtkFsJs6ZBEcxs6ixoo9/OnVs+4Pm5U8WHEj6JwpSRI4KPfu2UwjzAqp7UmkdoXn15w9/WlxAU8fvacsU4si47oW35Y95ak4J4BIiV9G3IFxgmnLI7MgYEF9D4ijzA651gkXjqHt4oyetijScEKn7MUIQ0yhoPxMI80QECQZwlTqhwwV7oiBUKZDzNMIYhZawXnvDmOHbCNrYVnjCCoHZugkrC/UYYfHhBCRKSCDc+sECGACCZC2wAwcc06QIVRNJHD7tAFmO9I5wZ0xv7ATjr/mn9PSGDA7XYJVgggNs7ghEuhvk27srfPuwDeAcDAgcowcx/zFVgQQaa4OPdAgX4YF8OrEiijT6/eYaAAylIaJwBCzxAAByXYcfAAG1MFtoADzQw0AV/1GIIOb8tMAEDSXQijGSnKaAABA0EEAAETbngTmw3IlCBBAOUIQpIy5QTWwSDgHJJM2x4IY4//ewXm4rGBQQAIfkEBQUACAAsYAGqAFcAKwAACP8AEQgcSLCgwYMIEypcWFDeK2UMI0qcSJFgtSderGWy4MLVKE1UJozYlQZBvYooU0o0F0sKgQwYDH64sMBCAQTUEMA7p7Knz0JYDiCIYcFChYNSIghEcYCLiRvFfEpVqMtLKUwqPSCQhgDJBQGOpootOM5EAwgE4RyMRElhHgRkLjwYO9ZYHhEBGExwMsIg2okdUNAVa0lJwQuDEVC45i9xRQIK+9HlUIec44S+gMzBgmDuZYOWLgyo9NngPCAOGDhQWrpgtwcQILZGgK+VDQIPYs5GqKtx6Vg/dkv0fRmxQVkIAgjfDUzhiuUEbQwmxsYHEgQMWENHKF3E4GQXCkzIELhg+8K5kqX2GyUiQwU85qEzmyLwDILn8XenyL+9Xxj+y8VCCir2ASjcJRNU0ICBu3lzxAMMyMFga7F4FwMiCPQx4WV0GMTMho4t8EIkBQkFok/o2KPJQH0Z1ESLJ1a0zA2qxXgZIxNEcNNCAthIUYUB4JCQCT5WhEwkJi4kQ5FM8mdNk3SRUoMGCJxAJJQ++ZAaAs1h6dMLFXQgUCfpedmTYWamqeaaB6WgBwIQOHAlmxMd4x0LH9hCp0Q+EKQJNwhksKdCAQEAIfkEBQUACAAsTgHNABwANQAACP8AEQgcSLDgwBoGEyosaIzCwocGWc2ASHEghIoQ/ZXCCPGUiQgC6yCIAAgBgwMlOHoxwGCGtIG/ViAwgQNWRWYxUnQANhAIwUjeEEigmAOGKAQ2wnFcyjGAlYEMFGBgKtDLAglDJuSgSrCchwgCRl1D8IMrAlANyhR8YDYEAj0EKzBVh2DAAgReBHr49kABA4zOTDAIg6AWRDowpCDoZ/CVBAx7Iv3DyC9hMwGEE/7l+MCtWYJpPhekUkEBI9EI/AES8KAQgsmfhWEAiRpBiaG1oSmIoKA2EQImOtU2E8FIFlCoBw10AU60CwSeRW8LsUBSFlewuRaLIGGVQH+iw2x5ru2iQe3FJRY8RU3PBIX1qGtBMHEegYUA58ktiAAXdTkXGQhx3jYmBMDEeT4ssMA0tdVRQAW0VCaaNlaMV1sJUW1zC2qVDJBBZqKJk0ZeISGABAI+5bMUeAN1Aw0/bTj0mSYjCUTEZ4wZtM02XGU3kBAv1XfePhQFBAAh+QQFBQAIACxVAewARwAaAAAI/wARCBxIsKDBgwgTKlxIqE0MBPwWSpxIsSICFBRuWNzIcWOGFFY6ihx58Ig3TDZIqlw5BYG/lTAnruiCKqZNiiJG4UNQAYGplzeDIviFQASWbEKTErRiQUInpVAFMigAJCrUE6UAbbEq9MHAFVxv/kiVyUXYlbYMCZmxYtS8gSb2/Tsr0k6EAWTMkdRxwUIoPQiOIGCC4B5UDDVqlIKjckGGBc2m+SPTIakIETpY2FSnJwMDBCnqDI6JysMDB0pGhQtK6l6wZB4UVCAjUNs3lQwGRGAVEQEGpcg8TJiAQIIHVN0otqkxBMEBERcQtKljCBYCsAiquBTq7BU3FgocfGB+cGEBbYElWEghqKDBg0LAyn3KhTAe1H3b+AFyMQdTbAcLHCAAAu0x0IUgdrBghg+AIUAGcQMBRZdA/QhEChGZIPCOJ474AMlBPxQk4YQqVUiiRS0NpNmIJ440V4sCBQQAIfkEBQUACAAsigGgADoATwAACP8AEQgcSLCgwYMF7Yyhxg+hw4cQIyJoJw3TAwI5skRA8McWMGncwtWpsk2iSYfjeEXqIuLAgQcQnBDyMAKBEpcHDGQgMOikxCY4MGVjhULgAYEsyiDghiBfv34DITEReObCAwsZfEIcIcCCCAQMDC6Q2O9ftoHztBZs1WlKhQk6HFbyp1aJNLWjbMEx8LXQoTM2EdJVK6KTL3ESgVH6IaIoAhlqT67AMOEGVIhfC9aKF1kiMcouLgukBCNPLDxhO6sWCGsAmYI6MqA4uro2AhYGUQyoGdi2b4FbnMT4vZozsYEVBvLqgwAO8ciU3CEQ8Pz3GrqbCGkQuK96ZxH4Rnv/X10oQxh441fXsBNgAq70qt9ZglBDF/zOdA+Mu197GP//AAbo2wrMCKjVAWkZeNIU/yh4EiIOmnRALBFGFIYB11T4EC0MYAAIAqMMpiFB1zAQgB4IZDiiQQ1s0gYC9TS4IkHMISDBjAZtguOOJ33II43h/WjUWUIK1EdDwIiI4wFEFlljkUwWOYkFZXCzwjhKrsiCAyYUicAAJswhkIw7doEAFwhkuSIFqCDgQZpCOhIAAtp4WaQSaeVBJo4iNPmjCK3YmYedP5jj5QF3/chFGBNgEuiPm0wwASor/JhNDA/cEIMtao6ohDeDCplBmwh0Z+ePMLx4my88rpAoAuDwWihCgVAaI5A0e67oADADdeqgJoUcYItAfo5oSQkMgFJkGRJkcMgPQoowh5jc+BrhCcUW6U2uGsqAh49/amKokCsMW+QPtCLAbYUNdBGOlyZ4IxA6dsZjT4ABAQAh+QQFBQAIACw+AaoAVgBJAAAI/wARCBxIsKDBgwgTKlzIUGCFhhAjSpxosE+jhyYEThnVjqLHjxMRNYIhAqTJkxAbRZKBIMMDgcKAoZw5M9LKgQNo6pypY8UUgp/knEDQY6fRiDoEfvlRUNPRpwk1fZBC58XANdGgal2YBYMEHFvDMmwUAwIEGGLTGozE5YJALmrjIkDUR0QMt3LjRlqBAIuNgX/zah0Bds3ATgI7Cj66Z7HaVh9KjHCA4KHjrUciXLCKINJlrY2yQHiA9rNWSiIWWBhq+qmmNXxba9UUWzbUHCxtP42i+6gUCyW29D7qBEMFJANZDPw3/OMo0Qtg9BnXHKUtJZUFIDBX/WSqkt1ngv8SBB4BvvDoW7uCEGDgtR+I0keEoAACZfkgB2mYEGWGUw8IAKEOfg1Jk4QFDGRgHoESMZMbgxTxUh6EIHFH4YVHEVBfABZgCNEDGAigAEEAItCPhwcxkBGKC63TBwIvsrhQGSIwk4eMCnUo0Brk4GhQJmRA4GNCIUgQwRhDIlQKBB6MgIAe/iR51QFcdPMAC7lIOdARBUWpZYdPaElQMW0wICZBPZgwQFJnCgQOBBbU0aZAvBzgypwInIIBHefN6UEBCEjTpjI+LIAAJFmk4qWUhhCQwScDLZpkExZEUQwCHTInZT0GaSolGwJ54dmZyHggAZ4IuFCAB0XNaUQFbaAzusUMnrb5kD5zilPDqXjWMcACvuD5CQoj3INqGagK1J6kYhKBQBXkUIEAP6gKgIEyZwYEACH5BAUFAAgALDwB7gAMACcAAAjmABEIrCCwoEEExwgcPAhkocFgCy48cYjgSYMFBp31K4iKwRCKCIRdANnPCgEU4hwWe7DgCT+HuDBY2OXPIT8nE8r9o2giAMhZCh6AtHIRHsViFk6oAwkBA4KdC2spsIBg48IqF8lRDDYCQzeoB/2lAIlg2YIFLiheEhBhEsVyVAiCZETQE9iC/ExMwOiw340MGMrVXFjuBIIS5Rx+O+vhG8wJE3LcLQivzUiK/b4xsIACwWCDngZgUEFRmw+qFP2pq8BAAkVfEwQQ3Ee4SgUdGUBG2WxisucbBtIi8DW5WB1nAm/8CwgAIfkEBQUACAAsQQETATQADQAACPgAESAoIbCgwYMIEypciHDMhxANevhjSLFiRX/fRggIYbGjR4TuejwoY+WjSY/7ujHIsMBDwYknT+IwAUmgv3wuNKigZSJmTEGIPDi4YfDbrTIXILDw6XGEkh+IDjFZhRBXigdI2jyRIOEIgipAEPyL6YRFmT4ykESKRrEfsmmTMgjQoYcRGY8zHEwp2EiQUA+pwvXr19FfOSYs8HTIYMGIEVRG/rhEsEcKoZ5URLlAUSYJhSaCUjEi8immP5jDRpigM6VCgwVIjnBhMEDFDAoymjwIEEbaPMJME34rh8DfJxdtokUj5gPFIHPAg30SBzO4SX7ErQsMCAAh+QQFBQAIACx0AYgAbgCRAAAI/wARCBxIsKDBgwgTKlzIEKE7eQ0jSpxIsWJEZzdcaLPIsaPHjwheScCQBVg/kChTqhR4L1OmVlh+dBq3sqZNjsYErchD7KbPnwuniGjAwMQzf0CTAu05kEKfY/38nVRK1WaeUT+S1KgxrarXmqUwCAiF9KvZj/gMZeh2tq3HfnBiuZ1r0dYaunglzltBM69fhX1Slf1LmKCtLoMLF4Yjw5vixwgMLIL8uALlv/9yIXggDN/lvzAoJf48l9IP0n+VMEOd146OYqNZfzXRAIjsuW0gZLrdltuoRrzd9pEb/KySbLGLAx23wrNyr8YQP/f6e7rXPLaSW7d5XPt2lTZWTP/9/vNAF/JJKQBHD3SOd/YfI0CC79MAOvo2RZzHv7ILlvX8qQRHdgGqdFyBKbHygj0IgrSFCRh80uBHrjAQwSkTesRMDMqMl2FFV733oUK82DDPiBzBIRiKFTViIosVnbEijBKdYYNzNEakRCc5SiTCD+WI2KNAB6QyZEMH/HDikQsVySRDOMwj5JFCePikQRlgM2WPTl6JUJI4elmQDUaKaVAXP4RppkBdtLJljpakuSZBOmBgxJs01kAAEXiyOEoMg2wzp0B5TOHmoITmgSihP6yz6BQySNMniivYMMqiCKwAx6QoJmkOpx+KcIAxmB6gSalnWLkmDNdgigAj+iz/KoAUpWKhppkHrOAYoiuIYAumSiCCaaFLzhlDFC8ghygLBpgAaoZw8PAAG4hiMUUj8CD6wxSIPDuhDEoIoqqXK/zQR1SDyiBCHreKeQAc7Xp5wBnxXmlesXNSgEU7mKpgjqwXLONtgwco0degBYczMII//LDroGf8wA2iHUhhQzaIwnDBBJnUyyQdEIwwzML8KTHFGdyUM2jDiPCDaHhlDiqCDaQiesAUE9sMB7+ITkDJuF5CcMg/Nv9wDKIi6HfwmkrYIAi+YnaQhQyXDooDBhZMUg/ESDxgQjVzytAF1dp8M6cNP3TBDcn4ybDCCqkAzaQB8z485wcxrylCADlYfUP0mjL8sEIscg85Q8RwKLxmEiM8QMGvg9JRwQCAFJ6j2D+cwYgi4rDNnhI/YEGMP6SvOYMSkK/5AgMYtIKumV1MYanHOX6AwtSa8GxmHx40gMI6nqOnxBoxUeHDK8GTd4INawCT/HddrIGDBIWEYzmNUqRtC+1DmiCNqwEBACH5BAUFAAgALCQBiQCqAFoAAAj/ABEIHEiwoMGDCBMqXMiwocOHECMyXGYCwTZ/EjNq3Mixo0eGv2JR6oNlRYePKFOqXKkxnLFWlPI0qYBgwoEplIyZs8eyp8+fGw3dGJQqUp4pIg4oPQC0qdOnDte18uAAgqA+XZSIgMq1a9d+xPqsgGNHR5YVXtOq/cmN0o8DP7CsnUsX5SkWOJbKrcu370N/xgRBcOC3sGGF3jS9Hfip3+HHhefFWqOUoD+MkDPPZYZoxQERfRD800w67TcE3DopqYzAHObSsJ+ySZEiKVMEjmPrbtov1gMKEEDvHg609+oGGixxI858pXGlXRDwy928Okd+sVZvtc694zYfFQh3/x+vETsOAQKpk1+/EF+sxezjM8TXCr78+wfp28fPX6D+2/3191+A/PHjyzL1HYAWgfitgsEDDWzH4H3E4HABBHSYM6F82cChFB7JvLbheOYgwtqI7GHTiWcoytfGBS3KJ00XGMTIXjh9AOiMjdy1Q0lS6fFoXT+t2HDbaEJWR8wUACZZXYefjYIPAvk4uRs/r5yCCJBWNpcLBhgUIJCIXcZmDBIQMGCJemXCNk6OIhRCDpltatZPKizWOdwcHgSAgDF06gmZOYIwIOhud+Z5KGzSMLlobCV+9mhpRMrQ5KSQSYPFpZgatowPOjjAaaeFzUHABUiQClk4cDQQQRjzqP96mCie5SHrYckYOuatfuGjiQEw8lpYozcx4glPwtI1TyOfUcIPksnORcx+0a7lAiRwVlvXAhUsMKq2XXHDQAGGTgmuWpQ1cAIM56qFjg4QiCnQD+12xUwTCMgrEDX1PoUPJScikA0CFvTbFLEKqTMCwQNBa7BG+Kz27cM9yUKEExNTzJI/LDigq8ZO9VPIBxBIAbJT3aRQMALvnAwUMzZA4LJTnmU8s0freHjzT594EcMKC+68ksIF1Ch0T5ZUAIET6wR6tEb9ECLz0yvNA0cMVK80DhZKBJ11RwK4kER0X3/UQ0052MBM2R5JgAADH1zjNNsRLUB3R8zMoMLdeNsgIAjfG63CwgmRDGQr4BAx4YAHQSIeUSUKWACMO45LFBAAIfkEBQUACAAs+ADhAC0AJAAACP8AEQgcSLCgwYMIEQJJyLChQwThODycSNGcEh0UMzLE16WRxo8GFaCg0wekSQQVMAwoc9IkAwQKNIRrqVFaAw80Ne6j9kPTwH45Hd7zUYFlUIrlIHyIoiIAAl1HG47isSDqRGMyNll16AzICWBbHdYxgKJQWIb9skAIccKcv7MHEa2Bm9AFiyPc6CL00MCI3oOtNITACfQvAgsLZhwzTNBLBQXCKCGowhgBDwkMFv0YZ5jfKQQvvFioPO2GAgM9CN77y2iChBACc2nLR3datywYLlQl1O8tXUgRPFQVGIHuPgTzUp0IMPyvsxssZvAooUACglb/tn57RU5aJx4CMEw+grBVlyNy87IBYyHAghJCQBYsqLBVHIsBEkQo2WIig49UeikSAgNjIMALAhg8kIFBvllFQUELmFAZQcMwFhAAIfkEBQUACAAsugDEAEAAQQAACP8AEVhgkuYcgoMIEypcyLChw4cKh3DQgAuixYsYHxZCAYRcxo8gIa5A0MVYyJMoFdoI5y+lS5D4RPR7SRNjNiUta+p0COzMzp8MRQkCShRhoU5FiYYYwaJe0p8qBpjw+FRnEzJ79FXd2XPrzmsrcnp9aeyHN7FjU8KxlZZmp0htX07yGTelmbB1U0bQwy9vyAUEMCij5/ejABYWqBbOiKiLLbSLLdpSEhkkFl6QKzvkNSWz5oZTgH2+CAvL6ItNRJ92yGBOjk+rHS4YgGJb7IUoFph4wG3m7YWUsOD7jVAsnEaeb6dS8pi4Ql42sjlX2EpJu+kJ9+RJvlpChSNUXg3qxw54BDjsCCQweNAK/cFRP5Bibz9KCSXuq0dhEeR7/ho487iHwBdndAOPe0JA4IJt2CkgwQWT4PcZBQuUMcUa4UxnBgIrIBKJDO399o9CsWCxhjfuddKJDKLMwuB0LliggQv9OacABgycQQx6FexR3xS2qDMdXalgoUQq3/ji1HSsOMHABG9IWBkDCDiYgRKNGNNXbPscNIEFCMSiCRYy9HEIEZdgR8wfJjiwwBqRtMKMObLo8eJoCyhQAyyaCILFDBBQoEIXZ5yxxQOnHYCQCQosMIYxxADTxmnFvJcQlbeNiABk5qB4UEAAACH5BAUFAAgALLwAtABeACQAAAj/ABEIHEiwoEEEDyAoOChwQQGGECNKnEixIgJerVgY8JBlTZ48fRAJalQmAgMWKhCssMiypUuC4YhF6iKiixQWUYgBs8UrVqtUo/ZYGBEDxhlKmiK9XMqUoIkRQrCIOKPJ2DyB7xj266esWj9zwCidWaHko5MFE5qqnXgNQgEWxNCt7XetlSAIDhawQLBgrV+CvGwsMjTtL8FPN8gk4UFI6UB/hl2uE6TEmD/IkRFcFtjvV58VcARldmnsB6J2ow9C7teuVRcbcL5I6Jv6IAMfZWwAq00xW6QHBRRceICC90ArG8P1M06xDooIPJgPtGOCzXLpE8n1SxVDTiMZvM3Z/7iGGXvFdppk9MlTW1Ck8uYtjvueh0sDBE+GwV8qzQbq+C95k8cDGCjgQAiVXMcUFrEA2JQLHzAQggQWqNUKFg42pc0pmLwAgVpERHBMhk350480ZTUiwlICkPjXPIj8QAl4LtaIADE29HFEDAP9YyOA5jgRgQcX/JhhP6RgwEAJRh5ZjCszMNmkg3TNgEkXU8Z3mTdKIAKHQD5mKZ05XeRBxwximteOFBd4QFuaxtUDSAAMfAgnc/Cc8oUUD9wpHT5dlOGndOtMMcSgzHUhQJFw8IPoaKkw48EIEuz1aGbisDCACwYskMt+lzZViyG6LCCBGQqGGhkSYapq2Do/IAIQEAAh+QQFBQAIACwTAdUAEQAzAAAI/wARSDkSYoIXfwgSKlzYjx8WMgiy9FtIUWE2GdJsVNyIIBUWWBwr+kOBIkcKNvdCIuhXgoKLhKpUIkBGJUtCNhNVmpPxRuZCSoIQyPCJYF2MUkmI7jMhQcgDn/tcSCBC4IJPcVn+EE3I68xWBPNWjNvKL0eNRUTBoTDAhGi/OhWqbPX3YxOErXkifS0joVCHhAg59lhAQAcDogsYVPjKuDGVCsWInunR4IZhn4AgpEmYJudGf9KUfAW2Zus3Fia0Ec0lQYMfovVytClB1JwIfGPuqjwXhoe+VjGSDeXoSQCGXAg8yFzGwAeCAT475TlH9NOJY/x8QkshoJKZhJ4rdkCDwMIRUUSC4PkcViNDN6JsDKAg4tMcEhSGZIq7hESvzzQDeNDDQuV8ZkgKLmSwAFGgIBACYwOU0NM/W1EYUkAAACH5BAUFAAgALMUA9gBXABwAAAj/ABGcOsUPgcGDCBMqXMiwocOHEBO+wIChV8SLGDNqZLgIAoMv8/xtHEmyJMJCCDycyGbPpMuXGBmsaAWzps2FIg70mXezJ8wHCHIqyeazqMspB0TYEmm0acYRQQ8gQufOqdWG3VAgdMDAxbCrYBH2S5glwoQy48KqVVhmQoULmEKunWswAIUfrcbSnXvggBJgTPdC9EKgxMu+XZjxYye4YbYTF2wecDCCha/GCN99OmQjliUZCmrGqCAgB6Z1mBFA0vDAxcEPHvggCEzSzgkEFTrkAYZvbj98oyiMKDEBoT/aJJUgnJDTRqNr/rblc6rPigscR1I12aL15r9/C/seu8gRoYdem/sMXiv0oEBohaGQ1xSQEMOABROcaALWLT2CeiTlwgIQMMzQhxQYLIAZJmRggMADDgglCBAsbNLbQfwUo01CmXixiy2RrCEBARBEgIAMqR1kg0KTQUDBAxcYoEQXcJQRgQl7yAHHGVN4YMADIxwxRRMZWIBAaB6k6FAZOSiIwAo5DZBgBQzM8IMMGEDgpJIZGTDFQqIsQoUEC7HAJUY+XETAmSOR4xAZCKGgwG1s1lSQQfLBFBAAIfkEBQUACAAsrACqAE4ATgAACP8AEQgcSLCgwYMI9qjIkgfhwBconDicSLGiRYIpIDRgcKBjxxU2fvyIgaFDBQcLPl5cyRKhIDo4Zki50eYaN283cXrDuS7dJpqa4Njw2LGlUYcypnRJqimbP3/7jobjRenMigMiHlBggIMHlqMVXZGJgVUElk7e/IFF6C9bLEI8BmCQ0GHtRAgEHnRJFU6t3Yn++iHY5sIEjKJ/CZpIgcGL38QX4anzZ0yQiI5IEMhZOyjGKGz8IB9V261VF49gY9mwJVq0N00/DlwQmESERU02jLXejcBYlgcWHqSoKOjHtce8E//7105HgRIykHZR0jd5cm16giFkBrKLOevgHf7/8sAgCz7k4dP7uBAhgKf08A1yMDQ5vv02WNDbDw8nlv79yY2ywjwAxhcJIgXG94M0CaYHxxQNpjdFKhGCJ8MK61RoXQN9CKbhbihgYMV/H66FFxMl7raABt+kuJsBHroImQjtyCiaDOaQaCNLNoSzY2I/ePPjX0pkM6RdSjB4JFgL6rjkRCIw8+RRBxAzZUt9UABKaFdeREYGJnwTY5cTlXGBB+KQedEDL6hpEQoIqCClmwj9I9ADWTRiJ50HjSCQUGPyOZCfAilhjJN8ToEIonT+IAM+gk4kAzCROnSAIIy6ecAKkFZq0BoH2MKOpwYdkIU6pBaUgQQ3BOqpEAGUjsBlqghgMkEHx9EqUAQWIBEVqY8xgEQqmaqphAw+6looHMoKtIIIvDSLgAg21KirDggc0EixZF4mDbddHjBFp57uKdABe1TTLAcZuCAOuE+SgQEDzSirRBYT4JBjqgQKZEET6Eg7wxn9KrvCGuTSKsMBebjq6cKYNntVI9IurAm8Uy5shykOR0qBQLq4GBAAIfkEBQUACAAs+AC0AD4AQgAACP8AGRxAQLCgwYMIEypcyPDgJCwHDqxpSLGiRYX+eCmJeLGjx4b9Yv3g+LGkSQT4Utk4QOCky47zOsUgmCLJy5sL/ZmzwyDAA5xAEfpDUEXDg4FBkxJUp+vXSKVQEbRDRDJqUGJPEVSwinNqVa43sVoAC3RdGQUMhpB16c+fCwNb17ocNgbJASWN5H4cimBengMi9J70p+mrYI+8RCA9/FHaDwOMS4478mCBHQSaIlskB6EABs0X/XkxQWEFaIv++Ak6YPp0xX59WLuuyA8iwQUE+81WeCbw7ob11iiQ8BujP3EMBHwunpBejwofmCvU12yFb+kIgYlojf0gJRvcu+fYXtPkp/iC5jhAiEAw2j/xPhooSHWeYCYTEmzUJ4hPyZT9BBFjww8AItBHFwWOs0IIBRoRgQIX7AcEAQoAOAMPDbxQ0CfvYTcgHPWVQFAqZ+zHyzvz2DDCZwEMscY+3ekAgQU+MIcIQjcU4EFB4fAlnTNDmFAgLAUiwEwBQ5RxAwIK6NZdEyMUWEMAuO1HhAQ6AMhOFpQA6E8nkSDgzX7MJKGDkPXJwkCV9b2hY4T1aSNEGaapEGGHzPUzSiRJsLAfMGsIUWF9gzBQwQBV1HeDA4OmecOOeAYEACH5BAUFAAgALCIB9QAWACcAAAj3ABEIHEhwIIOCCBMaFOhPoUMEPDw8dFjrgQIDLiYiZCNghAUE/WwQ6tfwoScEC/5oLOguUwQGrI4guLVyoBMVUTLUJEhlwIgKOwcCeuAjKMEk14wKrEbh04ga1YISCZBxhFEfGqooRQDryDul/RYR2vopgokSSi9lYMEIwbKg6ChMU5qPkUylpyRYeIQARVBfFVxgU5otxjmlw1gM2ZqmAYvBRks9MLTP6DInrZR+YyEBktJyDC6YMnqOVZK5QfP1uDCnn9F3HgTUKVlTHSwYmcoFneYCpuugqDJgmBUU3C4lZUyx20nORYQ5tGtulnBp6zRc95QGBAAh+QQFBQAIACzMABMBWAATAAAI/wDZYUNAsKDBgwgTKlzIsKFDhURU6HlIsaLFiwxdDLgQCx/GjyBDHnTm6deaH6nmiVzJ0qI0ODZGtWtJs2bCa3lsaFpns6fNbIJkUDLnz6fRld4QrYg0rujRpwZdQXAYrtGKQm0U6YPq85seOzZYUTRXJkCGSTy51mxD4AE1pw+n9aixZQWcWObUguQHrSoFE0zuXSRHcJ0tOCvWtBqn12IdFRAQmRPMcp6tPCvOpAqHQB29xge/8csW6cIAF0bn8eojA4kJF99AEwSUAoUNSs1UbYPrE98gDRcMTBHUSto83i2/edomrdMZCwRMeGxM79Kpdr9GCZoiQomgUcTeeIcBp5Bfwm3BtuLLxqsGAQhKGgGjBgma7IOECR4T1eeIhAE8TLFGH42IkootbbAACDHE2GJLKqJ4kAEPSnQHhxAYVHGfQ/7042E/6lQBhDDE8JIKJYj0sYYHDUCABRdryNEHIRK2cQwC5SDwzjTwbIiRP0V92A8//fiSRjFwAfnNMPjUY49IAQEAIfkEBQUACAAslACUAGMAgwAACP8AEQgcSLCgwYMIEwrMN0ycwocQI0qcSJHguDYZTBDzxq+ix48gIc6T1qrRGRkrTkwo0eWHiB9d+kSKRYzbvJA4cxrkl80WJTgupwgaRWycP3q5vvVDgM+bsViUBJ1xaSNmpFTAst0UiM2ZQBM6c357dQ5BOGKd+kwRoSQPJV7ZlnrsF45ZrE6I1igRIQPLlxEXZP0Lm7OHgBQrbJyJ1EravH7+CBscJw3UiAgd1qQaJ9kjsAcSrJiL3Dmis2LtePVZ0WWUt9IPzzX6cUxZPtgf8QETZGOKpmy4C2ZrOzo4zn7GZiuJJI106VYyRsk1rtOfNEpKfjT6hY+wuTxTgFP/h52tkxIZgoB1D8lM+/rxwbmN6rKizx8fpyj202QDGPz/CIzTigcHuDCRN12cwRmAAH7SQybvRMSLDJ04x+CFD80jiBLNYeghQvncsosSfaxj4YcoIuCJBA+AkuKLBK1ygQngwAijP7F8Ac6JNno4BTA89nghM0pAJmSKeYxyZIrhrLDOkihS0kiQUI43jwziVXlhLGto6aN/XjJojBJUholbHqmUaWZnTbaz5n+RNPImfFdyo+acOrUCx5145jQFMXz2+dE5jCBhpKCl1SFACfEgCpsjEbiwj6OwfWELO5SWtoYtHWUqWR+2BOqpRIK0MqpkjSh5aliUVLiqTp1Q/yLqqwmNIietOLUiCK44xdIHryHxAgewIBFzBrEfMdMFsh5JMwWzFQ0HLUXh2DDtROascK1E84gw67QHTLetQiK4Oa5CylywybkKVdFACeKyG6MJQsibkDQ/fAvtn/YilEof+iKb7ZP9GpRHKwETCwwWBe9kQ5YNCxRJJBETlI0NCROLBZgVI5BKHh0LtM4K5oSMQB9phkzMsyH388M1GfMqpcnc2PBexV3wYrKeJpezQjgh24OCCbp0/A0KFOgRM62ZCEHH0q/6044SOnfsDzM2LNjxTybjM0UsUL96jQyvWd3JGfEW3E9rNGNpcipY3NywP2toYnK10phsixJbdcqcB8Uhm9NfpxUD84O5HQsiSNirlvMDLPeEPAkENzgUsTueaGDBMmnLC88ldiih9dz+aCK6yeaVXbE/o/ygesWp/GBnyK38AHHEsTystw15h8wL7yYDIwMzwdtgjMnEyEAMph0Lz3HD/PTDjAx/zBLyJhmkgAzjnhbDAgNboMO9oyj8I045lNhQdb9fMCwQkSXa28/NUiPyAzHIa9d3xOb0weH4nrKFDShBuIiNAw7h2Vl07BEyBHXBGi3rxAMwYDKBpMBUFYOGhwICACH5BAUFAAgALPQAoABhAE0AAAj/ABGU8IagoMGDCBMqXMiwocOHEA3eKLMizzEE7yJq3Mix48N2o36sMeaxpMmTDv3ha6UECy9/KGPKNNmPFxYlrfDN3MkTorE1Nkat60m06MFrfWREGme06Ux/ML01WoGIG0ynWFGaoyQjj7Ryz7KK9Thv1AwPKGSNXauxX7UREqQQZEvXYbFVXDWhm3Xwat2/CMLl+fHSL+DDCIxNOZMNsWOVqWQ0GuoYsTlENlr1q4xYWhcszDgf9mfLhqBxhkWvbRdJxih031TX5bYGbSbZdNWZEDBk3mbcY5FdkqNEGnC6tmRo+n1cbLgzXbg1H+tvlIxYqacbvTYFjjntWP3N/4tkg1h28D2N/UA0D73TdX2UDLrUzr1RRhIw+LJP1B80Fh7QoRN/PbnTTR5dMEVgT/5o8oNxC/bEiwwvRciTND9oYiFP43SRgwYbzoSIAAi4EE+IKEWCgCUvAHEJiidBZUQDJtgD40m13CBBLDeilM0PqfR4kjc/jCKkSeEooeGRHfkzjhKUMOmROVM0ImVH6zRhQgg4XKlRJgNIoICXES0CgQI8kPkQBhUgEFIq8qi50A8MGHSNDbzICRErM+gZ0QyN+dkQLBo8AY2gC5EzggFvIKqQP2+MkIWjC83zww/pUKqQDKFpihAwPyjoqUGaIIEDLKMWpAsDAbCRKgJiXmqAwqsFhVBQFbQioIJB/6TKRa7z9CEAE8O8OsOiJaT6xSh1jFCnFfykas4MdsBDqwhK1EcrHUK8+KoeFKCwX6q+mGBBrv1EosIFBWFio6b4pMmEBKn6E8KZGLyqAAYW8PBLtKNakEhB/QQEACH5BAUFAAgALFAB6wA4ABIAAAj/ABEIdPVPoMGDCBMqXMhwoRADCAo2nEixYsIIHpRZ3Mhx4QUFI3J1HNlxkAUMm7oJ3EeypUMEFsL8uOSyZkIPBk2IkhCCAQJ/NoMaPDfCQAqhI4f1AJIkoR4WF5By3LVAQIZJCvtNWqDASDmpC/vxWlPgAoM09xgaIoAAJ1iB34KF6/TjQB6BiSZuq7JAoJ5T/ZCiUpBhgkGJCKJWHDIAghWBgTmSE5ht1BoGCzK0weey1wIGDJQICeHI4NeDpw36GCGkrgiBJeqkrVkMwaY+CgwomCJIyAMgxIJbgQAkEhwlAhYUYEApYScbZ2r2C+yFQQmBCgooOHDAQXYF0GGHHSgG9G1CehHfhPAiTaCPEJAQm6dY0F55gfTktwwIADs=\" />"
      ],
      "text/plain": [
       "Plots.AnimatedGif(\"/home/jovyan/tmp.gif\")"
      ]
     },
     "execution_count": 7,
     "metadata": {},
     "output_type": "execute_result"
    }
   ],
   "source": [
    "using Plots\n",
    "gr()\n",
    "# define the Lorenz attractor\n",
    "Base.@kwdef mutable struct Lorenz\n",
    "    dt::Float64 = 0.02\n",
    "    σ::Float64 = 10\n",
    "    ρ::Float64 = 28\n",
    "    β::Float64 = 8/3\n",
    "    x::Float64 = 1\n",
    "    y::Float64 = 1\n",
    "    z::Float64 = 1\n",
    "end\n",
    "\n",
    "function step!(l::Lorenz)\n",
    "    dx = l.σ * (l.y - l.x);         l.x += l.dt * dx\n",
    "    dy = l.x * (l.ρ - l.z) - l.y;   l.y += l.dt * dy\n",
    "    dz = l.x * l.y - l.β * l.z;     l.z += l.dt * dz\n",
    "end\n",
    "\n",
    "attractor = Lorenz()\n",
    "\n",
    "\n",
    "# initialize a 3D plot with 1 empty series\n",
    "plt = plot3d(\n",
    "    1,\n",
    "    xlim = (-30, 30),\n",
    "    ylim = (-30, 30),\n",
    "    zlim = (0, 60),\n",
    "    title = \"Lorenz Attractor\",\n",
    "    marker = 2,\n",
    ")\n",
    "\n",
    "# build an animated gif by pushing new points to the plot, saving every 10th frame\n",
    "@gif for i=1:3000\n",
    "    step!(attractor)\n",
    "    push!(plt, attractor.x, attractor.y, attractor.z)\n",
    "end every 10\n"
   ]
  },
  {
   "cell_type": "code",
   "execution_count": null,
   "metadata": {},
   "outputs": [],
   "source": []
  }
 ],
 "metadata": {
  "celltoolbar": "Create Assignment",
  "kernelspec": {
   "display_name": "Julia 1.6.1",
   "language": "julia",
   "name": "julia-1.6"
  },
  "language_info": {
   "file_extension": ".jl",
   "mimetype": "application/julia",
   "name": "julia",
   "version": "1.6.1"
  }
 },
 "nbformat": 4,
 "nbformat_minor": 4
}
