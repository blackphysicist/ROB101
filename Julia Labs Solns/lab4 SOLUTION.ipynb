{
 "cells": [
  {
   "cell_type": "markdown",
   "id": "9bee5385",
   "metadata": {},
   "source": [
    "University of Michigan - ROB 101 Computational Linear Algebra"
   ]
  },
  {
   "cell_type": "markdown",
   "id": "a1df4a51",
   "metadata": {},
   "source": [
    "# Lab 4: Introduction to Functions\n",
    "\n",
    "### Purpose: Learn ways to define and call functions\n",
    "- Skills:\n",
    "    - Using if statements to regulate code execution\n",
    "    - Grouping operations into functions for repetitive usage\n",
    "- Knowledge:\n",
    "    - Introduction to LU factorization"
   ]
  },
  {
   "cell_type": "markdown",
   "id": "52b2106d",
   "metadata": {},
   "source": [
    "### Example 1. If Statements\n",
    "\n",
    "Julia provides a variety of control flow constructs. Control flow regulates the order of statements to be executed. `if-else` is a common control flow in Julia and other programming languages, and is widely used in functions. The syntax is as follows:\n",
    "<code>\n",
    "if **condition**\n",
    "    **statement1**\n",
    "else\n",
    "    **statement2**\n",
    "end\n",
    "</code>"
   ]
  },
  {
   "cell_type": "code",
   "execution_count": 1,
   "id": "580b397c",
   "metadata": {},
   "outputs": [
    {
     "name": "stdout",
     "output_type": "stream",
     "text": [
      "x is not less than y\n"
     ]
    }
   ],
   "source": [
    "# If the condition is evaluated to be true, execute statement1, otherwise, execute statement2\n",
    "x = 1\n",
    "y = 1\n",
    "if x < y\n",
    "    println(\"x is less than y\")\n",
    "else\n",
    "    println(\"x is not less than y\")\n",
    "end"
   ]
  },
  {
   "cell_type": "markdown",
   "id": "46a0e3e8",
   "metadata": {},
   "source": [
    "More conditions can be evaluated using `if-elsif-else` control flow with multiple `elseif` keywords. The syntax is as follows:\n",
    "<code>\n",
    "if **condition1**\n",
    "    **statement1**\n",
    "elseif **condition2**\n",
    "    **statement2**\n",
    "elseif **condition3**\n",
    "    **statement3**\n",
    "...\n",
    "else **conditionN**\n",
    "    **statementN**\n",
    "end\n",
    "</code>"
   ]
  },
  {
   "cell_type": "code",
   "execution_count": 2,
   "id": "f7167c6f",
   "metadata": {},
   "outputs": [
    {
     "name": "stdout",
     "output_type": "stream",
     "text": [
      "x is equal to y\n"
     ]
    }
   ],
   "source": [
    "# More conditions can be evaluated using elseif\n",
    "x = 1\n",
    "y = 1\n",
    "if x < y\n",
    "    println(\"x is less than y\")\n",
    "elseif x > y\n",
    "    println(\"x is greater than y\")\n",
    "else\n",
    "    println(\"x is equal to y\")\n",
    "end"
   ]
  },
  {
   "cell_type": "markdown",
   "id": "1825af8b",
   "metadata": {},
   "source": [
    "### [To read on your own]\n",
    "A simple `if-else` control flow can also be replaced by an inline `?:` ternary operator for convenience. The syntax is as follows:\n",
    "\n",
    "<code>**condition** ? **statement1** : **statement2**</code>"
   ]
  },
  {
   "cell_type": "code",
   "execution_count": 3,
   "id": "a5972c3d",
   "metadata": {},
   "outputs": [
    {
     "name": "stdout",
     "output_type": "stream",
     "text": [
      "x is not less than y\n"
     ]
    }
   ],
   "source": [
    "# If the condition is evaluated to be true, execute statement1, otherwise, execute statement2\n",
    "x = 1\n",
    "y = 1\n",
    "x < y ? println(\"x is less than y\") : println(\"x is not less than y\")"
   ]
  },
  {
   "cell_type": "markdown",
   "id": "301d20b6",
   "metadata": {},
   "source": [
    "### [Back to the lecture]\n",
    "For more complex conditions, a nested-`if` statement can be used to split the conditions, e.g.:"
   ]
  },
  {
   "cell_type": "code",
   "execution_count": 4,
   "id": "d44fcc02",
   "metadata": {},
   "outputs": [
    {
     "name": "stdout",
     "output_type": "stream",
     "text": [
      "We only know x is not less than y.\n",
      "Now we know x is equal to y.\n"
     ]
    }
   ],
   "source": [
    "# Nested-if control flow\n",
    "x = 1\n",
    "y = 1\n",
    "if x < y\n",
    "    println(\"We know x is less than y.\")\n",
    "else\n",
    "    println(\"We only know x is not less than y.\")\n",
    "    if x > y\n",
    "        println(\"Now we know x is greater than y.\")\n",
    "    else\n",
    "        println(\"Now we know x is equal to y.\")\n",
    "    end\n",
    "end"
   ]
  },
  {
   "cell_type": "markdown",
   "id": "c297b8a9",
   "metadata": {},
   "source": [
    "### Practice 1. "
   ]
  },
  {
   "cell_type": "code",
   "execution_count": 34,
   "id": "14946ec1",
   "metadata": {},
   "outputs": [
    {
     "data": {
      "text/plain": [
       "f (generic function with 1 method)"
      ]
     },
     "execution_count": 34,
     "metadata": {},
     "output_type": "execute_result"
    }
   ],
   "source": [
    "# Implement a function f(x) which adds one to x if x is an odd and positive number, \n",
    "# divides x by 2 if x is odd and negative, negates x if x is even\n",
    "# x is even can be evaluated by x % 2 == 0\n",
    "function f(x)\n",
    "    if x %2 #if x is an odd number, if I divide x by 2 I return a remainder, so x is odd.\n",
    "    println(\"We know x is an odd number.\")\n",
    "    else\n",
    "    println(\"We only know x is an even number.\")\n",
    "        if x .+\n",
    "        println(\"Now we know x is an odd and a positive number.\")\n",
    "        else\n",
    "        println(\"Now we know x is odd but a negative number.\")\n",
    "    end\n",
    "end\n",
    "    return x\n",
    "end"
   ]
  },
  {
   "cell_type": "code",
   "execution_count": 35,
   "id": "7bf12440",
   "metadata": {},
   "outputs": [
    {
     "name": "stdout",
     "output_type": "stream",
     "text": [
      "all nothings means likely correct\n"
     ]
    },
    {
     "ename": "LoadError",
     "evalue": "TypeError: non-boolean (Int64) used in boolean context",
     "output_type": "error",
     "traceback": [
      "TypeError: non-boolean (Int64) used in boolean context",
      "",
      "Stacktrace:",
      " [1] f(x::Int64)",
      "   @ Main ./In[34]:5",
      " [2] top-level scope",
      "   @ In[35]:3",
      " [3] eval",
      "   @ ./boot.jl:360 [inlined]",
      " [4] include_string(mapexpr::typeof(REPL.softscope), mod::Module, code::String, filename::String)",
      "   @ Base ./loading.jl:1094"
     ]
    }
   ],
   "source": [
    "# Self-check\n",
    "println(\"all nothings means likely correct\")\n",
    "TF1 = @assert (f(-3) == -1.5)\n",
    "TF2 = @assert (f(2) == -2)\n",
    "TF3 = @assert (f(0) == 0)\n",
    "TF4 = @assert (f(3) == 4)\n",
    "[TF1 TF2 TF3 TF4]"
   ]
  },
  {
   "cell_type": "markdown",
   "id": "0d7c2e17",
   "metadata": {},
   "source": [
    "### Example 2. Introduction to Functions\n",
    "\n",
    "In Julia, functions can be defined using the `function` keyword and the `return` keyword. The default value returned by a function is the last expression executed in the body of the function definition.\n",
    "\n",
    "However, it is a GOOD PROGRAMMING PRACTICE to use `return` to specify what is being returned by the function. The function will be terminated immediately after the `return` statement is executed."
   ]
  },
  {
   "cell_type": "code",
   "execution_count": 36,
   "id": "668574d4",
   "metadata": {},
   "outputs": [
    {
     "data": {
      "text/plain": [
       "2"
      ]
     },
     "execution_count": 36,
     "metadata": {},
     "output_type": "execute_result"
    }
   ],
   "source": [
    "# Specify a returned value using the return keyword\n",
    "function f(x)\n",
    "    return x + 1\n",
    "end\n",
    "# Call a function using parentheses and argument\n",
    "f(1)"
   ]
  },
  {
   "cell_type": "markdown",
   "id": "3bfa7aa6",
   "metadata": {},
   "source": [
    "The `return` keyword can be used more than once in a function definition in conjunction with other control flow constructs, e.g.:"
   ]
  },
  {
   "cell_type": "code",
   "execution_count": 37,
   "id": "e94122ee",
   "metadata": {},
   "outputs": [
    {
     "data": {
      "text/plain": [
       "2"
      ]
     },
     "execution_count": 37,
     "metadata": {},
     "output_type": "execute_result"
    }
   ],
   "source": [
    "# Define a function returning different value on different conditions\n",
    "function abs(a)\n",
    "    if a >= 0\n",
    "        return a\n",
    "    else\n",
    "        return -a\n",
    "    end\n",
    "end\n",
    "# You can assign the returned value to a variable\n",
    "b = abs(-2)"
   ]
  },
  {
   "cell_type": "markdown",
   "id": "9e395202",
   "metadata": {},
   "source": [
    "Functions can be defined to take multiple **arguments** (inputs)."
   ]
  },
  {
   "cell_type": "code",
   "execution_count": 38,
   "id": "e16da0a3",
   "metadata": {},
   "outputs": [
    {
     "data": {
      "text/plain": [
       "2"
      ]
     },
     "execution_count": 38,
     "metadata": {},
     "output_type": "execute_result"
    }
   ],
   "source": [
    "# Define a function with multiple arguments\n",
    "function sum(a, b)\n",
    "    return a + b\n",
    "end\n",
    "sum(1, 1)"
   ]
  },
  {
   "cell_type": "markdown",
   "id": "3cb1ac2c",
   "metadata": {},
   "source": [
    "### [To read on your own]\n",
    "Some arguments of a function can be defined as optional by providing a defult value., e.g.:"
   ]
  },
  {
   "cell_type": "code",
   "execution_count": 39,
   "id": "4c5b44e0",
   "metadata": {},
   "outputs": [
    {
     "name": "stdout",
     "output_type": "stream",
     "text": [
      "The robot is at position (1, 2, 0).\n"
     ]
    }
   ],
   "source": [
    "# Define a function with optional argument. Here a default value for z is given.\n",
    "# If you just call this function with two arguments, it will assume z=0.\n",
    "# You can also call it with three arguments by providing your own z value.\n",
    "function xyzpos(x, y, z=0)\n",
    "    println(\"The robot is at position ($x, $y, $z).\")\n",
    "end\n",
    "xyzpos(1, 2)"
   ]
  },
  {
   "cell_type": "markdown",
   "id": "f767f296",
   "metadata": {},
   "source": [
    "### [Back to the lecture]\n",
    "Functions can be defined to return multiple values."
   ]
  },
  {
   "cell_type": "code",
   "execution_count": 40,
   "id": "f8e08477",
   "metadata": {},
   "outputs": [
    {
     "data": {
      "text/plain": [
       "(5, 3)"
      ]
     },
     "execution_count": 40,
     "metadata": {},
     "output_type": "execute_result"
    }
   ],
   "source": [
    "# Define a function with multiple returned values\n",
    "# This function takes a vector as input, and returns the maximum value and the corresponding index\n",
    "function max(input_vector)\n",
    "    # Initialize max to the first element of the vector\n",
    "    # Then update when we find a greater element\n",
    "    maximum_value = input_vector[1]\n",
    "    maximum_index = 1\n",
    "    for i in 1:length(input_vector)\n",
    "        if input_vector[i] > maximum_value\n",
    "            maximum_value = input_vector[i]\n",
    "            maximum_index = i\n",
    "        end\n",
    "    end\n",
    "    return maximum_value, maximum_index\n",
    "end\n",
    "\n",
    "a = [0, 1, 5, 3]\n",
    "maximum_value, maximum_index = max(a)"
   ]
  },
  {
   "cell_type": "markdown",
   "id": "317a9337",
   "metadata": {},
   "source": [
    "### Practice 2.\n",
    "\n",
    "<img align=left src=\"https://miro.medium.com/max/1280/1*C7KdIsgmKq2EHFBHG1irtw.png\" width=\"500\"/>"
   ]
  },
  {
   "cell_type": "code",
   "execution_count": 41,
   "id": "4d555ca3",
   "metadata": {},
   "outputs": [
    {
     "data": {
      "text/plain": [
       "f (generic function with 1 method)"
      ]
     },
     "execution_count": 41,
     "metadata": {},
     "output_type": "execute_result"
    }
   ],
   "source": [
    "# Implement a function f() as shown in the above figure\n",
    "function f(x)\n",
    "    ### START YOUR IMPLEMENTATION\n",
    "    ### END YOUR IMPLEMENTATION\n",
    "end"
   ]
  },
  {
   "cell_type": "code",
   "execution_count": 42,
   "id": "e8b66f59",
   "metadata": {},
   "outputs": [
    {
     "name": "stdout",
     "output_type": "stream",
     "text": [
      "all nothings means likely correct\n"
     ]
    },
    {
     "ename": "LoadError",
     "evalue": "AssertionError: f(1.3) == 1.3",
     "output_type": "error",
     "traceback": [
      "AssertionError: f(1.3) == 1.3",
      "",
      "Stacktrace:",
      " [1] top-level scope",
      "   @ In[42]:3",
      " [2] eval",
      "   @ ./boot.jl:360 [inlined]",
      " [3] include_string(mapexpr::typeof(REPL.softscope), mod::Module, code::String, filename::String)",
      "   @ Base ./loading.jl:1094"
     ]
    }
   ],
   "source": [
    "# Self-check\n",
    "println(\"all nothings means likely correct\")\n",
    "TF1 = @assert(f(1.3) == 1.3)\n",
    "TF2 = @assert(f(6) == 6)\n",
    "TF3 = @assert(f(-10) == 0)\n",
    "TF4 = @assert(f(100) == 6)\n",
    "[TF1 TF2 TF3 TF4]"
   ]
  },
  {
   "cell_type": "markdown",
   "id": "232ec2cd",
   "metadata": {},
   "source": [
    "### [To read on your own] Below is a function that you will want to have. It is based on JuliaHW4.\n",
    "### Suggestion: build on your own function called backwardsub(U, b)"
   ]
  },
  {
   "cell_type": "code",
   "execution_count": 11,
   "id": "a0fa6d0f",
   "metadata": {},
   "outputs": [
    {
     "data": {
      "text/plain": [
       "forwardsub (generic function with 1 method)"
      ]
     },
     "execution_count": 11,
     "metadata": {},
     "output_type": "execute_result"
    }
   ],
   "source": [
    "using LinearAlgebra\n",
    "function forwardsub(L, b)\n",
    "    # Assert no entries in the diagonal of U\n",
    "    # are 0 (or very close to 0)\n",
    "    @assert minimum(abs.(diag(L))) > 1e-6\n",
    "    # START of our computations\n",
    "    n = length(b)\n",
    "    x = Vector{Float64}(undef, n); #initialize an x vector of the correct size\n",
    "    x[1] = b[1]/L[1,1] #find the first entry of x\n",
    "    for i = 2:n #find every entry from the 2nd to the end\n",
    "        x[i]=(b[i]- (L[i,1:i-1])' *x[1:i-1] )./L[i,i] \n",
    "        #notice that we used a transpose operator to get the row of L\n",
    "    end\n",
    "    # END of our computations. \n",
    "    return x\n",
    "end"
   ]
  },
  {
   "cell_type": "code",
   "execution_count": 12,
   "id": "62c24d4f",
   "metadata": {},
   "outputs": [
    {
     "data": {
      "text/plain": [
       "10-element Vector{Float64}:\n",
       "      1.249603441094941\n",
       "      3.60776161854255\n",
       "     -4.7574170709020605\n",
       "    -27.128392070566274\n",
       "      8.878964666373436\n",
       "   -206.06378551142276\n",
       "    802.4598271525821\n",
       "   1840.763377053363\n",
       " -18004.877212483552\n",
       "  -1545.383020802248"
      ]
     },
     "execution_count": 12,
     "metadata": {},
     "output_type": "execute_result"
    }
   ],
   "source": [
    "# Let's use our code function \n",
    "using Random\n",
    "Random.seed!(09182021)\n",
    "N=10\n",
    "# Try N = 100 or 1000\n",
    "L=randn(N,N)\n",
    "# Make entries above the diagonal zero\n",
    "for i=1:N\n",
    "    for j=i+1:N\n",
    "        L[i,j]=0.0\n",
    "    end\n",
    "end\n",
    "b=randn(N,1)\n",
    "\n",
    "## Solve Lx = b\n",
    "x = forwardsub(L, b)"
   ]
  },
  {
   "cell_type": "markdown",
   "id": "07d2bc0c",
   "metadata": {},
   "source": [
    "### Example 3. Peeling the Onion\n",
    "\n",
    "Given a generic square matrix, can we factor it as the product of a lower-triangular matrix and an upper-triangular matrix?\n",
    "\n",
    "As introduced in the textbook, we can do this by <span style=\"color:red\">**peeling the onion**</span>: **working from the top left corner and working down the diagonal, it successively eliminates columns and rows from a matrix!**\n",
    "\n",
    "This example will teach you how to use a function to solve the problem more easily.\n",
    "\n",
    "<img align=\"left\" src=\"https://content.presentermedia.com/content/animsp/00021000/21530/onion_layers_300_wht.gif\"/>"
   ]
  },
  {
   "cell_type": "code",
   "execution_count": 2,
   "id": "b14f175b",
   "metadata": {},
   "outputs": [
    {
     "data": {
      "text/plain": [
       "5×5 Matrix{Float64}:\n",
       "  0.445483  -0.58363     0.0510714   1.41242    0.58848\n",
       "  0.379078  -0.742294   -0.515765   -1.45693   -0.132947\n",
       "  1.01567   -0.030604    0.095956   -1.16411    0.482316\n",
       "  1.7163    -0.0245906   1.08093    -1.35588    0.614603\n",
       " -1.30546   -0.949575   -0.710368    0.198131  -0.504122"
      ]
     },
     "execution_count": 2,
     "metadata": {},
     "output_type": "execute_result"
    }
   ],
   "source": [
    "using Random\n",
    "using LinearAlgebra\n",
    "Random.seed!(09182021)\n",
    "A = randn(5, 5)"
   ]
  },
  {
   "cell_type": "code",
   "execution_count": 15,
   "id": "0fcd8fbe",
   "metadata": {},
   "outputs": [
    {
     "data": {
      "text/plain": [
       "peel_one_layer (generic function with 1 method)"
      ]
     },
     "execution_count": 15,
     "metadata": {},
     "output_type": "execute_result"
    }
   ],
   "source": [
    "function peel_one_layer(Temp, k)\n",
    "    # We boldly assume pivot is never zero\n",
    "    # A good programmer would use an if statement to \n",
    "    # test for pivot being almost zero\n",
    "    pivot = Temp[k, k]\n",
    "    C = Temp[:, k] / pivot\n",
    "    R = Temp[k:k, :]\n",
    "    Temp = Temp - C*R\n",
    "    return C, R, Temp\n",
    "end"
   ]
  },
  {
   "cell_type": "code",
   "execution_count": 16,
   "id": "1867294a",
   "metadata": {},
   "outputs": [
    {
     "data": {
      "text/plain": [
       "5×5 Matrix{Float64}:\n",
       " 0.0   0.0        0.0         0.0       0.0\n",
       " 0.0  -0.245661  -0.559224   -2.65881  -0.633707\n",
       " 0.0   1.30003   -0.0204827  -4.38431  -0.859372\n",
       " 0.0   2.22394    0.884164   -6.79745  -1.65262\n",
       " 0.0  -2.65986   -0.560707    4.33712   1.22038"
      ]
     },
     "execution_count": 16,
     "metadata": {},
     "output_type": "execute_result"
    }
   ],
   "source": [
    "# Exercise 1\n",
    "# Remove 1st row and column of A\n",
    "(C, R, PeeledMatrix) = peel_one_layer(A, 1)\n",
    "PeeledMatrix"
   ]
  },
  {
   "cell_type": "code",
   "execution_count": 17,
   "id": "1b5bae9c",
   "metadata": {},
   "outputs": [
    {
     "data": {
      "text/plain": [
       "5×5 Matrix{Float64}:\n",
       "  0.147432   0.0           0.456593   2.55793   0.69301\n",
       "  0.0        0.0           0.0        0.0       0.0\n",
       "  1.00004   -3.46945e-18   0.11722   -1.10404   0.487797\n",
       "  1.70374    0.0           1.09801   -1.30761   0.619008\n",
       " -1.79039    0.0          -0.050579   2.0619   -0.334051"
      ]
     },
     "execution_count": 17,
     "metadata": {},
     "output_type": "execute_result"
    }
   ],
   "source": [
    "# Exercise 2\n",
    "# Just for fun, remove thrid row and column of the orignal A matrix\n",
    "# This is not super useful, but it shows that you can remove any column-row pair.\n",
    "# To make LU work, you have to remove the column-row pairs in the correct order\n",
    "(C, R, PeeledMatrix) = peel_one_layer(A, 2)\n",
    "PeeledMatrix"
   ]
  },
  {
   "cell_type": "code",
   "execution_count": 6,
   "id": "b56c948b",
   "metadata": {},
   "outputs": [],
   "source": [
    "Temp = copy(A) # Initialize Temp matrix by copying the original matrix A\n",
    "nRows, nCols = size(Temp) # Get the size of the input matrix\n",
    "\n",
    "# Initialize the lower and upper triangular matrices L and U to zero\n",
    "# We show two different ways to accomplish this\n",
    "L = zeros(Float64, (nRows, nCols)) # Using zeros function by specifying the type and size\n",
    "U = zero(Temp) # Or using the zero function by providing a 'similar' matrix (means same size)\n",
    "\n",
    "# Successively peel away columns and rows from Temp\n",
    "for k = 1 : nRows\n",
    "    C, R, Temp = peel_one_layer(Temp, k)\n",
    "    L[:, k] = C\n",
    "    U[k:k, :] = R\n",
    "end"
   ]
  },
  {
   "cell_type": "code",
   "execution_count": 7,
   "id": "edd54c4d",
   "metadata": {},
   "outputs": [
    {
     "data": {
      "text/plain": [
       "5×5 Matrix{Float64}:\n",
       "  1.0       -0.0      -0.0      -0.0       0.0\n",
       "  0.850938   1.0      -0.0      -0.0       0.0\n",
       "  2.27992   -5.29196   1.0      -0.0       0.0\n",
       "  3.85267   -9.0529    1.40222   1.0       0.0\n",
       " -2.93043   10.8274   -1.84378   0.180593  1.0"
      ]
     },
     "execution_count": 7,
     "metadata": {},
     "output_type": "execute_result"
    }
   ],
   "source": [
    "L"
   ]
  },
  {
   "cell_type": "code",
   "execution_count": 8,
   "id": "5dcba509",
   "metadata": {},
   "outputs": [
    {
     "data": {
      "text/plain": [
       "5×5 Matrix{Float64}:\n",
       " 0.445483  -0.58363    0.0510714    1.41242   0.58848\n",
       " 0.0       -0.245661  -0.559224    -2.65881  -0.633707\n",
       " 0.0        0.0       -2.97987    -18.4546   -4.21292\n",
       " 0.0        0.0        0.0         -4.98997  -1.48206\n",
       " 0.0        0.0        0.0          0.0       0.58172"
      ]
     },
     "execution_count": 8,
     "metadata": {},
     "output_type": "execute_result"
    }
   ],
   "source": [
    "U"
   ]
  },
  {
   "cell_type": "code",
   "execution_count": 9,
   "id": "589b0d82",
   "metadata": {},
   "outputs": [
    {
     "data": {
      "text/plain": [
       "5×5 Matrix{Float64}:\n",
       " 0.0   0.0           0.0           0.0          0.0\n",
       " 0.0   0.0           0.0           0.0          2.77556e-17\n",
       " 0.0   7.97973e-17  -1.38778e-17  -4.44089e-16  0.0\n",
       " 0.0   1.9082e-16    0.0          -4.44089e-16  5.55112e-16\n",
       " 0.0  -2.22045e-16  -4.44089e-16  -3.21965e-15  2.22045e-16"
      ]
     },
     "execution_count": 9,
     "metadata": {},
     "output_type": "execute_result"
    }
   ],
   "source": [
    "A - L*U"
   ]
  },
  {
   "cell_type": "markdown",
   "id": "23970310",
   "metadata": {},
   "source": [
    "### Practice 3."
   ]
  },
  {
   "cell_type": "code",
   "execution_count": 1,
   "id": "4e83eee1",
   "metadata": {},
   "outputs": [
    {
     "ename": "LoadError",
     "evalue": "UndefVarError: forwardsub not defined",
     "output_type": "error",
     "traceback": [
      "UndefVarError: forwardsub not defined",
      "",
      "Stacktrace:",
      " [1] top-level scope",
      "   @ In[1]:9",
      " [2] eval",
      "   @ ./boot.jl:373 [inlined]",
      " [3] include_string(mapexpr::typeof(REPL.softscope), mod::Module, code::String, filename::String)",
      "   @ Base ./loading.jl:1196"
     ]
    }
   ],
   "source": [
    "# Using Julia built-in function lu() for LU decomposition and solve Ax=b\n",
    "using Random\n",
    "using LinearAlgebra\n",
    "Random.seed!(123456)\n",
    "b = randn(5, 1)\n",
    "\n",
    "### START YOUR IMPLEMENTATION\n",
    "### END YOUR IMPLEMENTATION\n",
    "y = forwardsub(L, b)\n",
    "#x = backwardsub(U, y)"
   ]
  },
  {
   "cell_type": "code",
   "execution_count": 54,
   "id": "d16cffdf",
   "metadata": {},
   "outputs": [
    {
     "ename": "LoadError",
     "evalue": "DimensionMismatch(\"dimensions must match: a has dims (Base.OneTo(5), Base.OneTo(1)), b has dims (Base.OneTo(10),), mismatch at 1\")",
     "output_type": "error",
     "traceback": [
      "DimensionMismatch(\"dimensions must match: a has dims (Base.OneTo(5), Base.OneTo(1)), b has dims (Base.OneTo(10),), mismatch at 1\")",
      "",
      "Stacktrace:",
      " [1] promote_shape",
      "   @ ./indices.jl:178 [inlined]",
      " [2] promote_shape(a::Matrix{Float64}, b::Vector{Float64})",
      "   @ Base ./indices.jl:169",
      " [3] -(A::Matrix{Float64}, B::Vector{Float64})",
      "   @ Base ./arraymath.jl:38",
      " [4] isapprox(x::Matrix{Float64}, y::Vector{Float64}; atol::Int64, rtol::Float64, nans::Bool, norm::typeof(norm))",
      "   @ LinearAlgebra /buildworker/worker/package_linux64/build/usr/share/julia/stdlib/v1.6/LinearAlgebra/src/generic.jl:1657",
      " [5] isapprox(x::Matrix{Float64}, y::Vector{Float64})",
      "   @ LinearAlgebra /buildworker/worker/package_linux64/build/usr/share/julia/stdlib/v1.6/LinearAlgebra/src/generic.jl:1657",
      " [6] top-level scope",
      "   @ In[54]:3",
      " [7] eval",
      "   @ ./boot.jl:360 [inlined]",
      " [8] include_string(mapexpr::typeof(REPL.softscope), mod::Module, code::String, filename::String)",
      "   @ Base ./loading.jl:1094"
     ]
    }
   ],
   "source": [
    "# Self-check\n",
    "invSol = inv(A) * b\n",
    "print(@assert isapprox(invSol, x))"
   ]
  },
  {
   "cell_type": "markdown",
   "id": "33e506ac",
   "metadata": {},
   "source": [
    "### Something for Fun: Plot a Clock!\n",
    "\n",
    "<img align=left src=\"https://c.tenor.com/mFAI-RYiVAQAAAAC/anime-wow.gif\" width=\"300\" />"
   ]
  },
  {
   "cell_type": "code",
   "execution_count": 55,
   "id": "3b390c01",
   "metadata": {},
   "outputs": [
    {
     "data": {
      "text/plain": [
       "plot_current_time (generic function with 1 method)"
      ]
     },
     "execution_count": 55,
     "metadata": {},
     "output_type": "execute_result"
    }
   ],
   "source": [
    "using Dates\n",
    "using Plots\n",
    "function plot_current_time()\n",
    "    th = 0:0.1:2*pi\n",
    "    X = cos.(th)\n",
    "    Y = sin.(th)\n",
    "    plt = plot(X, Y, aspect_ratio=1, axis=([], false), legend=false)\n",
    "    add_numbers(plt)\n",
    "    t = Dates.now()\n",
    "    th_h = -((Dates.hour(t) - 4) % 12 / 12 * 2*pi - pi/2)\n",
    "    plot!(plt, [0, 0.6*cos(th_h)], [0, 0.6*sin(th_h)], arrow=true)\n",
    "    th_m = -(Dates.minute(t) / 60 * 2*pi - pi/2)\n",
    "    plot!(plt, [0, 0.8*cos(th_m)], [0, 0.8*sin(th_m)], arrow=true)\n",
    "    th_s = -(Dates.second(t) / 60 * 2*pi - pi/2)\n",
    "    plot!(plt, [0, cos(th_s)], [0, sin(th_s)], arrow=true)\n",
    "end"
   ]
  },
  {
   "cell_type": "code",
   "execution_count": 56,
   "id": "7fc2aef7",
   "metadata": {},
   "outputs": [
    {
     "data": {
      "text/plain": [
       "add_numbers (generic function with 1 method)"
      ]
     },
     "execution_count": 56,
     "metadata": {},
     "output_type": "execute_result"
    }
   ],
   "source": [
    "function add_numbers(plt)\n",
    "    for n = 1:12\n",
    "        theta = -(n / 12 * 2*pi - pi/2)\n",
    "        annotate!(cos(theta), sin(theta), n)\n",
    "    end\n",
    "end"
   ]
  },
  {
   "cell_type": "code",
   "execution_count": 57,
   "id": "4b612f0e",
   "metadata": {},
   "outputs": [
    {
     "name": "stderr",
     "output_type": "stream",
     "text": [
      "┌ Info: Saved animation to \n",
      "│   fn = /home/jovyan/rob101001fa2021/Lab4/clock.gif\n",
      "└ @ Plots /opt/julia/packages/Plots/PomtQ/src/animation.jl:114\n"
     ]
    },
    {
     "data": {
      "text/html": [
       "<img src=\"data:image/gif;base64,R0lGODlhWAKQAfcBAAAAAAD/AAMDAwMZJgQHCAV1uQgICAuf+gwiLwxFaQ0NDQ1ilg4wRRAREhGi+hKi+hMYHhOi+hWT4RWj+hdWfRek+hgYGBik+hspMhwcHB0cHR2m+x2m+x8fHx+S2SCe7SFRbiQiJCSo+ySp+yWLyiWq+yir+ymr+ysrKy2s+y89Ri+t+zF/rjGu+zIyMzOs+TOv+zSMxzVwkzd5oTg4ODqx+js+QD6jTT+kTj+kTj+z+kFBQkSnU0S1+0VKW0dFSEhldkm3+ktLS0y5+02qW09PT1Co6FC6/FGSdlOuYFVVVVeJqVe9/FpaWlqwZltqdFxcXFy//F1aXl2val6za19fX2JjY2J6i2LB/GS89maQqma3cmdnaGjD/Gum3mx8c2yZfGzF/G1tbW5yb3FxcXPI/HPI/HRzdHS9f3l5eXzL/H7CiH9/f4KAgoOh7IXI9YXP/YaHiIbGj4qBm4tdm4vR/Y3Jlo6Ojo+B34++z5DT/ZKTk5TMnJbW/ZfOn5mamp2eoJ3Ppp3RpJ3Y/Z7Z/Z7Z/Z+Ar6DZ/aDa/aGKr6KioqV4s6XH6KXUrKenp6fc/aqrq6uWuKyLuqzH5qze/a2Suq3f/a6urq7f/a+vr6/ZtbDg/bDg/bDg/bF+wLGhvbGxsbSztLS2tbZ3xbaPw7aswLjj/rm5ubnev7q7v77l/r/R4cDhx8HAwsNx08Nz08N11cPCxMR008R20sV41cXo/sZ40sd81sjIyMjlzMp8psqB2Mrq/syI2szk9s+N3M/P0M/s/tDW29GU3dHC3tHp1NOZ39ae4dbW1tbr2dfv/tik4tjX2djb3dqp5Nrt3tzc3Nzn3t2v5t3d3d6Rj97y/t/k4eC46OG56eHx4+Lf3uP0/eR4U+SDYOTB6+WXfuXj4uXp5ubE7eiJaOjK7ujr7umSdOn2/+rP8Orr6uyfhO3V8e3V8u3y7e6pke+vme/q6PDd9PG1oPH5/vLx8PPDsvPk9vT29ffu+fj8/vn2+vv3/Pz+/v36/f78/v///yH/C05FVFNDQVBFMi4wAwEAAAAh+QQFAwABACwAAAAAWAKQAYcAAAAA/wADAwMDGSYEBwgFdbkICAgLn/oMIi8MRWkNDQ0NYpYOMEUQERIRovoSovoTGB4TovoVk+EVo/oXVn0XpPoYGBgYpPobKTIcHBwdHB0dpvsfHx8fktkgnu0hUW4kIiQkqPskqfsli8olqvsoq/spq/srKystrPsvPUYvrfsxf64xrvsyMjMzrPkzr/s0jMc1cJM3eaE4ODg6sfo7PkA+o00/pE4/s/pBQUJEp1NEtftFSltHRUhIZXZJt/pLS0tMuftNqltPT09QqOhQuvxRknZTrmBVVVVXialXvfxaWlpasGZbanRcXFxcv/xdWl5dr2pes2tfX19iY2NieotiwfxkvPZmkKpmt3JnZ2how/xrpt5sfHNsmXxsxfxtbW1ucm9xcXFzyPx0c3R0vX95eXl8y/x+woh/f3+CgIKDoeyFyPWFz/2Gh4iGxo+KgZuLXZuL0f2NyZaOjo6Pgd+Pvs+Q0/2Sk5OUzJyW1v2Xzp+ZmpqdnqCdz6ad0aSd2P2e2f2fgK+g2f2g2v2hiq+ioqKleLOlx+il1Kynp6en3P2qq6urlrisi7qsx+as3v2tkrqt3/2urq6u3/2vr6+v2bWw4P2xfsCxob2xsbG0s7S0trW2d8W2j8O2rMC44/65ubm53r+6u7++5f6/0eHA4cfBwMLDcdPDc9PDddXDwsTEdNPEdtLFeNXF6P7GeNLHfNbIyMjI5czKfKbKgdjK6v7MiNrM5PbPjdzPz9DP7P7Q1tvRlN3Rwt7R6dTTmd/WnuHW1tbW69nX7/7YpOLY19nY293aqeTa7d7c3Nzc597dr+bd3d3ekY/e8v7f5OHguOjhuenh8ePi397j9P3keFPkg2Dkwevll37l4+Ll6ebmxO3oiWjoyu7o6+7pknTp9v/qz/Dq6+rsn4Tt1fHt1fLt8u3uqZHvr5nv6ujw3fTxtaDx+f7y8fDzw7Lz5Pb09vX37vn4/P759vr79/z8/v79+v3+/P7///////////////////////////8I/wDzCRxIsKDBgwgTKlzIsKHDhxAjSpxIsaLFixgzatzIsaPHjyBDihxJsqTJkyhTqlzJsqXLlzBjypxJs6bNmzhz6tzJs6fPn0CDCh1KtKjRo0iTKl3KtKnTp1CjSp1KtarVq1izat3KtavXr2DDih1LtqzZs2jTql3Ltq3bt3Djyp1Lt67du3jz6t3Lt6/fv4ADCx7c8p4wXdQQauOEp88qfIQjS57cMp6YGgoAAAhjcNMMzaBBrKJMurRpjts0WwCx2aAYAD3waOJTA4ABYadz6969MJ4mbfnctC4YCvdAfEAATOHNvHlz4ZwZbgJwwrn166ShNwwFoAX27+ABa/9nOAWAmfDo098VDobhJAANxqmfT59sO2KvLgWSM8ZKEBoUCJDAAQQe4IADG4QQggkvjNAAACvsoIQSY9xxyS7t1KfhhkvNs8siYxSBAwoVEEgCDUFYMYYcgVzyShoCgDGPPfa000441TzzDDGPWAAAFqSAAskicnwRBAoGqhDEF3JAYks4HEYpZU3hgCLHEyocYIISbUBCCjHVzJOQPcKJkRA1GQBAxz0JtbPLJXeE+EKJJeywhRyviDnlnnx65CEhY+xQQQQ7fEGILXpCNJ5B2rDmxkTzEAOKHl+8cAANY0BSTZ+cdurQLlciiQKXoGx60aIEbXMCAGpoNA8pbQT/McEGStyBqKe4ctqOJFtsIIKhuySqEaoCqQpAGiARQ8gWWeIwxiVQ5irtfKDi4MAOdzzzkRMttJCmBd32MJATAAjQ7bkt5OBRO7D+4IAIVlwi7LT06tbOJb2G8AUoGYaUQwMAB9wACANRIbDAHIxEjB47OPCEvPVGTNkzegRxaRu7iNUOIRYHQUi/EofMly35bgHxWeEw7IASlMwr8stvtaOHCiK0Qcxb4QDSMMsuw+xzWSQ/oAQodW3c8cc/Jx1WO3eoQIIc0eKV8w4RjGGq0lhfRfLKRP8VzhkTBPFK1mRDJTMLJLQRdWBMb0ADJPaULfdRWw9Nmj2X0CDCHT3P/+23SMYowkcoCWlTCR+GFATKCybI0U7cp71SRAVnrM3oJHwo8vfmE/WQmWZDHCSGj5plMNArO5RACOS8PfPFA09kXBAYpAOQMOe4O2SABT0MAUDoBs2gQA3lmb6LEhsA0re9d7h9CUHC50Du7blXX7hAjPx+kDZxKwOABUVsoMfyzM1DiAoqdM19PsbYbv37CmUPPEKlADCAHORfd0kJQdwsUPvUg58AByI/hFTjCxL4HofmAYgKbAFKABygBLGnvYJ8zQFf4AUATBeldnxhAncQhvsmOMACDqQdbZjAFjblPQ5KiRg/6MAISQg/E+ZDDxOwwtVa2Cc7CAAC/qOh9f8K+Awc0CCIAuEhn9oHgQeMAWRC5Jz8cNgG1g1EiXsCYDi+UIE7WDGKc8seA3CARIJgcUoRzMcucGCCroFRbvNIAgBSoJAzSimNAoFECKwAxTcmbRcvWEEFEWLHKOFRIPP4QgjG5sefzSMFAgCNJOMxEOFIEjSj0ZAaLgkaWQzkEpT7YiPr9QoTUKAHOUClKnNAj4EoIpWwVKUwIFMfQ8QylsYRSDh+QANtjbJe8xjDBiRRvTtMYBG/nBYpQvCEx1nPFiXgYzI7ZY8zbMCN72vHFkRgi2nyqR1FoIHl4EeJUHozSs8wwRbyl7td9vKcGgJFBQDhR2MiE57qacMGGOn/R1uQYJ34BE87lECDqzUSnDvoY0B5U40XPIGdNBwDCgy6UN284gJtCGjzZFfR3OjhAqSoqCQmgM2OTmYeVlCBLyt6UXqadDLVoIESFBrQZ4jgDC+NDDE2kNGc6vIFAPXpX3ZKCKGeMAgJNSpfiKrUgdiDWRRt6lyYKtWB3CEEZazqW3ZRgXtqNY8g/SpcuEpMsQ6EFBUoqVnPsosLUGKtBLHFBPgJ17Jw9Xl1PesEOJrXsNjiAnjtq0AucYGsClYrr5hAYA+bD0JsYKWMzUpiFxvZO5RgnJGdyisqENLMEuQMKqCpZ52C1s6OdiBbwAFET0sUYoSVtU5VQhFECduj/7QDBXqoLUHmEYQn0Fa3QrHHkoC7Wxx8gbhHCdRvYduOF+AUuUMhRAgwC9xwNA66QUmsYZFbjWFi1yfPuIBav8vV7X53Ju1QwR3Oe5CZrZa9KbFHEawA34M8YQv1rckZaPBe4LbDBEXNb0wgsQHq1pcYEzCvgE1iiwrwdcEDWQQJRAvhkYRjA5SVDC1LYwUlVDi+L5DDaa4BDtPMQwW5/bBJ2rCD06jDGtZwh2meMYFuqngku5hAVCVDDmtcgx2ngYQIKHxjjNjjBQEuzYu70eN4bJgyRioySM5QhNyQ4x1MRgeQTUyD9UqZIznecWRefA8mv7iVpqnGBej6ZYvMA/8FXi3NlfHB5HxoOTeg2ACR2+wQKueGzPmoszus4eTTqIjPFmmrgQkz50CTQyB3Pk07HIxoSKEAErp5Rz0EUud8qOMdugnECypNEHrIog98yGVB7pGED0xBDcrgTaeZgwM9NAMPYnCCGDTBphsLowUEAA0eDuKOFkRSMwbgw25mzRtiIICTJ0iMilcBABAgoQUAGLZBkDDHbdxDEwoQgCdzw+zd2EMADDCEMhaD7RP0usLxOAdktJBtg+gCABCgpED4ABvdlHs3shCBacfxIMJJmd7aJkgTBEAG1sUj3PI5zb93QwkTJMp3yj54vQliDwYAoBIFqY3BTTPx3QShp/n/yAEAGPFlhBcEEAMAwLgHwu2Mk/zR16nGBLSlCwEoQN4aT3g+5rGBBxmjIPR+lMRxfp02/CAerKHDk1Xs8oHIoQgPasbsWEVupltnHiWA5BCmTvWN56MdCU6TLp68BLOXpuS7uQcPBJADfbfc7GPA72dGLpDksHzp2LFHeTDwBbKXXds63xQV3J4PDQDg6IC/Dr1n4FoFL7jqWxiDQN6jroHIotr+9jpz6N2CceDjSnx2OYKdWQ/WJC4f8fiM0N8u+t2AoTsRb0dhi/y5S2KAIKswAN2n4PgeoDnyzBkHJ0GDLBUP4ZY1YAAYrKiLIYQbBGo4PvJ5445bojIHDMDD/3IhjANAjJ85cG+OPcZw3DaDggT93T54wuGARQv4BW9VT/qd8wXNS3kRozYf+9cc1RAB9sde8yBw9DGAzbEFz6Vii4AD9cGAzEFje3ZeOFBWAlh74fEEKAdhrnV+1kGBzEEMFXCB0PUFD7iBGlIrFdYOESBm4EGCzNFW8cdaeuBhGkKDzBEEKSZgKmBaC8iB6PEKISCCuvUKJcAhPMgcLyCE7PUEXraDRIged/AE+RUOD4CC19GEvEF/XHhabYBfTFiF6OEx8GUPIWBjG+KFvLEILcZeeSMlbrgb8/AAMlhbP5BkbWiG6HEn5/UMFXCDzVGHu1FK5zUG/hclhrgbIf/wYLplDxcAWX04JWewiMT1CiqwJ42oG4KIhIw1BitYhntCA+PFWijAhozoh+mhB1hIXJ/IiayIHu1wAGGYV3dAX7LIJ0UQCMS1AxlWiXsiCXFYW7V4i9/RiXb4AAfYV5DwA32ijLtRBHF2Wk/wg1MijbpxB2TIWvawc9E4i+mxCyJQW5rIKdqoGxVAiZkliugojumhBHzoWan4jpyiB7o4WrEYjpyyU6yVi52SjrrxWKcFjAEJj+nxBC6VWfNgiwfZKYHwipllCyzgKQKZG+E1WvhokQiZHhtgeWa1BVPIj51iBdh4WC/AZrvYKYSgg4xlDw75kJ2ic5m1CyaAKxf/qRsiAIl1RQgSaY+eIpKRxSQ42ZGt2I2CRQNQyCc5iWfF2FcwiYzp0ZSn0V2MRQwhkCtUeRox2VeLUGVFmSsqwJNmNQYfCJSeogTVCFc7cIrZaJTpcQajCFcT0IxUmCs+KVjPsAHSspWmYQsBmFeXEAR9CZe0eACCdQftF5a5UgF5KFUrUpjSggNLKVZW4ItaaZjoYZJ99QNu+ZbSwh99xQJkuZK4cgnQmFcX8JirKC3EUI51BZOEOJWaGR4NOZsBFQ4RMC1+eRoECVe7gAK8WZvhgQKl2VSk8JQcOS00oJJatQg/uZzS4pl1JZqSKS1FoIFlKWLXmSuXWVdPMI8y/5krXzCSYtWWwzktZ3CWXzWW6SktbXAGoPhSFWCXwpgrimlWskAFLTAAQ6AJ3ckpjCAGPYABCDAEbiBjUoUHkcQBAxBs7cGYnHIPmvFDn5MBquZTPWcAk5APB3AMq6I50skpZKIL9wAKO6AMKjcDTbV4ZiKb1FYdI4orr0AD+aB8AAB0QoVtnJAPsmkPmZGhpokrxHCT9mAAAKCgQsUa43YAYuJ4r4eWuLKX+fAeLKpUtfF6thgPkdQq4+kpioAHC4AEBgACkGdUmzQDbGKLlnQeAekM80kfrKEZJzBzRjUOjpcDjFAAYuBz5kFNXoAK0ZArqzAKhgAG4TZ7PmUM2P8GGlRALnTQKcNwA96ACsVAL7oQbtLWVLpgCAvAC/awd52CBkyQD+vACr1AL77TB19Vl+NgAAqgpHwiBH8gEPDgCrcwLeURqVp1AeFwexHaJ9NgA3YnD7FQC5vmKfTAAQDAdz5FB8IQNxJwexkQcX1CqqtWC7EgD1LSB2kgDK1ED6ugciegfT7lIwTwINV2pn0iBHtgEPiQC66wDlFiSfBxbCcQa02lCVqQAy0Qfu1geFEyDTdwDggRDKxgDhxyDoygBUDQAjNABYaQrF/1m53yBkegEMiACtxAan8hAuy4J0KQBwuBDYLqsX1hAiBZH+dQsAxRqZeKsnqBnp0yB0L/4BCnmqoyixff2SlHMAegeKu5urN2sZ5xGh7xYAPTABHGiqxESxd6gJR7kgc3GxH3oK3cSi32+VKgkJp9cgRvMBHxOq/z4ZlHW1G7sIl9Eg83kAwVgbAKmx4isLI+pZuc8gdCcLYEsbEdGx6ymVdO2idMgAYYYbKDCh5UmldzyyfzcAPDkBEwCx6kIIF5RZl8kgg6sBE5+x2AkI9wFZ58wgRlwBFCix3r2VenOyX2cAO/0BFNS7HMoZZ9lZ9TgrkfcbXb6hwvoIprRQlgKSVSMLofEa+qAA/NYYB9BZiqewOzIBJwyxu1KFjhUAFTYgmZOxJ8uxtpK1h/GyVZUAZ6/xsRhqsbkPC7eWUCx4keN2AKJhG5p2GdfcWZHCIK12sSm2saW3CScLWRHJIFWZASpVsaNJu8arshOiAKKvG6pLG4gnWbG2IKN8ASuJu1kVGLuGlSSrkhZZAF4YsRxGu8kUEKNspYRKkhOmAJL/G8hCGXkbUILjkfs3ADHbwR2TsYBslYiUsfZSAFMjG+gRGVmVWX9XHCAqsS7vsXtiCcmfUDwfgdv3ADF+wR9+sXReJZLDwfO2wTAdwX1OhZqEkfOpAIN6HAfKFjnqWF85EMN2B3NVEPWLsXWHlaFhse2JoTH6wX/OtZspsetMoTKnwXCnlaVYweBMvGOVHDdvGRp/91juiBsT9hstJgF9VAvacliSHrHO4KFEcsF18JW4AIHudgAwYLFFMcF0LJWqAwwt/hyEKxxXBRj6w1D/UHHkIwB0RBxm5BfzPcVNf4HS07ykPhxrnrFq6oW8/4HXOQsUZxD7dQvG5hiroly85kHWCbFMCQsGxRgFEsVUUgnruRtEubFIiMFnIgtaxFCObLHFTLFNGACpGcFk9IXO3gAFIpGNXMFJWKDGgRXrusVTfMHGzrtk1hDqh6Fm2wmMBVzM2Bt1DhymJhArxbW9XwANusF4MbFbgMFrvAl9gFzbzRuI8bFcJMwV/hjthVzsxhu1PBzKwAwl/xiN+1j7oRvFb/cc1x2xVKyF4v8JmRsbqtaxXjrBVfwJ7EFQiEqRvWmxXt/M5aYckIuHu5QdNZkc9bQQqBeV5ngNB3w7xbQdA6ixVWwJ3sVYD1nBdJzRUOPRVox5q15YKm8b39XBQZLRWol1+2cISmsb5fMdJUQXTpS1w00MSCQb9hwdIuDRWB4LX5BYel4b9jYdNSgQKVeV5+TRoHTBZBvRSXcNUCNoaUAcFmsdRP8TYfpoVbexdZbBZUzRR3HdeRZQVEDRgnjBZezRRFoL8CttEVzRazoAO7/RRp3VoX8NuRhQOYRhipnRby4ApOexSwLWWSoMqCccKuLdJvXBTVMMtFZg/7NBhP/0zcUcHMrnDYQaGIbUYINFDdZ5HcbQHZQoF2lwxhR3bc92DIeRHGcYEMqSAOQtEG0VlkpOABYgACAiAAFoAEQkoXamzfbCHaPcGfLeABEX1j7vBsFuAEWrAqCqALeVHHclGpzMAThgAaRADeoyUcA/ANcWMPiycueNHHdEHQwKAT42ABQBBsuGDinsVtMbCIItQAeFHIdhHcMoEECqANwWatbUZvdBAB/uM9BHMXrGwXy10L7zYT2YMHuxBsOtpm3DEDbACWr+GmdjGyecHXM1HjM2APOMDlRfxhdFCmCdAEteEEDA4XoQzMdyHe5O0SS0AAwjAIL4CkXd5m23B7oP+RAxx+F8ms3mDh3i8xHWnQDhtgC4T+5hBmDBlAAGawCjBQBZv+d3VRy36h3/ztEu6QAScQD/2RD5eOaMnBq6+wAbKQrnfeFi0bzn3h4CyhBQKwCiYIJa/OZ0i6DQNRBHKwKpk0F8kcGCDeEsbWAAqgAACjGQBjpzdWD5phrTSGbc4KF/cMGDLe6z2QAgyQA6mkGeie4B/megTBBcEGDXQBzoNB5CRBdKY17G1GBwCgAHygDe7ACauSA45+FXtQtYNR5VduEmfwwvr+ZfaA6JKUAhJQ1mABtgV/FmhuEgUIWQ/fZsZAB2CgBW5wCvmwBZ77FgE9GXx+EkVwlpPACOb/KrPtUALa6RZ4m/FqAQyqcNMiAQoioOMC1mCnDRYXXRr67Q0joWaT/bQFcQY/oPNPAdKnweseYQ87MJdOfxD2QAO4jRYqfRrP/hFtgANSD2E0RrdgIdW5Me4d0WBsvfUCoQcvIPRM4dO8Ye8TQemCLfcHEQRaXxZnzRsKrxEU4vcQEQ4XMOFkwfa8sfEVQfd2L2WXMGRpsbrN6xwtXxHE4OSILxFPoNVkMfjWwfM+DxH/5c2fvxDtIAKgcPZF4djfsbFKLxFWkPKr7xCksAFxnxU6YAqYnhtW3xCLUAIW//lygALH/xSiEMHoMfYCQQ8hjhA09te5nxBfEPVkIfvo/2EOqDDjAoEPtdDnQ+f1118R9vADou8Vl60eWxwN018QIXL+FpFe5tkVoE0fhW+sC68HAEGinb18BQ0eRJhQ4UKGDR0+hBhR4kSKFS1exJhR48aM1TZc4hhSpMUyUkaeRJlSZcN6tWLJywdM3MFLF4itxJlT506ePX2u3DXB1k+iEHVYKppU6cl7t1zBK9fLIKkKu5ZexZpV61adoDY840p01g2CYc1qhVfPIDBV5mrJw0esAqizde3exZtUDop2eVeW9BtYZzFXvaTBw4cMFbBoHgkJhhxZ8uSEX36UpZxRR6LMnTHiW8csV6xgwFC5QnHH82rWrYnaC7LF9cRhN//mzcbtUJ43wqjW5AYeXPjEdipUD1cIGDlye0XW3F4eXTpwjyCn5xPy5zpwKz+gbwcfPrKtCkOlJ7sRT3zrMy++r4cf32zNV9LRMJHfWQ+JcPn9/78KlAlIiU6IPQCM7JKvEGSwwZ2oomu4adJzMC+qrKowQw1DeuUCSnLL4pyC3jhiw7pAqYBAE1dkcaJdLnhstix+KUiIPFrcapEJ6sOxRx8TImYDPWZ7QxR7zrFBxHySwezHnu7YAEMnp+zxGRHkcC2RG+coMZ9fhJiGSp7OMKEaMc9ssRoSxmjNFDSwmyOfYYT4pUk0T7Jnixf6u7NPDcNRgc3VkpHinBummXP/Fjv95GieInboi1FJG2yHhi0WjWweHbhMRohZJh2p0ifeA7VU+drZ4QlMITviCDQ8NZUjQL+Itdb85tlBCVIjK8MGIUyxNaMgsQy2WPEcxYHPybK4AVhjKyIvxmenva6NDXiU7BekqJUIwlW5BRc3AYcMNzhCLsC2XHWBe4aFUddtbZ4vRLgJXntxm8cKE+q9dzJiWCgi0n4HZo2QCiAhGDJIKjguYYc722WDL759GCt5S5CyYo0jC+eHZDfmihgUnhAYZJP9sueMDcw7WSlCJgCkZZkDq6nhmXlq54l9Kb6556tEtmJXn0+yRYQt5uF5aKWJascKEVRceqQ7Do66/2quSCFBCWXz0aIFr7/2eoah8QD7az4QakeJF8Cyuu2s5hkDRoOGaKBuuw0A4IShyQBAAbvrdoOmDcYQ2m3DidrlhR34RWgIAOjYGwBGFnomiBKgPjxzpezRo4IzSN2GAAPGiXxyhOY5I4LPNWf9qmqUePogNwBAQmm+TTfokhCCYLt135VSkGSCTgAgFNsBcIKKJcjQZAcSIvw9+qTa+QLGVQDI4J7jAeCe+xS2SVp68VVKPAEBzFi6Dzp0QaSDGCAAoIbx5yfKHQUA4KLknonZAQVS7NFGA4pHPwLuhA/xs8IEzqC/k7VjDBO4A2aoAAD0FdCCKpkBAAyRj2dYQf91DKzYPPSwAStsLR9qAIAWLrjCkRijb+opSAcVCMKBtaMNFygCyw4yBQCkgYU/3AjfVIiQZ3whAmOg4brCcYYJBGEoi1LG/U4BRCpa5B4WAIAsFlINIyKxX0V0wBP4pYsT0GEUxpCFGwQIhCq2cSKTyJtDuBiBL5iQW7t4wgPqiBBddM+PSHCHGwX5EF0wQhcQmeMeufWKIFxggQuhhiHSoAUx0EEYg8TkSJ6xhQdsQYe1sgckXmCCQBQuk6fMSTXaIAIUyMGOjJoHIEpAg0uED5W3TMkrrOCAIlzClE6yByk8+APM4dKYP5nHInbQyYxNiRhj2IAJztC7Y1azKKr/DIEJ2vBKEz2jDSXYwBkYZ01yFsUer9iCA4IAiV8CqBp3oIHEXmHLctYTJ+3QwwsGR4p2rgefOIiAFf5nT4JqhRhnoMEBfiCHZhZFG6tYhTaW0o5FBMEBSvBlQTXKlXZIYgsiuMATCGGmn8iiBn4EgUR7Eo5FfAEFDvgBIZK4UZouhaVbuEAItrCImYokFHgDghrS4IQGXDKVkPjCCw6wgza8op81hermbCGHHRzgBWPgp0q20QADbOIg9KCHSp5BiC1s4AJBaMMu6BlVti5lHqAYAwsOQAMryAEU1NQI38iAE3vs4g5FqEAInhAIvLbVsH5pxyv0MIYdbMCqT2jD/yWesdaDZAAAxhDJPIhxiTt8wXkHKMFOSXpY0namHbYIxBiCEIIDqEAJbYAEMXpaEG30zR1paAEIcsCHsEKkHbtYhBysgAPHkuAHX7gDKIjx1NI2N1O2WMQZiiCCAxzgASRQnBKsMIY26GERl3gFJwQAghOMtwUCiB8pSAGKRRBCD3KQwxjGsIUn0GACrS3CGABBisk617/XmUc4iGELUEDivWfYghJ+8IICoJcABTiAAzowAABQYAc/UMITtiBf+OqBEK/g5n9FnJ9ToNcNBLGHPUKBvRG3uEd9zOJX0Us6F9d4Q/FAr1ENcj9o2NjHGcqgVw1SWwLA8MdHBtABc1lwEL6xEclP9s89MtgDRnBiggY4JJS1HJ9xOK57IFjFlsUcH2UowhCroOyY1bxmNrfZzW+Gc5zlPGc619nOd8ZznvW8Zz732c9/BnSgBT1oQhfa0IdGNMECAgAh+QQFBAABACwqAccAhwCsAAAI/wADdAvwL4DBgwgTKlzIsKHDhxAjSpwIMdGoghQzatzIsSNHJLb6YfRIsqTJkw5tefs3EqXLlzAh8ghwrBfLljFz6nSJI0A8VyJv7hxKtCQtbwSFFl3KNKKxXwZv4mxKlSo7Wf4OKq3Ktakscgi3dh27cxjUsCzJqs2JDmtCsWvjlvyqEK7cuxp/DVtoF69fiORkMZT6tzBEf7LYDe5ruHEAvQ0JO55sUBysh4wp3/XnSrHDzJrj9jIGEXRost5oRTR9mms/V/FWp22Nt9cxiaxpM8WmGndu3UNf25soGfjYXcsoFjde9Vpv5bOZU93nanjG39JdIt+IPbtJabc4dv/37lGfK3zio5PfuctZx/HrNTrb5XF5fJf4zteHfz/iLWkk2ddfSfOZxN+ADOWnj4HqIejRfycd6CBCy9AXYYMTZmSPLPugJGGGtFzj0ocO1vSSgBlCZA9QJ5LY31FZjehifMb0ktOM5P3Uz40YptjQUTrhmF2NOwnJHDuvxMjjVD4qRFeRPTZ5kFlEoShlW0oGaSRtsqBTlJU+QrbUlqEF1hSZlCHm2ZhRZigmU2g6Js5zcLaJIGdr1snkhKNxBWZ/qXX1Z3yvxeZnnH7ZRhaid/GmFqNxCfeoneRtN+me6zkXF6RkUWfdpRNautagxoF3F6m6mYeeXKjS1p5fnFL/VSCslNKW36p4xcoUhH/pWtSsvdYamoJZniqsZrQAaFirjlXoGLOGbdhhY9AWRgs2lPkak4nZHlvYijt2iyllMGqmrUtEhnbuSTqetq5JtIjTWrVrUTnvux0hWay44/71JG34bmSvbgFn1BZzBVPUJcLekvUmcAlHZKZ0ET+kZnb0NvWwcRkvNSd5HROF53oVL9QnyQ0zFWh8JSNU6H0tH6QozCkT5Wh/MUuKc8ui0lxzTqYiGLJLnk5Y8atG//xS0En3SxQ+suDqoFhKd4R0hltpCyzW0VW90a1NEqYtrz6K7bRLW6coldcaKaj2SGuffRLZU8etrbNvx33OCUzZ//NKuGGzlE8NajR1rZQJRSH3SdwibhA/VIHr+FhATs5VupZT1W7mVMXLOVUDf17UVfuKrtO/pg8Veuo6Hcw6UQu/vtPGsr80ce0xXYx7TLTvbtLHvr/EmaHBo3Ry8Sd5IxjyJ73MvEkzP0/SzdJ7pHP1VieHfUdMb69R0d5vdHX4FHVPvkRQS32+f+6tP1Ha7jsEdvz+KUv/Q3jfL78r0+rf0C3XKJ3/DHIMCw1wIX4LVz/6d8AAHC4A7CBNAwloowB4w376s4ehJOcMeQ3QHreIR1aANAzi+S8eIQwAkXahPv2hMB4/0QctBEi/F8LiGhWcoE9u8YueTZAdt3BF+xt0aBBGuMILWQgADeN3gABMAh/+WCL9ojiggAAAIfkEBQMAAQAsVwKPAQEAAQAACAQAAwQEACH5BAUDAAEALFcCjwEBAAEAAAgEAAMEBAAh+QQFBAABACxXAo8BAQABAAAIBAADBAQAIfkEBQMAAQAsVwKPAQEAAQAACAQAAwQEACH5BAUDAAEALFcCjwEBAAEAAAgEAAMEBAAh+QQFBAABACwqAccAPQCwAAAI/wADBFDHT6DBgwgTKlzIsOFBQ6T8OZxIsaLCZ3FuFbTIsSPDKa4kehw5kkggWOhIquR4I0CvZf9WyqS4rFfMmTgXooN1M6dPg/1c4ev50yctb0SL4vxlLKlSmdJ2/XP6lGQ8WVOr4vTnyh5VrR5vXfsKluOwYVnLqsR2K63akfhCkn07URY7t3Q57nKGN2/FYzbn+lUojtZUwYMP7nO1r2/ihrTEOX68sNexw5QnOtsVYHLmg+xkdUZMmSs+f54/C6SFbbRqhmddv1YYdTTpxPZCyp6NUFa83bwN7pJmO/hBY78Epv7sjZby24P1uepX3LhAWOSeWxf4Uvv2mhIxW/9HJ9q78aD4zBs/+hx6XqYGxQevrZ731fjLKXfFv/0W8fqzGTMMfu69xdZB+SUWF3UAviZLSu1ZtxeCBaoFGIXWkeMcf+e5og+B1kWGoXHwcRjcZhRWCFZoCCXoF1f2jBicWCkaF5uMs11zS4sqamWPLCJFGJxdPBo3IY6vHZNcjbwVlpCLdC22T5HB0ZIdk7NZ9mSPT6FI5WzkbcllUaYF2SBlrG0Z3C8D8ghlWfR9qVpuCr2p1iu/ucnbcHWO+RNyffLWXJ9+5oSPLAzq6SCEcn7WnZiz1bSQnVqRA8ukheKEHqGzsRfoayWq+VqcjVJ2H6az7fepamKZaeJnwyz/CalqB6KqWlyuvpoZkZyqduSqmV1o62eWMiQfZVIam6lMIg6bmZaYLquSl84+xqKyqsGorLQk3dIatrC2WW1iOjZ0LG6v5IpkYr6Zy+1IfG77GaDuMrchuJRJl2ivaF6J72OP/puYpO6+y1GYDlH606b1ZuZtwgr7FKrAfpE6bl6nFpyZqg0/5t9EEedEr8aPDQqywRUtePKujFKc1y7LUBTyTMJCTJmGMqNMEcMkJ+apzY9N7PJb1PbsVzyuVDTzStqu7PE1Oevs0I1OD1Zuzo/hGvVjvFbt169AD1YzxFIz5KTSZS+ULNY++0t2YtCy7VfRYed17dYvCqUusHQ9rIx2YlSfnHZCFr+dF50WLU1Su2jfpHhF8f4NnFYjs/04RSY3jNnlEx26L6ExZcX5RCgJ1M+UnIo+OHcxB8COMdseNrpC9nwYAMHSfBvtuUphM4xECP+SZ+yDG0McevvQsneK26i1Ty/ZHYUO7BT1oUMEWASwUVX43GIPU854Q5EDAWySz+wLrbPXLr3EKPdb1/ziyo7bGWSMK8MQUr9ATLiCBxP7E4gytueRgAAAIfkEBQMAAQAsVwKPAQEAAQAACAQAAwQEACH5BAUDAAEALFcCjwEBAAEAAAgEAAMEBAAh+QQFBAABACxXAo8BAQABAAAIBAADBAQAIfkEBQMAAQAsVwKPAQEAAQAACAQAAwQEACH5BAUDAAEALFcCjwEBAAEAAAgEAAMEBAAh+QQFBAABACxXAo8BAQABAAAIBAADBAQAIfkEBQMAAQAsVwKPAQEAAQAACAQAAwQEACH5BAUDAAEALFcCjwEBAAEAAAgEAAMEBAAh+QQFBAABACxXAo8BAQABAAAIBAADBAQAIfkEBQMAAQAsVwKPAQEAAQAACAQAAwQEACH5BAUDAAEALFcCjwEBAAEAAAgEAAMEBAAh+QQFBAABACxXAo8BAQABAAAIBAADBAQAIfkEBQMAAQAsVwKPAQEAAQAACAQAAwQEACH5BAUDAAEALFcCjwEBAAEAAAgEAAMEBAAh+QQFBAABACxXAo8BAQABAAAIBAADBAQAIfkEBQMAAQAsVwKPAQEAAQAACAQAAwQEACH5BAUDAAEALFcCjwEBAAEAAAgEAAMEBAAh+QQFBAABACxXAo8BAQABAAAIBAADBAQAIfkEBQMAAQAsVwKPAQEAAQAACAQAAwQEACH5BAUDAAEALFcCjwEBAAEAAAgEAAMEBAAh+QQFBAABACxXAo8BAQABAAAIBAADBAQAIfkEBQMAAQAsVwKPAQEAAQAACAQAAwQEACH5BAUDAAEALFcCjwEBAAEAAAgEAAMEBAAh+QQFBAABACxXAo8BAQABAAAIBAADBAQAIfkEBQMAAQAsVwKPAQEAAQAACAQAAwQEACH5BAUDAAEALFcCjwEBAAEAAAgEAAMEBAAh+QQFBAABACxXAo8BAQABAAAIBAADBAQAIfkEBQMAAQAsVwKPAQEAAQAACAQAAwQEACH5BAUDAAEALFcCjwEBAAEAAAgEAAMEBAAh+QQFBAABACxXAo8BAQABAAAIBAADBAQAIfkEBQMAAQAsVwKPAQEAAQAACAQAAwQEACH5BAUDAAEALFcCjwEBAAEAAAgEAAMEBAAh+QQFBAABACxXAo8BAQABAAAIBAADBAQAIfkEBQMAAQAsVwKPAQEAAQAACAQAAwQEACH5BAUDAAEALFcCjwEBAAEAAAgEAAMEBAAh+QQFBAABACxXAo8BAQABAAAIBAADBAQAIfkEBQMAAQAsVwKPAQEAAQAACAQAAwQEACH5BAUDAAEALFcCjwEBAAEAAAgEAAMEBAAh+QQFBAABACxXAo8BAQABAAAIBAADBAQAIfkEBQMAAQAsVwKPAQEAAQAACAQAAwQEACH5BAUDAAEALFcCjwEBAAEAAAgEAAMEBAAh+QQFBAABACxXAo8BAQABAAAIBAADBAQAIfkEBQMAAQAsVwKPAQEAAQAACAQAAwQEACH5BAUDAAEALFcCjwEBAAEAAAgEAAMEBAAh+QQFBAABACxXAo8BAQABAAAIBAADBAQAIfkEBQMAAQAsVwKPAQEAAQAACAQAAwQEACH5BAUDAAEALFcCjwEBAAEAAAgEAAMEBAAh+QQFBAABACxXAo8BAQABAAAIBAADBAQAIfkEBQMAAQAsVwKPAQEAAQAACAQAAwQEACH5BAUDAAEALCoByAAqALMAAAj/AAMsCvAvgMGDCBMqXMjwoKFeDSNKjLjnVsGJGDFmIpixY8R4ry56HHkwCT9X/UiqPPjK3sqVtMiJfNlxl7SZNDH2WoYzp0Rjw3r6bOhsl9ChC71ZPIoUITtZ/5g2NYgPqtSpAVzhuzpVFruoWBvewgY27MJdzsqaTfjLmNq1B4/9egs3gDSjdNeSo0WQ61B7rvrWPdgPZd61ruwdNhsz6uKpNgUPDvDrmOTBxn5drlu0r9+c3vhuXvvU4OOm+AKPRoxvtVmvniff8mb6M020tScPM1bb9kq5uQff7T1478HTf1W7nlo45fKpiYPXjXnct8rI0tf2spzdbObqgzsT/4cbGiHynKXBw01t3jpJrerhwh6/dnb7urjjm217H+4xiPqFNVx17nVkXH9mAZbQeS81h6BZ0REIF3UPYnXLNQsWmNFOGcIFVIdrOQOghGaVB2JY6VWImnIBQteaik3NR6CGEtl3Ilb5wTgUfzdOBVyPTQ0I5FAHDumTggoxSJKDRvoUYXs0RkRhkzRduJCSI3GYZJQNfbelWSL6syWXC2FzC0NYdpQilSuxdyWZC8H3ZVgysqmSjWPiKA2acLLF25th/ZjnVELO2ZQ4ogE6VTyyNJQmRkwa2tSTGfZ5EC3oOGqpQVbyiZWWijb1oadTiajppmZG9KhE6CQa6lBukv86qT6ndsWOqpvi+apP2Mm645+++iTom5YWuitNiEq0akOMKmtpYWJqCp1LtSI1ZbBVYohrU6Bi+9IwwzjblKniDpVquT61OtGyC8UqLVKu0Iprn7LEs26funp73Z7o5lTZvUgNyyecxuo7UrIA+9RswjlBy3BOlA48FKYYsZvQWBXD2e27OYGbMZnkPrzSuSKrhA4sGVl8kLvbOrnPxz7VmzKZ+XL8Uq/9rsRjySQJfGqUBdusEsIZ57Rw0TQ5jDRNEbf8EsUz54Rx1DRt7PRKHs8c5TIjIr0qyV67d3LCZa3KMrGSYemcP668HIAztwLqmGMZ4bOLczLvc8s+0VZe6plvy/BLizgBkMPdwHN7pLe9kQ0T98+PotOLP5Xhc0vfP6t0DDZyXcPvvdUgQpLly+yyC7UTHVGBCFGo5E0vsmjW0TYa+tOLK8QEAMdkAbzgygu8G7QN38FjrlJAAAAh+QQFBAABACxXAo8BAQABAAAIBAADBAQAIfkEBQMAAQAsVwKPAQEAAQAACAQAAwQEACH5BAUDAAEALFcCjwEBAAEAAAgEAAMEBAAh+QQFBAABACxXAo8BAQABAAAIBAADBAQAIfkEBQMAAQAsVwKPAQEAAQAACAQAAwQEACH5BAUDAAEALFcCjwEBAAEAAAgEAAMEBAAh+QQFBAABACxXAo8BAQABAAAIBAADBAQAIfkEBQMAAQAsVwKPAQEAAQAACAQAAwQEACH5BAUDAAEALFcCjwEBAAEAAAgEAAMEBAAh+QQFBAABACxXAo8BAQABAAAIBAADBAQAIfkEBQMAAQAsVwKPAQEAAQAACAQAAwQEACH5BAUDAAEALFcCjwEBAAEAAAgEAAMEBAAh+QQFBAABACxXAo8BAQABAAAIBAADBAQAIfkEBQMAAQAsVwKPAQEAAQAACAQAAwQEACH5BAUDAAEALFcCjwEBAAEAAAgEAAMEBAAh+QQFBAABACxXAo8BAQABAAAIBAADBAQAIfkEBQMAAQAsVwKPAQEAAQAACAQAAwQEACH5BAUDAAEALFcCjwEBAAEAAAgEAAMEBAAh+QQFBAABACxXAo8BAQABAAAIBAADBAQAIfkEBQMAAQAsVwKPAQEAAQAACAQAAwQEACH5BAUDAAEALFcCjwEBAAEAAAgEAAMEBAAh+QQFBAABACxXAo8BAQABAAAIBAADBAQAIfkEBQMAAQAsVwKPAQEAAQAACAQAAwQEACH5BAUDAAEALFcCjwEBAAEAAAgEAAMEBAAh+QQFBAABACxXAo8BAQABAAAIBAADBAQAIfkEBQMAAQAsVwKPAQEAAQAACAQAAwQEACH5BAUDAAEALFcCjwEBAAEAAAgEAAMEBAAh+QQFBAABACxXAo8BAQABAAAIBAADBAQAIfkEBQMAAQAsVwKPAQEAAQAACAQAAwQEACH5BAUDAAEALFcCjwEBAAEAAAgEAAMEBAAh+QQFBAABACxXAo8BAQABAAAIBAADBAQAIfkEBQMAAQAsVwKPAQEAAQAACAQAAwQEACH5BAUDAAEALFcCjwEBAAEAAAgEAAMEBAAh+QQFBAABACxXAo8BAQABAAAIBAADBAQAIfkEBQMAAQAsVwKPAQEAAQAACAQAAwQEACH5BAUDAAEALFcCjwEBAAEAAAgEAAMEBAAh+QQFBAABACxXAo8BAQABAAAIBAADBAQAIfkEBQMAAQAsVwKPAQEAAQAACAQAAwQEACH5BAUDAAEALFcCjwEBAAEAAAgEAAMEBAAh+QQFBAABACxXAo8BAQABAAAIBAADBAQAIfkEBQMAAQAsVwKPAQEAAQAACAQAAwQEACH5BAUDAAEALFcCjwEBAAEAAAgEAAMEBAAh+QQFBAABACxXAo8BAQABAAAIBAADBAQAIfkEBQMAAQAsVwKPAQEAAQAACAQAAwQEACH5BAUDAAEALFcCjwEBAAEAAAgEAAMEBAAh+QQFBAABACxXAo8BAQABAAAIBAADBAQAIfkEBQMAAQAsVwKPAQEAAQAACAQAAwQEACH5BAUDAAEALFcCjwEBAAEAAAgEAAMEBAAh+QQFBAABACxXAo8BAQABAAAIBAADBAQAIfkEBQMAAQAsVwKPAQEAAQAACAQAAwQEACH5BAUDAAEALFcCjwEBAAEAAAgEAAMEBAAh+QQFBAABACx1ABwAbwFmAQAI/wADCBxIsKDBgwgTKlzIsKHDhw6VCTwQJIBEiBgzatzIsaPHjyBDihxJsqTDDSZTqlzJsqXLlzBjypxJs6bNmzhz6tzJs6fPn0AdtghKtKjRo0iTKl3KtKnTp1CjSp1KtarVq1JXYN3KtavXr2DDijWh59w/sUFVoV1rU8cJtnDjyp171YXAKnTzIpym1yqyvoADQy1R8K/gw4iP6pkw0HDix5AjS47Jd7LlyzIrYzYKYDNYzZ6LRgj9VEiACntJB/0bQvVW0K53Oo5tFTZtnLMHorzt1Dbvmrl/C1fNZrhXYGeNK5+Labnz59CNEo4eMnkAftSza9/Ovbv3gjq2ff8fT768+fMt8wWAgb69+/cF+YWBT7++/fv48+d8pL+///8ABijggAQWaOCBCCaoYHuMLejggxBGKOGEFIIlXoUYIjRdhhwSxF6HIAbQw2PVoBbiiSimqOKKLLbo4oswblRNAM3FqCAvAcxoo4Ip7Ojjj0AGKeSQRBZpJIs9HvmfMhUEo6R//D353xHYWTWElFjKRU8A9/hDnolTaZXlVpuMaeaZBkYJ35bmDXKUlwlBwQYzaG41CDQCNYETnQIMdMdCfRJQJ3d/LhRKAwHEMmhVnTkSQDihoHATPdYVuhAgAeywKFXA7FZQKjlZWtAYBOmzqVWWJOmTqARdcqpXdRT/5CpOrBIikKIG7fGqVDoSRCmtCAW3a1VHsBmAdTaxOhCeBJE67FXIJosQLshCEYCyz9JmqRpYZNuVtQyU0c9Olj5AEKsdBCCst0mVMxq5CNlgULrsOtUOP3DwhK1AmNZrVYM0IdpQZwFkkOm4/h4VTsLcpfPDDg9H7FMf0TL8XJUWR2dJxhx37PFl3dZEycfQjUzycuqdrLKRR6ysnKcvtexyVxXBNNTMv42A884uY8wzaSH/zJWaQpNWc0qmfFg0abYuvVXQJW3zrtNYqaIqSWpQTdpFWl92dddVKQNzSFmDvZXSI9Vi9topOsC2ZYiMtPHbVplM9914530VmHpP/2VC34dNcCFHZQMO2FuGJ6644Rd4VOPiUDHRNORyuUn55Ur2gTlUUWzuOYd8fy4W1w8xIbpTWGh+elh6zAeRDquH9Y8D58S+VK+2d+Vz7lx9zftVMv/OFRy7C8/WNqEbH5TaDx2t/PPcTVA7Q2rkC31RNVyvPXzWMwQDjtsHdSVDY4ff04YJVWw+U+au75QyiLsv/3amz8/TiAvpYf/+sUURt0JYmBz/cKK6hDhvgEW5GQJzor6BNG6BRZFUAGYFQZg4YgyaGkg74IQQLlTwJaYyiAUUYhdFfLAlCIOTb0iVHFwEoDUnlEk4+vSrAITiWAJpYAxTEgytIIwguArAPP8CQK8dwgQSAZBXpoyYkz4xKw4BcAF23DaQMzhoHO5IWYbYpEQxMPElpwgAGQwCDRpUKBmeOEaGDOCbCaVRRahpR4RGsQwMWQsh2xijBxeEg17UkUL3OAjCuNCnBznBjzoU0B8EEsgAtEKJ+xCIwQo5IUQuqA0EIVhBbhgAM+YQQr84RiIDZKwkBsARIURI8RJkSRSVgHQL4kcrT5QCJznoBteZZYgO6CBdhshyEPIliNQwSgIJk0ODgFovl1HML7oEkc0M0IiiqaBsDASaKJoHFYPJTGpCaIjc/Ic3HYQ+A+GSINh05k3SuaACcmgNPmOnOl8Sz26mqA9diJA8QVT/Jn12c5z52WaK/HgsgM4zJAQV54J4ocCB1lGhKPIdKx9qUPt0T0UJrehBPZLRFAVDogfqqIJEgLuGgHNBIt1oSajQwJQeyBSwg0gZuJlDjSIoeAoiaEETpANTtEinEDWQFjFSgcH9Z5UCAapN21OLhmL0j0FV6TOhulT0DMFuEDEF/nJKVQRNLSMOQOqAlIognW1EBLA0EFlX9L+J1rSqBdJff865EJ3uNEW8AOlY/3jXAVXjgR1JK3340BC7RjVAiKjfhLKBA4cYFq5SLSxfDwugE9iyIxEw6mAdO1nIRraunSWQXD+Cia2qNbQtMktIUSsggL3Irn39z0Vfy9fY//rHqS6CLWXzI9iPzK1AuvWsdtQwUwyJ9SDBTa1A90qQ3eJHBMd1aHOF+1nk1ta59tlAbxfkBI0k9z/xs1FwqUsgRPDSO43YCGxte5/kwWi92H2PKbJHIY3Cl7zOGW1KzrHc/9y3P19VSRRiJaD/5me2KglG+fpjYPwA9kcNtg8wXxJTAEW4PuFtSXTtc2EXKVM/62XvirQZoBDHtzy1MKuQTIxf3oxvJsq4wIaFg4MZJ4TFPiJafnBMn87ZpJ/b4aB3a1vT+kTgpDQRgVoYTGQRt+gRMGixcXgMH83O5Cw65nCTT/ydD9NEbWJIV2eKUB8WS3kzeBHIZXeCF7sEwP+F7wmxk7nTL4HY+CXKgNMe4SNnLkcnHAKzs0/gRCf69PnMliHzQEqpE9eWuclzzo6j/sALGiLaIaByM34OjR761jAnuqIXDQSQ5jhDWpyXlgwhaiCoT/8EzrSRAw5BwunvgCIAmBRIq1MNERcuwQKUdE+tx2OqfO76JzgCBg1vI0eEnprXh7HCmwPQoGPnRAEGQTB65BxpFP3wIKIwNUL8vJ0f8KTOBNGGuA9CbuMMsRZVsvZOdJWOF96GsCThdruhI++b/IMMwRbIB6bnGuHqG9qBqYbgCNJvnEBjD2TwYiyw4+P2HPw7BB4IEiNZFPVg1TPUvTh3NvG3qFh5PCL/5w7zngKHHiAcMinXjraZogP9kufgL4+lebjd7d+o4sFo4vm+qyvZ9OUcLji9ysq/I/Sjr8XmVxFBeZoOnWA4+ipYyCfKIV1k6GT5KiWghNOPgoY7Y4TqzomC1r1SiwuUNDCNbTHalYOIEwy1K3rIcGB4sJK5j8m02uF5z0ODNrEMYe2B53rXheM6uLQg49kR/NAlk/dZw+Vx1JH82LeygbezZenQ0TzRRSL62zhpyXmpfOYVP3jJzOjrdLk7WzRh9iErZPKIKblgjuDlsBTjJaXf1ONDz3pUqyYf5xUM5qfM+tYn5sWJsfpzBO/8w9QAyYkxhXt5Q33cp173klFF/wV8KhZBAL/53p8L7CdTe8l0f/MZ4sUEPk6b92/m6pcRmwDrj374JwUR27cZUCcVmpBz9mcZaLUjfjAQGPMMLHGAkVFcvHEOevUUxYNo1Fd9cIEF9EUkv9cSGZh+YBEEQyB7QNJ+trcQIggWKIgZJmgZIeh/PnFyQZILMRGDiTGAzkGDkYGDgaE267ccF4B6TJEMNOGDfbEJjCGDa1EBOvgYSJgXtgI+3gEDTIB9MNd8GsgVXVBO3hEG4NeDWmh8dLECirU0GbiFVYEI+FceUveCgJGGK+gU8xAFeoeGWqiGUnGH7fEP+QJ6gSGHTAgTFRCE6GEKEzBzeSGIa8EEMP9QDYMIGdWwAlGAhYuYh3OYFCIwH5EYGeohAuQXh5jYiSYRK0AWICcwBEblRQehaV3BiE6xLwVxDtBHIGowAYPQglYBi1VxBxxUI7r4HjVQYXORhnpYFMoQBBUoIP8QNxIYF8aYiUARjPZxDhUHjXl4jECBEjzoIKq1FtFIig/RBFWgBAGARCZAhBOSD2VQAe4UFuFIFX1iDeJYJ/HYFIqgKwIxAyOEIgZQSNR4FPfYFE4CA7VgHaCCIu0TkEQxkEzhjgZRHCxCcFjhkEihBxeAeATBiirSBaNBkVURjvV4EKixZgNhLbm2IhcSBiApFcaojYQYBRLxbQURRBwCDEL/ZhAsGZLZCJMtMQFhYGWngAyKgm2X85LSaBIVoAbzsGF6QjlIKY4boAf5sErggGtetAeFBiTbEAZuA4hJEZU8wR8pgAgMaSO1YwJ/041AIZY50Qc6E4rPkk9XpRRuWROmEAUPMATwljCUMASjAZY+cZcz0Thw0JIMo2IN2ZNJ2RDKoAYlwIfmE4JvtXgsMZIsMgg1AHQ2gQ0Io1P4QA7sBlEKhWrCVTs1MAH5hJk2Ajv4c5YYsQze4CWjYAitoA3OgA3jlhyl6Vnn8D+dA5sMswlgOAFMMGEuYQ+3EAueJBAWMA05WZm96RHi0QVvcQSGuDYLthKGAAACQANc0AY+/xAAzBCdb2WaGmWdFVCLifMP1dAHTNBfJQEOCtAnu3AMyokPKoieGNEHPsYEesALrHkqqqAG7MEecFAmwikF2BBKuWme02WaC5EP4BMBJYAFbSU8vOAmQSB1N2MJ28UQwEYMt9ALx3AL+wChEVoxwYAJdZBPUncC84GY1xMMiJA1OtMjavBbDGENAyEFIaABLrAHHHd7/zAPVLiZAXACR1AGqiOcq3NZJecAUhcAwaMHcUOEBqABIVCfKiAQmEAJmgMH+TIfRwADDuAALcAEZbMNA0o3/IAdM6IWlhMGUTAENUACmoQHeEAQQdAyIZM1+jMyZvGmotMPp0Aw/bAP+y6AMP2YPqMXqZIKGLc2qSrRLxgzRpZaEjvgCJmQZuuyqSABa6IKEtOARKRaIQEBACH5BAUDAAEALFcCjwEBAAEAAAgEAAMEBAAh+QQFAwABACxXAo8BAQABAAAIBAADBAQAIfkEBQQAAQAsVwKPAQEAAQAACAQAAwQEACH5BAUDAAEALFcCjwEBAAEAAAgEAAMEBAAh+QQFAwABACxXAo8BAQABAAAIBAADBAQAIfkEBQQAAQAsVwKPAQEAAQAACAQAAwQEACH5BAUDAAEALFcCjwEBAAEAAAgEAAMEBAAh+QQFAwABACxXAo8BAQABAAAIBAADBAQAIfkEBQQAAQAsVwKPAQEAAQAACAQAAwQEACH5BAUDAAEALFcCjwEBAAEAAAgEAAMEBAAh+QQFAwABACxXAo8BAQABAAAIBAADBAQAIfkEBQQAAQAsVwKPAQEAAQAACAQAAwQEACH5BAUDAAEALFcCjwEBAAEAAAgEAAMEBAAh+QQFAwABACxXAo8BAQABAAAIBAADBAQAIfkEBQQAAQAsVwKPAQEAAQAACAQAAwQEACH5BAUDAAEALFcCjwEBAAEAAAgEAAMEBAAh+QQFAwABACxXAo8BAQABAAAIBAADBAQAIfkEBQQAAQAsVwKPAQEAAQAACAQAAwQEACH5BAUDAAEALFcCjwEBAAEAAAgEAAMEBAAh+QQFAwABACxXAo8BAQABAAAIBAADBAQAIfkEBQQAAQAsVwKPAQEAAQAACAQAAwQEACH5BAUDAAEALFcCjwEBAAEAAAgEAAMEBAAh+QQFAwABACxXAo8BAQABAAAIBAADBAQAIfkEBQQAAQAsVwKPAQEAAQAACAQAAwQEACH5BAUDAAEALFcCjwEBAAEAAAgEAAMEBAAh+QQFAwABACxXAo8BAQABAAAIBAADBAQAIfkEBQQAAQAsVwKPAQEAAQAACAQAAwQEACH5BAUDAAEALFcCjwEBAAEAAAgEAAMEBAAh+QQFAwABACxXAo8BAQABAAAIBAADBAQAIfkEBQQAAQAsVwKPAQEAAQAACAQAAwQEACH5BAUDAAEALFcCjwEBAAEAAAgEAAMEBAAh+QQFAwABACxXAo8BAQABAAAIBAADBAQAIfkEBQQAAQAsVwKPAQEAAQAACAQAAwQEACH5BAUDAAEALFcCjwEBAAEAAAgEAAMEBAAh+QQFAwABACxXAo8BAQABAAAIBAADBAQAIfkEBQQAAQAsVwKPAQEAAQAACAQAAwQEACH5BAUDAAEALFcCjwEBAAEAAAgEAAMEBAAh+QQFAwABACxXAo8BAQABAAAIBAADBAQAIfkEBQQAAQAsVwKPAQEAAQAACAQAAwQEACH5BAUDAAEALFcCjwEBAAEAAAgEAAMEBAAh+QQFAwABACxXAo8BAQABAAAIBAADBAQAIfkEBQQAAQAsVwKPAQEAAQAACAQAAwQEACH5BAUDAAEALFcCjwEBAAEAAAgEAAMEBAAh+QQFAwABACxXAo8BAQABAAAIBAADBAQAIfkEBQQAAQAsVwKPAQEAAQAACAQAAwQEACH5BAUDAAEALFcCjwEBAAEAAAgEAAMEBAAh+QQFAwABACxXAo8BAQABAAAIBAADBAQAIfkEBQQAAQAsVwKPAQEAAQAACAQAAwQEACH5BAUDAAEALFcCjwEBAAEAAAgEAAMEBAAh+QQFAwABACxXAo8BAQABAAAIBAADBAQAIfkEBQQAAQAsdQAcAG8BZgEACP8AAwgcSLCgwYMIEypcyLChw4cOgwl00CNANYgYM2rcyLGjx48gQ4ocSbLkQxEmU6pcybKly5cwY8qcSbOmzZs4c+rcybOnz59AHa4ISrSo0aNIkypdyrSp06dQo0qdSrWq1atSW2DdyrWr169gw4o9UWceP7FBa6Fda7OHCbZw48qde5WGQCh08yKEptcqs76AA0N9S/Cv4MOIjw6qMNBw4seQI0uOyXey5csyK2M2KmAzWM2eiz4I/bRIgAl7SQf920H1VtCudzqObRU2bZyzB6K87dQ275q5fwtX3Wa4V2T+jCuna2m58+fQjRKODvKswH/Us2vfzr2794I1Ln7/H0++vPnzLOcFqIG+vfv3Bf+VgU+/vv37+PPnHKS/v///AAYo4IAEFmjggQgmqGB7jC3o4IMQRijhhBSCJV6FGB40XYYcDjRUhyAGoMNjylwQ4okopqjiiiy26OKLMHK0TQDNxaigRMrYuOCHOvbo449ABinkkEQWqSKPRvZXzQS8JOkfJU4COAR2Vh0R5ZVywROAPlR+ZyJVKWDJlSlilmmmgVDSp6V5hBzV5UFVtOHbmVL1Mc1dOCETAAED7bEQAAEYQCd3fi4EigIB4DJoVZ0pEgA4orhwUzvJCVToQn8E8MOiVOEywkGn5HRpQWcQdA+nVmFyAlCjEpQJql7B/1EQJKIWxF+iB2UKa1QzFkQpTq02tmtXQZwqUKU3BSvQnQSJMSxWyCaLEDDRNhGAss/GdmkZXWTbVRUBYBBGtNIKhFqfBWkQQHDeKlUiT9juYFAI7T6Vjj91wJuQo/Va9SVNiDbUWQDq/qBPv0ilgzB39Ozwg8MQ+zSIdQtTl0/F2WGC8cYcd3xZtzU94jF0NY6sHMUmpzwkEyor9+9LLLfc1RAxISkzbRverPPIb+4cGsg+c4VI0LFVpNIm7BGt2tBKbwV0SdU02DRWtaxq0nxTh3Zh1pbZzDVVUZeE9ddYJU1Sk2SnjeIBalvWpkibtH1VyXLXbffdVp2LN1Wf7v8tWAVbazS2332FSfjhiBO+gUdxJx5VFLc6LtfbkldupB6WQ4VF5pxzqHfnaEmEURSgO9UF5qWH1cfTDZmdulf8HKDe60r1SrtXPd++lde6WxVz71ypkTvwa1WzOPFHoe0Qzcg3710FtitURr7OFzVi9di/Rz1DLYiePVBBNPTy9z71rRDK5DsVQfpPBWM4+/BvR3r8PIW/0Pb0508aFpQjFAXT+ssJ6hJitAAehXcGpAn6CiK1BAZFUgEAhQNlAgkybGog9BjeQJw1QZf04yAZUAgKAuCIDrbEOh8MgG/IEADrxCIAIzShTNIBqF8FQBQtFMgCZbgSZaxqgYoSyMX/1MXDmFwiAHYJgA2KmBNBGaY4NPgg2waShgepY4cSUlgA5BUAFkbIExNKRQA4WBgITugZo8CGBh0kAG2A6BXsUBFqtPggV+ADQ+BCyDmcRcYEEcEV5ILQwQxiHTEA6kFgoEUgDQQIgQwyFlwcpAX2RKFP3GKNA4oDQQZWEAkGwIyLNNAyeoFJAbWDIHZRxD4UUsoBGWMYrZzQCAKnoF4sI5YSOkGOHISDAOxCGriMUAEfRAtyBDNC/VuQK+xxTAjBAYsF8ocr+tFMB60OQvZwxT+qyUSTkIMW25RQ+KAZoWcEQBq7CGeKzrG+Bx2DlNx00MUcNAxjqDNF5jtQLwWy/wtn3LObNrmFN/65oMhxCA1UkgU7CApQmFDJjgwFkR7C4CB8uCIAEe2QxhzEDllgNJ75aeeJvEGLjzbUJs7YhUkfFAwEYsgYv1ipiqxWy2PIdEH4C9Evb3rSmBSTpyfihUsFtEygImgEu3zIPA/Uj2katack2QLKsnkdkNpHFa5rCEUT9M2quuh3BkKnVx3Ug8adaJRjVRA5FTKBcwiIXPVMa4J48b4T9VOuUHWJQPF6oCOILCObsJ+BFMpXA30OIw+wKnrsWNgC7UYjG6AlgPDh0cai6K8E6uhAMnqinN5nnwbxxi02q9gF1WKo+kkpaRW0jQZuRLLw8QNCXrnaBP89wkoUascNEmLL2ubVJTu1bIBSoDyOOMCt97FDQn4q3N+O5BX28K2B+hASSggWQE1N4VNXZJYAUVW6BRJpiroK3gF59kRiLa+AYNAitKoXQLBlXIB+YQyCcNY/cNhqhTB51/euaBujAdAtsGHf0ppnAwY+EGH961yRMJbB+hGB9yREBYZQNj4JHk/OUqTZAvuIEMwrjyYaIloMF2h8KlKthwekCvZSaK0DgamJCXTekWxDvPfphU1XLKDDpoQJA7xPcCFsnxqXhBePvQ9ziVyf470IujMGUDJbMkz6ZDfK/6lrS5Zqn+/yGEisew95v+yjcwS4PtdQKZb1g2QbuZf/zPnB7UyCsQEuR4cHdk5IXNcMpDTBpxfOMMh94bM5m9AtOzAWiEDJNej3HPcmG1ALfBYM5x8hogaJ5s6DK22f+L7kLH5Gz4UFneHozA8nqugivTqjhPJ0mM/vscJAiqsTvMQQGOMh6UEaTR5+CbEn5bCOrMmjYlijJx2THEiecUIlPZFHxqS2T6sHQsed4Jg8v9ixsc1Dqz0Eg082xEmokoieIXO6PdcLN07uEAB6KREAeBnPks99nkPAQFDq9gmub6PcTA9EFtGN9ntCEQA2DATfobTJC6+QAT59R5rapTd5TrU5hP9ELbjgk7Fikw2MeHnb3+FCAF7YIIs30SBG/6bOmEFuo1UmJFTducZod11q6HBRJ74miDW882aWe+diqqCSyXeSKXrA8Day1cieBX6fod+EH4Y0iARm5xp/DwTQCOH1dm68Nafj5g5iEHkrsFNo7gw46zW/jawIcsRBEkU9h96M1f8dR5q7xxT5dApytbNpn3Mn1VBRQxDm7hp9XBTt7lHDVGpA3ey8mumLSjtiSox48/DCtUNyRi8SovUGQwTadi8PWK9Ca+Vkm/OSx0zjuZJ35Zjb785RxrWtEgX9LmfesHcOAFlvCsKjZQsglUU8UD8eLJS9K6rYQPQEw4MAJHwhECe+dx5hAqp7pQ5aDgxoNWKPV7Ay9TG67v9v0FFS6XMnq2EJgu15I/Pvd2dwa1lBkG/Tc8hTpw8lyGFczHqbpYdeOxeQVHJReqqBdebneSBxdgf4HDlCJnqBfbxBaf/3HDOye33he1XRCIrVd/a3HDQVGEMQZmKRDCBheAvReYsif67BDrBwguCnF/wgZ4/Bf5tBeQtoHOJ3GJenGsVWecsBA8smGJuAYpYBej44HPh3GaYwAYAXFknnEafnfsZBg5jxglfxeh1YMbVwARtlGbQgDi5oHJh3GcFwARYIGcIXhr/xCD4WGqtXFaiAgQgRfVLIGxswYS/CB5s1EB23EfZQWXUYG4r3G9uQf1eRO3K4ckeoGl3gYkP/kgse0X5q6BpH0APWFySKVX8TqBpB+Bty2BXDMAwMgYKCsXdEwgoh0VuTGBopZxymqBcKGIiX0SRnCB2R9hTFQBKygA6jaIVYoQqM8YmkMQFvSBccuImSMTSS5h0tEAWdKBb7cHirKBlh0HrdgQUfGBfxAIiyCBktIIMbY4PdiBiUMIblsTjC6BTpNY2HkQ9hsGEcY4Q3KBjZ5x78oHgE6BVRyI6BMQEGVR9DOH9fgYXI2BdRoEvpSB3KkAJY8IxW8YUNQYphMQLdkpDZoR4j0IRekYa9KBiYE2oAUgJMYIoidxDkthTS5HL8eBXYUhDzMHoDUgZm6Is08YcOIZFU/xEHXdI4DukfMFBlVUF+N0mTRFENQwCPBcIP1DWIViGJHakXPSkg2wCTUqGJi7gWKOFpC9JdUhGKQykWUGAF1iJBJeCAFTIPYWCGU2GAT7kWgBIOFtkvsbiSVgEI7CYQMgABKaIAh0SUJAELvBiRfmkTOZICqkAxMHci5zKYIHGMV7kVEyCQVcQil1gU0fh8EhcVfbABx0cQJakiWIAalQkU8SCNbYkVJkKA4GJwLCIeZTCaPSGOdAkVEzAETQJNrRAiuIBJr0kU63iaU+EAUSCAApEKzKAoDZA28jiOTvEAYXAOrTRtXLOPwOkUF6AG8zA8bsQGIncHzvYj1dAFo/+RjzRBkI+JFFByAoQQlUkyIyMQJq9IExD5lUwxCG9BhbCyOUeAnzDBkYKpFKqABREQBEGHMI/QA6OBhy6Rkg+BkzSxOGqgld6SZC9hkw3KmBBRDXBgAk4GOuJAYAEglAIRcefZE3HJKX0AAx06EvagZpKID7tAomOlTg4qEuqhAxGwOSeaLexhPwnWC8PnXscAoqSGHeAQC7EADjXqEfPwVyzDnjdjCV0wAhfwPx/hDYHmlejQC6G0TbiwRAMRAkoKE24VBmESBLVYN0QIEfpAC/1gS/twC8P3cgYAAELQBmyAF8hAk2EAAwcAlITDD7xQBz0wRRlhDOQwYMsgDQr/EQ4NICjbtE1uZxKIADJDAAfBsKNKYwploBXsUQdkgknoYAyygA0xyhBnEKmROhL8IDoVIAJRMGW3UwvU1QOL42KbEDj+cAuusAt1lxAZAADMoKpLqgybMFEBkH8m0C3Llz28QAjzgRJDAQdQ4gyusAwLAQ4DwQYuEAI78AeTuhASkS86sDgloH6oA6XOOhAjYASu8C+/0wcis4wBIAAh4AICAABgagqPMDR1kC/zEQU1MAEHsAJHgDXVoKnN0w/5cDANGACN1wVMEAQwUACcdAAOQBA9ED7zMx/5kqYIyEqtMDD88A/8YB0hFLIqu7KWQXAsqxK60iWl8rIl8QOQFSAKw7ZvNGsSL7SzIgENJdSzGRIQAAAh+QQFAwABACxXAo8BAQABAAAIBAADBAQAIfkEBQMAAQAsVwKPAQEAAQAACAQAAwQEACH5BAUEAAEALFcCjwEBAAEAAAgEAAMEBAAh+QQFAwABACxXAo8BAQABAAAIBAADBAQAIfkEBQMAAQAsVwKPAQEAAQAACAQAAwQEACH5BAUEAAEALFcCjwEBAAEAAAgEAAMEBAAh+QQFAwABACxXAo8BAQABAAAIBAADBAQAIfkEBQMAAQAsVwKPAQEAAQAACAQAAwQEACH5BAUEAAEALFcCjwEBAAEAAAgEAAMEBAAh+QQFAwABACxXAo8BAQABAAAIBAADBAQAIfkEBQMAAQAsVwKPAQEAAQAACAQAAwQEACH5BAUEAAEALFcCjwEBAAEAAAgEAAMEBAAh+QQFAwABACxXAo8BAQABAAAIBAADBAQAIfkEBQMAAQAsVwKPAQEAAQAACAQAAwQEACH5BAUEAAEALFcCjwEBAAEAAAgEAAMEBAAh+QQFAwABACxXAo8BAQABAAAIBAADBAQAIfkEBQMAAQAsVwKPAQEAAQAACAQAAwQEACH5BAUEAAEALFcCjwEBAAEAAAgEAAMEBAAh+QQFAwABACxXAo8BAQABAAAIBAADBAQAIfkEBQMAAQAsVwKPAQEAAQAACAQAAwQEACH5BAUEAAEALFcCjwEBAAEAAAgEAAMEBAAh+QQFAwABACxXAo8BAQABAAAIBAADBAQAIfkEBQMAAQAsVwKPAQEAAQAACAQAAwQEACH5BAUEAAEALFcCjwEBAAEAAAgEAAMEBAAh+QQFAwABACxXAo8BAQABAAAIBAADBAQAIfkEBQMAAQAsVwKPAQEAAQAACAQAAwQEACH5BAUEAAEALFcCjwEBAAEAAAgEAAMEBAAh+QQFAwABACxXAo8BAQABAAAIBAADBAQAIfkEBQMAAQAsVwKPAQEAAQAACAQAAwQEACH5BAUEAAEALFcCjwEBAAEAAAgEAAMEBAAh+QQFAwABACxXAo8BAQABAAAIBAADBAQAIfkEBQMAAQAsVwKPAQEAAQAACAQAAwQEACH5BAUEAAEALFcCjwEBAAEAAAgEAAMEBAAh+QQFAwABACxXAo8BAQABAAAIBAADBAQAIfkEBQMAAQAsVwKPAQEAAQAACAQAAwQEACH5BAUEAAEALFcCjwEBAAEAAAgEAAMEBAAh+QQFAwABACxXAo8BAQABAAAIBAADBAQAIfkEBQMAAQAsVwKPAQEAAQAACAQAAwQEACH5BAUEAAEALFcCjwEBAAEAAAgEAAMEBAAh+QQFAwABACxXAo8BAQABAAAIBAADBAQAIfkEBQMAAQAsVwKPAQEAAQAACAQAAwQEACH5BAUEAAEALFcCjwEBAAEAAAgEAAMEBAAh+QQFAwABACxXAo8BAQABAAAIBAADBAQAIfkEBQMAAQAsVwKPAQEAAQAACAQAAwQEACH5BAUEAAEALFcCjwEBAAEAAAgEAAMEBAAh+QQFAwABACxXAo8BAQABAAAIBAADBAQAIfkEBQMAAQAsVwKPAQEAAQAACAQAAwQEACH5BAUEAAEALFcCjwEBAAEAAAgEAAMEBAAh+QQFAwABACxXAo8BAQABAAAIBAADBAQAIfkEBQMAAQAsVwKPAQEAAQAACAQAAwQEACH5BAUEAAEALFcCjwEBAAEAAAgEAAMEBAAh+QQFAwABACwEAcgAKgCyAAAI/wADCBxIsKDBgwgHjvqUsKHDhq7i8XtIkeKfWRMrakTIbw+sjBtDElxkDKRIka+8/TvJ0hU+lifBuFoJM6ShXjRrahzlLKdOirTQ+fzZcIqrfUOJInQE619SpQaH/XIK1eEuaU+rEnwVL6vWAM1metUq7RbVrweHDTuLtuAtbGzbCvTn0t9YqOxkBYgr19muvXeV9jrGVy4tcoXR7jua+Ks4WoDlEjzWK7JkgbucWb4si91mufZk+fvc9totgY2rqgUc+Oeta6TR0rUX+ys7WKhb6/Sb+3KAX8Z6X6YlTrjcfq70GW9LDvJytJQHplaa+TlaWeisa8Xnqp/2qt6c1/+uauyXdN0wb0k7z5n2d6Xx9LKXK+3v/LbAz6M/ecvbfbTIvfQeUejIN+BPy/Qy2oE69bIMQdP9BEt2/2mlT3cQ7hdSeAVFWFN5HWq40VUZSiZLPCW2Zc8rCzIIk2khyrVaimi9FaNsddGoFTuuGOQhS7zd+NVgIYpYEXFCarXYPklW9ZiPRlIUXZNQVUelUp1BiRZ3Ler3FTanafnVjFe6BluZP7nino5QxXfQjyLV92aUDuUnplZI3glVgHN+VSBCcG6UIKB0JuTgnIUihF2f22Gop1IcMkqeeZJWuV6lSkVEqFb29LhpVXJ+CpWdmLqGjahK0SXgoz+hIx6ru9n/V2qDxyQU6JHk2JpoQRcyiepPT+pa1ZS/6mQlolVlWWxNoXWJ5kkwCgsVmbOmd+ayLM3W0K0O5eUQtw0FKS1RRG6760B5YnsScsqN+1Nz354rELHqinRsvSEp625N3HlnrlJgPgQuQlIJLK968cqrZrzwefovUaE+/BOp+8JEi38M/8Rnxjr9aTBRg37806Ei6wRLrhzzK4u/EtcUacowgVhyTSTODNOJFA1cUKcV6UxQxDCfRG3LLNlocKKqOlvtRt7mvKu4QYtUrs0nHdZzokterVOwTutEb9QjaqZ1TfomzK8rSuP7UMBjwzQ00SK9ppHPAWjb9knxONx1SO0GfgA01Q/tIiDFgDu0DMoXC4TPqoSKSM6DfO6zC4UVU4TPafAGYMylYrK1Xy/2DHrNMGlbdpZT6DnjjYPs7NJ3n6fvh84xsnhzy5qbUoX6RvrQ4kovKJuL+u4h7eIK5wkTHxIeuF09PEuqDOK8zqUnNA/dIR1wwAMl+AZYPiwFBAAh+QQFAwABACxXAo8BAQABAAAIBAADBAQAIfkEBQQAAQAsVwKPAQEAAQAACAQAAwQEACH5BAUDAAEALFcCjwEBAAEAAAgEAAMEBAAh+QQFAwABACxXAo8BAQABAAAIBAADBAQAIfkEBQQAAQAsVwKPAQEAAQAACAQAAwQEACH5BAUDAAEALFcCjwEBAAEAAAgEAAMEBAAh+QQFAwABACxXAo8BAQABAAAIBAADBAQAIfkEBQQAAQAsVwKPAQEAAQAACAQAAwQEACH5BAUDAAEALFcCjwEBAAEAAAgEAAMEBAAh+QQFAwABACxXAo8BAQABAAAIBAADBAQAIfkEBQQAAQAsVwKPAQEAAQAACAQAAwQEACH5BAUDAAEALFcCjwEBAAEAAAgEAAMEBAAh+QQFAwABACxXAo8BAQABAAAIBAADBAQAIfkEBQQAAQAsVwKPAQEAAQAACAQAAwQEACH5BAUDAAEALFcCjwEBAAEAAAgEAAMEBAAh+QQFAwABACxXAo8BAQABAAAIBAADBAQAIfkEBQQAAQAsVwKPAQEAAQAACAQAAwQEACH5BAUDAAEALFcCjwEBAAEAAAgEAAMEBAAh+QQFAwABACxXAo8BAQABAAAIBAADBAQAIfkEBQQAAQAsVwKPAQEAAQAACAQAAwQEACH5BAUDAAEALFcCjwEBAAEAAAgEAAMEBAAh+QQFAwABACxXAo8BAQABAAAIBAADBAQAIfkEBQQAAQAsVwKPAQEAAQAACAQAAwQEACH5BAUDAAEALFcCjwEBAAEAAAgEAAMEBAAh+QQFAwABACxXAo8BAQABAAAIBAADBAQAIfkEBQQAAQAsVwKPAQEAAQAACAQAAwQEACH5BAUDAAEALFcCjwEBAAEAAAgEAAMEBAAh+QQFAwABACxXAo8BAQABAAAIBAADBAQAIfkEBQQAAQAsVwKPAQEAAQAACAQAAwQEACH5BAUDAAEALFcCjwEBAAEAAAgEAAMEBAAh+QQFAwABACxXAo8BAQABAAAIBAADBAQAIfkEBQQAAQAsVwKPAQEAAQAACAQAAwQEACH5BAUDAAEALFcCjwEBAAEAAAgEAAMEBAAh+QQFAwABACxXAo8BAQABAAAIBAADBAQAIfkEBQQAAQAsVwKPAQEAAQAACAQAAwQEACH5BAUDAAEALFcCjwEBAAEAAAgEAAMEBAAh+QQFAwABACxXAo8BAQABAAAIBAADBAQAIfkEBQQAAQAsVwKPAQEAAQAACAQAAwQEACH5BAUDAAEALFcCjwEBAAEAAAgEAAMEBAAh+QQFAwABACxXAo8BAQABAAAIBAADBAQAIfkEBQQAAQAsVwKPAQEAAQAACAQAAwQEACH5BAUDAAEALFcCjwEBAAEAAAgEAAMEBAAh+QQFAwABACxXAo8BAQABAAAIBAADBAQAIfkEBQQAAQAsVwKPAQEAAQAACAQAAwQEACH5BAUDAAEALFcCjwEBAAEAAAgEAAMEBAAh+QQFAwABACxXAo8BAQABAAAIBAADBAQAIfkEBQQAAQAsVwKPAQEAAQAACAQAAwQEACH5BAUDAAEALFcCjwEBAAEAAAgEAAMEBAAh+QQFAwABACxXAo8BAQABAAAIBAADBAQAIfkEBQQAAQAsVwKPAQEAAQAACAQAAwQEACH5BAUDAAEALFcCjwEBAAEAAAgEAAMEBAAh+QQFAwABACxXAo8BAQABAAAIBAADBAQAIfkEBQQAAQAs8wDHADsAsQAACP8AAwgcSLCgwYMIEyoMYO7bwocQIyIsJbGiRYTMAtz7d7HjRUmjOHocCfHfqE8iSapECM0VvZQrYw4ECVOmzJP+bOoE56qcTp2VQv60OapSzaEey7kKdxTpxUghmzqtWFTq1IhKrVm9+hDqv61cFVYFG/YgPVcByJY1+CnqWoujJH19K/GeK2H+1NIN0Dbt3L0L4/4FrFDfK2B5CS8s5YrfYMUHPUnKq/dtP1e4KEOe+MrvZoSePH2t/NZVLM2fC6ZylfNx6gChHbtO/SqV59cDYzW+jRu2J4GzP7+iOLp3AFyu8vHGLclTa9JlXZXiGBwyMFf3gEPn2lz79quvPmn/N44M7fjeIAdWV3xS/Xen01x67x3UvXGc51/z9Jk/dX37uI0SCYCvpbMUgalBRdB6gBW14HtDZZWTXxD+1NaEy30W14MV2nRWMw/i1leIr23oXocy2YUXgpt98go/JKYmWUEMvrWPK8DAyKJijOk4n4yTxfgZZhhmyGNnNKIYU2gwjaakSq+0kuRrqxlU41qhWfkklKkUaSRguvWT5JYjZTklbRSduRlyB10ZVndapiZdTcVtdl12akLWnJdf7hVem2R2xIx5cW6WXqGbtYeoYta40g6gnx26KGECAhqoRftBullQTbl5lYOaKpYVQp46paCliVZC6qUVSRgqYReu/5qoXLIq9iGffa4V66sNSpJQqUPZBcyvrEbkoo9jQiYZrrmGdRlitRLWI7HKBhktYKYRW+xDpSB57V5mfktXlAoBq1OV5W67ULioElYbs81epRuyk77FLq9vDZeuugkhJya1hMEJMLal0JvnW3cuZK5MAq/KL0J/pktYM4QOTJekFr+lqMR7NUqPwRwC9h/He+FH8lv7wdvfWiOfvBaoLpdlIDgPLbzSqQo/bJCJOWM7Rc02k5TIKCXpTBA/t5BS9F77yGLP0nRdQ0tEQY/UyzFFGy3QZfFA/ZY3U3u9Vi/GUK11AP640rXYYYFt9l6/lM02V/7Iws7bb5Eji0RVd9T0yzBm922RLOjgvRY6exte1jC/8H22LOQ4/hY7rAX+FuOSv0WLOJmXFY8r/849lTG9VCR4RbR447i6+kxoD+idO7ULPgIdU3rsSBlzdwC0YGM6v9Kobs8r/6LT+r5cieNMALYLRM7sPXMVD+C3XOPP87S3ueNQ+Mzuij7o7PJ0radDRMsyu4Q/PvkilY/QL7Qcc8v6shZXZ+6uzA/0be4jhAda+sgadfp3EF+84QUOEOD9nOKPBgaAEkBzknEoRECb5KOCNjlADSZYkFr0gYPAeUtAAAAh+QQFAwABACxXAo8BAQABAAAIBAADBAQAIfkEBQMAAQAsVwKPAQEAAQAACAQAAwQEACH5BAUEAAEALFcCjwEBAAEAAAgEAAMEBAAh+QQFAwABACxXAo8BAQABAAAIBAADBAQAIfkEBQMAAQAsVwKPAQEAAQAACAQAAwQEACH5BAUEAAEALFcCjwEBAAEAAAgEAAMEBAAh+QQFAwABACxXAo8BAQABAAAIBAADBAQAIfkEBQMAAQAsVwKPAQEAAQAACAQAAwQEACH5BAUEAAEALFcCjwEBAAEAAAgEAAMEBAAh+QQFAwABACxXAo8BAQABAAAIBAADBAQAIfkEBQMAAQAsVwKPAQEAAQAACAQAAwQEACH5BAUEAAEALFcCjwEBAAEAAAgEAAMEBAAh+QQFAwABACxXAo8BAQABAAAIBAADBAQAIfkEBQMAAQAsVwKPAQEAAQAACAQAAwQEACH5BAUEAAEALFcCjwEBAAEAAAgEAAMEBAAh+QQFAwABACxXAo8BAQABAAAIBAADBAQAIfkEBQMAAQAsVwKPAQEAAQAACAQAAwQEACH5BAUEAAEALFcCjwEBAAEAAAgEAAMEBAAh+QQFAwABACxXAo8BAQABAAAIBAADBAQAIfkEBQMAAQAsVwKPAQEAAQAACAQAAwQEACH5BAUEAAEALFcCjwEBAAEAAAgEAAMEBAAh+QQFAwABACxXAo8BAQABAAAIBAADBAQAIfkEBQMAAQAsVwKPAQEAAQAACAQAAwQEACH5BAUEAAEALFcCjwEBAAEAAAgEAAMEBAAh+QQFAwABACxXAo8BAQABAAAIBAADBAQAIfkEBQMAAQAsVwKPAQEAAQAACAQAAwQEACH5BAUEAAEALFcCjwEBAAEAAAgEAAMEBAAh+QQFAwABACxXAo8BAQABAAAIBAADBAQAIfkEBQMAAQAsVwKPAQEAAQAACAQAAwQEACH5BAUEAAEALFcCjwEBAAEAAAgEAAMEBAAh+QQFAwABACxXAo8BAQABAAAIBAADBAQAIfkEBQMAAQAsVwKPAQEAAQAACAQAAwQEACH5BAUEAAEALFcCjwEBAAEAAAgEAAMEBAAh+QQFAwABACxXAo8BAQABAAAIBAADBAQAIfkEBQMAAQAsVwKPAQEAAQAACAQAAwQEACH5BAUEAAEALFcCjwEBAAEAAAgEAAMEBAAh+QQFAwABACxXAo8BAQABAAAIBAADBAQAIfkEBQMAAQAsVwKPAQEAAQAACAQAAwQEACH5BAUEAAEALFcCjwEBAAEAAAgEAAMEBAAh+QQFAwABACxXAo8BAQABAAAIBAADBAQAIfkEBQMAAQAsVwKPAQEAAQAACAQAAwQEACH5BAUEAAEALFcCjwEBAAEAAAgEAAMEBAAh+QQFAwABACxXAo8BAQABAAAIBAADBAQAIfkEBQMAAQAsVwKPAQEAAQAACAQAAwQEACH5BAUEAAEALFcCjwEBAAEAAAgEAAMEBAAh+QQFAwABACxXAo8BAQABAAAIBAADBAQAIfkEBQMAAQAsVwKPAQEAAQAACAQAAwQEACH5BAUEAAEALFcCjwEBAAEAAAgEAAMEBAAh+QQFAwABACxXAo8BAQABAAAIBAADBAQAIfkEBQMAAQAsVwKPAQEAAQAACAQAAwQEACH5BAUEAAEALFcCjwEBAAEAAAgEAAMEBAAh+QQFAwABACziAMgATACrAAAI/wADCBxIsKDBgwgTKlxoMJ8rUfwYSpxIsaLAZaPmWdzIcSO/UYkidhxJEiE6V4JKqlwZYJeheyxjcrTnaoo/mTgp/vLE51/Onwr1uUJCD6jRg8dmJTnKdKC/WXHsNG0q7daNdiKnAqUVIElWrTnRyUpi5ytYmbuM3ch29idNPkTa/vz1K4kcuTjxyVqH4xlemcd2CSJi9u/IfrLIOVljmGVVfTiS+Wxckpa0RjwmUx5JTpa/xYU3V9x1jB+OYqFFS6SJT1Nm1R3pBqCCRjNsinrjmc5l+7bEwAFc+7aImFyALWhSDz9YVSAOVr2XJ7QcANVr6Qw739yyJTp2g6QF8v9A9X1hPFn4ArDC4b38QNkB0Gxxn1CvPfGa6CMEHiAXDuXlFScQGlS0515z+N2kX0HUBVAMDvksWJA4ng1IhYQFhSdeIxgOFI8r6QXwDA4dvjfMQGs4UWIA+Lhyn0BEpFSiMbsMlA0OMHUooEByLFUigjD6YeB3tFwzUDtXlUihggH0uOIuyxBEhFQdfqjPkTi0U+IvJw5kh48YtviiQHbNWONA96w15HKIoUMQXGsuBySZd3VYJEH39NWhNxUONFiJUBa0WJWuXDlQPpHF6VsvXQ6EmaK3iVkQbR0a0wuTAZhWDKSq9eOKmwS5xqlqztxiEG2jikYLNgbhwJuEfGL/GhwPHd4SZUHIATgcO7IYStBzGDJqkHVhumgQdxhaetB4qTbWpkHrNdtYqQcRiOGqy+a3YKwG5UKrhLZWe+GC7LyyT7a63iasQQ9GqJ+kBhEo7V/KLsuhfp6CWtCIElJ7UIoSYntQjNv2WdCNOdJ3izMIOalfuecOzMeC6xqEpJb0wWvQl+mqNkwvCU2p3z6usINQOziwRZ+/B325oMAHlUkftwelmc28bS2ckB9E4HwWO65EHLMcHW9WsUF5PuOzVvbIMqZBgxVN2ccKDeoeySYjhGgyK5ua0KP00eKNQqi6hw0sshKk6dJT6ZyQqO4BLfRBZZfXizELuepe0/ik/z2QcO5RrRCy5WG9EA+suLeM1wmhQmJ5/sgy9uDzlXe23wQxW57bCUVbnlj9LGSt3Xgfri12fGMukH9S/yW4QqNjZ/jhjbB91OIMJQPhd5FPDvu42F3DFUMEf8d5Qvx+BzpDAH93t0RE+PEda6oLhLDtQL2ukMPSzb4QET1ht8yZC12MfU69S+Ry8MMTT6V0t0gjEcoqL7c8Q+tLl9ZESTAmHWsTuUFcpKO9wT1uOUKJh0T+UYzTDWd8E/mHBKUTOXFE8Hw5ER5FJgg/+S2Qg8PpTOg+iB0NkXA5APwgBmUyjF9scIUxSeALpcMfFS6ngjOUU/tOOJz4VQSEtznJCLZ56BsTEhE2KbygauxxjPe48IUw7Ig9nijDHIoGHyALQA2VqBp81AiHLFLgQiQYxY7sgyvSGF48bmGcMZaxI5ELAHXIcYt4VE8gQBRNYmTRD2n04mkF4SAZfXOLtBjDGHMziCDfOJJbyKIX0rjjIocDC1e00Y0BGGQm8/gXPBhBiYtkZEUUJAKGTJCMmlTNHQeCSlSuaJOufGUrXymQfKTylRsoQwDcRUtlqKEGB6AlHidoCd8EBAAh+QQFAwABACxXAo8BAQABAAAIBAADBAQAIfkEBQQAAQAsVwKPAQEAAQAACAQAAwQEACH5BAUDAAEALFcCjwEBAAEAAAgEAAMEBAAh+QQFAwABACxXAo8BAQABAAAIBAADBAQAIfkEBQQAAQAsVwKPAQEAAQAACAQAAwQEACH5BAUDAAEALFcCjwEBAAEAAAgEAAMEBAAh+QQFAwABACxXAo8BAQABAAAIBAADBAQAIfkEBQQAAQAsVwKPAQEAAQAACAQAAwQEACH5BAUDAAEALFcCjwEBAAEAAAgEAAMEBAAh+QQFAwABACxXAo8BAQABAAAIBAADBAQAIfkEBQQAAQAsVwKPAQEAAQAACAQAAwQEACH5BAUDAAEALFcCjwEBAAEAAAgEAAMEBAAh+QQFAwABACxXAo8BAQABAAAIBAADBAQAIfkEBQQAAQAsVwKPAQEAAQAACAQAAwQEACH5BAUDAAEALFcCjwEBAAEAAAgEAAMEBAAh+QQFAwABACxXAo8BAQABAAAIBAADBAQAIfkEBQQAAQAsVwKPAQEAAQAACAQAAwQEACH5BAUDAAEALFcCjwEBAAEAAAgEAAMEBAAh+QQFAwABACxXAo8BAQABAAAIBAADBAQAIfkEBQQAAQAsVwKPAQEAAQAACAQAAwQEACH5BAUDAAEALFcCjwEBAAEAAAgEAAMEBAAh+QQFAwABACxXAo8BAQABAAAIBAADBAQAIfkEBQQAAQAsVwKPAQEAAQAACAQAAwQEACH5BAUDAAEALFcCjwEBAAEAAAgEAAMEBAAh+QQFAwABACxXAo8BAQABAAAIBAADBAQAIfkEBQQAAQAsVwKPAQEAAQAACAQAAwQEACH5BAUDAAEALFcCjwEBAAEAAAgEAAMEBAAh+QQFAwABACxXAo8BAQABAAAIBAADBAQAIfkEBQQAAQAsVwKPAQEAAQAACAQAAwQEACH5BAUDAAEALFcCjwEBAAEAAAgEAAMEBAAh+QQFAwABACxXAo8BAQABAAAIBAADBAQAIfkEBQQAAQAsVwKPAQEAAQAACAQAAwQEACH5BAUDAAEALFcCjwEBAAEAAAgEAAMEBAAh+QQFAwABACxXAo8BAQABAAAIBAADBAQAIfkEBQQAAQAsVwKPAQEAAQAACAQAAwQEACH5BAUDAAEALFcCjwEBAAEAAAgEAAMEBAAh+QQFAwABACxXAo8BAQABAAAIBAADBAQAIfkEBQQAAQAsVwKPAQEAAQAACAQAAwQEACH5BAUDAAEALFcCjwEBAAEAAAgEAAMEBAAh+QQFAwABACxXAo8BAQABAAAIBAADBAQAIfkEBQQAAQAsVwKPAQEAAQAACAQAAwQEACH5BAUDAAEALFcCjwEBAAEAAAgEAAMEBAAh+QQFAwABACxXAo8BAQABAAAIBAADBAQAIfkEBQQAAQAsVwKPAQEAAQAACAQAAwQEACH5BAUDAAEALFcCjwEBAAEAAAgEAAMEBAAh+QQFAwABACxXAo8BAQABAAAIBAADBAQAIfkEBQQAAQAsVwKPAQEAAQAACAQAAwQEACH5BAUDAAEALFcCjwEBAAEAAAgEAAMEBAAh+QQFAwABACxXAo8BAQABAAAIBAADBAQAIfkEBQQAAQAsVwKPAQEAAQAACAQAAwQEACH5BAUDAAEALFcCjwEBAAEAAAgEAAMEBAAh+QQFAwABACzRAMcAXQCmAAAI/wADCBxIsKDBgwgTKlzIkOG3AP8aSpxIsaJEfBYzatwosZenexxDitQYzxWYiCNTqlR4y9DKlzAHenvFI6bNlP1gRUqC8qbPjMdoEflJ1CI+V8RwtCvKtGGvX3KaSlXIzhU+Inymai14a9lSiFu3SqPVzw6RnmGb9pOFDW1aqcZ2/QP5dqo9Wezc1i369J/evT7JyYJIFzBRf7Sc+TXM1Bktf4sZ/9QnS5zffJJ/DtsF8W9mlfZcxfMbEY3nzxx3Des88DTqjOJk6SPd6PVLxNJY23657DHp3SuPktMNPOWvXp1dF6dY0h7x5SFvHRMYGTpHb672JbfOce016sq5L/88dgt8ePEIj7IDj17jU/PtLVbF+Dy+xK7w7U+UBqsfe/0S7SOLN/78ByBDcRW43YELhRZPa+cdqBqEEepHjlUQMrgQYs5QqKFCjilY34cE4QPLcPmRaNBmBFWnIkHNtVihfbsYI+OM7Xkji3YZvkhQP7Tk5qGPAy1TnoxEDnQUOjcmKdBxBbno43wi/uakdFHiiN41sviHZJJrYZOlltwZc+SXRN61XpNJvpelk+hgyCaR+I2Z5FheDunjPq54Y5CUKrL4J5nQOTgooctNOGiSselzKJG4HQTohyE+6qOJKL5JJJSWvhjjokTWiNCkDOrIo50v5nSNiGiqSN6opAL/uCSsRLrZKYlUSooocFjquqttXOapqYphJhSrfnEZe2x8airro623ahgnfbq+yKGyv6ImjSysDvshn+Jg+6KgtKpoqLMqKgprtpk1qtCy6EUqLom9destg/jIkqmvKnKK7oefrqviLTa+y65k2J1aroaqLmSlhq86fLBhsxo8MWDQLsxgrtheXFdX9t4L4LbC8sswWwzBWyZnEnv8VrMtf5ixxgBOm7LKy117M6WP3YwzcJSFu7OG5Fqs4bkSfyiqzxq6O/SB8j4NYL0NPaxfxVLr52/LLmsVcNIM9sr0gQlL9PNuxVZ9tm0Rq80gzG4fOPO8+tlsdtda1ak23lLh2TnR2qgJ6OfdfDeV7N+FM4X02PqpG7eFct4NoM6EA1gp4rKeSJHV0MVz6taPc/eLcwF8zTh3u9C3NObthSAQCiHsE7LA7SkgkAAhKFgyzdYJGIANAgiEzzFCgo0ePrtoE3wA6Nxyze7RWmdPL1wIUMQxo88usnXx7KKBAHRIoz2q7U1CBwENkP4v4Izx4sYOBLAxvm6cc9dPPAYsDzb7mS3/ABwB4AetrMQ/yURhAs6KTP1UtJgGLpCBpHngiyJYQPRQ0EkGCcM5EoeaLjwAg6MSyAhA+CcGBQQAIfkEBQQAAQAsVwKPAQEAAQAACAQAAwQEACH5BAUDAAEALFcCjwEBAAEAAAgEAAMEBAAh+QQFAwABACxXAo8BAQABAAAIBAADBAQAIfkEBQQAAQAsVwKPAQEAAQAACAQAAwQEACH5BAUDAAEALFcCjwEBAAEAAAgEAAMEBAAh+QQFAwABACxXAo8BAQABAAAIBAADBAQAIfkEBQQAAQAsVwKPAQEAAQAACAQAAwQEACH5BAUDAAEALFcCjwEBAAEAAAgEAAMEBAAh+QQFAwABACxXAo8BAQABAAAIBAADBAQAIfkEBQQAAQAsVwKPAQEAAQAACAQAAwQEACH5BAUDAAEALFcCjwEBAAEAAAgEAAMEBAAh+QQFAwABACxXAo8BAQABAAAIBAADBAQAIfkEBQQAAQAsVwKPAQEAAQAACAQAAwQEACH5BAUDAAEALFcCjwEBAAEAAAgEAAMEBAAh+QQFAwABACxXAo8BAQABAAAIBAADBAQAIfkEBQQAAQAsVwKPAQEAAQAACAQAAwQEACH5BAUDAAEALFcCjwEBAAEAAAgEAAMEBAAh+QQFAwABACxXAo8BAQABAAAIBAADBAQAIfkEBQQAAQAsVwKPAQEAAQAACAQAAwQEACH5BAUDAAEALFcCjwEBAAEAAAgEAAMEBAAh+QQFAwABACxXAo8BAQABAAAIBAADBAQAIfkEBQQAAQAsVwKPAQEAAQAACAQAAwQEACH5BAUDAAEALFcCjwEBAAEAAAgEAAMEBAAh+QQFAwABACxXAo8BAQABAAAIBAADBAQAIfkEBQQAAQAsVwKPAQEAAQAACAQAAwQEACH5BAUDAAEALFcCjwEBAAEAAAgEAAMEBAAh+QQFAwABACxXAo8BAQABAAAIBAADBAQAIfkEBQQAAQAsVwKPAQEAAQAACAQAAwQEACH5BAUDAAEALFcCjwEBAAEAAAgEAAMEBAAh+QQFAwABACxXAo8BAQABAAAIBAADBAQAIfkEBQQAAQAsVwKPAQEAAQAACAQAAwQEACH5BAUDAAEALFcCjwEBAAEAAAgEAAMEBAAh+QQFAwABACxXAo8BAQABAAAIBAADBAQAIfkEBQQAAQAsVwKPAQEAAQAACAQAAwQEACH5BAUDAAEALFcCjwEBAAEAAAgEAAMEBAAh+QQFAwABACxXAo8BAQABAAAIBAADBAQAIfkEBQQAAQAsVwKPAQEAAQAACAQAAwQEACH5BAUDAAEALFcCjwEBAAEAAAgEAAMEBAAh+QQFAwABACxXAo8BAQABAAAIBAADBAQAIfkEBQQAAQAsVwKPAQEAAQAACAQAAwQEACH5BAUDAAEALFcCjwEBAAEAAAgEAAMEBAAh+QQFAwABACxXAo8BAQABAAAIBAADBAQAIfkEBQQAAQAsVwKPAQEAAQAACAQAAwQEACH5BAUDAAEALFcCjwEBAAEAAAgEAAMEBAAh+QQFAwABACxXAo8BAQABAAAIBAADBAQAIfkEBQQAAQAsVwKPAQEAAQAACAQAAwQEACH5BAUDAAEALFcCjwEBAAEAAAgEAAMEBAAh+QQFAwABACxXAo8BAQABAAAIBAADBAQAIfkEBQQAAQAswwDHAGsAngAACP8AAwgcSLCgwYMIEypcyLBhQ2oOI0qcSLGiwXUWM2rcWNHfLEMB+HEcSbLkr1FURJZcyXKiN1lTAvlrSbMmQnuyiN2wybNngF2/1jiZ6bNoyWO0+gXwY7QpR3Sv4mVzSjWjPlnS/lXdSrFXL39auYplKE0WPq04xqo9GM8Vun9h18oV2I/WMbhz8wYYdgus3rneXAXA+1ctTm9+C6sFCjeu4q1I+xF+vBUqu8aUt151hjlzVa+DHXs2Kg3W2cmji9pzRS506qZ1j4UW/domX7Coa9sMbG+27p74ZCHu/LumP6ACcxdnGdn3cproZLFLTvv5yM3Uq1vfCNr59pKl8VH//75ydWvv5DfGHqg8vcXb2d1zFOeq93j5GoNfY98ef0Tk2WnnH0PNxTcgRey4Mp2BB0q0Dy3OENRfgwr1souEE1J4UFniMaghQ+ZhKOCHBPlzizEiktgQfPypyBB99nnookH6FZThjADyN6KLy9CyT4ozIpTggi0GedCDEQJpZEEWGnSjitLQ0qGOO364mjhOVvmhiSja+OSHfCml5JICwZglmQTV6KWWGuaIIZoDLQPLj2vCGcCQB31J4YPL5Klng01myWaD2Jjlp51X+jnogFwi9OeBYSoKJzmuxCMpmmoKCqebYxopJ51nosnOK0TWSSafCT3q3y8XOqqqfIVO/7nmovIl6iqajbpKq3zG3CLmoWRSaqmuu5KXKbBLcmqqkc7IAqqmS7aFjkKvpodqqtWSx+pC2X4XK7XdWncYuMV+Z+Iw3Ib7nDFJkbuksOkuiQ8s1xCla7K9MKTucs0+e+mM0qZbrnV19SmwkdseHGSs9t4a5GEN/+viLejqO/C67SrsIrwaqzivNA3t+9su+Vp8cXHN6hPyyb8FbDLLrxXsEHEk/nLLzCK/xrDJM0K8cpC7VMyzi+z+Gq+L6FSKM8yp4UMLyCsznRrJEdGsYVkqR+2iyz+ruN7SLtosUc6j7aw1iT6fTSLFY5OdWYFqa0hOVG2reBXUYJPYXdVSZ+HGYdt9P8Z13A1+zbeKYgNOIm8Tuf1Y2nnjh0+MP/1CkeOA4Q135Pg5g2UAljWO+Vy/WHr35YHr5WMAe/Od+lz4XPh3APjICi6F7BgTjyzT7iPNLed17J83UR6zjze3OGP7vRQ6s8styB+zPLav57WLK7dIH7G7GmJvj0q33/ehCTjLaKdr6J9PkAsCuUDD6NY1IBAAKIRV/W94FQGA+WTCFQ4BAVJfaOIAACU05n6/4cc/UACAU8DvOYiIBQAyYDQBBgMGCRBAGhC4nH/QQwH7E+BBQjgBNQxGhAbBQgRUFBAAIfkEBQMAAQAsVwKPAQEAAQAACAQAAwQEACH5BAUDAAEALFcCjwEBAAEAAAgEAAMEBAAh+QQFBAABACxXAo8BAQABAAAIBAADBAQAIfkEBQMAAQAsVwKPAQEAAQAACAQAAwQEACH5BAUDAAEALFcCjwEBAAEAAAgEAAMEBAAh+QQFBAABACxXAo8BAQABAAAIBAADBAQAIfkEBQMAAQAsVwKPAQEAAQAACAQAAwQEACH5BAUDAAEALFcCjwEBAAEAAAgEAAMEBAAh+QQFBAABACxXAo8BAQABAAAIBAADBAQAIfkEBQMAAQAsVwKPAQEAAQAACAQAAwQEACH5BAUDAAEALFcCjwEBAAEAAAgEAAMEBAAh+QQFBAABACxXAo8BAQABAAAIBAADBAQAIfkEBQMAAQAsVwKPAQEAAQAACAQAAwQEACH5BAUDAAEALFcCjwEBAAEAAAgEAAMEBAAh+QQFBAABACxXAo8BAQABAAAIBAADBAQAIfkEBQMAAQAsVwKPAQEAAQAACAQAAwQEACH5BAUDAAEALFcCjwEBAAEAAAgEAAMEBAAh+QQFBAABACxXAo8BAQABAAAIBAADBAQAIfkEBQMAAQAsVwKPAQEAAQAACAQAAwQEACH5BAUDAAEALFcCjwEBAAEAAAgEAAMEBAAh+QQFBAABACxXAo8BAQABAAAIBAADBAQAIfkEBQMAAQAsVwKPAQEAAQAACAQAAwQEACH5BAUDAAEALFcCjwEBAAEAAAgEAAMEBAAh+QQFBAABACxXAo8BAQABAAAIBAADBAQAIfkEBQMAAQAsVwKPAQEAAQAACAQAAwQEACH5BAUDAAEALFcCjwEBAAEAAAgEAAMEBAAh+QQFBAABACxXAo8BAQABAAAIBAADBAQAIfkEBQMAAQAsVwKPAQEAAQAACAQAAwQEACH5BAUDAAEALFcCjwEBAAEAAAgEAAMEBAAh+QQFBAABACxXAo8BAQABAAAIBAADBAQAIfkEBQMAAQAsVwKPAQEAAQAACAQAAwQEACH5BAUDAAEALFcCjwEBAAEAAAgEAAMEBAAh+QQFBAABACxXAo8BAQABAAAIBAADBAQAIfkEBQMAAQAsVwKPAQEAAQAACAQAAwQEACH5BAUDAAEALFcCjwEBAAEAAAgEAAMEBAAh+QQFBAABACxXAo8BAQABAAAIBAADBAQAIfkEBQMAAQAsVwKPAQEAAQAACAQAAwQEACH5BAUDAAEALFcCjwEBAAEAAAgEAAMEBAAh+QQFBAABACxXAo8BAQABAAAIBAADBAQAIfkEBQMAAQAsVwKPAQEAAQAACAQAAwQEACH5BAUDAAEALFcCjwEBAAEAAAgEAAMEBAAh+QQFBAABACxXAo8BAQABAAAIBAADBAQAIfkEBQMAAQAsVwKPAQEAAQAACAQAAwQEACH5BAUDAAEALFcCjwEBAAEAAAgEAAMEBAAh+QQFBAABACxXAo8BAQABAAAIBAADBAQAIfkEBQMAAQAsVwKPAQEAAQAACAQAAwQEACH5BAUDAAEALFcCjwEBAAEAAAgEAAMEBAAh+QQFBAABACxXAo8BAQABAAAIBAADBAQAIfkEBQMAAQAsVwKPAQEAAQAACAQAAwQEACH5BAUDAAEALFcCjwEBAAEAAAgEAAMEBAAh+QQFBAABACxXAo8BAQABAAAIBAADBAQAIfkEBQMAAQAsswDIAHoAkQAACP8AAwgcSLCgwYMIEypcyLChQ4feHkqcSLGixYfoXsWZd7Gjx48gBcZ7FSnJv5AoU6o0iO/VMR6CTq6cSfOiPlnDsuGoybOnw363AsiU6bOo0QD+et3qR/So056/aOlr+rTqymWy7FG1yhWkNFnx/m3tSraiN1foxJZdezGjN7Vs40ocKQ2u3LsLWx4TOxav3wA3h/H9S5gg0F58+xZmm3Sp3cV/o059DPkuVnyDK/v9GpayZrZn0QlV/JkrOlniRpMu/ZSuatZx9b6GvTawwMy0ux6+7Tm308b9VK/2zVPybOJWL/Mejnwm5+XNq4aGHt0pOlepeVd3Gs+VtIG4t/f/lE1dfE99tIaB721e5e71zNtfBA5ffnGp9e3TPAYLH0H2+n30XH4BpjQdgQWGdF125SUIUnff/Refgw3ZQ8sxBYVHoU3pZQjghg+9hyCIFdEn4YQkHmTciSleZIws/rHYYkXSuBKPQR/OmNCBMuqIEXY45uhjQRAGiaKPFmIY5JAPoaeekUw2JGKPUSbkzy67BOfhkTquuGWVCxlDS4xfgplQjTdCaSZCPHq4JkLkAHmQhm8GUOScQjJp4TII0fmmkwnlOeSUZdYp0JVZ9imoj7/cso+iXKb4IplqGhoAmoEuOuNZ7GQaKYhxMoinpSJ5p5CfYFrozKmapoieMax+/0ohoUtaiqiWkJLa6KOekjpprKTWaM9CqEbJKbGtgipnr4beyaqlqjJU7JA3wYqsrAXSWumat0qLbYG7evutfsb0J66hzmR1bp3HrrtmqA1Nq6OzsY7bnj22rBqvve3hQ4u17oKpLZ78itdtwGCGu2+d5VJa75rpDrtvsgVi40qnDlFcILwZa6wfvdeuaY8s+k68pr8AL2zmwLmCebDJZioMM5gNS+SxfRHbLC+IFmPc8c3mcfwQ0OZ1d81EO284csk/g4ky0kRvx3KmLmPpD9QFNydz01XWrHPWyOUMNZjXXExRYlEKPXTS8h1DZnfYVBR1buhdHcDScs9NGzlKPoh9tt60LUNOAFMzq+Mt+CBq99hI9hKAwv7wOvOM2EjzKz7Y7BLR5DMO86I98RxzizMSI9yiGq64Ivov4uCq8pBeuEKLNA5z3qI/9rjBhOs/g51bPhy9PhqpVDdIvITGH7/eccq7CTiJamX2fIKJnYR288tV7zv12mNfEC/Ve1/QBXpMn2IKlgYEACH5BAUDAAEALFcCjwEBAAEAAAgEAAMEBAAh+QQFBAABACxXAo8BAQABAAAIBAADBAQAIfkEBQMAAQAsVwKPAQEAAQAACAQAAwQEACH5BAUDAAEALFcCjwEBAAEAAAgEAAMEBAAh+QQFBAABACxXAo8BAQABAAAIBAADBAQAIfkEBQMAAQAsVwKPAQEAAQAACAQAAwQEACH5BAUDAAEALFcCjwEBAAEAAAgEAAMEBAAh+QQFBAABACxXAo8BAQABAAAIBAADBAQAIfkEBQMAAQAsVwKPAQEAAQAACAQAAwQEACH5BAUDAAEALFcCjwEBAAEAAAgEAAMEBAAh+QQFBAABACxXAo8BAQABAAAIBAADBAQAIfkEBQMAAQAsVwKPAQEAAQAACAQAAwQEACH5BAUDAAEALFcCjwEBAAEAAAgEAAMEBAAh+QQFBAABACxXAo8BAQABAAAIBAADBAQAIfkEBQMAAQAsVwKPAQEAAQAACAQAAwQEACH5BAUDAAEALFcCjwEBAAEAAAgEAAMEBAAh+QQFBAABACxXAo8BAQABAAAIBAADBAQAIfkEBQMAAQAsVwKPAQEAAQAACAQAAwQEACH5BAUDAAEALFcCjwEBAAEAAAgEAAMEBAAh+QQFBAABACxXAo8BAQABAAAIBAADBAQAIfkEBQMAAQAsVwKPAQEAAQAACAQAAwQEACH5BAUDAAEALFcCjwEBAAEAAAgEAAMEBAAh+QQFBAABACxXAo8BAQABAAAIBAADBAQAIfkEBQMAAQAsVwKPAQEAAQAACAQAAwQEACH5BAUDAAEALFcCjwEBAAEAAAgEAAMEBAAh+QQFBAABACxXAo8BAQABAAAIBAADBAQAIfkEBQMAAQAsVwKPAQEAAQAACAQAAwQEACH5BAUDAAEALFcCjwEBAAEAAAgEAAMEBAAh+QQFBAABACxXAo8BAQABAAAIBAADBAQAIfkEBQMAAQAsVwKPAQEAAQAACAQAAwQEACH5BAUDAAEALFcCjwEBAAEAAAgEAAMEBAAh+QQFBAABACxXAo8BAQABAAAIBAADBAQAIfkEBQMAAQAsVwKPAQEAAQAACAQAAwQEACH5BAUDAAEALFcCjwEBAAEAAAgEAAMEBAAh+QQFBAABACxXAo8BAQABAAAIBAADBAQAIfkEBQMAAQAsVwKPAQEAAQAACAQAAwQEACH5BAUDAAEALFcCjwEBAAEAAAgEAAMEBAAh+QQFBAABACxXAo8BAQABAAAIBAADBAQAIfkEBQMAAQAsVwKPAQEAAQAACAQAAwQEACH5BAUDAAEALFcCjwEBAAEAAAgEAAMEBAAh+QQFBAABACxXAo8BAQABAAAIBAADBAQAIfkEBQMAAQAsVwKPAQEAAQAACAQAAwQEACH5BAUDAAEALFcCjwEBAAEAAAgEAAMEBAAh+QQFBAABACxXAo8BAQABAAAIBAADBAQAIfkEBQMAAQAsVwKPAQEAAQAACAQAAwQEACH5BAUDAAEALFcCjwEBAAEAAAgEAAMEBAAh+QQFBAABACxXAo8BAQABAAAIBAADBAQAIfkEBQMAAQAsVwKPAQEAAQAACAQAAwQEACH5BAUDAAEALFcCjwEBAAEAAAgEAAMEBAAh+QQFBAABACxXAo8BAQABAAAIBAADBAQAIfkEBQMAAQAspgDIAIgAhgAACP8AAwgcSLCgwYMIEypcyLChw4cMjwVo5A+ixYsYM2rE6G9YADD3/m0cSbKkyYT9etFaM6XiyZcwYzrUd+sWPiKBZOrcuRMfrV39AtzgSbQoyXiwfrk0yrTpQ3aujv0T6bSqVYPeXEmberXrVWmysHH1SpbpMlfoxpZdq7OjrHhq2co9mZKWvbhz826keUufP6p6A2f0CRSv4MMNkSo1jLgxQqjGpgJ2TPlg1q2SK2suCBZbgMybQ59F95lxaMTG3paefLpxXXurW1fet6vvX9Oy8xIOCjo3YntJK/b2LRiywOHE9ZLTehx38rKdmzt/3tXZK3IDkVNfmzpe9unbnb7//s46vFfatqWbZ7ub/Pq19mj1Iqj9fVXj7u17XS6NPnj9O13jimf5AWiVM65gR155BhaVGjsF1dfgTuP5x+CEOqGHT4T/YVhSexZ6aFR883F4oYgvsSOLMQZJiOJJ/LXY4YsZCUhgiDTqZJ2COOYY04MyzuijQxWaOORLGh7k4pEXgWgkkyWRiNCSUD614pRCVolQjEpmqaVBNmJ54pcNWUdal2OSuRCQaKqJUZEmpummQUmKOSdETgZ550NSJkTlngOpyKKfXqrJpZ2AMhQmoXImaqZCfybKJqKJotQLLLAxWqlCdYrZ6J343LLLPgtFemefkBaqpYoelapqlcs5/8OQqXMumuqncyIozqyvQjmpppsalJIsmd4aLJ21begqrmqGOiqvvQ6J6rLHEsSqQ7SSGSu20fpoK7XVCqQrt8x++aux4aaEKbnhBtApuNU6S2pD2Wo57bLlQnntQ/VCuS2/3b74LbThjgtwvkyeC++m6hZLb8AivkvwsfJC1O+R904cbDyytHowwj4ut8xFF/uY1Y0HH2uwxRBjeIwsEFpUMo3+/LKuzC03KPHDINNYMc49v5gxzxt3jNHML4p8NNIiZnVNRkx7uDLQbvojzVIBvBwzyTmHh47HNd/MddAGGnNmP8lC3XV4oQb189h7XtPf0OzuuYs9HHsM957s/HmitED6OKzxnccc48o1/sQjzS+3PE0u2Q0e4Yoryxxzyy/XsIP14FXjQcstzqAzL9WJnmNEHRpFjeHmpLfLMuRzqqW6m6DNTjtVtt8em+uPr/0lV7XDrqZkwOeuJfHI865QGcj7XmUNXfDj/PHz9BAFP8rzm0/2AgUEACH5BAUDAAEALFcCjwEBAAEAAAgEAAMEBAAh+QQFBAABACxXAo8BAQABAAAIBAADBAQAIfkEBQMAAQAsVwKPAQEAAQAACAQAAwQEACH5BAUDAAEALFcCjwEBAAEAAAgEAAMEBAAh+QQFBAABACxXAo8BAQABAAAIBAADBAQAIfkEBQMAAQAsVwKPAQEAAQAACAQAAwQEACH5BAUDAAEALFcCjwEBAAEAAAgEAAMEBAAh+QQFBAABACxXAo8BAQABAAAIBAADBAQAIfkEBQMAAQAsVwKPAQEAAQAACAQAAwQEACH5BAUDAAEALFcCjwEBAAEAAAgEAAMEBAAh+QQFBAABACxXAo8BAQABAAAIBAADBAQAIfkEBQMAAQAsVwKPAQEAAQAACAQAAwQEACH5BAUDAAEALFcCjwEBAAEAAAgEAAMEBAAh+QQFBAABACxXAo8BAQABAAAIBAADBAQAIfkEBQMAAQAsVwKPAQEAAQAACAQAAwQEACH5BAUDAAEALFcCjwEBAAEAAAgEAAMEBAAh+QQFBAABACxXAo8BAQABAAAIBAADBAQAIfkEBQMAAQAsVwKPAQEAAQAACAQAAwQEACH5BAUDAAEALFcCjwEBAAEAAAgEAAMEBAAh+QQFBAABACxXAo8BAQABAAAIBAADBAQAIfkEBQMAAQAsVwKPAQEAAQAACAQAAwQEACH5BAUDAAEALFcCjwEBAAEAAAgEAAMEBAAh+QQFBAABACxXAo8BAQABAAAIBAADBAQAIfkEBQMAAQAsVwKPAQEAAQAACAQAAwQEACH5BAUDAAEALFcCjwEBAAEAAAgEAAMEBAAh+QQFBAABACxXAo8BAQABAAAIBAADBAQAIfkEBQMAAQAsVwKPAQEAAQAACAQAAwQEACH5BAUDAAEALFcCjwEBAAEAAAgEAAMEBAAh+QQFBAABACxXAo8BAQABAAAIBAADBAQAIfkEBQMAAQAsVwKPAQEAAQAACAQAAwQEACH5BAUDAAEALFcCjwEBAAEAAAgEAAMEBAAh+QQFBAABACxXAo8BAQABAAAIBAADBAQAIfkEBQMAAQAsVwKPAQEAAQAACAQAAwQEACH5BAUDAAEALFcCjwEBAAEAAAgEAAMEBAAh+QQFBAABACxXAo8BAQABAAAIBAADBAQAIfkEBQMAAQAsVwKPAQEAAQAACAQAAwQEACH5BAUDAAEALFcCjwEBAAEAAAgEAAMEBAAh+QQFBAABACxXAo8BAQABAAAIBAADBAQAIfkEBQMAAQAsVwKPAQEAAQAACAQAAwQEACH5BAUDAAEALFcCjwEBAAEAAAgEAAMEBAAh+QQFBAABACxXAo8BAQABAAAIBAADBAQAIfkEBQMAAQAsVwKPAQEAAQAACAQAAwQEACH5BAUDAAEALFcCjwEBAAEAAAgEAAMEBAAh+QQFBAABACxXAo8BAQABAAAIBAADBAQAIfkEBQMAAQAsVwKPAQEAAQAACAQAAwQEACH5BAUDAAEALFcCjwEBAAEAAAgEAAMEBAAh+QQFBAABACxXAo8BAQABAAAIBAADBAQAIfkEBQMAAQAsVwKPAQEAAQAACAQAAwQEACH5BAUDAAEALJsAyACSAHkAAAj/AAMIHEiwoMGDCBMqXMiwocOHEA3q2xWxosWLGDNqHMgO1i0iG0OKHElSob9jrqQFcPKvpMuXMCHa20UrXktBMXPq3OlN1q9+LXcKHTqy3zBX2P4FJcq0acR4t27ZW+q0qlWE0lwZ80f1qler+3rRQqf0q1mr5GTt0sf1rFuiJ1Ny7fq2rsuZNZXStcs3ZM+fevf2HVzRKNLAhBNnjEdLKmLFkCNKk3VsruDImA3i6yULXQC9mUMrRKdW3+eyolMTjKvy9GXVkPHGEwgatmpvr366fm17sFFZ3mg/7o2Z8S58/nYTDy3tVWXhqJdD3tx5YG3pkNOutR4dO2HWBK97/x8sO3z38Xz/9jPPG/3V38G5n3fvlh2t48mhz6f/1ZmrYwUNx99Z+NDkGXsD1qWdaQgmeBZ4Ae7noFP23FKTQeJNaBVuw6wXYXsa5rTPL7KIc1CGITJl3y34YIhiikP5B6CLEsKYU4GwHPghiDaStOCJNfb4EoQ0CklUhVIh9KKRL2EjS4dKBsmkSCO6YmKUPE6JkX3HJbSkliLJ6OWXYGpU4FhjSlnmRT9imeWaDsV1jUJkwmkRkvbQqaadEF3jCpRp8knlL1YuVKegDnHZop5vIoqQmIbu6WhCBVbHaKOTEkSOK73sE6mkmRYkJ0MChuqQPY3l+ampFU02TH6Msv8K0YglNnSorBzdt+iquDYEKamgsnomOw7dimtav3gKbLCh9mOMK3PaaiyrqCYpLbOZugorr70mROuV13arkKIPTWuqf8tAZG6mw6qLraPquYspooZhI++8gkJFi6rFruuotveKa9C3EfmLaEddyiuwQf45U5HBfOJjIbEFv8unN67oVjG+cNZrEcRwMmZtwAsLBPDGHJcZlizkfAxymeyUtm2/KYPpzzKuOOxyzVpKfOHOJQeAscYPW1ymxxe9rCVUIxfNM5PSwPJq0kozGRaaVButJcJsZf30hNLsGkBcOmctazy7eBhAeRhVneIwLQsUb9ta2xhPL8khTffXIf6J4hnT/JqN6zq9BJDVVhq5DaPfnOnodbfkcLZWP/aQc80xYl/Ld4qwZHwMTb8sgw06amsubjmw9IINO/iUrrDA/FCyQeJ1g4lFF3sHvZHiC/Nuqni+/75UqbpLq1/xGyuHvLuuLe907b0PBz2ugVW/eahB8GP99KzyM0QXxDu/0Dwr6CH+x+cjFBAAIfkEBQQAAQAsVwKPAQEAAQAACAQAAwQEACH5BAUDAAEALFcCjwEBAAEAAAgEAAMEBAAh+QQFAwABACxXAo8BAQABAAAIBAADBAQAIfkEBQQAAQAsVwKPAQEAAQAACAQAAwQEACH5BAUDAAEALFcCjwEBAAEAAAgEAAMEBAAh+QQFAwABACxXAo8BAQABAAAIBAADBAQAIfkEBQQAAQAsVwKPAQEAAQAACAQAAwQEACH5BAUDAAEALFcCjwEBAAEAAAgEAAMEBAAh+QQFAwABACxXAo8BAQABAAAIBAADBAQAIfkEBQQAAQAsVwKPAQEAAQAACAQAAwQEACH5BAUDAAEALFcCjwEBAAEAAAgEAAMEBAAh+QQFAwABACxXAo8BAQABAAAIBAADBAQAIfkEBQQAAQAsVwKPAQEAAQAACAQAAwQEACH5BAUDAAEALFcCjwEBAAEAAAgEAAMEBAAh+QQFAwABACxXAo8BAQABAAAIBAADBAQAIfkEBQQAAQAsVwKPAQEAAQAACAQAAwQEACH5BAUDAAEALFcCjwEBAAEAAAgEAAMEBAAh+QQFAwABACxXAo8BAQABAAAIBAADBAQAIfkEBQQAAQAsVwKPAQEAAQAACAQAAwQEACH5BAUDAAEALFcCjwEBAAEAAAgEAAMEBAAh+QQFAwABACxXAo8BAQABAAAIBAADBAQAIfkEBQQAAQAsVwKPAQEAAQAACAQAAwQEACH5BAUDAAEALFcCjwEBAAEAAAgEAAMEBAAh+QQFAwABACxXAo8BAQABAAAIBAADBAQAIfkEBQQAAQAsVwKPAQEAAQAACAQAAwQEACH5BAUDAAEALFcCjwEBAAEAAAgEAAMEBAAh+QQFAwABACxXAo8BAQABAAAIBAADBAQAIfkEBQQAAQAsVwKPAQEAAQAACAQAAwQEACH5BAUDAAEALFcCjwEBAAEAAAgEAAMEBAAh+QQFAwABACxXAo8BAQABAAAIBAADBAQAIfkEBQQAAQAsVwKPAQEAAQAACAQAAwQEACH5BAUDAAEALFcCjwEBAAEAAAgEAAMEBAAh+QQFAwABACxXAo8BAQABAAAIBAADBAQAIfkEBQQAAQAsVwKPAQEAAQAACAQAAwQEACH5BAUDAAEALFcCjwEBAAEAAAgEAAMEBAAh+QQFAwABACxXAo8BAQABAAAIBAADBAQAIfkEBQQAAQAsVwKPAQEAAQAACAQAAwQEACH5BAUDAAEALFcCjwEBAAEAAAgEAAMEBAAh+QQFAwABACxXAo8BAQABAAAIBAADBAQAIfkEBQQAAQAsVwKPAQEAAQAACAQAAwQEACH5BAUDAAEALFcCjwEBAAEAAAgEAAMEBAAh+QQFAwABACxXAo8BAQABAAAIBAADBAQAIfkEBQQAAQAsVwKPAQEAAQAACAQAAwQEACH5BAUDAAEALFcCjwEBAAEAAAgEAAMEBAAh+QQFAwABACxXAo8BAQABAAAIBAADBAQAIfkEBQQAAQAsVwKPAQEAAQAACAQAAwQEACH5BAUDAAEALFcCjwEBAAEAAAgEAAMEBAAh+QQFAwABACxXAo8BAQABAAAIBAADBAQAIfkEBQQAAQAsVwKPAQEAAQAACAQAAwQEACH5BAUDAAEALFcCjwEBAAEAAAgEAAMEBAAh+QQFAwABACyRAMcAnQBsAAAI/wADCBxIsKDBgwgTKlzIsKHDhxAj+tOlLqLFixgzatzYkJytUZr6cRxJsqRJjPZ6yTJ246TLlzBN9jvm6he+mDhz6mx4TdateP8C8NhJtChOdrdkYfsXNAAOo1CjbsSn8li/plKzan3Yb5mrXvj8Yd1KtmxBb7BuoWM61qxbrex2yZLG9q1drfiMuRq2j23bu4Bx+nPmapc9v4ET6yRHixY5xIojv7Qn15nYupIzk9Sn95e+y381i5YozWe8AJBHq46IrrE4galXy16Y8tUykbFn6zY4s+ZN1Jh3Cyd4zdVP2MGHD0eqdGBu5bPx/XJl1Xly6LK7frVnnSl24d58ov8j6Df098zx5Eor+Px8Zn3D9u4jf9195sGFudP3bn80Y1qv7Wdef4FRJotl7NVHYGD7dPZZgvwtGFlxx0E4oIRukZNUgBZeiOFWVFEnkkEKfmhWbzYd1J6JZYV3CzsIrcgiXElhE2OJM2Yl3SvGjEgijjlChZ9hCckYpFHeNDbejREeqZWBzihkpJM6wSeflE1SKWRpu5xWJJBa4vQfh0x6GOZkKi3jD5ZZnqkTir992aabOFHoJZtm0kkSOkl5w9CUepJElSzVLQRooBvB2RCYiHLkIox/MtpoRsxd49Chk1q0ozHzRTpnphsNqZ+neYIKUZK0LLmopKY6BOWaq37/2qpFVvL1EKazKuQPl3fGmitHY0KE668H1aamsKwSyxtNKd6arLIF9VShs7JCmxBzNkY0rLWDFkptqdYKpB1YsH4b7kNoqXXRs9bGNde67Cqb15UWbUusqPBWe+5A/5GDkb2/vvpvvLlyVtOD9RKcq50ZATxrsA3re26I3iYssbWKRnwxtBRCOvDGymK7kcOgSifiyApnOu6oH4P7q4uqauzyrOm9y1HKYepzTLkC1dqpRiSfeYylA+F7M85nLvIzxCiDPGkVAeywpsBHOz0pKQI1eDDPMu8r0DqLCKCBcb0CjbSb+9wihQA+iONj01ZPKgUKBPxgzz742BMPOz9rdXu2ngIIgMIirhT2yzDHxIls3KC2skQAEBgQANcWz9wqrMQAALfXCVGer+WcLw566LGOTjqppp+OnICqV91d6q2vjhzjse8HHO2103c77Ll7F3Tus+MO/ED5lFfe8BapYfzvqp9zAS/M977JCMiXFEUY1TcUEAAh+QQFBAABACxXAo8BAQABAAAIBAADBAQAIfkEBQMAAQAsVwKPAQEAAQAACAQAAwQEACH5BAUDAAEALFcCjwEBAAEAAAgEAAMEBAAh+QQFBAABACxXAo8BAQABAAAIBAADBAQAIfkEBQMAAQAsVwKPAQEAAQAACAQAAwQEACH5BAUDAAEALFcCjwEBAAEAAAgEAAMEBAAh+QQFBAABACxXAo8BAQABAAAIBAADBAQAIfkEBQMAAQAsVwKPAQEAAQAACAQAAwQEACH5BAUDAAEALFcCjwEBAAEAAAgEAAMEBAAh+QQFBAABACxXAo8BAQABAAAIBAADBAQAIfkEBQMAAQAsVwKPAQEAAQAACAQAAwQEACH5BAUDAAEALFcCjwEBAAEAAAgEAAMEBAAh+QQFBAABACxXAo8BAQABAAAIBAADBAQAIfkEBQMAAQAsVwKPAQEAAQAACAQAAwQEACH5BAUDAAEALFcCjwEBAAEAAAgEAAMEBAAh+QQFBAABACxXAo8BAQABAAAIBAADBAQAIfkEBQMAAQAsVwKPAQEAAQAACAQAAwQEACH5BAUDAAEALFcCjwEBAAEAAAgEAAMEBAAh+QQFBAABACxXAo8BAQABAAAIBAADBAQAIfkEBQMAAQAsVwKPAQEAAQAACAQAAwQEACH5BAUDAAEALFcCjwEBAAEAAAgEAAMEBAAh+QQFBAABACxXAo8BAQABAAAIBAADBAQAIfkEBQMAAQAsVwKPAQEAAQAACAQAAwQEACH5BAUDAAEALFcCjwEBAAEAAAgEAAMEBAAh+QQFBAABACxXAo8BAQABAAAIBAADBAQAIfkEBQMAAQAsVwKPAQEAAQAACAQAAwQEACH5BAUDAAEALFcCjwEBAAEAAAgEAAMEBAAh+QQFBAABACxXAo8BAQABAAAIBAADBAQAIfkEBQMAAQAsVwKPAQEAAQAACAQAAwQEACH5BAUDAAEALFcCjwEBAAEAAAgEAAMEBAAh+QQFBAABACxXAo8BAQABAAAIBAADBAQAIfkEBQMAAQAsVwKPAQEAAQAACAQAAwQEACH5BAUDAAEALFcCjwEBAAEAAAgEAAMEBAAh+QQFBAABACxXAo8BAQABAAAIBAADBAQAIfkEBQMAAQAsVwKPAQEAAQAACAQAAwQEACH5BAUDAAEALFcCjwEBAAEAAAgEAAMEBAAh+QQFBAABACxXAo8BAQABAAAIBAADBAQAIfkEBQMAAQAsVwKPAQEAAQAACAQAAwQEACH5BAUDAAEALFcCjwEBAAEAAAgEAAMEBAAh+QQFBAABACxXAo8BAQABAAAIBAADBAQAIfkEBQMAAQAsVwKPAQEAAQAACAQAAwQEACH5BAUDAAEALFcCjwEBAAEAAAgEAAMEBAAh+QQFBAABACxXAo8BAQABAAAIBAADBAQAIfkEBQMAAQAsVwKPAQEAAQAACAQAAwQEACH5BAUDAAEALFcCjwEBAAEAAAgEAAMEBAAh+QQFBAABACxXAo8BAQABAAAIBAADBAQAIfkEBQMAAQAsVwKPAQEAAQAACAQAAwQEACH5BAUDAAEALFcCjwEBAAEAAAgEAAMEBAAh+QQFBAABACxXAo8BAQABAAAIBAADBAQAIfkEBQMAAQAsVwKPAQEAAQAACAQAAwQEACH5BAUDAAEALIgAxwCmAF0AAAj/AAMIHEiwoMGDCBMqXMiwocOHECMm3CexosWLGDNqhGjPmCuB/jaKHEmyZEZ2v1ztIobDpMuXMF+Ku+VqGL6QMXPq3OmwnzNYtJbtw0mEp9GjO+0dc0Xrmr9/BG8gnUpVZLyUu9j921q1q9eLM139sreV69ezaBP2k0ZL1rF9ZdPKnSsQ3zFZTZ+apcvXa7xeKteV3du38FFxu8SSHWy4Mc+1bY/pC8DYsWWYdvE6pVz5sueRV1WiEziY8OfTFhErJt0ZteuIkN1OZm36te2FmfMOLH2798LQu8gR5O27uEHVv+IVbG28eL9rkWfvjtu8eW5pOKdTr+776qvgBolz/++Nbter5AeZj0ftD7rs9NvXu76efbh6+Ze9g4cfH7/n8ucph9B9/hnWXnQJiVegY/QlqOCChXl3i3AKEQjhXACiV2F/F9J1oCzG4LPQgx3Khc8yeDnTz4gWluiVPcO4cos4DbXoYlXkAKYhi7Xd6FV7NIVYo40+GnViiisyRGKRVMEoI40OEcmkTjmKJeCQPU5pFJCuCBmllFq6dCQtKj60ZJg6wSjLjBGBiSZJAPbCTptuvqkRlzbRyaGdL+3jDJIS1cnnRTC+cos39X2Z5aBwAiZnRWcyupE/3tCUZ6CCSvqQn4BCuqemGql5aKJmfgoqRug4OqdFkZ4qEaWWiv/IaqauIsSpLGVeRGutBnUkI6IYtcprQ6l+t6quuw4bAKw13RRsssPeKpRG0PKqlIzXbCSssgihZKy21boalk2keroot7b+FBRF4J6Lbq9L3bJZu+6+OxBKKh1L7bb2juusSOFOKY09B/kElFDlzlqvq978kuRA18qbsMILnxrPLbIKhG9WJfHrKj63XBnWWCYFHOY+vQjnU2TskuRxrcZIk9u8Lr/sqjS/YLXOSya/iQcsYrGjT8sj9fwmP3js8ksvvdxCC1O3LLOvqfYONI8DBu2jT8bmVly1S0Z/DVHYYivqddkAk402j1CtbZTabvdns9tjt03b2XRHBIzdcOdIbUUAP0A1d94QIXM33oSbCQ0AIVCdeEZbkQFAGog//tATNgAAxT2l2W35RgAAsMPenX8uUiwxBJABAZSZXrJAuLDuOtizaxQQACH5BAUEAAEALFcCjwEBAAEAAAgEAAMEBAAh+QQFAwABACxXAo8BAQABAAAIBAADBAQAIfkEBQMAAQAsVwKPAQEAAQAACAQAAwQEACH5BAUEAAEALFcCjwEBAAEAAAgEAAMEBAAh+QQFAwABACxXAo8BAQABAAAIBAADBAQAIfkEBQMAAQAsVwKPAQEAAQAACAQAAwQEACH5BAUEAAEALFcCjwEBAAEAAAgEAAMEBAAh+QQFAwABACxXAo8BAQABAAAIBAADBAQAIfkEBQMAAQAsVwKPAQEAAQAACAQAAwQEACH5BAUEAAEALFcCjwEBAAEAAAgEAAMEBAAh+QQFAwABACxXAo8BAQABAAAIBAADBAQAIfkEBQMAAQAsVwKPAQEAAQAACAQAAwQEACH5BAUEAAEALFcCjwEBAAEAAAgEAAMEBAAh+QQFAwABACxXAo8BAQABAAAIBAADBAQAIfkEBQMAAQAsVwKPAQEAAQAACAQAAwQEACH5BAUEAAEALFcCjwEBAAEAAAgEAAMEBAAh+QQFAwABACxXAo8BAQABAAAIBAADBAQAIfkEBQMAAQAsVwKPAQEAAQAACAQAAwQEACH5BAUEAAEALFcCjwEBAAEAAAgEAAMEBAAh+QQFAwABACxXAo8BAQABAAAIBAADBAQAIfkEBQMAAQAsVwKPAQEAAQAACAQAAwQEACH5BAUEAAEALFcCjwEBAAEAAAgEAAMEBAAh+QQFAwABACxXAo8BAQABAAAIBAADBAQAIfkEBQMAAQAsVwKPAQEAAQAACAQAAwQEACH5BAUEAAEALFcCjwEBAAEAAAgEAAMEBAAh+QQFAwABACxXAo8BAQABAAAIBAADBAQAIfkEBQMAAQAsVwKPAQEAAQAACAQAAwQEACH5BAUEAAEALFcCjwEBAAEAAAgEAAMEBAAh+QQFAwABACxXAo8BAQABAAAIBAADBAQAIfkEBQMAAQAsVwKPAQEAAQAACAQAAwQEACH5BAUEAAEALFcCjwEBAAEAAAgEAAMEBAAh+QQFAwABACxXAo8BAQABAAAIBAADBAQAIfkEBQMAAQAsVwKPAQEAAQAACAQAAwQEACH5BAUEAAEALFcCjwEBAAEAAAgEAAMEBAAh+QQFAwABACxXAo8BAQABAAAIBAADBAQAIfkEBQMAAQAsVwKPAQEAAQAACAQAAwQEACH5BAUEAAEALFcCjwEBAAEAAAgEAAMEBAAh+QQFAwABACxXAo8BAQABAAAIBAADBAQAIfkEBQMAAQAsVwKPAQEAAQAACAQAAwQEACH5BAUEAAEALFcCjwEBAAEAAAgEAAMEBAAh+QQFAwABACxXAo8BAQABAAAIBAADBAQAIfkEBQMAAQAsVwKPAQEAAQAACAQAAwQEACH5BAUEAAEALFcCjwEBAAEAAAgEAAMEBAAh+QQFAwABACxXAo8BAQABAAAIBAADBAQAIfkEBQMAAQAsVwKPAQEAAQAACAQAAwQEACH5BAUEAAEALFcCjwEBAAEAAAgEAAMEBAAh+QQFAwABACxXAo8BAQABAAAIBAADBAQAIfkEBQMAAQAsVwKPAQEAAQAACAQAAwQEACH5BAUEAAEALFcCjwEBAAEAAAgEAAMEBAAh+QQFAwABACxXAo8BAQABAAAIBAADBAQAIfkEBQMAAQAsVwKPAQEAAQAACAQAAwQEACH5BAUEAAEALIEAxwCtAEsAAAj/AAMIHEiwoMGDCBMqXMiwocOHECNCtCexosWLGDNqxBjvGK0Anhr920iypMmTJjvScrXrWjSUMGPKnDmQnbGVLfv9G0mzp8+fDtkNkyXrFzZ/O3kCXcr0p1Civ8Qh3dm0qlWU/sT9clVUXFKlV8OKldhPK9dh7L6CHcu27cF93nqdTavWrd27AfZd2+WKlrF4AdSuxUu4qb69r2gdoxj4a+HHVfE546uYceOkkDP/lHzL1S1n+AYK1kxapj1pnT+HFl23tOuSKmXtcqavYOvXuDl6ZHmtn8HbuYNDtImz92/gwpMrfFr06MHRyqMjZB7VH0Lk0qVn3dpVIfbsycty/0fr/Tv43HDlyiJf3vF55XopL2Zo/n3pw/Itt6dqP7hkvrfMR199/T3GmWegOQRdgaWdllqCCrrHIGmx7SJNbQ8ROKFbKvHmW4YabjgWcR5GtKCIeFEnlUQhomiVitaxKKGLbW3HVVQWnUijWOLNdZGOO1qll3rs5ThjkELu1ZeAPx6JJFP4LalfRUA+uZkzqTHZpJNW9nSgahu12KVJ9izz4GoaiTnmRh1aiGGaaq6pW3EfhhmnnBUJRadJd+IZEYwn9elnQ/6gM1RXMZZU5aAY2dgdSosyWlGP67ETU6SSQjSkj5dymSlB8byJUHyJaRmooGvGcwtgB0VZ2UyYfroqEDurGvSlqZCiKiet+n0JIayeymoQrwKVeWZPsQpb0y32tHnNPj4lq6xAjMAyTGc5/STttAEw4gpL2ECrbbDcGuSPPXg4Y8wutPRyjDTksHqqrrLmo4Ml/ATQjz3rYOPMMPNiVm5h9A5MU8EGy7RtwkAtzPC45D7cFMIS80lxxSA+5zDGcK61MccdE3QxyBAJfBl/JC+F2ccp28lyyx2bDDNTGwQz8swZwtGFYDLjPNM5Dxw3mM8ZBQQAIfkEBQMAAQAsVwKPAQEAAQAACAQAAwQEACH5BAUDAAEALFcCjwEBAAEAAAgEAAMEBAAh+QQFBAABACxXAo8BAQABAAAIBAADBAQAIfkEBQMAAQAsVwKPAQEAAQAACAQAAwQEACH5BAUDAAEALFcCjwEBAAEAAAgEAAMEBAAh+QQFBAABACxXAo8BAQABAAAIBAADBAQAIfkEBQMAAQAsVwKPAQEAAQAACAQAAwQEACH5BAUDAAEALFcCjwEBAAEAAAgEAAMEBAAh+QQFBAABACxXAo8BAQABAAAIBAADBAQAIfkEBQMAAQAsVwKPAQEAAQAACAQAAwQEACH5BAUDAAEALFcCjwEBAAEAAAgEAAMEBAAh+QQFBAABACxXAo8BAQABAAAIBAADBAQAIfkEBQMAAQAsVwKPAQEAAQAACAQAAwQEACH5BAUDAAEALFcCjwEBAAEAAAgEAAMEBAAh+QQFBAABACxXAo8BAQABAAAIBAADBAQAIfkEBQMAAQAsVwKPAQEAAQAACAQAAwQEACH5BAUDAAEALFcCjwEBAAEAAAgEAAMEBAAh+QQFBAABACxXAo8BAQABAAAIBAADBAQAIfkEBQMAAQAsVwKPAQEAAQAACAQAAwQEACH5BAUDAAEALFcCjwEBAAEAAAgEAAMEBAAh+QQFBAABACxXAo8BAQABAAAIBAADBAQAIfkEBQMAAQAsVwKPAQEAAQAACAQAAwQEACH5BAUDAAEALFcCjwEBAAEAAAgEAAMEBAAh+QQFBAABACxXAo8BAQABAAAIBAADBAQAIfkEBQMAAQAsVwKPAQEAAQAACAQAAwQEACH5BAUDAAEALFcCjwEBAAEAAAgEAAMEBAAh+QQFBAABACxXAo8BAQABAAAIBAADBAQAIfkEBQMAAQAsVwKPAQEAAQAACAQAAwQEACH5BAUDAAEALFcCjwEBAAEAAAgEAAMEBAAh+QQFBAABACxXAo8BAQABAAAIBAADBAQAIfkEBQMAAQAsVwKPAQEAAQAACAQAAwQEACH5BAUDAAEALFcCjwEBAAEAAAgEAAMEBAAh+QQFBAABACxXAo8BAQABAAAIBAADBAQAIfkEBQMAAQAsVwKPAQEAAQAACAQAAwQEACH5BAUDAAEALFcCjwEBAAEAAAgEAAMEBAAh+QQFBAABACxXAo8BAQABAAAIBAADBAQAIfkEBQMAAQAsVwKPAQEAAQAACAQAAwQEACH5BAUDAAEALFcCjwEBAAEAAAgEAAMEBAAh+QQFBAABACxXAo8BAQABAAAIBAADBAQAIfkEBQMAAQAsVwKPAQEAAQAACAQAAwQEACH5BAUDAAEALFcCjwEBAAEAAAgEAAMEBAAh+QQFBAABACxXAo8BAQABAAAIBAADBAQAIfkEBQMAAQAsVwKPAQEAAQAACAQAAwQEACH5BAUDAAEALFcCjwEBAAEAAAgEAAMEBAAh+QQFBAABACxXAo8BAQABAAAIBAADBAQAIfkEBQMAAQAsVwKPAQEAAQAACAQAAwQEACH5BAUDAAEALFcCjwEBAAEAAAgEAAMEBAAh+QQFBAABACxXAo8BAQABAAAIBAADBAQAIfkEBQMAAQAsVwKPAQEAAQAACAQAAwQEACH5BAUDAAEALFcCjwEBAAEAAAgEAAMEBAAh+QQFBAABACx8AMcArwA6AAAI/wADCBxIsKDBgwgTKlzIsKHDhxAjShSoT9zEixgzatzI0WE/dM56yXJFq6PJkyhTbrR3bdgtV652HRO3L5nKmzhzosQn7tiukbeGXcPn798/nUiTKl3Yj52zX7BI/nLGrqjRo0uzatXJ8hetV7Jkiut39erWs2g58jT20lXQoWXNpp1L1yO7ZT+lOosnMK7RuoADF4z3lJarsMuqDvSLVbDjtCxdwrxljGZBxo8za63ocyStX9fsHcSsuXTOpoVJ9qLqDyFp07BPRn4ZduY+ha9j68bI0+dkofgY5t5N3G5Iz1PZORxevDnCrl9rj33I3Ln1APi8SXY7zFtwiNWvE///2FmqNNESw4uPTdjr4V2JW09Uv17zbJhib1+kX99x77xvEZURf/3VhRpUqrG2EYEFQtYSbWL10xGDDWq1VlsBnkRhhUk1hRdye6W0IYc52SONe7WhIx9KI5KY0n1uVaYPTi262BFneX0Wmk412pjRgYbJsppiPPrlo1Iw5qdUj0dC9B9QwK2IFJMV+oPNd8aJpJdyWlHJ4T7GGKOfQtCBFeFWXrpozy7XSEnQhb8NhVaaNqJzCzoFkZfjL+fNRaeP0vSCXntBwkdkWn8eOcww0rj0SoyW1ZXokcrAFOOVgk3apD/74NELLULFIyFdmjZpkD/xXOOVMdjY4+aURppoutQ+7DS6VKmyPoZrrpnGyquNu/5KarDCIuprsRUSi+xZyi6rYWOuHetsbHIZ1Oy0LP51mbTY6lZtANd2K6K24YqbEj+MaWuudYiUu65KiBxR1rv1/TOPA/OkS69z//SwyVHc7utYQAAAIfkEBQMAAQAsVwKPAQEAAQAACAQAAwQEACH5BAUDAAEALFcCjwEBAAEAAAgEAAMEBAAh+QQFBAABACxXAo8BAQABAAAIBAADBAQAIfkEBQMAAQAsVwKPAQEAAQAACAQAAwQEACH5BAUDAAEALFcCjwEBAAEAAAgEAAMEBAAh+QQFBAABACxXAo8BAQABAAAIBAADBAQAIfkEBQMAAQAsVwKPAQEAAQAACAQAAwQEACH5BAUDAAEALFcCjwEBAAEAAAgEAAMEBAAh+QQFBAABACxXAo8BAQABAAAIBAADBAQAIfkEBQMAAQAsVwKPAQEAAQAACAQAAwQEACH5BAUDAAEALFcCjwEBAAEAAAgEAAMEBAAh+QQFBAABACxXAo8BAQABAAAIBAADBAQAIfkEBQMAAQAsVwKPAQEAAQAACAQAAwQEACH5BAUDAAEALFcCjwEBAAEAAAgEAAMEBAAh+QQFBAABACxXAo8BAQABAAAIBAADBAQAIfkEBQMAAQAsVwKPAQEAAQAACAQAAwQEACH5BAUDAAEALFcCjwEBAAEAAAgEAAMEBAAh+QQFBAABACxXAo8BAQABAAAIBAADBAQAIfkEBQMAAQAsVwKPAQEAAQAACAQAAwQEACH5BAUDAAEALFcCjwEBAAEAAAgEAAMEBAAh+QQFBAABACxXAo8BAQABAAAIBAADBAQAIfkEBQMAAQAsVwKPAQEAAQAACAQAAwQEACH5BAUDAAEALFcCjwEBAAEAAAgEAAMEBAAh+QQFBAABACxXAo8BAQABAAAIBAADBAQAIfkEBQMAAQAsVwKPAQEAAQAACAQAAwQEACH5BAUDAAEALFcCjwEBAAEAAAgEAAMEBAAh+QQFBAABACxXAo8BAQABAAAIBAADBAQAIfkEBQMAAQAsVwKPAQEAAQAACAQAAwQEACH5BAUDAAEALFcCjwEBAAEAAAgEAAMEBAAh+QQFBAABACxXAo8BAQABAAAIBAADBAQAIfkEBQMAAQAsVwKPAQEAAQAACAQAAwQEACH5BAUDAAEALFcCjwEBAAEAAAgEAAMEBAAh+QQFBAABACxXAo8BAQABAAAIBAADBAQAIfkEBQMAAQAsVwKPAQEAAQAACAQAAwQEACH5BAUDAAEALFcCjwEBAAEAAAgEAAMEBAAh+QQFBAABACxXAo8BAQABAAAIBAADBAQAIfkEBQMAAQAsVwKPAQEAAQAACAQAAwQEACH5BAUDAAEALFcCjwEBAAEAAAgEAAMEBAAh+QQFBAABACxXAo8BAQABAAAIBAADBAQAIfkEBQMAAQAsVwKPAQEAAQAACAQAAwQEACH5BAUDAAEALFcCjwEBAAEAAAgEAAMEBAAh+QQFBAABACxXAo8BAQABAAAIBAADBAQAIfkEBQMAAQAsVwKPAQEAAQAACAQAAwQEACH5BAUDAAEALFcCjwEBAAEAAAgEAAMEBAAh+QQFBAABACxXAo8BAQABAAAIBAADBAQAIfkEBQMAAQAsVwKPAQEAAQAACAQAAwQEACH5BAUDAAEALFcCjwEBAAEAAAgEAAMEBAAh+QQFBAABACxXAo8BAQABAAAIBAADBAQAIfkEBQMAAQAsVwKPAQEAAQAACAQAAwQEACH5BAUDAAEALFcCjwEBAAEAAAgEAAMEBAAh+QQFBAABACxXAo8BAQABAAAIBAADBAQAIfkEBQMAAQAsegDHALQAKQAACP8AAwgcSLCgwYMIEypcyLChw4cQI0oUiI8dNmcTM2rcyLGjR4b94omTduxXL1qyXLkKcKvXIk38PsqcSbOmw33xLhr7tQulSlotAyzzxg7fv6PPbCpdyjRiP3vori0b1utWSleyaO36dUyauHj9jor95+9f07Nom+LUydOnK6C9hg0tKnCs3aNp8+rV+DTqMpNWVcq6tWtY16/9DJa9K3av48cI1zrb2fMqXLlE8TFk3Biy57x9pQK+OrjwYbCKE3LG+7m1TcmUaal829KYs8wbV5t1zVvjPqiiq5ImbNhrPH+pJeruzdxhRbY9Z8O1jbvm8ubYCf72O1ow8a7o7CH/Lzj+o+7d2Xk/n9xWeu3bdPVeTz9Qc9rtJLtj/S4tfPmB/zE1H30E6fNXTesZU5VsP71XnWsDEmgQOrdIk9hE+JUknHem9Sdecp9FKKFB+OxkT0MJLijdLr1QF5+EIo54kD/e3OLNfxnqV5pc15DzoYwDxQgkQi9sJc1kKv7Eoov6BDhkXas9CRE+KsHyHjYvSomQkFoy9IIzvfSCjT5dbsllmQyNx088ztxiDDpOyngemq+RM8wt2AB5Jp0zVUTfnnwG2hCgghaqWpSGJvoQoYoqymijhs4J6aQHPUopn5JeOmRnDlmqaXNjbYbop2iGWumopGLKWpCopipoZ566HapnrLIOWc0Gd9X66VETnGOXrq62Ciylpg5baEAAACH5BAUDAAEALFcCjwEBAAEAAAgEAAMEBAAh+QQFBAABACxXAo8BAQABAAAIBAADBAQAIfkEBQMAAQAsVwKPAQEAAQAACAQAAwQEACH5BAUDAAEALFcCjwEBAAEAAAgEAAMEBAAh+QQFBAABACxXAo8BAQABAAAIBAADBAQAIfkEBQMAAQAsVwKPAQEAAQAACAQAAwQEACH5BAUDAAEALFcCjwEBAAEAAAgEAAMEBAAh+QQFBAABACxXAo8BAQABAAAIBAADBAQAIfkEBQMAAQAsVwKPAQEAAQAACAQAAwQEACH5BAUDAAEALFcCjwEBAAEAAAgEAAMEBAAh+QQFBAABACxXAo8BAQABAAAIBAADBAQAIfkEBQMAAQAsVwKPAQEAAQAACAQAAwQEACH5BAUDAAEALFcCjwEBAAEAAAgEAAMEBAAh+QQFBAABACxXAo8BAQABAAAIBAADBAQAIfkEBQMAAQAsVwKPAQEAAQAACAQAAwQEACH5BAUDAAEALFcCjwEBAAEAAAgEAAMEBAAh+QQFBAABACxXAo8BAQABAAAIBAADBAQAIfkEBQMAAQAsVwKPAQEAAQAACAQAAwQEACH5BAUDAAEALFcCjwEBAAEAAAgEAAMEBAAh+QQFBAABACxXAo8BAQABAAAIBAADBAQAIfkEBQMAAQAsVwKPAQEAAQAACAQAAwQEACH5BAUDAAEALFcCjwEBAAEAAAgEAAMEBAAh+QQFBAABACxXAo8BAQABAAAIBAADBAQAIfkEBQMAAQAsVwKPAQEAAQAACAQAAwQEACH5BAUDAAEALFcCjwEBAAEAAAgEAAMEBAAh+QQFBAABACxXAo8BAQABAAAIBAADBAQAIfkEBQMAAQAsVwKPAQEAAQAACAQAAwQEACH5BAUDAAEALFcCjwEBAAEAAAgEAAMEBAAh+QQFBAABACxXAo8BAQABAAAIBAADBAQAIfkEBQMAAQAsVwKPAQEAAQAACAQAAwQEACH5BAUDAAEALFcCjwEBAAEAAAgEAAMEBAAh+QQFBAABACxXAo8BAQABAAAIBAADBAQAIfkEBQMAAQAsVwKPAQEAAQAACAQAAwQEACH5BAUDAAEALFcCjwEBAAEAAAgEAAMEBAAh+QQFBAABACxXAo8BAQABAAAIBAADBAQAIfkEBQMAAQAsVwKPAQEAAQAACAQAAwQEACH5BAUDAAEALFcCjwEBAAEAAAgEAAMEBAAh+QQFBAABACxXAo8BAQABAAAIBAADBAQAIfkEBQMAAQAsVwKPAQEAAQAACAQAAwQEACH5BAUDAAEALFcCjwEBAAEAAAgEAAMEBAAh+QQFBAABACxXAo8BAQABAAAIBAADBAQAIfkEBQMAAQAsVwKPAQEAAQAACAQAAwQEACH5BAUDAAEALFcCjwEBAAEAAAgEAAMEBAAh+QQFBAABACxXAo8BAQABAAAIBAADBAQAIfkEBQMAAQAsVwKPAQEAAQAACAQAAwQEACH5BAUDAAEALFcCjwEBAAEAAAgEAAMEBAAh+QQFBAABACxXAo8BAQABAAAIBAADBAQAIfkEBQMAAQAsVwKPAQEAAQAACAQAAwQEACH5BAUDAAEALFcCjwEBAAEAAAgEAAMEBAAh+QQFBAABACxXAo8BAQABAAAIBAADBAQAIfkEBQMAAQAsVwKPAQEAAQAACAQAAwQEACH5BAUDAAEALHUADgBvAXQBAAj/AAMIHEiwoMGDCBMqXMiwocOHECNKHMgPGq6E4U79+dOq38SPIEOKHEmypMmTKFOqBMnvzI6BTQy2slGww6mVOHPq3Mmzp8+fIPcVhGKwTYAddwIA+hFAwEWgUKNKnUq1qk5+l6wpDRCzYCtgBP9VCSDEqtmzaNOqnQqIa8OLFtbKnUu3rt2EbbsuBNvhrt+/gAP3zNuQTAArghMrXsy4IeGFrQQYmNa4suXLcw8VXLDQRAAPEALI0HGQH+bTqFNP5KcsgJoAPQJcEDgiQJAoAeAM3BNASb98/gTOI7iq7xVTqh4NPLLCwYEUQQQ+qhXAtOrr2Cur0oOlRYASRwIo/w/G8PHBcCgCpPnHsE8AJjVoB8Cie3j2+/jRKg9ywQHpQQHYB5F5BaWTnmEgDVJGfDCE8Ug1+UUoIU7K6BGAdycItAlJBA5EjwsBiGFSLXUcccFsdVA34YosPpTPJmGIsEEXg/CSUocBfHjYStU8EgYMAcRHyTYtFllkhT0cEEAdraUkYgB9NSAQDQMZBoBBLnik0hERbBCFckaGeV0+pgQwwoyY6FTEQXEJdAZCDQiV0yDRHUGJgGLmuRgTDrTwmnV6BiooYMGUcSYWluA5aICE1PmIootGChQhNWzwp6QIzYPIEAEc8SimoOakTBkV9EAJoKGmqmpPg8AgAhxErv/akKZDPBAGhLLmutCoE5iaj64SVRCAKsAWG0A+lPSwQRmxGgtRPoicAAMizq4aRq+nVhtSDxeoAam2lkEDSQCgYBTKVgTVosMGcJzDHrgh8RLFA8wqFE65bcFLlxJSTnkQGxkMZMBAwTCxgXv6lnSOGhMMoSJBaQQskAIJz5WBlEoEQKVBa9LARQADt1aBbhWj1IcJ0wJalscBUFzyXKlofJ5H9IAcRQV1vKwSP4/UUAIlAoXjUTot6yxXKzIn5IsABMDxrdElqbKCDuQJRLTLUKMVM00HLdyUAahmjRI/iFyAWwBXi40W0hsTNA8cE3Sx9MBq5/SaGuUUXbdVMbf/LVAdDzABYc10780jEx/obfhUbA9UdhRN5gjy4jlNEgABVVMO1dYBbBNEC5kLRLjmK7XTctznkP4T22WXcdDoqqN09TxlXADHr7HrFDMGQCIEe+4lpR2AMkz8DPxK/2hBAAYK/X68SMILZMoJ4YX9PEjV6BBDAFz7Pvn10CsuED9qbFAm+Cz5QMBB4Az0B0KZoP8QbwedK5AqG4SBu/wPBQODDCr4wQ4ESECiCcR+BonFu/inkHId5CnCYQIMIsdAhdRhAn2wXgWjQi0LbfAgvKCeuz5oFmW0IDwkFMg/6nABoKXwLPkowwaI9cF8YGEFuHohWvCnvwpuAwZM0OFc/44wQf7Vgl1CpEsH0deHCpwviXNRxgqCeLx8dCEFOYTiXGwIg9TF7hw6GMLTtKgWOIiAgosLhqU0SEa5EKICDzPcIyZgiTYGhlhgqhs/ymACNNrxLmrMmdrO0YPo/DEx21hBGMS2jRGogY2HtMs8dEBFnTVSD5CMpF3yEYUaeLFi1RiBBzW5mH+ooQR+rFY1RDBKUjJmEBeIY7WUcTBXXqZMG9IWLQFky8vw4gJ5LBYtCdHL0yjDiZnEFC2pVczT2IiGuVpmM1OjigqELlXSnGZqNnGBVEYqGBUIpjZPg4gNNAtTwbhAHcd5nT6M4JPfDEAu2XkdNcBgjGHaxgbWSf/P6/wjDDrYX6DyUQOS9RM7/8DCEAQqpn9EgQnJPGhl+HGEKEQ0QnBoAUMlqpp86GCRedqEOTman3nA4DVhIo+NSJqfc5iAly06xwjEydLstOaaEfIoSmsaoUeMAJ+q+UcXjnBRnmImDESdUB1aAFSjooagrbxPmbLo1PxsA475UcYEoFlVCZliA/BUzTxGAFPSBUd1ZQhCURXTA9fFbhwBOKvm+KEDg6amDzVY68tqFgB4fNF8qoGQN/fmDoEUNnaquMA5L6ODqFKuZuYwh+Rip4Ye6NUueshr7twhj8jK47Cq+0cQdlqZalRgsHWrmT4iq48cyVVz5wDsRGuAsNj/cfYfkQ3AZ4FXiwuENTF10GzsanYPf+S2tfBYIOnKcLbFaJWqmrttAHKrW9CqLh8zXAw/aPu81k5XsgHwLvBMUYKNVmUfYAkAMF47kOQFAApsQMb1qAu+I8ABHH94UwAgIV6ggIMGhWPDQe7xkoEIICnHo+/1tsEAg4RAvlCRbweKQCUBG+RjAWgGP1JhAQCIIsHgRV8DEAAIZIQjFVTqwD2ikg72pCEAFiaINpiWN4HED0TAU/D1gJGCNImuL46gyotjPJA4AGAsFOkwNHIcYvQdUUCIMcpUhmyQBATgfQRZU5Bzp2PwRcGtvbmykGFckE0ggFwF+ZiUY9fl653j/wLkgYYBDGAN5QKFyhRJQQgCEIuCvFi/bG6y/PCqDxCtZ8xEptSeISgQoyAo0Bvcrg8AsIP+RgXPx9pALUB0CuWKiMika/P1/vEEAKCAr4geSInIEoAtw0TMXBY0+P7xJCPY+dJkDtBpA/AmUIOoz7Gu4ItRYA1NWwXPasCCQJCWnoEsuQFagjT/XhyCcPyDTscm8zkesA32/ANECNYHU0AdalkfT8DVFgh2VwqVPRsEAXIFhgIAQJM902DFTJZftC8cFSQPpSDMyFgANJAGfOcbfZCMg3mBYt9bM1DU8vsHHCo5FV5soKnzNTcD59HNqvSgrCSEOP/goOypkPeywf/W4XCg25N/wMCFOhQ5/9TQBamoIgVQlLn8tv1bnhwB5CnUufzKAGafnMMBGEef0NHHc6CoAaRJXDr6ukDanfBjAzgNusY/uI0IJJ0klCCNFqWOvijYVSc9oOkLyQ6+Yy4cJcq4wNs/yHbwBUHtKQlD1YVY9+s9wpA5yUcEWL72rZPwVz0/ySBQSMa+Xy8Kjj2Jy584dsOTUBXewUktRoBy8Dn+eVdXRucbAvk/fv55Zdi7wh4wj9E/7/THo6XrLYiF2YP4kDDgakn+cQJZVv6QemiuSeIeSdgf7+hfd0gdan5I4x9vCHgHiQ5MYfvbH/LvJ5nHAZJfQecDLx/cNgn/IhhvesvrEAuCJAkTgN5487/w5iXhR/iL7/4U/mMDqH2IKnpHf1JiobYhUQZwUH2vV38p9Ajk9xH/MAJZ136ktG22R3yk5H3PYwIN+BDL50oUeDxdEHkQMX0aaIApRAmcAhLaN3c5J4IkdHSuN362tIHHkwLsJhHr94IqSEJhkH4R8Q/zN4E3+EGbAHgRUQ0b0EswCDwnOBGUkID9Z0sw4HsNoQaqV369JIATEQTz5IO9ZAqxsYMVsFhN6EpJCBHbMAHFdITHUwO6xxBBeIY/SEJSGBFwUHRa2EuPQHENYSduWEzBgHMPcX+ER4W9pH1rdXTNhIbHswGBaBCmIHZG//iGJNQDlLcQc3iIkPhBHfgQTMBMj9hMegB1DIFKlthMXOgQhDiKxUSEDlEL/NeJxWQaGIcIwmeD05QCF0gQdUCHIThNesgQZaCDtNhMajCADBEFnOiKxTQIs4gQkjhNiHg8rNgQtuiMl/hB2scQ/1ABiReGvfQPEbCN43MAKGhHz3g8MDCDB7ENs0GN2qQDa1gQwZB5qNhMR5CFB2EKQoiMxfQlC0EIy7iL09QFAHgQcPBI7DhNv7gQCXmQzVSQC8EE0ceNvZSLC9ED71iHzTQIWOBwA3EC+SeIzXSHCIEMGPYDrqaPpAQKZ1AWZNEGBiQQjrA+ATMwTUCA8lOOpP/zDy5jAf3SAE8hZwLQFsJCJfQTjK70D3eAC/sQDCsADmvibi9GFNm4DcggABbgEfiwDOKgSTiZO8pQG/cwMNDwDy+hCAHwD4r1D32RCs5wC9IgJ81XjR90DsLyDwFDGVRiPyMFIlzgDPvAXuQolxt0jczmEWuCYPi3DAYgAGTQD4AZmNOUCe8TExmQXu+zZ/wwCrBABwLhA73wC8PwC6A5mqFZmqR5mqaZmqi5mqrZmqz5mq4Zm7A5m7JZm7R5m7Y5CoLJQG3TAUgjEPeQHjTgCHTgAwNRBMNgDMq5nMzZnM75nNAZndI5ndRZndZ5ndiZndh5DAHgBxx5SE/xYgH/sGbgQBMCcJ4/4AMCcAaPmTv/8J7wGZ/yGZ8DYTqmw07TICXpJRAQtgr78AMCQAfOgA+aM58GaqAGYWd2kAQHhRhxYBApoAz60AACoA3S4JYE+jIHuqHvGRJJIAcHZRjiSRARahQChw/SQA7OwqEcmqAisWLZ0E/9ACJmGQB7sF4B8AFfIAAN0D65wqIH+hN8QATNdAlnkF79gAtlkQH4hgLnORCVKSlAGqQF8Z048aHNhGU1sZ+n8CQBEAfgmB9TOp91sWLP0Ez0kAleCgWAYHAF0QK80J6oMaZkWqV3IQhE2lU1AIWMQaf0iRpOsAZdFQDumBh++qdh0VEBkAyD/wqRdHGoHSomjcADgxoAC2mnLQept2alE+IEaMCpB/WJygWfKaGpxcIPOFAMlbqEYUGqE6Gpm+osmkCp/aQMYFgQtRAfZ+mqC2GqdUMFaHBQxmil+iSfrQqpuWMauXBQe7oQ/CCOvio/swqqmpSNYXp/3YagULQFaGCTJHSNDLGniKpF7MEKB9WH2HgElqCtSYQKHLUJJbgQYTBKxppEW7AFEkWRDKGvrZpE/8AD7npQ89oQInlIrIADHBUE1McQuRpJaEAFHCWKDKGKf/SvmiBRpjGOx3IA3ko6uYADHUtC+uQQ/zABYUpCD0utpKQKjsgQhWpHPKAJclpM/vgQVv/YRsWAAxrrSsP4EAhoRw9LUo7qENWwjm3UCCT1hH/4hWR0pm5KT/zgACdLEEPAT0m0Bk6gsqQUDJ4BEZWoRUQgCCSlB8z3EKUIRTH6tPS0iRFxikkkBwzKUWi5iAghsUJEBHygtZpEsRERBcQkRO1wA/cpUYSAhw5Btm8btxz1fxMRjXdrByxVAreYEPkgjjpknyTFgh+htC9kB3nKUSQIEgP7QlhKUjkIEjWbQvdwAzGatHzaELT0QkPKUmP4qiaAjgxUuhzViCIhhSFbMveAA2dKUnEYL7XxQXhaUyAYEvf3kbkTqCxVudx3EGFwdujzK4xKUtg3Evu3QZNaU0f/cIwsUQHVoLeGA6y0i3QlgQUeCDyoqqokRQhMCBKmoKvSSqskZSomgXj8g76Zq74mUYMIFwDLSlJ98I8h8Qjxej2zWlM1MIkjMQ8AfD3c+rsiGwE7CxHQN2sBYK4klYEpUbjgE7AslXsqcXQZLDb3ylJFa8G2EZGG868kLFFwAIoosQmtGDsHy1K897oj8Q8lgLuaE7QkpUY6EXzAY7EspQa6iBLz0IMeC7IkhV3OKxJ6lzspG79dqBOmlcIlE7MuXEH/kAIXmRJD8Leak7NeHEmbII87YQp+OMQQS1I1AHM7McZlLDZIy1G8IAJrHBJ9ML9i47QkdQQDuRP5MAF0//syWEtScffHIkF0lBO2JEUfUVENEzC9zpINOKC243R0U7slhww1cEtSkmxzXVs3eGu+fzQPijwV/9AC9mg0gTu4/VQHCOwT5AXJubKgYcw/+QBnVfEPPYAwvxwmRAC5EoVtVkEeL2YAV1IEOKovptO67IQgHuDDPtFaPBoTIGIAvwkvC9pPHyYQHsDKKpEvwuBtb4Jj8KK72kQPGkADFiAAkzCzPvExQFBJRCMA++Ysq2vN2sQFBIAMobFkZjFkF7BSptMv4OIHn6tNqSAAbVANAxAAY2kWYBECfSB2RoFh4PKhxww89xACKHAPQSAlGW0WgKAAEsMURYBq1RK8w/+rTWIgALGwCSUQMCttFemQBk+qMcAGLsk7TrggAGKQDyVgCjyNzikBDiGA1EizBB0gAFpaLdCrTfqAAhpAD3AQHk1tFmMhnsckDAagAOGgLdg7TmkAAKFQhhAS1lYRMBA2H2XwEg7kLN87Tj9wJQQhAEVzE1ShkwFQ16lTltriv9qUBgU2EOtDAz/AaFJBJQgmEFlAMft5qqkKtSuQLQEg11VhlgZwB1rRCiDiArycJw1MT32wxZ+N0U6NEv/ABoBNECByq7ICrLGtQ28WOqBtFdqwB2MwnqmQD2qgVsairPSEBXR4Lp6cFvkAA6OsKtPKTr2lySX0ysBSweM0DyL/MMuBoQc5rCrlOk7/wAQ2bKhBYL2hggoIO059sAKpfRbqKMSYssLapFVVfBeY8FOrIsPalA8rIL6VEQXpLSk7rE1dYLiVMQ+yFSpE3EyU4N+pcUShXCRK3ExXNbmMUQaCHCgfO9Kks13taxkCjgi7nR0RXoULfB3gtN8s0ggpzkBfdeGM8QgiYOMRoqrzzUCxlceoYU89jhorTkr80ANT6E9MwODILLa9BAc6IOJoQVBJziKEbEuPYE4zLhjnUALTzSKNbEvVxOHYUbRAHiFE4Ae2RB5nfh+1MAGiFyZp60pEaMdGguM6jhql/IAmUOIrIuRGgrekROWD4lAQ1SK1/0xKQVByg6JTLTLOkZRQQyDlgdHlX44dSaDMh7Qg2J1VF9DmmFHNkaQHJ9B6oVJNEIwds3t9irgqv2S12QHPZDTmufJLMGwZAf1H5KHNkdIaaHwaaNC6EP1H1AHeqrJKfp4YaODBIt1GG5LqstJIxIgZfiDjNC0Q2TDkhlM2vJ4q55ACTbwYmgCieGoaZwq/L6QHZ6QvJnXgilEM+Bqo/PAMSYAKW642/1AGJ4DbxjIPNdAFlI4T7ZAE+XADyZAN9X7vYsMPWOBJOtMDTB4Y7CEIPIDwM0xCQ9DiFZMPR7BQlbEFTgDyFz+YNWBRYsME+ZgYa4CwI+9DKeDuJcMPUf8AA/x+F8GKCvh8PbSU7BXTBxcA7XdxpgHvLLau8KuCP9NeqTfsRKqzDTVwBJ2u9AZBPhtg33uzRyJg9VL/EE7fA3muM48QAb++9RGxIVWuOcpwAl2g7UZVPt1OOfMgQYtM9gJRDTXAKUP/33rw83S/EJZwAZh0eZbS9weRD2FggUYPNU4P9YQ/EMqQAlEwD4mfNYa/AcZeqYQwAWMvRLWQAkNwTiNaEC4g03ZUowVR2QMRBSdA5h8EBxGQQQKBGAeRAf/cRg9aOAIR+qpQAox+SMqgAzXQgIgR+n/0oEVZENtgMJdPRv9QNmGgKPcwbwgdSQ/6B4BpIc/fTPOgbJT/9z6NTf02WhA31wMwPuslwAQjRCWmD/4CRwaQwAQjsPy2ZNwV0AfM0DLPTUYPWhAYUGcAEUDgQIIFDR5EmFDhQoYNHT6EGFEiwxogAHCZmFHjRo4dPUKEFCfApAAzOgRwoe/jSpYtXb5kmK+BwG0wbd7EmbPaEROmAqTLEMBRTqJFjdrMFCBElwdlzh2FGlVqPjUB4OQbeCYARqldvX4lWCTAnQDbwjR9ClbtWomIRDCpSfBPACVs7d5tGU6AgXQDzaLFG/iung09VB0kE0CMYMaNHYqsW/BcmQlh0jrGjHOengsKw1kIcCnz6Mz/UAQ4hXBy5bikXXM8p6ZCQXAh/0QiC7AHNA1+r33fjRUgQz+Fkx90af1bucJqYSaULRjuoJC+y613xY2roXHk170HCBZlIbihYhYD+56+8bkwEbDU6q1+9D9TOkT0kZ/f+7k6J0rASU6/ux5ZoYVHBETwOl6YCuLABL/6p5YuJtDBpwcvXI6SISIIoBYMj1JjhA9H/E5EEmHaRg8YAgjDwxNf9O0fXgTqAUaO5kGkhwiiOMxGH38jpIbOLPyRoRwdiMIUrIpk0jc4aHwyPq+q0wYsS5gI4AgHm+RSuU3COGECJgapJipkfiCoA9yO2qQMGA7oYZAu5/yOkgA2gAoXBQLYIYA2rLCglZzO2TIANXqkM/9R7/6ppg8mHMiJHg0EUISgfu5B0c4TZutwSUU/lU8VNVaEQbxNApCSI5GswEkZRy/Asw9lQKX1Ql7kHEKEAFrA0pJZMzpNO5YsDMKEAEbAApEya2X2xGAQqUrEFAyF6B4BAEgnDhoCsIEsiDAJoIsajxWojlObRbfJYAY6QSAHTCwIEYEmAcCCbQUyAKUAfLIzAD3gqGqgzqYNoA+fPE03YVpVeUROgaIYogYSACDoAAkQCCCBIAx6UiBVAlQ4ZJEFAoZiMoj75x9cBFBApZFfhjkhcAQKhaB/9mQmZp13DuDmAIJLMwD0eCZ6ZLEAIchabItmWuGkXCBOIJHubbojamb/EYLb8gQQAGirvwaVniYI0kAUsM+mVRtIAmjFZbTXCggAIfkEBQQAAQAsVwKPAQEAAQAACAQAAwQEACH5BAUDAAEALFcCjwEBAAEAAAgEAAMEBAAh+QQFAwABACxXAo8BAQABAAAIBAADBAQAIfkEBQQAAQAsVwKPAQEAAQAACAQAAwQEACH5BAUDAAEALFcCjwEBAAEAAAgEAAMEBAAh+QQFAwABACxXAo8BAQABAAAIBAADBAQAIfkEBQQAAQAsVwKPAQEAAQAACAQAAwQEACH5BAUDAAEALFcCjwEBAAEAAAgEAAMEBAAh+QQFAwABACxXAo8BAQABAAAIBAADBAQAIfkEBQQAAQAsVwKPAQEAAQAACAQAAwQEACH5BAUDAAEALFcCjwEBAAEAAAgEAAMEBAAh+QQFAwABACxXAo8BAQABAAAIBAADBAQAIfkEBQQAAQAsVwKPAQEAAQAACAQAAwQEACH5BAUDAAEALFcCjwEBAAEAAAgEAAMEBAAh+QQFAwABACxXAo8BAQABAAAIBAADBAQAIfkEBQQAAQAsVwKPAQEAAQAACAQAAwQEACH5BAUDAAEALFcCjwEBAAEAAAgEAAMEBAAh+QQFAwABACxXAo8BAQABAAAIBAADBAQAIfkEBQQAAQAsVwKPAQEAAQAACAQAAwQEACH5BAUDAAEALFcCjwEBAAEAAAgEAAMEBAAh+QQFAwABACxXAo8BAQABAAAIBAADBAQAIfkEBQQAAQAsVwKPAQEAAQAACAQAAwQEACH5BAUDAAEALFcCjwEBAAEAAAgEAAMEBAAh+QQFAwABACxXAo8BAQABAAAIBAADBAQAIfkEBQQAAQAsVwKPAQEAAQAACAQAAwQEACH5BAUDAAEALFcCjwEBAAEAAAgEAAMEBAAh+QQFAwABACxXAo8BAQABAAAIBAADBAQAIfkEBQQAAQAsVwKPAQEAAQAACAQAAwQEACH5BAUDAAEALFcCjwEBAAEAAAgEAAMEBAAh+QQFAwABACxXAo8BAQABAAAIBAADBAQAIfkEBQQAAQAsVwKPAQEAAQAACAQAAwQEACH5BAUDAAEALFcCjwEBAAEAAAgEAAMEBAAh+QQFAwABACxXAo8BAQABAAAIBAADBAQAIfkEBQQAAQAsVwKPAQEAAQAACAQAAwQEACH5BAUDAAEALFcCjwEBAAEAAAgEAAMEBAAh+QQFAwABACxXAo8BAQABAAAIBAADBAQAIfkEBQQAAQAsVwKPAQEAAQAACAQAAwQEACH5BAUDAAEALFcCjwEBAAEAAAgEAAMEBAAh+QQFAwABACxXAo8BAQABAAAIBAADBAQAIfkEBQQAAQAsVwKPAQEAAQAACAQAAwQEACH5BAUDAAEALFcCjwEBAAEAAAgEAAMEBAAh+QQFAwABACxXAo8BAQABAAAIBAADBAQAIfkEBQQAAQAsVwKPAQEAAQAACAQAAwQEACH5BAUDAAEALFcCjwEBAAEAAAgEAAMEBAAh+QQFAwABACxXAo8BAQABAAAIBAADBAQAIfkEBQQAAQAsVwKPAQEAAQAACAQAAwQEACH5BAUDAAEALFcCjwEBAAEAAAgEAAMEBAAh+QQFAwABACxXAo8BAQABAAAIBAADBAQAIfkEBQQAAQAsVwKPAQEAAQAACAQAAwQEACH5BAUDAAEALFcCjwEBAAEAAAgEAAMEBAAh+QQFAwABACx1AA4AbwF0AQAI/wADCBxIsKDBgwgTKlzIsKHDhxAjShzYDxmwhOBE7QEUy9/EjyBDihxJsqTJkyhTqgR5j4yNgWMMhqJRMESslThz6tzJs6fPnyDDFYxZkEyAH3sC/HlpABnQp1CjSp1Kdec9UOACxAlAlOAppwP9CQlQparZs2jTqpW6tavCUAFQrJ1Lt67duwnbNjwVwAXev4ADC+6pl2HZNIMTK17MuOFWMQwvAWiQrrHly5jpEipIYeGJACQaBGDR4+C/zKhTq56YL1iAMgF0BKggsESAIVgC1BnIJoCYfPz4CTxHcJKFAFpUmaI0cEiKAw5WDBFIiVeA06uza7dsqk6UFQFOMP8JwFwZw61GEWrLEOBOP4Z6AhyBIdBEgC67823fzz8togA9VBBBaf/pF1FhBoETglYh9REGfTWUQck2/VVoIU7B7JZCABsGYApJCBIUjlxtmKQKHENMsEEAelh34YswPjSPJV1sMEIYiLiGUogCjRhAbyopg0gX4Mm2CXExJhljhjo4wGI1KkEhEHvHHTWQlAIYtAN2KQXhwAhYbKLkmNrNI+YGIoTxYU47HLSgQFYg1AGXK/VRWhSbGEjmnowNcUANcFzH56CEDsZLjSJ0kWehBZ1jZwBMYKIno5RC1ccKIwRKZ6UEnTNIaZFOyumoKR36ABOmbErqqqzupMcKJdT/gWSrDHnaQwRlUEjrrgsd6gCqqvLK0AQB1CLssQHM00cLJcAxK7Iy6rFBDcxBy2oXv6ZqbUg1jKCHqNtixowjAfCFEDiZBKBIQabAcEId8wgXbki1HFGBGs8meEkA5M5b1w8KDFTEQWRUGQB7AtXSgwn/+VtSNWE8EIWOBIlhcAcO02XAcQMPbBBNNpTFnmsbDJJxStLWsAmXNO0gJcYn0wVJAB4XBI5w0ARgwREb9BGzSvkgssIKa94cADMBwPyzWjPXfNAqAAxQB7hLm7SJCUOYJxDSSld9VtMIbRNGAABYEKzXJeUzSAVdbJ002miB3agaDoQhDAAIw43T2Ho4/9W13lLJPRAcE3RBYc55Ax5kEB68rfhUgvcxARa6BoD44znlEQAEWmP+FNjV6FBD5wJd7rlKSEPwQBnznP5T05IHapDprp/E9TlhVKCHvLXnNDMDsiFEe+8kcS1QMDqcsCbxKeWzBAAqKDQ88yEZPxAlIuR2NvUSBQMDCzRLfzD3I1k/UD5hiGAs+SDlo0KWBt0z0FYH3cS+QyUehMtAm9zL+/0OqcUJKPCDHRTwgDvQx0D6ZRBkeASAC1nXQcAynCDUAEoQZEgZNmCJ7WXwJ/F5xAcRogoRRCFeIzQLL0yQmxQKhB9q2MDyXFiVeXRhBC764DyOUIN80bAqmPBfBv+rcYK2/XAuFsQg+0xRAZMdkS4hZB8cNrC+J9KFFyUwIvHmwYQaVM6KdNlhD1pXu23AIApUA+NaypCCLz6uFheAgwfVmBZpUUxxfbiAKugoGEt4SHH5wMIKlMhHwMDRiWjbRg3GU8jEVGMEakCbMjYgx0Yq5hww0GLMJomIOVqyLvMYwhg3uYGGfXIx/CCSG7fFyVNeRg8iIJ21glEBEbryMszZ47Zo6cdbYkYVFZihsIJxAUz4EjW8mEAtPEkpWorpmKjZ4x1bxYsLPBOaqNnEBWRJqlpM4JrYRA0iNkDIUXkTnOFEjR5M4ENG1aICukznatSwAjJWao/xlOdquqD/gzSSSRl61Od2+MGEI/yPT/NIgc8Eup18DCEKBx0TP4YQBmYylDH50EFFB1WGHkT0oqqZBwwiuSdEiKCdIFXNOd5FJmNxM6XZ2QYHlVSNCwgTpttxzUv5M48VxAenFrqUP7PDjyNgwaJAxUwUuoDUy6ihBkNNakhPYEr+MAelUtWOMiaw09TwogLTzGp/HlECe2bnHBtAJ+aaejIsMIGtgoHBbmrXDUGdLh8rWOhq4NADuDoMHgKhR+2qMYEcosY1q3ycOgQij95RYgRmxQwMquo5wI5jsfKrXRiG4Fe6qOEInfWXOupxWXc0tnb5qMFPLxOMCSRWcYDtx2UBq4/Q/4ZrGxeoIkZTYMvajdYflw2AaYlnig1ENjGftW24YvuP4Ar2Hg90HRZgwxhiYhVwvw1AcIV72trNA6yLyUcKqkW8fQhku4BlHiFgoNyU6GN/AUBGsPqxBLK0IWfU2y75dNCHaewhPaB4D1SQ4QICDCQpBqGHXwZigD/kd7HsUwYCDIICbUDlJiFQgl8QXBAl9KgfoFCAAODbO/2STwAMUAQ0MuIXFAgYKO3wCBcCwOGBAAMAEMisUqxEPBNzDxcjiGc6RGOuqMy4xgJ5ggDOQJB7iLgyJYbw/TBxAj0NzMFSObJBGBCAdBHkJUV2nY/JNwTZBaBNM8syjQsyiAEEgP/EAvEwlms3Zu5tYwJQAoYAFBBjNdc4HxsQDdIIMmP60VnKAIRDEO6xoDtEFypaHkgdjiCaaRQEMvk79AfzYYL3FeHRkF6zQObBVfYA49FNELWmM9gPHwhgBzr280DK0DaahDkAY0nzqgHIj7IEIAygDjWC70yhOCFZA0frMaLZN2MaALSrPol0F6i7rzYNZH8haO+26sy8GbsgHf7wTlW0vFUU7mNBErwHTZB8Om73DjLfHvU2oxIwg2CAS7EwwKsDgOwfKFDZ94PyQYAEFKcNBDIEAYbHQtCGfwOcfYJFyB4+ChQdDILi93M3+/hRhrFRxRQliCr5NM6+czjgujz/gYExf0hy9oWBulF5BHuP2HLyUQjlOMlHkJ9Yc/J1gaRPeUTwaL7sFBL2uDzRQS+JbsUomNknAMV4BntOPmVUAOk5CQPQmW5FJqyWJ/OIwGtHSHXyEVPkJukDI61YdjLrdScryCfXrVgLEUjdJLUwgbY913bywUDuK4nC13le9B/qIQo7OccDsO7CvnOPOIwvCRw0yfbC/3AIlEUJP0Rg2Mrz8RGlwckmarD3dluehvl4wDZKX5AgZJ7whcTPSqpRgXywHnOOJ58Aby+QMpSB94/LPflEENaR8OMC5QSj8LmnBpjjHTyNXD71aH93iZRh63SUPvVqcFORpIAXwA/+/+mP2AfEm4T6ltQ+8+ZxgMhHRA8tjP74j3iEzZSkB2pVo/qZZ4nQj4T97sdy8/dDqYdzDUEJQXBK+8c8R9BbIREFfRB+uDeAhkd5E8EPeKaAFEhDwTACylUL0PdJC8g8FZB8EXF9rjSCxMMErwcR35eCG0hDfRB/E4F+GuhKkxRa8HdLKkg85AQS+MeDMUhDUYBIEZEP7SeEt0QI5icRvNACvtSDvVNTfjWDUTiENLQB0JYQXTB46YeFLoQFb/cQMKBbIgiGKYQIa/cQ/JCESnhLd8ZWwfAZV3hMI1B8CoEITQiDx9SFEREGc/WGt9QHFrgQNQB4X3hMpuB/DdGGAf+ofGiYQjKFVMogAtAkhczjhg3xCEdwiZGYQiuAhwdRBk/Hh8fEBA64ED3QfYl4TGqAfQoxAQYIidCkhw5RDRsggVEGTbxAHw2xCdPhidDUOsykBx53TJhIgmNHEGUQiHUITTqAiAaBBfZHEPaADq14TGLoSUGwPPrgDb2wC96Qjb5UB86XEC0QDP7ADsdAC8cQD8Gmf5+YQpuQgAxhBMdwC8NADi92htikDCPAEPjgCq4AC7SwC79wDNIgDvFgXoWUjMSDhFF1DiLwC72ADdewDBZ5C7JAkLJwC7swDAqJDvYQjwAEkT5oggQRDCvgD+RwC9fQjwGAD+yADc5gDL//sAu0QJCuQAu30AvG4AzewA74wD4o2TspIIoCoQqhhw/L0AvwyBD7cI0ZmZMc6ZEgKZILGZUTGE41YIYG8Qh7yA67sAwOORH7EA82iZM6yZM+CZRCSZRVc5S1040LYY4FsQ/O8Asp0Q9UqZG7cJWu8JEhqZAMKZPCQpeucwRLhxDNqCpnyRNpuZY5SQsd2ZM/OQzLMJRFySqKeTrUuBBR0IJm4ZfoUJWBeZmEqZWHSSif6Tlh4IUFsYqKMZk3WZmX+ZaayZkw8pqYowalaBChmBqmmZHD0AuW6ZEHmZBbiZiY4ZuPAwdqIHUVMIuXYZtsmZyY2Qu7KZeMAZ2KY4wI/4ELcUIzoEAmxbkMx6mdsrCchhkPzqkW4Ik2kEAGPyAQRRAHEScQe5AlGGNgYqCLi5GW4iAN2ZmbmbkM10AOnWkW81k1/QAAAgEB9ZYBYKFnBrAvBxAX/MIr6XmcgtmeCPme8YkTD7o0/BAHwNAPiwgNbUITARAnRtGG+RALAIACp/EPOmotBGqguEmQuqmgDLoSJ4o2tVADAZAOEhpjfiEKAUCj/BAw8qWjApok+HCa6tkLt7CTg7mcxtCcIVGkXqMMn8EPBhAAgrUg8HUA+oFsikClntOjBwqkCbqgDaoQYlo1uBgA+0IDp/ESEtR+9yAAANAGO8o+V2qcWsqlIv/6C1/amuc1jyPkCEnhYSEwaCVCE//QfvSTBlT6qaAaqqI6qqRaqqZ6qqiaqqq6qqw6qjTpDTcZjlz6CgcZAJL6QW8SFySWDsi2A5BQAOkRAJ7aqsRarMZ6rMiarMTql+QgDYnQCNhkPwjHYczgFwBwrVYABQBwB1WqOMlwA7GGTcAQMBZmYwIhDPxAAwBwCodqSWvgBAw1MIBgELKYDgagAPTwqZZEBILAUGVxBwZxAecAGQgHp4WUDQEQrtikDxhjLneADMIhAWKANwL3Se8KTYDABmChD7HQJijwbxYAAAYmEJfqS0TgB9BkaASBAvgVAKAwY/z5iE+EsO0ATe3/AAkwG6OKEJkEQU7d+jhykARiFQAjoJKFRAR8MLQnsIVgVLM1K1a0eUt2QARDGwCheUtJYAfVJ1DAubU/dA83gLBDS4i3xAdUK1DBgHKmYI+nlARywFDdKHUs6Ury8wwMNQJbeA4R8LNwIwhE4LWNRKMMwaan5ARrwLdTuCIMgbefpB/JwFCqMHQKEY2fBK0XNQg0mBCj+UlOgAYXBZwNAbqBiwPFcFGo2BDi2UiNwAMgBQPgxxCY0ImNRAWee1ERYIC9OLq5cFHE2BDnUAGIGzOawAPB2ztz24iEy0dbgAaAa0mUILsNcQJK6UI4wArFWzt46RBiyEeoQLwg1QVj/6gQVkhHW7AFKRW1DcELIahGqJBSjOsQEqlGrGBXDMV+aDcQh6hGaLAFzWtJqoCkEAGIasQDmpBSrxgRj7CGP7S7/WtJQQgRuHi91oIGVJBSjigRsmhFBGyS2MQLHRIRQZB/H1QMOHC/rlQHxwgRB3xEFAxTDTgR9fhEPGC5IOVaE6F4Eiwsdquw8lSJnfWDNHSxKTW+E3G6NMSvMFWEIIHCNJQNOMDD8qSFIAGCNBS0MLUNwAsSx2e05HOyMMWJIoEfOcwq7XADT/u9sgkRpgDAH2TFMPWCIZEPJzdCRGAHMGVyDWwQEPhBTgtT5UcSCPhBdiC0MMV9JCHHKARAbv97xRFgwgtxBKTZO2ArtiBVB4X4EYgAvexjtjj1dybROjL7OIucUjWVxwnxwORTtzAFBylMEn/MPn6LUyfQeSOxDQ/gyHBjuGN8OsGQiylhyNzjuDCFgilhyeRDwylFfCphg8xDuzCVd+EHA6yIOfxAujAVBsFpEoQQjMQzvDC1xTk3b8TjzCmlCr6IE2rQyp5TzbubUljgjCqxDREQyj8zvLvsOaS2jCXhdb2zvKbMR+K2E7xgd7VTvff8OIA2vSahMq7TvQf9OITAtjsBeq5Tvm8sjUCzAQq9NO0LUpswcz4xeZ4zvw+tONQCFIpnnf7SwiA10P8MEliQzV5DwCn/dQThyxO9jMvWkgs8oNOFBFA+TRI6QF5ww9IXFdNSYQlsDDcE/NJWtA1zHBX8QEV6Q8JBTUe+RxWIUANOzSoUXNJwQ2pczBP8AAPVUqLhMsMgBQd7KBV7ZBQCkCVKIF8Os8MCVZ4fQMtQIVhlIyVyoQAX4S9CLE8SFABGcNUnQT/lIBz8ECf36S9ILE/pYAFCQAAA4AuIbRIeJgMw5xQNANaK4cRQfEtKoADgYGAVOxUzdgcRoDU5k6vb4sbpBAkAsAfBYGB9VhV8QQNvILtGgRjzgrSgfTKTTQP8oAO4zcFAcQcG8CYvAQWjvStlfMbY1AQEgAyHAANnmttVEQ4T/yuhZxbY4TLI8hQKAMAG87ABvLDdyu0TzJABBJAGN3EF8K1r1lLH6UQPGYAC91AGucHeZjEWAFssG4ALBNAA0U3GAUDJ0MQFAhALVkccAF4VZyoUAnEEdSAX9gMt5J1OLgA/AyGhogFnULEPEipwUOIXtyYsoxxOXPDYIX5mO0BBUoFuBOEFBmYN1jLJ+gRoqoAdE04VAKsAf5AVoiAXO9DVSuIHZytParCGQT4V/DCxBRE99MwobqvkIyTPhBTlVMEMdwAZcdAK/9AFR4UsqixPR1CK++JwYWQCjbkrfqvlH2QKI5DZUvFVKj0oupxOuIXRf6EGEt0qwhxO/NADsP84GPxQAzc9KqsrT3CgA3QuFYTFtIRCzh1cAfocGH0AA3jeH9VcutiU3iK8GEOQ6JTizeHEBOd4GedwAXrNKJh+TJ3+6WqxCZBFKuz8j62tHVGgzoViz8NIVdsxDyNgCpOOGhYNTViQuauhChuw6UrCCu2tRo9gAleuGHWQAtnOH+073OFCWBuNGWEQBMluGct+S6nV6EQVBMA+JjzQ0bdUBqD1Ij2VxjFC0r7UB2V17nchU6X+IkZ9Stpk6dnRWrH+IjTtStJEJsVVDeDeEwyMg8HEJ9ve7Zkx8I0kU5H8IuXu73+h1p+0UvgeIxPFVDGSDCV8SjWA6mNy7zGi8XT/VFRREPFTAfAwEtmNhAXmPipflfCrYdeNpAaebvNVoU1gqR2DzUf8vudJYgoTAOio4cWFtAlA3CrANM2ZIdqF1PC8Yiwrlxpb8LSyrUYfIvWcQkwdnxhbIOrCTUcilPS0MkkRiBpygAr8MN0C8QwgvzR2FO4jAM+N0QhJO8inUboMnkJqcALSzirbUAKtvhissAYBUMf/kAxEUAx9nzGpBANOPyrnsAK/dxnPQAXtgAPZgPm5sPkOkw9HMEoxUwOXLBj6McjPQATtTEM10NYZMw89AFGWkQRJsAa4/0Ohv1Fe0wMKnBhocAMBML80NEmC/zOurwOffxbma7009FVr/58xUyT3eFG6Rj8oWc/6jAL1dV+1KYEIueU61dACaKT+JoE+7+s6gbS08j8SytACR4DxABFA4ECCBQ0eRJhQ4UKGDR0+HIioAiWIFS1exJhR40aOHRdS1ONR5EiSJQ0G2xCGn0mWLV2+hMkwjIlgMW3edHkuiI5zOH3+BBpUWYooAf4FRZrUIT81G3gphRpVqkNEEwYdnZo16qYLIbV+BftzXpQTylaGRetzKJZ8ad2+7chrRJd8Z+HeZTkPywhVeP3+RahnImDCJFWVYNJzIBeENLAWhjxyz8E/BpnAqBZZM8cyFxBhLYIQxePNpS+eCaCgYByCmzaUMR37YjAYPf+UIQx9R/buh6ghIaw2xERf3sUZ8utTQU1bguEIGEhnXPpB36QFqgmwfPp2hNuYBCAukLUS7uV9F9wkYkjm8u3Rb4gybyWKAKfcT0cNReAZUD1KmLovwIHmCcOzWALIoB8Bi0OtIBXCsWvBAGFIQIA0JOQNEN0YCUAGCAKwwToMy6NHtQDmGVE2ZXpIoS9wGqgvxfsqswGLCdRAUUbI5oFND7usCOBCHcujIQBFAqgGiwhwHPKvPjbAQrGB2giAsSanYwYABe4ZKMkbc7wSLTguOOIpg6oIgI0wpUPNSoKqCSOCMsBcM6pz1JhAIWhUa6VO3vqxIABcuotzTj+TgtP/gYKAQUE3ZgKIA0YhRDw0sksCGE2hbeIMQ8pKYwomigcC8DQAYA5Sgp5PYzv1VIY2jaDTVV2qZYiFtDmSCzICQGZWDKvp4oEueKHU14v4oQSGEwgx1tht4BghhTpKbRaiQUyoYZNqt60FCweO0Hbb41RRMojwxN32kR5GrQldg8rYwF15DRJh3mrgMCG72+blNwB+ahHIVmf1qCElgPtFmKA+YIj33DX70CECLFSJMGGLrxMoiDqMUgocgTxO6hFbmQj3YpMPsqSLES6IApFtfsLFBoJCAPmmR8JIwYEgEDm5Z4YeCeACn04xIAAh0oSigV5f2oaigeA42GepF+KH/5c6ejgApnAaMCAUgvTRh6VqeN5A6ACCqXhqtRkypYwWAqgBiwAALNYi1BpsKRg9jqigXkLYWztwjGrpI4Ae4oWhqE0AtyiDAB4dKVz/AjChi0deFjxzkXghBLZ6VwgADojA0ZIeNlwIYIfKIAIaCx0EKkEgPQDUvPaXzAxgBIEeiN0goAMQRYAQ6BNIABDBC+D3OuqAbaA8QQ9gkL7Str16n0yhpHCBmAgChgKMH8gBDwYIgIIeDNpYoFqotb79r1oxPo6V+OHnFAAyqNt9/d1yddCB9DFedPY3QLzcw3hLG4hqrEFABsKlSF4bCOkIwKUGVjAsldnBY1BzNAt2UCcr/SjSD35jBQAYwFUeRGFU0hGagYTgQCmEYVSg4YgAxIJ6MaxIQAAAIfkEBQQAAQAsVwKPAQEAAQAACAQAAwQEACH5BAUDAAEALFcCjwEBAAEAAAgEAAMEBAAh+QQFAwABACxXAo8BAQABAAAIBAADBAQAIfkEBQQAAQAsVwKPAQEAAQAACAQAAwQEACH5BAUDAAEALFcCjwEBAAEAAAgEAAMEBAAh+QQFAwABACxXAo8BAQABAAAIBAADBAQAIfkEBQQAAQAsVwKPAQEAAQAACAQAAwQEACH5BAUDAAEALFcCjwEBAAEAAAgEAAMEBAAh+QQFAwABACxXAo8BAQABAAAIBAADBAQAIfkEBQQAAQAsVwKPAQEAAQAACAQAAwQEACH5BAUDAAEALFcCjwEBAAEAAAgEAAMEBAAh+QQFAwABACxXAo8BAQABAAAIBAADBAQAIfkEBQQAAQAsVwKPAQEAAQAACAQAAwQEACH5BAUDAAEALFcCjwEBAAEAAAgEAAMEBAAh+QQFAwABACxXAo8BAQABAAAIBAADBAQAIfkEBQQAAQAsVwKPAQEAAQAACAQAAwQEACH5BAUDAAEALFcCjwEBAAEAAAgEAAMEBAAh+QQFAwABACxXAo8BAQABAAAIBAADBAQAIfkEBQQAAQAsVwKPAQEAAQAACAQAAwQEACH5BAUDAAEALFcCjwEBAAEAAAgEAAMEBAAh+QQFAwABACxXAo8BAQABAAAIBAADBAQAIfkEBQQAAQAsVwKPAQEAAQAACAQAAwQEACH5BAUDAAEALFcCjwEBAAEAAAgEAAMEBAAh+QQFAwABACxXAo8BAQABAAAIBAADBAQAIfkEBQQAAQAsVwKPAQEAAQAACAQAAwQEACH5BAUDAAEALFcCjwEBAAEAAAgEAAMEBAAh+QQFAwABACxXAo8BAQABAAAIBAADBAQAIfkEBQQAAQAsVwKPAQEAAQAACAQAAwQEACH5BAUDAAEALFcCjwEBAAEAAAgEAAMEBAAh+QQFAwABACxXAo8BAQABAAAIBAADBAQAIfkEBQQAAQAsVwKPAQEAAQAACAQAAwQEACH5BAUDAAEALFcCjwEBAAEAAAgEAAMEBAAh+QQFAwABACxXAo8BAQABAAAIBAADBAQAIfkEBQQAAQAsVwKPAQEAAQAACAQAAwQEACH5BAUDAAEALFcCjwEBAAEAAAgEAAMEBAAh+QQFAwABACxXAo8BAQABAAAIBAADBAQAIfkEBQQAAQAsVwKPAQEAAQAACAQAAwQEACH5BAUDAAEALFcCjwEBAAEAAAgEAAMEBAAh+QQFAwABACxXAo8BAQABAAAIBAADBAQAIfkEBQQAAQAsVwKPAQEAAQAACAQAAwQEACH5BAUDAAEALFcCjwEBAAEAAAgEAAMEBAAh+QQFAwABACxXAo8BAQABAAAIBAADBAQAIfkEBQQAAQAsVwKPAQEAAQAACAQAAwQEACH5BAUDAAEALFcCjwEBAAEAAAgEAAMEBAAh+QQFAwABACxXAo8BAQABAAAIBAADBAQAIfkEBQQAAQAsVwKPAQEAAQAACAQAAwQEACH5BAUDAAEALFcCjwEBAAEAAAgEAAMEBAAh+QQFAwABACxXAo8BAQABAAAIBAADBAQAIfkEBQQAAQAsVwKPAQEAAQAACAQAAwQEACH5BAUDAAEALFcCjwEBAAEAAAgEAAMEBAAh+QQFAwABACx6AKAAtAAqAAAI/wADCBxIUB86Z7/8EVzIsKHDhxAjSpxIsaLFixgZ7osn7RctY9jsZRxJsqTJkygr6sOz66M3kSljypxJs2YAX65y0volLZ7Nn0CDCiV47Je3Y7tkubo17BrMoVCjSqWIbZfPAPauDbuV85Yxcfumih0rld0tcgzjIaTlStauZewUkp1LNyW+Xs7kMuyHDqnSndKe1h1MWOK+Y8PwScQnzhjXpU0VF55MWaC3sBazenzl9pi4fpVDi5bYj52zXn9/OWM3urVrgoyRdo2s97Vtylm3tt3lGfPt34RLr22LNy7w43X1ifPraqdT5NDJ5r6l1Ks4fdGzS7XXkW1ndLW1j//992906WVJm6u+Kn4o+fe3GTuefU1ye5nv80efvtsz6PskXbCNfgAK9wsszRUXHoAQ8XNAPvlFyGBs6TFV34IMEhRBhBx2SJ52/LnCG1gZLpSChAR5qOKHx6nl0W5wYdgeihCtuOJrfDEHmGD3EZiRjR6Kho83ukHmjX3awTcTkEESxp1Hsnz3X3TlRcUkh3MJh5p6q5Vo5ZU0DkUhfUh6+SWYLALFX2ckmjkXmj7GZCBbtCjoZmFwpmmScjr+8tydleWp50XTVfeVb4CKJuhFLnr3lnGJ2iZolQ+dl95OzrAXKXCLMiTfYxaWuSlynWpGC2cjTjmqeGgaiCCmrK0j6qWNFFZHm6x3dvgkV7LYEoCMuM76D193aMJPsLI+g4NAAQEAIfkEBQQAAQAsVwKPAQEAAQAACAQAAwQEACH5BAUDAAEALFcCjwEBAAEAAAgEAAMEBAAh+QQFAwABACxXAo8BAQABAAAIBAADBAQAIfkEBQQAAQAsVwKPAQEAAQAACAQAAwQEACH5BAUDAAEALFcCjwEBAAEAAAgEAAMEBAAh+QQFAwABACxXAo8BAQABAAAIBAADBAQAIfkEBQQAAQAsVwKPAQEAAQAACAQAAwQEACH5BAUDAAEALFcCjwEBAAEAAAgEAAMEBAAh+QQFAwABACxXAo8BAQABAAAIBAADBAQAIfkEBQQAAQAsVwKPAQEAAQAACAQAAwQEACH5BAUDAAEALFcCjwEBAAEAAAgEAAMEBAAh+QQFAwABACxXAo8BAQABAAAIBAADBAQAIfkEBQQAAQAsVwKPAQEAAQAACAQAAwQEACH5BAUDAAEALFcCjwEBAAEAAAgEAAMEBAAh+QQFAwABACxXAo8BAQABAAAIBAADBAQAIfkEBQQAAQAsVwKPAQEAAQAACAQAAwQEACH5BAUDAAEALFcCjwEBAAEAAAgEAAMEBAAh+QQFAwABACxXAo8BAQABAAAIBAADBAQAOw==\" />"
      ],
      "text/plain": [
       "Plots.AnimatedGif(\"/home/jovyan/rob101001fa2021/Lab4/clock.gif\")"
      ]
     },
     "execution_count": 57,
     "metadata": {},
     "output_type": "execute_result"
    }
   ],
   "source": [
    "anim = @animate for i in 1:1000\n",
    "    plot_current_time()\n",
    "end\n",
    "gif(anim, \"clock.gif\", fps=30)"
   ]
  },
  {
   "cell_type": "code",
   "execution_count": 58,
   "id": "0c7e8828",
   "metadata": {},
   "outputs": [
    {
     "data": {
      "text/plain": [
       "1×2 Matrix{Int64}:\n",
       " 17  -14"
      ]
     },
     "execution_count": 58,
     "metadata": {},
     "output_type": "execute_result"
    }
   ],
   "source": [
    "A = [1 4]\n",
    "B = [1 -2; 4 -3]\n",
    "A * B "
   ]
  },
  {
   "cell_type": "code",
   "execution_count": null,
   "id": "72d70535",
   "metadata": {},
   "outputs": [],
   "source": []
  }
 ],
 "metadata": {
  "kernelspec": {
   "display_name": "Julia nodeps 1.7.1",
   "language": "julia",
   "name": "julia-nodeps-1.7"
  },
  "language_info": {
   "file_extension": ".jl",
   "mimetype": "application/julia",
   "name": "julia",
   "version": "1.7.1"
  }
 },
 "nbformat": 4,
 "nbformat_minor": 5
}
