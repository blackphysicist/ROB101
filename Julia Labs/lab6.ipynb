{
 "cells": [
  {
   "cell_type": "markdown",
   "id": "cae39692-2438-45c0-9428-28a81ca9294a",
   "metadata": {},
   "source": [
    "University of Michigan - ROB 101 Computational Linear Algebra"
   ]
  },
  {
   "cell_type": "markdown",
   "id": "43f4a391-cb3e-4c54-b37e-462d42376db5",
   "metadata": {},
   "source": [
    "# Lab 6: Vector Space Fundamentals and a Super Power of Linear Algebra \n",
    "\n",
    "- Skills\n",
    "    - Review of linear independence\n",
    "    - Using null space to determine linear independence\n",
    "    - Regressing functions to data\n",
    "        - Line fitting\n",
    "        - Polynomial curve fitting\n",
    "        - Surface fitting"
   ]
  },
  {
   "cell_type": "markdown",
   "id": "a78e9f23-a483-4c69-b6ae-604f30958fa0",
   "metadata": {},
   "source": [
    "## Example 1. Linear Independence\n",
    "\n",
    "As learned in Lab5 and HW5, we can determine whether a matrix has independent columns by checking the following statements.\n",
    "\n",
    "<img src = \"https://i.postimg.cc/DyKPg9KX/Pro-Tip-Linear-Independence.png\" width = 700>"
   ]
  },
  {
   "cell_type": "code",
   "execution_count": null,
   "id": "8f729605-3e6e-4c8f-bfcc-45ddae92e3d1",
   "metadata": {},
   "outputs": [],
   "source": [
    "using LinearAlgebra\n",
    "\n",
    "# Determine the independence using LU Factorization\n",
    "function is_independent(A)\n",
    "    U = lu(A'*A,check=false).U \n",
    "    min_diagU = minimum(abs.(diag(U)))\n",
    "    if min_diagU > 1e-10\n",
    "        return true\n",
    "    else\n",
    "        return false\n",
    "    end\n",
    "    # Alternative to the if statement...a one liner\n",
    "    # return !isapprox(min_diagU, 0, atol = 1E-10)\n",
    "end"
   ]
  },
  {
   "cell_type": "code",
   "execution_count": null,
   "id": "a7fcb2e3-34e3-4d0c-a285-67b0e327f69c",
   "metadata": {},
   "outputs": [],
   "source": [
    "A = [1 0 2; 2 -2 6; 3 4 2; 1 5 -3]\n",
    "is_independent(A)"
   ]
  },
  {
   "cell_type": "markdown",
   "id": "c351f9e5-63fe-4338-a503-15d3015c5d4d",
   "metadata": {},
   "source": [
    "## Practice 1.\n",
    "\n",
    "Use the determinant property to define a new function ``is_independentDet'' to determine whether the input matrix has independet columns. Refer to the third point in previous figure."
   ]
  },
  {
   "cell_type": "code",
   "execution_count": null,
   "id": "fb61166a-fad6-429f-95dc-b009d01e12ed",
   "metadata": {
    "deletable": false,
    "nbgrader": {
     "cell_type": "code",
     "checksum": "953358da4e9d7469480dac5e6d76a3ce",
     "grade": false,
     "grade_id": "cell-ce0b0446e527e579",
     "locked": false,
     "schema_version": 3,
     "solution": true,
     "task": false
    }
   },
   "outputs": [],
   "source": [
    "# Determine independence using the determinant instead of LU\n",
    "# For the record, LU is numerically superior\n",
    "function is_independentDet(A)\n",
    "    # your code here\n",
    "    throw(ErrorException())\n",
    "end"
   ]
  },
  {
   "cell_type": "code",
   "execution_count": null,
   "id": "43530b58-5b6b-4786-947a-e0fec1d3edc1",
   "metadata": {},
   "outputs": [],
   "source": [
    "# Self-check cell\n",
    "A = [0 0 1; 0 2 -2; 1 -2 1;]\n",
    "B = [0 0 1 4; 0 2 -2 2; 1 -2 1 3;]\n",
    "T1 = @assert(is_independentDet(A) == true)\n",
    "T2 = @assert(is_independentDet(B) == false)\n",
    "println(\"all nothings means likely correct\")\n",
    "@show [T1 T2]"
   ]
  },
  {
   "cell_type": "markdown",
   "id": "03d1b8d4-a5b5-405b-a12b-94adfe4fb717",
   "metadata": {},
   "source": [
    "## Practice 2.\n",
    "\n",
    "Use the above function to determine whether a set of vectors is linearly independent or not."
   ]
  },
  {
   "cell_type": "code",
   "execution_count": null,
   "id": "4eca9c34-a24a-4a44-81a8-ae259d79f240",
   "metadata": {
    "deletable": false,
    "nbgrader": {
     "cell_type": "code",
     "checksum": "c0b1be5c926d77e2a946e0b12123eeda",
     "grade": false,
     "grade_id": "cell-acfda494fb11f407",
     "locked": false,
     "schema_version": 3,
     "solution": true,
     "task": false
    }
   },
   "outputs": [],
   "source": [
    "# Given a set of vectors\n",
    "a1 = [0, 0, 1]\n",
    "a2 = [0, 2, -2]\n",
    "a3 = [1, -2, 1]\n",
    "\n",
    "# your code here\n",
    "throw(ErrorException())"
   ]
  },
  {
   "cell_type": "markdown",
   "id": "73cd5602-b177-4779-a1eb-1fa35e4b829f",
   "metadata": {},
   "source": [
    "## Example 2. The Null Space - Another way to check if vectors are linearly independent or not\n",
    "Consider a set of vectors $\\{ v_1, v_2, \\ldots, v_m\\} \\subset R^n$ and form the matrix $A = \\left[ v_1 ~ v_2 ~\\cdots ~v_m\\right]$. From lecture, the null space of $A$ is \n",
    "$${\\rm null}(A):=\\{x \\in R^m~| ~ A x = 0_{n \\times 1}   \\} $$\n",
    "If $x \\in {\\rm null}(A)$ and $x \\neq 0_{m \\times 1} $, then we have a set of non-zero coefficients such \n",
    "$$x_1 v_1 + x_2 v_2 + \\ldots + x_m v_m = 0_{n \\times 1} $$\n",
    "which means the vectors are **linearly dependent**. On the other hand, if the null space of $A$ consists only of the zero vector, then the set of vectors is linearly independent.\n",
    "\n",
    "## Remark: If you do not like denoting the coefficients in the linear combination by $x_i$, then we can use $\\alpha_i$ instead and write \n",
    "$$\\alpha_1 v_1 + \\alpha_2 v_2 + \\ldots + \\alpha_m v_m = 0_{n \\times 1} $$"
   ]
  },
  {
   "cell_type": "code",
   "execution_count": null,
   "id": "7a09d178-88f6-45d6-b070-089676717f76",
   "metadata": {},
   "outputs": [],
   "source": [
    "# The nullspace command in Julia LinearAlgebra package\n",
    "using LinearAlgebra\n",
    "\n",
    "A = [1 2 3 4; 5 6 7 8; 9 10 11 12]\n",
    "println(\"If a nullspace is a subspace, why is the command only returning two vectors?\")\n",
    "V = nullspace(A)"
   ]
  },
  {
   "cell_type": "code",
   "execution_count": null,
   "id": "a67f17b3-f8c2-4f4a-ac7c-c283c3eac01a",
   "metadata": {},
   "outputs": [],
   "source": [
    "# The output is an \"orthonormal basis\" of the nullspace of A. In the next lecture, we'll define the concept of two vectors\n",
    "# being orthognonal and then orthonormal. By the end of next week, you will know what is a basis of a subspace. \n",
    "# In short: it's the smallest set of vectors whose span equals the subspace! \n",
    "v1 = V[:,1]\n",
    "v2 = V[:,2]\n",
    "@show A*v1\n",
    "@show A*v2\n",
    "@show v1'*v2\n",
    "@show [norm(v1) norm(v2)]"
   ]
  },
  {
   "cell_type": "code",
   "execution_count": null,
   "id": "ec37252e-ad51-4ad2-ba2e-5f97b6a1cac8",
   "metadata": {},
   "outputs": [],
   "source": [
    "# A helper function to zero out small entries of a matrix or vector\n",
    "function cleanUp(A,tol=1e-10)\n",
    "    B=copy(A)\n",
    "    indicesSmall=findall(x->x<tol, abs.(B))\n",
    "    B[indicesSmall]=0.0*B[indicesSmall]\n",
    "    return B\n",
    "end\n",
    "\n",
    "# In case you want to see those zeros!\n",
    "cleanUp(A*v1)"
   ]
  },
  {
   "cell_type": "markdown",
   "id": "476743ff-8881-4368-9d26-b37e24abdf2e",
   "metadata": {},
   "source": [
    "## Exercise 2. \n",
    "Determine if the set of vectors $\\{v_1, v_2, ..., v_m\\}$ is linearly independent or not. If they are linearly dependent, find a set of not all  identically zero coefficients such that $\\alpha_1 v_1 + \\alpha_2 v_2 + \\cdots + \\alpha_m v_m = 0$. In other words, find a non-trivial linear combination of the set of vectors that adds up to the zero vector."
   ]
  },
  {
   "cell_type": "code",
   "execution_count": null,
   "id": "034cc572-28e4-42f4-9ee7-79c9942ebe35",
   "metadata": {
    "deletable": false,
    "nbgrader": {
     "cell_type": "code",
     "checksum": "2d587d8fa5ba722eda538382cdbfbabf",
     "grade": false,
     "grade_id": "cell-2427dd6ac4082ba0",
     "locked": false,
     "schema_version": 3,
     "solution": true,
     "task": false
    }
   },
   "outputs": [],
   "source": [
    "using Random\n",
    "Random.seed!(2021)\n",
    "v1=randn(4,1)\n",
    "v2=randn(4,1)\n",
    "v3=randn(4,1)\n",
    "v4=randn(4,1)\n",
    "v5=randn(4,1)\n",
    "v6=randn(4,1)\n",
    "\n",
    "# Place your code below\n",
    "# Compute alpha = [alpha1; alpha2; ...; alpha6]\n",
    "# such that alpha1*v1 + alpha2*v2 + ... + alpha6*v6 = 0\n",
    "# your code here\n",
    "throw(ErrorException())"
   ]
  },
  {
   "cell_type": "code",
   "execution_count": null,
   "id": "2cd64cb2-ea89-490a-b379-2565e9b1e4ce",
   "metadata": {},
   "outputs": [],
   "source": [
    "# Self-check cell\n",
    "println(\"all nothings means likely correct\")\n",
    "T = @assert (norm(alpha[1]*v1+alpha[2]*v2+alpha[3]*v3+alpha[4]*v4+alpha[5]*v5+alpha[6]*v6) < 1.0e-10)\n",
    "@show T"
   ]
  },
  {
   "cell_type": "markdown",
   "id": "e4b8f681-0763-499f-9b29-fbf44520eb29",
   "metadata": {},
   "source": [
    "## Example 3. Regression: Line Fitting"
   ]
  },
  {
   "cell_type": "markdown",
   "id": "eef0a522-599e-48df-96fb-18b5e2537937",
   "metadata": {},
   "source": [
    "The linear regression of a line can be written as the set of linear equations:\n",
    "$$y_i = m x_i +b = b + m x_i=\\begin{bmatrix} 1 & x_i \\end{bmatrix} \\begin{bmatrix} b \\\\ m \\end{bmatrix},  ~~1 \\le i \\le N,$$ \n",
    "where $N$ is the number of data points.\n",
    "\n",
    "In Matrix Form:\n",
    "$$\\begin{equation}\n",
    "    \\label{eq:FirstRegressionModel02}\n",
    "\\underbrace{\\begin{bmatrix} y_1 \\\\ y_2 \\\\ \\vdots \\\\y_N \\end{bmatrix}}_{Y} = \\underbrace{\\left[\\begin{array}{cc}\n",
    "    1 & x_1 \\\\\n",
    "    1  & x_2 \\\\\n",
    "    1 & \\vdots \\\\\n",
    "    1 & x_N\n",
    "\\end{array}  \\right]}_{\\Phi} \\cdot  \\underbrace{\\begin{bmatrix} b \\\\ m \\end{bmatrix}}_{\\alpha},\n",
    "\\end{equation}$$\n",
    "where $Y$ is the vector of measured outputs of our function, $\\Phi$ is called the regressor matrix, and $\\alpha$ is the vector of unknown coefficients that parameterize the  model."
   ]
  },
  {
   "cell_type": "code",
   "execution_count": null,
   "id": "fd5be5d3-d0a3-41a6-8b1e-905ebf946de8",
   "metadata": {},
   "outputs": [],
   "source": [
    "# Generate some points for line fitting\n",
    "using Random\n",
    "Random.seed!(2021)\n",
    "NumPts = 100\n",
    "m = 2\n",
    "b = 1\n",
    "x = -1 .+ 2*rand(NumPts,1)\n",
    "y = m*x .+ b + 0.10*randn(NumPts, 1)\n",
    "\n",
    "using Plots\n",
    "scatter(x, y, legend=false)"
   ]
  },
  {
   "cell_type": "code",
   "execution_count": null,
   "id": "f1c6b4d4-b4d8-4cf0-a687-28319df092a7",
   "metadata": {},
   "outputs": [],
   "source": [
    "# Run me, don't change me. I am providing some nice functions for you.\n",
    "##Forward and Back substitution functions from HW04\n",
    "\n",
    "#This is a back substitution function.  It solves for x in an equation Ux = b, where U is upper triangular.\n",
    "# The function assumes U and b are the correct sizes. You can add error checking, if you wish.\n",
    "function backwardsub(U, b)\n",
    "    # Check if U is non-signular\n",
    "    min_diagU = minimum(abs.(diag(U)))\n",
    "    if min_diagU <  1E-10\n",
    "        return false\n",
    "    end\n",
    "    n = length(b)\n",
    "    x = Vector{Float64}(undef, n) \n",
    "    x[n] = b[n]/U[n,n]\n",
    "    for i in n-1:-1:1\n",
    "        x[i]=(b[i]- (U[i,(i+1):n])' *x[(i+1):n] )./U[i,i]\n",
    "    end\n",
    "    return x\n",
    "end\n",
    "#This is a forward substitution function. It solves for x in an equation Lx = b, where L is lower triangular.\n",
    "# The function assumes L and b are the correct sizes. You can add error checking, if you wish.\n",
    "function forwardsub(L, b)\n",
    "     # Check if L is non-signular\n",
    "    min_diagL = minimum(abs.(diag(L)))\n",
    "    if min_diagL <  1E-10\n",
    "        return false\n",
    "    end\n",
    "    n = length(b)\n",
    "    x = Vector{Float64}(undef, n); \n",
    "    x[1] = b[1]/L[1,1] \n",
    "    for i = 2:n \n",
    "        x[i]=(b[i]- (L[i,1:i-1])' *x[1:i-1] )./L[i,i] \n",
    "    end\n",
    "    return x\n",
    "end"
   ]
  },
  {
   "cell_type": "code",
   "execution_count": null,
   "id": "ac093c63-3bac-4747-a1cc-7354b685bae4",
   "metadata": {},
   "outputs": [],
   "source": [
    "# Create the Y and the regressor matrix Phi\n",
    "Y = y\n",
    "Phi = [ones(NumPts,1) x]\n",
    "\n",
    "# Find the alpha by solving Phi' * Y= Phi' * Phi*alpha (Ax = b) using LU decomposition\n",
    "using LinearAlgebra\n",
    "F = lu(Phi' * Phi)\n",
    "L = F.L\n",
    "U = F.U\n",
    "P = F.P\n",
    "\n",
    "# Phi' * Y = Phi' * Phi * alpha\n",
    "# after LU Factorization of Phi'*Phi, we have\n",
    "# P *  Phi' * Y  = L * U * alpha\n",
    "y_alpha = forwardsub(L, P*Phi'*Y)\n",
    "alpha = backwardsub(U, y_alpha)"
   ]
  },
  {
   "cell_type": "code",
   "execution_count": null,
   "id": "d2bc8ab4-6173-4acf-9a0e-698c3fb3d145",
   "metadata": {},
   "outputs": [],
   "source": [
    "# Plot the regression results\n",
    "y_hat = Phi * alpha # Result of fitting our data\n",
    "mse = norm(y-y_hat)^2/size(y,1) # Mean Square Error\n",
    "println(\"The mean square error is \", mse)\n",
    "\n",
    "scatter(x, y, label=\"y\")\n",
    "scatter!(x, y_hat, label=\"y_hat\")"
   ]
  },
  {
   "cell_type": "markdown",
   "id": "b61ff35b-e5c8-4824-b55d-ea1afa80519c",
   "metadata": {},
   "source": [
    "## Exercise 3. Polynomial curve fitting"
   ]
  },
  {
   "cell_type": "code",
   "execution_count": null,
   "id": "d2d74454-cc43-4407-a16a-dc2b6ddf763a",
   "metadata": {},
   "outputs": [],
   "source": [
    "# Generate some data for polynomial curve fitting\n",
    "using Random\n",
    "Random.seed!(123456789)\n",
    "NumPts = 100\n",
    "x = -1 .+ 2*rand(NumPts,1)\n",
    "a0 = 3\n",
    "a1 = 6\n",
    "a2 = 4\n",
    "a3 = 5\n",
    "a4 = -5\n",
    "y = a4*x.^4 + a3*x.^3 + a2*x.^2 .+ a1*x.^1 .+ a0 + 0.20*randn(NumPts, 1)\n",
    "\n",
    "using Plots\n",
    "scatter(x,y,legend=false)"
   ]
  },
  {
   "cell_type": "markdown",
   "id": "79bf4e4e",
   "metadata": {},
   "source": [
    "## Remark: note that in the above cell, we have created a column of x to a \"power of m\" by x.^m. The dot is important. It tells Julia to apply the power command ^m to each entry of the column vector x."
   ]
  },
  {
   "cell_type": "code",
   "execution_count": null,
   "id": "59f89bcc-6331-4bc4-8efb-eba760a0f0d9",
   "metadata": {
    "deletable": false,
    "nbgrader": {
     "cell_type": "code",
     "checksum": "12b3ebeadd0509cc66518b3d7e2dd186",
     "grade": false,
     "grade_id": "cell-d649b86f310a14f3",
     "locked": false,
     "schema_version": 3,
     "solution": true,
     "task": false
    }
   },
   "outputs": [],
   "source": [
    "# Place your code below\n",
    "# Compute the alpha = [alpha0 alpha1 alpha2] of a 3rd order polynomial such that Y=Phi*alpha fits the data\n",
    "#\n",
    "# Yes, we know that the data comes from a 4th order polynomial. In real-life situations, you will not know \n",
    "# the exact function that generates the data.\n",
    "\n",
    "# your code here\n",
    "throw(ErrorException())"
   ]
  },
  {
   "cell_type": "code",
   "execution_count": null,
   "id": "249a241d-15c7-46f0-80e8-5a05fcfb9fbb",
   "metadata": {},
   "outputs": [],
   "source": [
    "# Plot the regression results\n",
    "y_hat = Phi * alpha\n",
    "mse = norm(y-y_hat)^2/size(y,1) # Mean Square Error\n",
    "println(\"The mean square error is \", mse)\n",
    "\n",
    "scatter(x, y, label=\"y\")\n",
    "scatter!(x, y_hat, label=\"y_hat\")"
   ]
  },
  {
   "cell_type": "code",
   "execution_count": null,
   "id": "2d3d1d98-ef0b-4449-833e-82ec141e0b85",
   "metadata": {},
   "outputs": [],
   "source": [
    "# Self-check cell\n",
    "T = @assert(mse<0.2)\n",
    "@show T"
   ]
  },
  {
   "cell_type": "markdown",
   "id": "cc43f174",
   "metadata": {},
   "source": [
    "## WOW!!! Fit the Wavefield!\n",
    "\n",
    "<img src=\"https://campusinfo.umich.edu/files/campusinfo/field/image/wave%20field_0.jpg\">"
   ]
  },
  {
   "cell_type": "code",
   "execution_count": null,
   "id": "20b8f3f2-5a6c-46ce-b5d3-6a5f7e6c0a54",
   "metadata": {},
   "outputs": [],
   "source": [
    "using LinearAlgebra\n",
    "\n",
    "# Function for solving Ax=b using LU decomposition\n",
    "function solveAxEqb(A,b,aTol=1e-10)\n",
    "    nRows, nCols = size(A)\n",
    "    if (length(b) !== nRows)||( nRows !== nCols)\n",
    "         println(\"System of equations not properly formed\")\n",
    "        return x=undef\n",
    "    end\n",
    "    F=lu(A)\n",
    "    indicesDiagUsmall=findall(x->x<aTol, abs.(diag(F.U)))\n",
    "    if length(indicesDiagUsmall) > 0\n",
    "        println(\"diagU has numbers that are nearly zero\")\n",
    "        return x=undef\n",
    "    else\n",
    "        y=forwardsub(F.L,F.P*b)\n",
    "        x=backwardsub(F.U, y)\n",
    "        return x \n",
    "    end\n",
    "end\n",
    "\n",
    "# Function for fitting data with Least Squares\n",
    "function surface_fit(Phi, Z)\n",
    "    alpha = solveAxEqb(Phi'*Phi, Phi'*Z) # Phi'*Z = Phi'*Phi * alpha\n",
    "    Zhat = Phi*alpha\n",
    "    Error = Z-Zhat\n",
    "    SqError = Error'*Error\n",
    "    MeanError = sqrt(SqError)/length(Z)\n",
    "    return Zhat, Error, SqError, MeanError\n",
    "end"
   ]
  },
  {
   "cell_type": "code",
   "execution_count": null,
   "id": "3a78a847",
   "metadata": {},
   "outputs": [],
   "source": [
    "# run me, don't change me\n",
    "using Distributions\n",
    "using Plots\n",
    "import Pkg;\n",
    "Pkg.add(\"PyPlot\");\n",
    "println(\"Be patient. It takes time to load the Distributions package.\")"
   ]
  },
  {
   "cell_type": "code",
   "execution_count": null,
   "id": "74a86345",
   "metadata": {},
   "outputs": [],
   "source": [
    "# Attempting to make the Wavefield!\n",
    "z(x,y) = 0.2*sin(pi*x/2) - 0.2*cos(pi*y/3) + rand(Uniform(-0.03,0.03))\n",
    "\n",
    "N = 100\n",
    "Nsq = N^2\n",
    "X = zeros(Nsq, 1)\n",
    "Y = zeros(Nsq, 1)\n",
    "Z = zeros(Nsq, 1)\n",
    "for i = 1:N\n",
    "    for j = 1:N\n",
    "        X[(i-1)*N+j] = 10.0*i/N\n",
    "        Y[(i-1)*N+j] = 10.0*j/N\n",
    "        Z[(i-1)*N+j] = z(X[(i-1)*N+j], Y[(i-1)*N+j])\n",
    "    end\n",
    "end\n",
    "scatter(X, Y, Z, marker_z=Z, legend=false, colorbar=true, camera=(-60, 60))"
   ]
  },
  {
   "cell_type": "code",
   "execution_count": null,
   "id": "83bad302-eda2-4738-a771-9a55ec106e63",
   "metadata": {},
   "outputs": [],
   "source": [
    "# Creating regressor matrix Phi as polynomial fitting\n",
    "Phi = [ones(Nsq,1) X Y X.^2 Y.^2 X.*Y X.^3 Y.^3 (X).*(Y.^2) (Y).*(X.^2)]\n",
    "Zhat, Error, SqError, MeanError = surface_fit(Phi, Z)\n",
    "println(\"Squared error = $SqError and Mean Error = $MeanError\")\n",
    "println(\"The root mean squared error of our fit is $(MeanError*1e3) mm = $(MeanError*1e2/2.54) inches\")"
   ]
  },
  {
   "cell_type": "code",
   "execution_count": null,
   "id": "07f1742f",
   "metadata": {},
   "outputs": [],
   "source": [
    "# Make a scatter plot of the error\n",
    "scatter(X, Y, Error, marker_z=Error, legend=false, colorbar=true, camera=(-60, 60))"
   ]
  },
  {
   "cell_type": "code",
   "execution_count": null,
   "id": "6a388966-0f2d-40e4-b389-4a0980d1c561",
   "metadata": {},
   "outputs": [],
   "source": [
    "# Using for loop to build the regressor matrix Phi\n",
    "m=6\n",
    "Phi= Array{Float64,2}(undef, Nsq, 0)\n",
    "k=0\n",
    "for i=0:m\n",
    "    for j=0:m\n",
    "        k=k+1\n",
    "        Phi=[Phi ((X.-5.0).^i).*((Y.-5.0).^j)/(factorial(i)*factorial(j))]\n",
    "    end\n",
    "end\n",
    "Zhat, Error, SqError, MeanError = surface_fit(Phi, Z)\n",
    "println(\"Squared error = $SqError and Mean Error = $MeanError\")\n",
    "scatter(X, Y, Error, marker_z=Error, legend=false, colorbar=true, camera=(-60, 60))"
   ]
  }
 ],
 "metadata": {
  "kernelspec": {
   "display_name": "Julia 1.6.1",
   "language": "julia",
   "name": "julia-1.6"
  },
  "language_info": {
   "file_extension": ".jl",
   "mimetype": "application/julia",
   "name": "julia",
   "version": "1.6.1"
  }
 },
 "nbformat": 4,
 "nbformat_minor": 5
}
