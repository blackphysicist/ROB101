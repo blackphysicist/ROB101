{
 "cells": [
  {
   "cell_type": "markdown",
   "metadata": {},
   "source": [
    "University of Michigan - ROB 101 Computational Linear Algebra"
   ]
  },
  {
   "cell_type": "markdown",
   "metadata": {},
   "source": [
    "# Homework 4: Building Your Own Functions for Solving Equations\n",
    "\n",
    "\n",
    "### Up to now, we have been wrting \"scripts'', that is, a series of commands that allow us to accomplish a goal. Scripts are are great tool and a super quick way to prototype ideas. We are now going to move on to writing \"functions'', which allow us to call our operations in a much easier manner. \n",
    "\n",
    "### Another thing we'll do is some error checking. Once you have hidden your code behind a function, someone else might try to use it in a manner that will throw bugs or much worse, produce erroneous results without throwing a bug and hence without warning the user. The funny part is, that \"user'' is often \"us''! We build a function and then we forget exactly all of the special requirements on the data that the function uses to produce an answer! \n",
    "\n",
    "### Example: Forward Substitution"
   ]
  },
  {
   "cell_type": "code",
   "execution_count": null,
   "metadata": {},
   "outputs": [],
   "source": [
    "#computes the solution x to a system Lx = b where L is a lower triangular matrix and b is a column vector\n",
    "#note the structure we have used: we being by declaring \"function\" and we end by declaring \"end\". On \n",
    "# the line befor \"end\", we specify that value or values we are to \"return\".\n",
    "#\n",
    "# Everything in between is operating on the data passed to the function.\n",
    "function forwardsub(L, b)\n",
    "    # START of our computations\n",
    "    n = length(b)\n",
    "    x = Vector{Float64}(undef, n); #initialize an x vector of the correct size\n",
    "    x[1] = b[1]/L[1,1] #find the first entry of x\n",
    "    for i = 2:n #find every entry from the 2nd to the end\n",
    "        x[i]=(b[i]- (L[i,1:i-1])' *x[1:i-1] )./L[i,i] \n",
    "        #notice that we used a transpose operator to get the row of L\n",
    "    end\n",
    "    # END of our computations. Everything between START and END\n",
    "    # is essentailly the same as a script. It's that easy to build a function!\n",
    "    return x\n",
    "end\n",
    "            "
   ]
  },
  {
   "cell_type": "code",
   "execution_count": null,
   "metadata": {
    "scrolled": true
   },
   "outputs": [],
   "source": [
    "#Here is an example where the function works!\n",
    "L = [1 0 0 ; 2 3 0; 4 5 6]\n",
    "b = [1; 8; 32]\n",
    "forwardsub(L, b)"
   ]
  },
  {
   "cell_type": "markdown",
   "metadata": {},
   "source": [
    "### Problem 1.  \n"
   ]
  },
  {
   "cell_type": "code",
   "execution_count": null,
   "metadata": {
    "scrolled": true
   },
   "outputs": [],
   "source": [
    "#Here is one way that we can break our function:\n",
    "L = [6 0 0 ; 2 1 0; 8 5 0]\n",
    "b = [3; 2; 3]\n",
    "forwardsub(L, b)"
   ]
  },
  {
   "cell_type": "markdown",
   "metadata": {},
   "source": [
    "#### a) Run the cell above, then explain, in a sentence, why the error occurred\n",
    "**Write your response here:**\n",
    "\n",
    "\n",
    "Hint: It may help to write out the matrix L, then walk through the steps of the function"
   ]
  },
  {
   "cell_type": "code",
   "execution_count": null,
   "metadata": {},
   "outputs": [],
   "source": [
    "#Here is another way that it could break:\n",
    "L = [5 0 0 ; 1 4 0; 7 3 2]\n",
    "b = [3; 2; 3; 4]\n",
    "forwardsub(L, b)"
   ]
  },
  {
   "cell_type": "markdown",
   "metadata": {},
   "source": [
    "#### b) Run the cell above and explain why the error occurred\n",
    "**Write your response here:**\n",
    "\n",
    "\n",
    "\n",
    "\n",
    "Hint: Write the system in regular(non-matrix) notation, we will do the first equation for you:\n",
    "$$5x_1 + 0x_2 + 0x_3 = 3$$  you do the rest!"
   ]
  },
  {
   "cell_type": "code",
   "execution_count": null,
   "metadata": {
    "scrolled": true
   },
   "outputs": [],
   "source": [
    "#The above cases produced errors, so we knew to look for a problem in the data. \n",
    "#This example will not produce an error, but it also doesn't produce the solution we expect\n",
    "using Random \n",
    "Random.seed!(4321) \n",
    "L=rand(3,3) \n",
    "b=rand(3,1) \n",
    "x=forwardsub(L, b)\n",
    "println(\"Oops!\")\n",
    "solutionError=L*x-b "
   ]
  },
  {
   "cell_type": "markdown",
   "metadata": {},
   "source": [
    "#### c) Run the cell above and explain why x does not satisfy Lx = b\n",
    "**Write your response here:**\n",
    "\n",
    "\n",
    "Hint:  You may want to add additional print statements in order to see the matrices you are using."
   ]
  },
  {
   "cell_type": "markdown",
   "metadata": {},
   "source": [
    "### Error Checking:  An example\n",
    "Above, you experienced three possible ways that this function can fail.  Let's build a few error checks into the function so that we can tell what is going wrong.  Follow along with the comments in the code below to see how we can do these checks.\n",
    "\n",
    "Now, if you go back and run the erroneous cells from above, the function will print out a more helpful error."
   ]
  },
  {
   "cell_type": "code",
   "execution_count": null,
   "metadata": {},
   "outputs": [],
   "source": [
    "#I copied the forwardsub function from above\n",
    "function forwardsub(L, b)\n",
    "    # Now before we start our computations, let's make sure that there will be no errors\n",
    "    n = length(b)\n",
    "    \n",
    "    #first, let's check that our inputs are the right size\n",
    "    (rows, cols) = size(L)\n",
    "    if rows != cols\n",
    "        print(\"L is not a square\")\n",
    "        return 0\n",
    "    end\n",
    "    if rows != n\n",
    "        print(\"L and b are not size compatible\")\n",
    "        return 0\n",
    "    end\n",
    "    #if we got to here, that means we have a matrix and vector of compatible sizes\n",
    "    \n",
    "    #now, let's check that L is actually lower triangular, eg: every element above the diagonal is zero\n",
    "    #also check to make sure that there are no zeros on the diagonal\n",
    "    for i in 1:n\n",
    "        for j in 1:n\n",
    "            if j > i\n",
    "                if L[i, j] != 0\n",
    "                    print(\"L is not lower triangular\")\n",
    "                    return 0\n",
    "                end\n",
    "            elseif j == i\n",
    "                if L[i, j] == 0\n",
    "                    print(\"There is a zero on the diagonal\")\n",
    "                    return 0\n",
    "                end\n",
    "            end\n",
    "        end\n",
    "    end\n",
    "                    \n",
    "    \n",
    "    #Now we can actually do the forward substitution, now that we found the arguments to be acceptable\n",
    "    \n",
    "    x = Vector{Float64}(undef, n); #initialize an x vector of the correct size\n",
    "    x[1] = b[1]/L[1,1] #find the first entry of x\n",
    "    for i = 2:n #find every entry from the 2nd to the end\n",
    "        x[i, 1] = (b[i]- (L[i,1:i-1])' *x[1:i-1] )./L[i,i] \n",
    "        #notice that we used a transpose(') operator to get the row of L\n",
    "    end\n",
    "    # END of our computations. Everything between START and END\n",
    "    # is essentailly the same as a script. It's that easy to build a function!\n",
    "    return x\n",
    "end"
   ]
  },
  {
   "cell_type": "markdown",
   "metadata": {},
   "source": [
    "### Problem 2.  Write a function for back substitution.\n",
    "Use the function given to you in problem 1, and section 3.5 of the ROB 101 booklet to help you construct your answer.  Think about just doing forward substitution, but backwards.  \n",
    "\n",
    "Hint:  In order to make a for loop that goes backwards, you can either use\n",
    "\n",
    "**for i in reverse(1:n)**\n",
    "\n",
    "or\n",
    "\n",
    "**for i in n:-1:1**  (where the second parameter(-1) is the step size)"
   ]
  },
  {
   "cell_type": "code",
   "execution_count": null,
   "metadata": {
    "tags": [
     "hide_soln"
    ]
   },
   "outputs": [],
   "source": [
    "#computes the solution x to a system Ux = b where U is a lower triangular matrix and b is a column vector\n",
    "function backwardsub(U, b)\n",
    "    n = length(b)\n",
    "    x = Vector{Float64}(undef, n) #initialize an x vector of the correct size\n",
    "    \n",
    "    #fill in the rest of the function here.  You should think about what the forward substitution algorithm looked like\n",
    "### BEGIN SOLUTION\n",
    "    x[n] = b[n]/U[n,n]\n",
    "    for i in n-1:-1:1\n",
    "        x[i]=(b[i]- (U[i,(i+1):n])' *x[(i+1):n] )./U[i,i]\n",
    "    end\n",
    "    return x\n",
    "### END SOLUTION\n",
    "    \n",
    "    \n",
    "end\n",
    "    "
   ]
  },
  {
   "cell_type": "code",
   "execution_count": null,
   "metadata": {
    "tags": [
     "unit_test"
    ]
   },
   "outputs": [],
   "source": [
    "##Unit test\n",
    "U = [4 5 6; 0 2 3; 0 0 1 ]\n",
    "b = [32; 13; 3]\n",
    "answer2a = backwardsub(U, b)\n",
    "### BEGIN HIDDEN TESTS\n",
    "@assert answer2a == [1;2;3]\n",
    "### END HIDDEN TESTS"
   ]
  },
  {
   "cell_type": "markdown",
   "metadata": {},
   "source": [
    "### Problem 3.  Add Error testing, like the example from Problem 1, to your function for backwardsub\n",
    "Copy your code from problem 2, and make sure that you are checking for these errors:\n",
    "* Check that the matrix U is a square and is compatible with the size of b\n",
    "* Check that the matrix U is upper triangular\n",
    "* Check that there are no zeros on the diagonal of U"
   ]
  },
  {
   "cell_type": "code",
   "execution_count": null,
   "metadata": {
    "tags": [
     "hide_soln"
    ]
   },
   "outputs": [],
   "source": [
    "#copy your code from above, and add error checks\n",
    "\n",
    "###BEGIN SOLUTION\n",
    "function backwardsub(U, b)\n",
    "    n = length(b)\n",
    "    \n",
    "    #checking for size compatibility\n",
    "    (rows, cols) = size(U)\n",
    "    if rows != cols\n",
    "        print(\"U is not a square\")\n",
    "        return 0\n",
    "    end\n",
    "    if rows != n\n",
    "        print(\"U and b are not size compatible\")\n",
    "        return 0\n",
    "    end\n",
    "    \n",
    "    #checking for upper triangular\n",
    "     for i in 1:n\n",
    "        for j in 1:n\n",
    "            if  i > j\n",
    "                if U[i, j] != 0\n",
    "                    print(\"U is not upper triangular\")\n",
    "                    return 0\n",
    "                end\n",
    "            elseif j == i\n",
    "                if U[i, j] == 0\n",
    "                    print(\"There is a zero on the diagonal\")\n",
    "                    return 0\n",
    "                end\n",
    "            end\n",
    "        end\n",
    "    end\n",
    "    \n",
    "    #actual solving\n",
    "    x = Vector{Float64}(undef, n) #initialize an x vector of the correct size\n",
    "    x[n] = b[n]/U[n,n]\n",
    "    for i in n-1:-1:1\n",
    "        x[i]=(b[i]- (U[i,(i+1):n])' *x[(i+1):n] )./U[i,i]\n",
    "    end\n",
    "    return x\n",
    "end\n",
    "### END SOLUTION"
   ]
  },
  {
   "cell_type": "code",
   "execution_count": null,
   "metadata": {
    "tags": [
     "autograde_3a"
    ]
   },
   "outputs": [],
   "source": [
    "#The function should work here.  There should not be any error message\n",
    "U1 = [1 2 3; 0 4 5; 0 0 6]\n",
    "b1 = [14; 23; 18]\n",
    "backwardsub(U1, b1)"
   ]
  },
  {
   "cell_type": "code",
   "execution_count": null,
   "metadata": {
    "tags": [
     "autograde_3b"
    ]
   },
   "outputs": [],
   "source": [
    "#You should have an error message about a zero on a diagonal\n",
    "U2 = [6 8 1 ; 0 0 3; 0 0 4]\n",
    "b2 = [3; 2; 3]\n",
    "backwardsub(U2, b2)"
   ]
  },
  {
   "cell_type": "code",
   "execution_count": null,
   "metadata": {
    "tags": [
     "autograde_3c"
    ]
   },
   "outputs": [],
   "source": [
    "#You should have an error message that U is not upper triangular\n",
    "U3 = [2 8 1 9; 3 0 3 9; 0 0 4 2; 0 0 0 1]\n",
    "b3 = [3; 2; 3; 1]\n",
    "backwardsub(U3, b3)"
   ]
  },
  {
   "cell_type": "code",
   "execution_count": null,
   "metadata": {
    "tags": [
     "autograde_3d"
    ]
   },
   "outputs": [],
   "source": [
    "#These matrices are not size compatible, your error should reflect that\n",
    "U4 = [5 4 1; 6 7 2; -7 2 1]\n",
    "b4 = [5; 1; 2; 6]\n",
    "backwardsub(U4, b4)"
   ]
  },
  {
   "cell_type": "markdown",
   "metadata": {},
   "source": [
    "### Problem 4.  LU decomposition with Permutations\n",
    "Julia has a built-in LU Factorization function. Below is an example of how to access the properties of the lu() function.  "
   ]
  },
  {
   "cell_type": "code",
   "execution_count": null,
   "metadata": {},
   "outputs": [],
   "source": [
    "using LinearAlgebra\n",
    "M = [0 4 2; 10 2 1; 1 1 1 ]\n",
    "# F stands for Factorization. It contains all three matrices, L,U, and P\n",
    "F = lu(M)\n",
    "L =  F.L #lower triangular factor\n",
    "@show L\n",
    "U =  F.U #upper triangular factor\n",
    "@show U\n",
    "P = F.P #Permutation matrix\n",
    "@show P\n",
    "##properties of the factorization and a check that we know how to use it!\n",
    "Check = P*M-L*U"
   ]
  },
  {
   "cell_type": "markdown",
   "metadata": {},
   "source": [
    "#### a) Return the Lower triangular matrix of the LU decomposition of matrix G\n",
    "$$ G = \\begin{bmatrix}6&7&2&9\\\\1&-3&-5&6\\\\-8&2&-3&-4\\\\0&0&2&1\\end{bmatrix} $$"
   ]
  },
  {
   "cell_type": "code",
   "execution_count": null,
   "metadata": {
    "tags": [
     "autograder_answer",
     "solution_hidden"
    ]
   },
   "outputs": [],
   "source": [
    "#Return your answer as a variable named answer3a\n",
    "#replace the lines below with your code\n",
    "\n",
    "### BEGIN SOLUTION\n",
    "G = [6 7 2 -9; 1 -3 -5 6; -8 2 -3 -4; 0 0 2 1]\n",
    "answer4a = lu(G).L\n",
    "### END SOLUTION"
   ]
  },
  {
   "cell_type": "markdown",
   "metadata": {},
   "source": [
    "#### b) Return the Permutation matrix and the Upper triangular matrix of matrix C\n",
    "$$ C = \\begin{bmatrix}6&-2&8&-7&1\\\\-2&0&3&5&9\\\\9&-4&5&-1&0\\\\-8&2&-2&3&1\\\\6&0&-5&1&9\\end{bmatrix}$$"
   ]
  },
  {
   "cell_type": "code",
   "execution_count": null,
   "metadata": {
    "tags": [
     "autograded_answer",
     "hide_solution"
    ]
   },
   "outputs": [],
   "source": [
    "#return the permutation matrix as perm2b and the upper triangular matrix as upper2b\n",
    "\n",
    "### BEGIN SOLUTION\n",
    "C = [6 -2 8 -7 1; -2 0 3 5 9; 9 -4 5 -1 0; -8 2 -2 3 1; 6 0 -5 1 9]\n",
    "perm4b = lu(C).P\n",
    "upper4b = lu(C).U\n",
    "### END SOLUTION"
   ]
  },
  {
   "cell_type": "markdown",
   "metadata": {},
   "source": [
    "### Problem 5.  Use LU decompostition and forward/back substitution to solve the system of equations for x.\n",
    "$$\\begin{bmatrix}8&-18&-16&2 &0& -8& 18& 8& 12 &-20\\\\ -36& 41& 142 &21& -20 &6 -111& -106& -24& 190\\\\\n",
    "    36 &-117 &-13& 38 &-25 &-60 &63& -31& 79 &9\\\\ 32& -104& 32& 44& 26& -114 &-82& 52& 92& -130\\\\\n",
    "    24& -78& -10 &26& -46 &-30 &36 &-10& 70& -15\\\\ 12 &-19 &-70 &-43 &-48 &142& 190 &-7 &38 &64\\\\\n",
    "    16& -52& -40& 26& -136& 80& 126& 1& 69 &39\\\\ 20 &-9 &-63 &-66& 190& -129& 49& -10& -129& -199\\\\\n",
    "    -28& 51 &41 &-4 &-3 &22 &119 &-261 &-143 &383\\\\ 36 &-61 &-123 &10 &-88 &-55 &1 &113 &95 &-173\\end{bmatrix} x = \\begin{bmatrix}-1\\\\2\\\\-2\\\\8\\\\-9\\\\-7\\\\-7\\\\-2\\\\-1\\\\-5\\end{bmatrix} $$\n",
    "\n",
    "Hint: For a system $Ax = b$, if the LU decompositon without permutations is performed on A, then $LUx = b$, $Ux = y$, and $Ly = b$.  See page 49 of the ROB 101 course booklet for an example."
   ]
  },
  {
   "cell_type": "code",
   "execution_count": null,
   "metadata": {
    "tags": [
     "problem_4",
     "read-only"
    ]
   },
   "outputs": [],
   "source": [
    "#Solve the problem with julia's lu() function and your forward and back substitution functions \n",
    "#Matrices A and b are declared for you\n",
    "A = [8 -18 -16 2 0 -8 18 8 12 -20; -36 41 142 21 -20 6 -111 -106 -24 190;\n",
    "    36 -117 -13 38 -25 -60 63 -31 79 9; 32 -104 32 44 26 -114 -82 52 92 -130;\n",
    "    24 -78 -10 26 -46 -30 36 -10 70 -15; 12 -19 -70 -43 -48 142 190 -7 38 64;\n",
    "    16 -52 -40 26 -136 80 126 1 69 39; 20 -9 -63 -66 190 -129 49 -10 -129 -199;\n",
    "    -28 51 41 -4 -3 22 119 -261 -143 383; 36 -61 -123 10 -88 -55 1 113 95 -173]\n",
    "b = [-1;2; -2; 8; -9; -7; -7; -2; -1; -5]"
   ]
  },
  {
   "cell_type": "code",
   "execution_count": null,
   "metadata": {
    "tags": [
     "problem_4",
     "soln_hidden"
    ]
   },
   "outputs": [],
   "source": [
    "#Remember to use lu(M, Val(false)) in order to prevent permutations\n",
    "using LinearAlgebra\n",
    "### BEGIN SOLUTION\n",
    "L,U = lu(A, Val(false))\n",
    "#now solving Ly = b\n",
    "y = forwardsub(L, b)\n",
    "#now solving Ux = y\n",
    "x = backwardsub(U, y)\n",
    "### END SOLUTION"
   ]
  },
  {
   "cell_type": "code",
   "execution_count": null,
   "metadata": {
    "tags": [
     "problem_4_autograder"
    ]
   },
   "outputs": [],
   "source": [
    "### BEGIN HIDDEN TESTS\n",
    "invSol = inv(A) * b\n",
    "@assert invSol == x\n",
    "### END HIDDEN TESTS"
   ]
  }
 ],
 "metadata": {
  "celltoolbar": "Tags",
  "kernelspec": {
   "display_name": "Julia 1.4.2",
   "language": "julia",
   "name": "julia-1.4"
  },
  "language_info": {
   "file_extension": ".jl",
   "mimetype": "application/julia",
   "name": "julia",
   "version": "1.4.2"
  }
 },
 "nbformat": 4,
 "nbformat_minor": 4
}
