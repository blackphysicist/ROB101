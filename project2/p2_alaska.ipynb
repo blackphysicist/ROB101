{
 "cells": [
  {
   "cell_type": "markdown",
   "metadata": {
    "nbgrader": {
     "grade": false,
     "grade_id": "cell-184e96287eec5411",
     "locked": true,
     "schema_version": 3,
     "solution": false,
     "task": false
    }
   },
   "source": [
    "# Estimating Preciptation in Alaska Using Surface Regression"
   ]
  },
  {
   "cell_type": "markdown",
   "metadata": {
    "nbgrader": {
     "grade": false,
     "grade_id": "cell-d1aae395feb64f94",
     "locked": true,
     "schema_version": 3,
     "solution": false,
     "task": false
    }
   },
   "source": [
    "## Introduction"
   ]
  },
  {
   "cell_type": "markdown",
   "metadata": {
    "nbgrader": {
     "grade": false,
     "grade_id": "cell-9370b0154ef54eb9",
     "locked": true,
     "schema_version": 3,
     "solution": false,
     "task": false
    }
   },
   "source": [
    "In this project, your goal will be to perform a 3D surface regression which will fit a model that will allow us to estimate the total amount of precipitation during the month of July 2020 at any longitude/latitude pair that falls in the state of Alaska.\n",
    "\n",
    "Our estimation will be based off of datasets maintained by the National Oceanic and Atmospheric Administration (NOAA) which provides free access to a variety of weather and climate datasets. You can access the full dataset that we use here: https://data.nodc.noaa.gov/cgi-bin/iso?id=gov.noaa.ncdc:C00332. \n",
    "\n",
    "When performing any kind of data analysis one of the first steps is to get a feel for the data. That can mean many things from understanding the size of the dataset, peeking at what the data looks like (does it contain string values, integers, floats) and exploring if there is missing data to name a few. The first set of cells start off by reading in our dataset and visualizing the information."
   ]
  },
  {
   "cell_type": "markdown",
   "metadata": {
    "nbgrader": {
     "grade": false,
     "grade_id": "cell-641cfbb7d6942f95",
     "locked": true,
     "schema_version": 3,
     "solution": false,
     "task": false
    }
   },
   "source": [
    "__Dataset Citation__ : Vose, Russell S., Applequist, Scott, Squires, Mike, Durre, Imke, Menne, Matthew J., Williams, Claude N. Jr., Fenimore, Chris, Gleason, Karin, and Arndt, Derek (2014): Gridded 5km GHCN-Daily Temperature and Precipitation Dataset (nCLIMGRID), Version 1. 202007.prcp.alaska.pnt. NOAA National Centers for Environmental Information. DOI:10.7289/V5SX6B56 Aug 1, 2020."
   ]
  },
  {
   "cell_type": "code",
   "execution_count": null,
   "metadata": {
    "nbgrader": {
     "grade": false,
     "grade_id": "cell-0a013e5ca8c1ac70",
     "locked": true,
     "schema_version": 3,
     "solution": false,
     "task": false
    }
   },
   "outputs": [],
   "source": [
    "using Plots, LaTeXStrings, LinearAlgebra, CSV, ProgressBars, Printf, Random\n",
    "\n",
    "# We use import here because the GMT package also has a plot function\n",
    "# that would override the plot funciton made available with the Plots\n",
    "# package. Thus any function in the GMT package needs to be called\n",
    "# GMT.function_name(...)\n",
    "import GMT\n",
    "\n",
    "# Set the plotting backend to gr\n",
    "gr()"
   ]
  },
  {
   "cell_type": "code",
   "execution_count": null,
   "metadata": {
    "nbgrader": {
     "grade": false,
     "grade_id": "cell-ba101698e367e019",
     "locked": true,
     "schema_version": 3,
     "solution": false,
     "task": false
    }
   },
   "outputs": [],
   "source": [
    "# Run me, don't change me. I will download the dataset\n",
    "# to Illumidesk and also display the size and first \n",
    "# five rows of the data.\n",
    "\n",
    "P = download(\"https://raw.githubusercontent.com/UMich-CURLY-teaching/UMich-ROB-101-public/master/202007_prcp_alaska.csv\", \"202007_prcp_alaska.csv\")\n",
    "df = CSV.read( \"202007_prcp_alaska.csv\", header=false)\n",
    "data = convert(Matrix, df)\n",
    "\n",
    "@show typeof(data);\n",
    "@show size(data);\n",
    "\n",
    "# Print out the first five rows\n",
    "data[1:5,:]"
   ]
  },
  {
   "cell_type": "markdown",
   "metadata": {
    "nbgrader": {
     "grade": false,
     "grade_id": "cell-f1e25d0bd47e9433",
     "locked": true,
     "schema_version": 3,
     "solution": false,
     "task": false
    }
   },
   "source": [
    "The dataset we have just read in contains 3 columns. The first column contains longitude values which range from -180 to 0 (western hemisphere) or 0 to 180 (eastern hemisphere). The second column contains latitude values which we can think of as horizontal slices across the world. Latitude values can range from 0 to 90 (northern hemisphere) or -90 to 0 (southern hemisphere).  The third and final column contains total precipitation information in millimeters.\n",
    "\n",
    "__Image reference__: http://eogn.com/images/newsletter/2014/Latitude-and-longitude.png\n",
    "![LonLat](http://eogn.com/images/newsletter/2014/Latitude-and-longitude.png)"
   ]
  },
  {
   "cell_type": "markdown",
   "metadata": {
    "nbgrader": {
     "grade": false,
     "grade_id": "cell-058c353d821967d5",
     "locked": true,
     "schema_version": 3,
     "solution": false,
     "task": false
    }
   },
   "source": [
    "This being a larger dataset, let's create a scatter plot using the location of a small portion of the samples to further get a sense of the dataset and the values within it. We will use the sample function provided to do this."
   ]
  },
  {
   "cell_type": "code",
   "execution_count": null,
   "metadata": {
    "nbgrader": {
     "grade": false,
     "grade_id": "cell-b19513a54ffd8bf2",
     "locked": true,
     "schema_version": 3,
     "solution": false,
     "task": false
    }
   },
   "outputs": [],
   "source": [
    "# Run me, don't change me. I am a function that returns \n",
    "# a portion of the dataset based on the percentage provided\n",
    "\n",
    "\"\"\"\n",
    "Samples a percentage of the rows of matrix 'data'\n",
    "\n",
    "Input:\n",
    "    data    - data matrix to sample rows from\n",
    "    percent - 0 < percent <= 100\n",
    "\"\"\"\n",
    "function sample_rows(data, percent)\n",
    "   \n",
    "    @assert percent > 0 && percent <= 100\n",
    "    \n",
    "    rows = size(data, 1)\n",
    "    \n",
    "    # Set's the initial condition of the random number generator\n",
    "    # so that every notebook will arrive at the same results\n",
    "    Random.seed!(1817);\n",
    "    \n",
    "    select = Int(div(rows, 100 / percent , RoundUp))\n",
    "    indices = Int.(unique(ceil.(rand(select) * rows))) # random indicies\n",
    "    \n",
    "    col1 = data[indices, 1]\n",
    "    col2 = data[indices, 2]\n",
    "    prcp = data[indices, 3]\n",
    "    \n",
    "    # Assemble columns using horizontal concatenation\n",
    "    # concatenation in this case means placing side by side\n",
    "    subset = hcat(col1, col2, prcp)\n",
    "\n",
    "    return subset\n",
    "end"
   ]
  },
  {
   "cell_type": "code",
   "execution_count": null,
   "metadata": {
    "nbgrader": {
     "grade": false,
     "grade_id": "cell-854b217aa5f1d535",
     "locked": true,
     "schema_version": 3,
     "solution": false,
     "task": false
    }
   },
   "outputs": [],
   "source": [
    "# Run me, don't change me! I sample and display the locations\n",
    "# of 1% of the measurements in our dataset\n",
    "percent = 1\n",
    "\n",
    "subset = sample_rows(data, percent);\n",
    "@show size(subset);\n",
    "\n",
    "s1 = scatter(\n",
    "    subset[:,1], \n",
    "    subset[:,2], \n",
    "    markersize=1,\n",
    "    label=\"Measurements\",\n",
    "    xlabel=\"Longitude\",\n",
    "    ylabel=\"Latitude\",\n",
    "    title=\"Precipitation measurements\"\n",
    ")"
   ]
  },
  {
   "cell_type": "markdown",
   "metadata": {
    "nbgrader": {
     "grade": false,
     "grade_id": "cell-81c1493401753ab7",
     "locked": true,
     "schema_version": 3,
     "solution": false,
     "task": false
    }
   },
   "source": [
    "After running the scatter function, you should be able to see the shape of Alaska take form. Each (x,y) point corresponds to a (longitude, latitude) pair in the dataset. Another view of the data would be to visualize the precipitation value at each point. We make use of the GMT package's bar3 function to create a 3D plot of the precipitation recorded at each location. Before being able to call the function, however, we need to section up Alaska into a series of bins. Imagine placing a checkerboard over the above graph. Each square in the checkerboard will have a (lon,lat) pair associated with it. Each measurement will be placed in the square that it's closest to. We will take an average if there are squares that have more than one measurement associated with it. The pixelate function below helps us with taking our data, and turning it into the grid we described. Note, you only need to understand the inputs and outputs to the function, not all of the code. "
   ]
  },
  {
   "cell_type": "code",
   "execution_count": null,
   "metadata": {
    "nbgrader": {
     "grade": false,
     "grade_id": "cell-499440d6c6ceef46",
     "locked": true,
     "schema_version": 3,
     "solution": false,
     "task": false
    }
   },
   "outputs": [],
   "source": [
    "# Run me, don't change me!\n",
    "\n",
    "\"\"\"\n",
    "pixelate(data::AbstractArray, n_xpixels::Int, n_ypixels::Int)\n",
    "\n",
    "Takes a 3D matrix (lon,lat,rain) and returns a grid where each pixel is \n",
    "equal to the average of all the rain measurements that fall into that pixel\n",
    "\n",
    "Inputs:\n",
    "    data      - the data set\n",
    "    n_xpixels - the number of pixels on the x axis (longitude)\n",
    "    n_ypixels - the number of pixels on the y axis (latitude)\n",
    "\n",
    "Output:\n",
    "    grid      - a n_ypixels x n_xpixels matrix holding the average \n",
    "                rain that fell in that location\n",
    "\"\"\"\n",
    "function pixelate(data::AbstractArray, n_xpixels::Int, n_ypixels::Int)\n",
    "\n",
    "    # (lon,lat) coordinates with measured rain in third column\n",
    "    @assert size(data, 2) == 3\n",
    "    \n",
    "    # No nan values exist in data\n",
    "    @assert !any(isnan.(data))\n",
    "    \n",
    "    xmin = min(data[:,1]...)\n",
    "    xmax = max(data[:,1]...)\n",
    "    ymin = min(data[:,2]...)\n",
    "    ymax = max(data[:,2]...)\n",
    "    \n",
    "    xedges = collect(range(floor(xmin), ceil(xmax), length=n_xpixels))\n",
    "    yedges = collect(range(floor(ymin), ceil(ymax), length=n_ypixels))\n",
    "    \n",
    "    grid = zeros(n_ypixels, n_xpixels)\n",
    "    count = zeros(n_ypixels, n_xpixels)\n",
    "    \n",
    "    for i in 1:size(data,1)\n",
    "        x_idx = searchsortedlast(xedges, data[i,1])\n",
    "        y_idx = searchsortedlast(yedges, data[i,2])\n",
    "        \n",
    "        grid[y_idx, x_idx] += data[i,3]\n",
    "        count[y_idx, x_idx] += 1\n",
    "    end\n",
    "    \n",
    "    grid = grid./ count\n",
    "    \n",
    "    # Replace Nan from divide by 0 with 0\n",
    "    replace!(grid, NaN=>0)\n",
    "        \n",
    "    return GMT.mat2grid(grid, x=xedges, y=yedges)\n",
    "end"
   ]
  },
  {
   "cell_type": "code",
   "execution_count": null,
   "metadata": {
    "nbgrader": {
     "grade": false,
     "grade_id": "cell-1c82618b34e063a7",
     "locked": true,
     "schema_version": 3,
     "solution": false,
     "task": false
    }
   },
   "outputs": [],
   "source": [
    "# Run me, don't change me! I create a 3D bar graph that\n",
    "# displays the precipitation across the state of Alaska\n",
    "\n",
    "grid = pixelate(subset, 100, 100)\n",
    "cmap = GMT.grd2cpt(grid);  # Compute a colormap with the grid's data range\n",
    "\n",
    "# Plotting function to make a 3D bar graph\n",
    "GMT.bar3(grid, lw=:thinnest, color=cmap, fmt=:png, show=true, view=(200,50),\n",
    "         xlabel=\"Longitude\", ylabel=\"Latitude\", title=\"Precipitation in Alaska (mm)\")"
   ]
  },
  {
   "cell_type": "markdown",
   "metadata": {
    "nbgrader": {
     "grade": false,
     "grade_id": "cell-24f3fa1f175aa008",
     "locked": true,
     "schema_version": 3,
     "solution": false,
     "task": false
    }
   },
   "source": [
    "We see that for most of the state of Alaska, not a lot of precipitation fell. However, near the south of Alaska where the state capitol Juneau resides, there was quite a bit of precipitation that fell relative to the rest of the state in July. And indeed it is quite beautiful there in the summer! \n",
    "\n",
    "__Reference__: https://www.alaska.org/photo-contest/anchorage-airport/entry-scott-johnson-juneau-alaska-this-past-summer-in-juneau-alaska-we-had-?e=entry-40278\n",
    "\n",
    "\n",
    "![Juneau](https://www.alaska.org/assets/content/photo-contest/_large/FireweedAnchAirport-6378.jpg)"
   ]
  },
  {
   "cell_type": "markdown",
   "metadata": {
    "nbgrader": {
     "grade": false,
     "grade_id": "cell-f4e6c093e57b8369",
     "locked": true,
     "schema_version": 3,
     "solution": false,
     "task": false
    }
   },
   "source": [
    "If you try plotting a higher percentage of measurement samples, you may feel that the 3D bar plot is already dense enough. However, note that each degree of difference in latitude/longitude is approximately 50-70 miles apart depending on where you are in the world (closer to the equator or pole etc.) Additionally, we wish to be able to create a model that allows us to estimate the precipitation level at any (longitude, latitude) pair at infinite resolution.\n",
    "\n",
    "In the rest of the notebook, you will create a model that will be able to estimate the amount of precipitation that fell during the month of July anywhere in Alaska. To do this, you will perform a surface regression using the radial functions as your basis."
   ]
  },
  {
   "cell_type": "markdown",
   "metadata": {
    "nbgrader": {
     "grade": false,
     "grade_id": "cell-72f07347e5af81c6",
     "locked": true,
     "schema_version": 3,
     "solution": false,
     "task": false
    }
   },
   "source": [
    "## Task 4: Build the Model"
   ]
  },
  {
   "cell_type": "markdown",
   "metadata": {
    "nbgrader": {
     "grade": false,
     "grade_id": "cell-9a9ee18fe7f16bdd",
     "locked": true,
     "schema_version": 3,
     "solution": false,
     "task": false
    }
   },
   "source": [
    "### Part A: Modify the Helper Functions\n",
    "\n",
    "Just as in the previous notebook, we will need to build a pipeline for fitting our model. We can take our pipeline and helper functions from our previous notebook almost as is, except for the fact that now our data points (can also be referred to as the'x' values or lon/lat values) will be in $\\mathbb{R}^2$. The value being measured, in this case the amount of precipitation, will remain in $\\mathbb{R}$. This also means that our basis centers can no longer be determined by a single point. They will also be in $\\mathbb{R}^2$. Our RBFs will now look like a hill where $x_c$ positions the hill somewhere in the xy plane, $a_i$ the coefficient determines how tall the hill is and $s$ determines how quickly values evaluated further and further from $x_c$ go to 0 or said another way the incline/gradient/steepness of the hill.\n",
    "\n",
    "\n",
    "In the cells below, we have brought over 5 functions from the previous notebook:\n",
    "\n",
    "* ```rbf```\n",
    "* ```backwardsub```\n",
    "* ```calc_phi_row```\n",
    "* ```regressor_matrix```\n",
    "* ```least_squres_qr```\n",
    "\n",
    "Two of the functions ```calc_phi_row``` and ```regressor_matrix``` need to be modified to allow for passing in data that is now in $\\mathbb{R}^2$ as we described above. Please identify and make the corresponding modifications."
   ]
  },
  {
   "cell_type": "code",
   "execution_count": null,
   "metadata": {
    "nbgrader": {
     "grade": false,
     "grade_id": "cell-f366decf1970cb7a",
     "locked": true,
     "schema_version": 3,
     "solution": false,
     "task": false
    }
   },
   "outputs": [],
   "source": [
    "# Run me, don't change me. I define the RBF.\n",
    "\n",
    "# Radial basis function\n",
    "rbf(x1, x2, s) = exp.(-norm(x1-x2)^2 / (2*s^2))"
   ]
  },
  {
   "cell_type": "code",
   "execution_count": null,
   "metadata": {
    "nbgrader": {
     "grade": false,
     "grade_id": "cell-167828020bca1835",
     "locked": true,
     "schema_version": 3,
     "solution": false,
     "task": false
    }
   },
   "outputs": [],
   "source": [
    "# Run me, don't change me. I will create a back substitution function that you can apply\n",
    "# to systems of linear equations with an upper triangular \"A\" matrix, that we denote by U\n",
    "\n",
    "\"\"\"\n",
    "backwardsub(U, b)\n",
    "\n",
    "It solves for x in an equation Ux = b, where U is upper triangular.\n",
    "\"\"\"\n",
    "function backwardsub(U, b)\n",
    "    \n",
    "    # Assert no entries in the diagonal of U\n",
    "    # are 0 (or very close to 0)\n",
    "    @assert minimum(abs.(diag(U))) > 1e-6\n",
    "    \n",
    "    n = length(b)\n",
    "    x = Vector{Float64}(undef, n)\n",
    "\n",
    "    x[n] = b[n] / U[n,n]\n",
    "    for i in n-1:-1:1\n",
    "        x[i]=(b[i] - (U[i,(i+1):n])' * x[(i+1):n]) ./ U[i,i]\n",
    "    end\n",
    "    \n",
    "    return x    \n",
    "end"
   ]
  },
  {
   "cell_type": "code",
   "execution_count": null,
   "metadata": {},
   "outputs": [],
   "source": [
    "# Modify me to work with xi in R2!\n",
    "#\n",
    "# I will create a function will be helpful in assembling our \n",
    "# Φ matrix assuming our model is a linear combination of RBFs\n",
    "\n",
    "\"\"\"\n",
    "function calc_phi_row(x, centers, s)\n",
    "\n",
    "Returns a single row in the Φ matrix\n",
    "\n",
    "Inputs:\n",
    "    xᵢ      - the measurment xᵢ which are in R2\n",
    "    centers - a Mx2 vector holding the centers of the determined RBFs\n",
    "    s       - the shared kernel width (RBF width)\n",
    "\"\"\"\n",
    "function calc_phi_row(xᵢ, centers, s)\n",
    "   \n",
    "    phi_row_size = length(centers) + 1\n",
    "    phi_row = Array{Float64, 1}(undef, phi_row_size)\n",
    "    phi_row[1] = 1\n",
    "    \n",
    "    for i in 2:phi_row_size\n",
    "        phi_row[i] = rbf(xᵢ, centers[i-1], s)\n",
    "    end\n",
    "    \n",
    "    return phi_row\n",
    "end"
   ]
  },
  {
   "cell_type": "markdown",
   "metadata": {
    "nbgrader": {
     "grade": false,
     "grade_id": "cell-7123fecc670bc69d",
     "locked": true,
     "schema_version": 3,
     "solution": false,
     "task": false
    }
   },
   "source": [
    "When performing calculations on large datasets, many functions may take a long time to execute. To measure how far along we are in the computation, we can make use of the facilities in the ProgressBar package. If you pass the range part of a for loop to a ProgressBar object, it will display a progress bar giving you an indication of how far along you are in executing the for loop. We added this change to the ```regressor matrix``` function below."
   ]
  },
  {
   "cell_type": "code",
   "execution_count": null,
   "metadata": {
    "nbgrader": {
     "grade": false,
     "grade_id": "cell-b901e2fccfb937c4",
     "locked": true,
     "schema_version": 3,
     "solution": false,
     "task": false
    }
   },
   "outputs": [],
   "source": [
    "for i in ProgressBar(1:10000000)\n",
    "   i = i  # Does nothing\n",
    "end"
   ]
  },
  {
   "cell_type": "code",
   "execution_count": null,
   "metadata": {},
   "outputs": [],
   "source": [
    "# Modify me to work with data in R2!\n",
    "#\n",
    "# I will create a function that returns the regressor matrix \n",
    "# Φ based on our model using RBFs as basis functions\n",
    "\n",
    "\"\"\"\n",
    "function regressor_matrix()\n",
    "\n",
    "Returns the regressor matrix Φ\n",
    "\n",
    "Inputs:\n",
    "    X       - a Nx2 vector holding the X value of all the measurements\n",
    "    centers - a Mx2 vector holding the centers of the determined RBFs\n",
    "    s       - the shared kernel width (RBF width)\n",
    "\"\"\"\n",
    "function regressor_matrix(X, centers, s)\n",
    "    \n",
    "    N = length(X)\n",
    "    M = length(centers)\n",
    "    phi = Array{Float64, 2}(undef, N, M+1)\n",
    "    \n",
    "    for i in ProgressBar(1:N)\n",
    "        phi[i, :] = calc_phi_row(X[i], centers, s)'\n",
    "    end\n",
    "    \n",
    "    return phi\n",
    "end"
   ]
  },
  {
   "cell_type": "code",
   "execution_count": null,
   "metadata": {
    "nbgrader": {
     "grade": false,
     "grade_id": "cell-d16ba34662b735a3",
     "locked": true,
     "schema_version": 3,
     "solution": false,
     "task": false
    }
   },
   "outputs": [],
   "source": [
    "# Run me, don't change me. \n",
    "\n",
    "\"\"\"\n",
    "function least_squares_qr(A::Array{Float64,2},  b::Array{Float64,1})\n",
    "\n",
    "Solves for x in Ax = b using the QR factorization. Returns x.\n",
    "\"\"\"\n",
    "function least_squares_qr(A::Array{Float64,2},  b::Array{Float64,1})\n",
    "    F = qr(A)\n",
    "    Q = Matrix(F.Q)\n",
    "    R = Matrix(F.R)\n",
    "    b_bar = Q' * b\n",
    "    return backwardsub(R, b_bar)    \n",
    "end"
   ]
  },
  {
   "cell_type": "markdown",
   "metadata": {
    "nbgrader": {
     "grade": false,
     "grade_id": "cell-b9c011009379b56e",
     "locked": true,
     "schema_version": 3,
     "solution": false,
     "task": false
    }
   },
   "source": [
    "### Part B: Calculate the model weights"
   ]
  },
  {
   "cell_type": "markdown",
   "metadata": {
    "nbgrader": {
     "grade": false,
     "grade_id": "cell-1103d73e6335d454",
     "locked": true,
     "schema_version": 3,
     "solution": false,
     "task": false
    }
   },
   "source": [
    "Now, you will setup the regression problem and use the functions implemented above to solve for the vector of weights ```a_star```. Note that even though our data has grown in dimension, we are still using the same model for fitting as in the end of notebook 1! As we saw when we plotted 1% of of the points, we could make out the shape of Alaska. Thus 1% of the data provides decent enough coverage of the state, so we will use those locations as our basis centers. In the next cell write the code necessary to solve for the coefficients of our model ```a_star```.\n",
    "\n",
    "$$\\hat{y} = a_1 + a_2 f(x; x_{c_1}, s) + a_3 f(x; x_{c_2}, s) + ... + a_{M+1} f(x; x_{c_M}, s)$$"
   ]
  },
  {
   "cell_type": "code",
   "execution_count": null,
   "metadata": {
    "nbgrader": {
     "grade": true,
     "grade_id": "cell-815adf1f3a54393d",
     "locked": true,
     "points": 3,
     "schema_version": 3,
     "solution": false,
     "task": false
    },
    "scrolled": false
   },
   "outputs": [],
   "source": [
    "# Modify me! I will calculate the coefficients of our model\n",
    "\n",
    "# We will use a preset value for this project, but usually \n",
    "# you will need to play around with these values to find the \n",
    "# optimal fit. Do not modify these variables.\n",
    "s = 1\n",
    "percent = 1\n",
    "\n",
    "# Do not modify the percent\n",
    "centers = sample_rows(data, percent);\n",
    "\n",
    "# FILL in the pipeline here\n",
    "a_star =\n",
    "# FILL in the pipeline here"
   ]
  },
  {
   "cell_type": "code",
   "execution_count": null,
   "metadata": {
    "nbgrader": {
     "grade": false,
     "grade_id": "cell-ca3e21d6d6b62b9c",
     "locked": false,
     "schema_version": 3,
     "solution": true,
     "task": false
    }
   },
   "outputs": [],
   "source": [
    "# Autograder cell\n",
    "### BEGIN HIDDEN TESTS\n",
    "function p2_task4b_calc_phi_row(xᵢ, centers, s)\n",
    "    \n",
    "    phi_row_size = size(centers, 1) + 1\n",
    "    phi_row = Array{Float64, 1}(undef, phi_row_size)\n",
    "    phi_row[1] = 1\n",
    "    \n",
    "    for i in 2:phi_row_size\n",
    "        phi_row[i] = rbf(xᵢ, centers[i-1, :], s)\n",
    "    end\n",
    "    \n",
    "    return phi_row\n",
    "end\n",
    "\n",
    "function p2_task4b_regressor_matrix(X, centers, s)\n",
    "    \n",
    "    N = size(X, 1)\n",
    "    M = size(centers, 1)\n",
    "    phi = Array{Float64, 2}(undef, N, M+1)\n",
    "    \n",
    "    for i in 1:N\n",
    "        phi[i, :] = p2_task4b_calc_phi_row(X[i, :], centers, s)'\n",
    "    end\n",
    "    \n",
    "    return phi\n",
    "end\n",
    "\n",
    "p2_task4b_phi = p2_task4b_regressor_matrix(data[:,1:2], centers[:,1:2], s)\n",
    "p2_task4b_a_star = least_squares_qr(p2_task4b_phi, data[:,3])\n",
    "@assert isapprox(a_star, p2_task4b_a_star)\n",
    "print(\"Passed Autograder Test!\")\n",
    "### END HIDDEN TESTS"
   ]
  },
  {
   "cell_type": "markdown",
   "metadata": {
    "nbgrader": {
     "grade": false,
     "grade_id": "cell-95600a4e09c8e5ef",
     "locked": true,
     "schema_version": 3,
     "solution": false,
     "task": false
    }
   },
   "source": [
    "## Task 5. Plot the Surface"
   ]
  },
  {
   "cell_type": "markdown",
   "metadata": {
    "nbgrader": {
     "grade": false,
     "grade_id": "cell-c27139ebf9f240b7",
     "locked": true,
     "schema_version": 3,
     "solution": false,
     "task": false
    }
   },
   "source": [
    "Now we estimate the precipitation that fell over the entire state of Alaska at discretized (longitude, latitude) pairs. Because, we did not get any precipitation measurements off of the coast of Alaska (measurements were only taken over land), we only estimate with our model if the (lon,lat) coordinate falls approximately on land. Your job is to fill in the code in the space provided (second cell below)."
   ]
  },
  {
   "cell_type": "code",
   "execution_count": null,
   "metadata": {
    "nbgrader": {
     "grade": false,
     "grade_id": "cell-377cfed145589ffa",
     "locked": true,
     "schema_version": 3,
     "solution": false,
     "task": false
    },
    "scrolled": true
   },
   "outputs": [],
   "source": [
    "# Run me, don't change me. I divide up the state of Alaska into\n",
    "# a series of squares that looks like a checkerboard / grid. In \n",
    "# the next cell we evaluate the precipitation for each square \n",
    "# in the grid.\n",
    "\n",
    "# Latitude and longitude extremas of Alaska\n",
    "lon_min = -178.0\n",
    "lon_max = -130.0\n",
    "lat_min = 51.0\n",
    "lat_max = 72.0\n",
    "\n",
    "# Number of squares we want on the x and y axis for plotting our 3D bar graph\n",
    "n_xpixels = 200\n",
    "n_ypixels = 200\n",
    "\n",
    "lon_edges = collect(range(floor(lon_min), ceil(lon_max), length=n_xpixels));\n",
    "lat_edges = collect(range(floor(lat_min), ceil(lat_max), length=n_ypixels));\n",
    "gmt_grid = pixelate(data, n_xpixels, n_ypixels);"
   ]
  },
  {
   "cell_type": "markdown",
   "metadata": {
    "nbgrader": {
     "grade": false,
     "grade_id": "cell-41b7c4d19e638d3f",
     "locked": true,
     "schema_version": 3,
     "solution": false,
     "task": false
    }
   },
   "source": [
    "The next cell is used to estimate the precipitation across Alaska. ```mat[i,j]``` should hold the precipitation that fell at lon/lat which are set at the beginning of the inner for loop each time. Use the model you just fit along with the available helper functions to estmiate the precipitation and set the value in ```mat[i,j]```."
   ]
  },
  {
   "cell_type": "code",
   "execution_count": null,
   "metadata": {},
   "outputs": [],
   "source": [
    "# Modify me in the space below.\n",
    "\n",
    "mat = zeros(n_ypixels, n_xpixels)\n",
    "for i = 1:length(lat_edges)\n",
    "    for j = 1:length(lon_edges)\n",
    "        lon = lon_edges[j]\n",
    "        lat = lat_edges[i]\n",
    "        \n",
    "        # Do not estimate if coordinate is not on land\n",
    "        # We check this by seeing if there was any measured\n",
    "        # precipitaton near that lon,lat pair in the original data set\n",
    "        if gmt_grid.z[i,j] > 1e-6\n",
    "            \n",
    "            # FILL in the code here\n",
    "            mat[i,j] = \n",
    "            # FILL in the code here\n",
    "            \n",
    "        end\n",
    "    end\n",
    "end"
   ]
  },
  {
   "cell_type": "code",
   "execution_count": null,
   "metadata": {
    "nbgrader": {
     "grade": false,
     "grade_id": "cell-a6dd317862fbc284",
     "locked": true,
     "schema_version": 3,
     "solution": false,
     "task": false
    }
   },
   "outputs": [],
   "source": [
    "grid = GMT.mat2grid(mat, x=lon_edges, y=lat_edges)\n",
    "cmap = GMT.grd2cpt(grid);  # Compute a colormap with the grid's data range\n",
    "\n",
    "# Plotting function to make a 3D bar graph\n",
    "GMT.bar3(grid, lw=:thinnest, color=cmap, fmt=:png, show=true, view=(200,50),\n",
    "    xlabel=\"Longitude\", ylabel=\"Latitude\", title=\"Precipitation in Alaska (mm)\")"
   ]
  },
  {
   "cell_type": "markdown",
   "metadata": {
    "nbgrader": {
     "grade": false,
     "grade_id": "cell-d9368df94ddf769d",
     "locked": true,
     "schema_version": 3,
     "solution": false,
     "task": false
    }
   },
   "source": [
    "Congratulations, you have fit a surface to the dataset! In your resulting contour graph, you should be able to notice 2-4 peaks which should appear in similar areas in your initial bar graph. With this model, you can now provide an estimate of the precipitation at any longitude and latitude pair in Alaska. As a quick example, let's test and see based on our model, how much precipitation in millimeters fell in Juneau, Alaska in July. We will use a longitude and latitude of (-134.410652, 58.301930) obtained from Google maps. You should see a value of 317.4 mm."
   ]
  },
  {
   "cell_type": "code",
   "execution_count": null,
   "metadata": {
    "nbgrader": {
     "grade": false,
     "grade_id": "cell-4840303d33419f18",
     "locked": true,
     "schema_version": 3,
     "solution": false,
     "task": false
    }
   },
   "outputs": [],
   "source": [
    "# Run me, don't change me. If you do not pass the test, take\n",
    "# a look back at how you calculated a_star. Also, check to see\n",
    "# that you did not change the value of s, or percent.\n",
    "\n",
    "lat = 58.301930\n",
    "lon = -134.410652\n",
    "\n",
    "### BEGIN HIDDEN TESTS\n",
    "rain_in_juneau = a_star' * calc_phi_row([lon, lat], centers[:,1:2], s)\n",
    "@printf(\"In July 2020, a total of %.1f mm or rain fell in Juneau, Alaska.\", rain_in_juneau)\n",
    "@assert isapprox(rain_in_juneau, 317.4, atol=0.1)\n",
    "### END HIDDEN TESTS"
   ]
  },
  {
   "cell_type": "markdown",
   "metadata": {
    "nbgrader": {
     "grade": false,
     "grade_id": "cell-0f39920322bef4bf",
     "locked": true,
     "schema_version": 3,
     "solution": false,
     "task": false
    }
   },
   "source": [
    "How well does the estimation compare to real life? Take a look at this article: https://www.alaskasnewssource.com/2020/07/29/juneau-on-track-to-break-summer-rainfall-record/. With summer starting officially on June 20 in 2020, already 13 inches of rain feel by July 26. 317.4mm is about 12.5 inches, so our model does agree with reality. Pretty cool!"
   ]
  }
 ],
 "metadata": {
  "@webio": {
   "lastCommId": null,
   "lastKernelId": null
  },
  "celltoolbar": "Create Assignment",
  "kernelspec": {
   "display_name": "Julia 1.4.2",
   "language": "julia",
   "name": "julia-1.4"
  },
  "language_info": {
   "file_extension": ".jl",
   "mimetype": "application/julia",
   "name": "julia",
   "version": "1.4.2"
  }
 },
 "nbformat": 4,
 "nbformat_minor": 4
}
